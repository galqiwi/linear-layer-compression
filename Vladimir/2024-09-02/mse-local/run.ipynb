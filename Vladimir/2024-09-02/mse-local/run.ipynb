{
 "cells": [
  {
   "cell_type": "code",
   "execution_count": 1,
   "id": "4715d293-8589-47a2-a9fa-395b300a80b8",
   "metadata": {},
   "outputs": [
    {
     "name": "stdout",
     "output_type": "stream",
     "text": [
      "env: CUDA_VISIBLE_DEVICES=0\n"
     ]
    }
   ],
   "source": [
    "# %env TRANSFORMERS_CACHE=/mnt/LLM/hub\n",
    "%env CUDA_VISIBLE_DEVICES=0"
   ]
  },
  {
   "cell_type": "code",
   "execution_count": 2,
   "id": "abaef38a-09eb-44f2-97b6-9ff3044a4788",
   "metadata": {},
   "outputs": [
    {
     "name": "stderr",
     "output_type": "stream",
     "text": [
      "/home/galqiwi/miniconda-eval/envs/eval/lib/python3.12/site-packages/tqdm/auto.py:21: TqdmWarning: IProgress not found. Please update jupyter and ipywidgets. See https://ipywidgets.readthedocs.io/en/stable/user_install.html\n",
      "  from .autonotebook import tqdm as notebook_tqdm\n"
     ]
    }
   ],
   "source": [
    "import time\n",
    "import random\n",
    "from tqdm.auto import trange\n",
    "\n",
    "import torch\n",
    "import torch.nn as nn\n",
    "import torch.nn.functional as F\n",
    "import transformers"
   ]
  },
  {
   "cell_type": "code",
   "execution_count": 3,
   "id": "d0f79ec5-e8a1-482a-8d71-f360ed9c6dab",
   "metadata": {},
   "outputs": [],
   "source": [
    "MODEL_PATH = \"TinyLlama/TinyLlama-1.1B-Chat-v1.0\"\n",
    "MODEL_SEQLEN=2048"
   ]
  },
  {
   "cell_type": "code",
   "execution_count": 4,
   "id": "5b587fe3-8d8d-4175-a472-255d0ba22a1d",
   "metadata": {},
   "outputs": [
    {
     "name": "stderr",
     "output_type": "stream",
     "text": [
      "Token indices sequence length is longer than the specified maximum sequence length for this model (341469 > 2048). Running this sequence through the model will result in indexing errors\n"
     ]
    }
   ],
   "source": [
    "from eval import *\n",
    "\n",
    "testloader = get_loaders(\n",
    "    'wikitext2',\n",
    "    seed=0,\n",
    "    model_path=MODEL_PATH,\n",
    "    seqlen=MODEL_SEQLEN,\n",
    "    eval_mode=True,\n",
    "    use_fast_tokenizer=False,\n",
    "    trust_remote_code=False,\n",
    ")\n",
    "\n",
    "def eval_ppl(\n",
    "    model,\n",
    "    model_path,\n",
    "    model_seqlen,\n",
    "    device = 'cuda:0',\n",
    "    # ppl_datasets = ('wikitext2',),\n",
    "    trust_remote_code=False,\n",
    "    offload_activations=False,\n",
    "):\n",
    "    output = {}\n",
    "    \n",
    "    ppl = perplexity_eval(\n",
    "        model,\n",
    "        testloader,\n",
    "        dataset_name='wikitext2',\n",
    "        model_seqlen=model_seqlen,\n",
    "        device=device,\n",
    "        offload_activations=offload_activations,\n",
    "    )\n",
    "    output['wikitext2'] = ppl\n",
    "    # make sure that the cache is released\n",
    "    torch.cuda.empty_cache()\n",
    "    \n",
    "    return output"
   ]
  },
  {
   "cell_type": "code",
   "execution_count": 5,
   "id": "8ce4cde9-f676-4f4e-bf2c-4c760380fe7d",
   "metadata": {},
   "outputs": [],
   "source": [
    "model = transformers.AutoModelForCausalLM.from_pretrained(\n",
    "    MODEL_PATH,\n",
    ").cuda()"
   ]
  },
  {
   "cell_type": "code",
   "execution_count": 6,
   "id": "059d9b2e-5932-46fd-82ee-7448ae94953e",
   "metadata": {},
   "outputs": [
    {
     "name": "stderr",
     "output_type": "stream",
     "text": [
      "The attention layers in this model are transitioning from computing the RoPE embeddings internally through `position_ids` (2D tensor with the indexes of the tokens), to using externally computed `position_embeddings` (Tuple of tensors, containing cos and sin). In v4.45 `position_ids` will be removed and `position_embeddings` will be mandatory.\n"
     ]
    },
    {
     "data": {
      "text/plain": [
       "{'wikitext2': 7.972210884094238}"
      ]
     },
     "execution_count": 6,
     "metadata": {},
     "output_type": "execute_result"
    }
   ],
   "source": [
    "eval_ppl(model, MODEL_PATH, model_seqlen=MODEL_SEQLEN, device='cuda:0')"
   ]
  },
  {
   "cell_type": "code",
   "execution_count": 7,
   "id": "35502f75-0278-4763-8ffd-4d68491a7c01",
   "metadata": {},
   "outputs": [],
   "source": [
    "baseline_ppl = eval_ppl(model, MODEL_PATH, model_seqlen=MODEL_SEQLEN, device='cuda:0')['wikitext2']"
   ]
  },
  {
   "cell_type": "code",
   "execution_count": 8,
   "id": "486cab51-2e2a-454e-bfce-700c8b1e67b1",
   "metadata": {},
   "outputs": [],
   "source": [
    "import copy"
   ]
  },
  {
   "cell_type": "code",
   "execution_count": 9,
   "id": "456bdcf4-5e5f-45fe-a7c7-3e86403475ac",
   "metadata": {},
   "outputs": [],
   "source": [
    "import torch\n",
    "\n",
    "class NoisyLinear(torch.nn.Module):\n",
    "    def __init__(self, weight, bias, *, relative_mse = 0):\n",
    "        super().__init__()\n",
    "\n",
    "        weight = weight.detach().clone()\n",
    "        if bias is not None:\n",
    "            bias = bias.detach().clone()\n",
    "\n",
    "        self.out_features, self.in_features = weight.shape\n",
    "\n",
    "        self.inner = torch.nn.Linear(\n",
    "            self.in_features, self.out_features, bias=(bias is not None),\n",
    "            dtype=weight.dtype, device=weight.device,\n",
    "        )\n",
    "\n",
    "        weight = weight + torch.randn_like(weight) * torch.norm(weight) * (relative_mse ** 0.5) / (weight.numel() ** 0.5)\n",
    "\n",
    "        self.inner.weight.data = weight\n",
    "        if bias is not None:\n",
    "            self.inner.bias.data = bias\n",
    "\n",
    "    def forward(self, input):\n",
    "        return self.inner(input)\n",
    "\n",
    "def get_module_by_path(model, path):\n",
    "    if path == '':\n",
    "        return model\n",
    "    splitted = path.split('.', 1)\n",
    "    if len(splitted) == 1:\n",
    "        splitted.append('')\n",
    "    next_name, suffix = splitted\n",
    "\n",
    "    try:\n",
    "        next_module = model[int(next_name)]\n",
    "    except:\n",
    "        next_module = getattr(model, next_name)\n",
    "\n",
    "    return get_module_by_path(next_module, suffix)"
   ]
  },
  {
   "cell_type": "code",
   "execution_count": 10,
   "id": "b4668cfd-f8a3-4d59-93b7-b25e9e68b142",
   "metadata": {},
   "outputs": [],
   "source": [
    "PATH = 'model.layers.0.mlp.down_proj'"
   ]
  },
  {
   "cell_type": "code",
   "execution_count": 11,
   "id": "3fb99c5f-4f43-49c5-9706-26e21beec7a8",
   "metadata": {},
   "outputs": [],
   "source": [
    "def add_noise(model, path, relative_mse):\n",
    "    parent = get_module_by_path(model, '.'.join(path.split('.')[:-1]))\n",
    "    \n",
    "    child = get_module_by_path(model, path)\n",
    "    assert isinstance(child, torch.nn.Linear)\n",
    "    \n",
    "    new_linear = NoisyLinear(child.weight, child.bias, relative_mse=relative_mse)\n",
    "    setattr(parent, path.split('.')[-1], new_linear)"
   ]
  },
  {
   "cell_type": "code",
   "execution_count": 12,
   "id": "e4a53522-9cf2-43ff-bb20-0864019d5ca3",
   "metadata": {},
   "outputs": [],
   "source": [
    "def get_noisy_ppl(path, relative_mse):\n",
    "    noisy_model = copy.deepcopy(model)\n",
    "    add_noise(noisy_model, path, relative_mse)\n",
    "    return eval_ppl(noisy_model, MODEL_PATH, model_seqlen=MODEL_SEQLEN, device='cuda:0')['wikitext2']"
   ]
  },
  {
   "cell_type": "code",
   "execution_count": 13,
   "id": "546684dd-d6c7-4649-9f49-b8722cbaaf84",
   "metadata": {},
   "outputs": [
    {
     "name": "stderr",
     "output_type": "stream",
     "text": [
      "100%|███████████████████████████████████████████| 20/20 [17:45<00:00, 53.26s/it]\n"
     ]
    },
    {
     "data": {
      "text/plain": [
       "[<matplotlib.lines.Line2D at 0x7f8f135c7e00>]"
      ]
     },
     "execution_count": 13,
     "metadata": {},
     "output_type": "execute_result"
    },
    {
     "data": {
      "image/png": "[encoded data removed]",
      "text/plain": [
       "<Figure size 640x480 with 1 Axes>"
      ]
     },
     "metadata": {},
     "output_type": "display_data"
    }
   ],
   "source": [
    "import matplotlib.pyplot as plt\n",
    "import tqdm\n",
    "\n",
    "grid = np.linspace(0, 4 ** -2, 20)\n",
    "ppls = [get_noisy_ppl(PATH, mse) for mse in tqdm.tqdm(grid)]\n",
    "plt.plot(grid, ppls)"
   ]
  },
  {
   "cell_type": "code",
   "execution_count": null,
   "id": "876a7f46-71ff-41e1-8b4d-887276bca378",
   "metadata": {},
   "outputs": [],
   "source": []
  },
  {
   "cell_type": "code",
   "execution_count": null,
   "id": "639c360e-38bf-4e92-8b79-7e85c431dfd4",
   "metadata": {},
   "outputs": [],
   "source": []
  },
  {
   "cell_type": "code",
   "execution_count": null,
   "id": "2a6f73bf-09f4-4add-a93e-f52994773443",
   "metadata": {},
   "outputs": [],
   "source": []
  },
  {
   "cell_type": "code",
   "execution_count": null,
   "id": "ed2a5662-e7fe-4a28-a5da-fa02984c064e",
   "metadata": {},
   "outputs": [],
   "source": []
  }
 ],
 "metadata": {
  "kernelspec": {
   "display_name": "Python 3 (ipykernel)",
   "language": "python",
   "name": "python3"
  },
  "language_info": {
   "codemirror_mode": {
    "name": "ipython",
    "version": 3
   },
   "file_extension": ".py",
   "mimetype": "text/x-python",
   "name": "python",
   "nbconvert_exporter": "python",
   "pygments_lexer": "ipython3",
   "version": "3.12.4"
  }
 },
 "nbformat": 4,
 "nbformat_minor": 5
}
