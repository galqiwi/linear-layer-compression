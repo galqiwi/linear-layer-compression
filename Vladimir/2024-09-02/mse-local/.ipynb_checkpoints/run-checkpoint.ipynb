{
 "cells": [
  {
   "cell_type": "code",
   "execution_count": 1,
   "id": "4715d293-8589-47a2-a9fa-395b300a80b8",
   "metadata": {},
   "outputs": [
    {
     "name": "stdout",
     "output_type": "stream",
     "text": [
      "env: CUDA_VISIBLE_DEVICES=0\n"
     ]
    }
   ],
   "source": [
    "# %env TRANSFORMERS_CACHE=/mnt/LLM/hub\n",
    "%env CUDA_VISIBLE_DEVICES=0"
   ]
  },
  {
   "cell_type": "code",
   "execution_count": 2,
   "id": "abaef38a-09eb-44f2-97b6-9ff3044a4788",
   "metadata": {},
   "outputs": [
    {
     "name": "stderr",
     "output_type": "stream",
     "text": [
      "/home/galqiwi/miniconda-eval/envs/eval/lib/python3.12/site-packages/tqdm/auto.py:21: TqdmWarning: IProgress not found. Please update jupyter and ipywidgets. See https://ipywidgets.readthedocs.io/en/stable/user_install.html\n",
      "  from .autonotebook import tqdm as notebook_tqdm\n"
     ]
    }
   ],
   "source": [
    "import time\n",
    "import random\n",
    "from tqdm.auto import trange\n",
    "\n",
    "import torch\n",
    "import torch.nn as nn\n",
    "import torch.nn.functional as F\n",
    "import transformers"
   ]
  },
  {
   "cell_type": "code",
   "execution_count": 3,
   "id": "d0f79ec5-e8a1-482a-8d71-f360ed9c6dab",
   "metadata": {},
   "outputs": [],
   "source": [
    "MODEL_PATH = \"Maykeye/TinyLLama-v0\"\n",
    "MODEL_SEQLEN=4096"
   ]
  },
  {
   "cell_type": "code",
   "execution_count": 4,
   "id": "5b587fe3-8d8d-4175-a472-255d0ba22a1d",
   "metadata": {},
   "outputs": [
    {
     "name": "stderr",
     "output_type": "stream",
     "text": [
      "You are using the default legacy behaviour of the <class 'transformers.models.llama.tokenization_llama.LlamaTokenizer'>. This is expected, and simply means that the `legacy` (previous) behavior will be used so nothing changes for you. If you want to use the new behaviour, set `legacy=False`. This should only be set if you understand what it means, and thoroughly read the reason why this was added as explained in https://github.com/huggingface/transformers/pull/24565 - if you loaded a llama tokenizer from a GGUF file you can ignore this message\n",
      "Token indices sequence length is longer than the specified maximum sequence length for this model (321419 > 2048). Running this sequence through the model will result in indexing errors\n"
     ]
    }
   ],
   "source": [
    "from eval import *\n",
    "\n",
    "testloader = get_loaders(\n",
    "    'wikitext2',\n",
    "    seed=0,\n",
    "    model_path=MODEL_PATH,\n",
    "    seqlen=MODEL_SEQLEN,\n",
    "    eval_mode=True,\n",
    "    use_fast_tokenizer=False,\n",
    "    trust_remote_code=False,\n",
    ")\n",
    "\n",
    "def eval_ppl(\n",
    "    model,\n",
    "    model_path,\n",
    "    model_seqlen,\n",
    "    device = 'cuda:0',\n",
    "    # ppl_datasets = ('wikitext2',),\n",
    "    trust_remote_code=False,\n",
    "    offload_activations=False,\n",
    "):\n",
    "    output = {}\n",
    "    \n",
    "    ppl = perplexity_eval(\n",
    "        model,\n",
    "        testloader,\n",
    "        dataset_name='wikitext2',\n",
    "        model_seqlen=model_seqlen,\n",
    "        device=device,\n",
    "        offload_activations=offload_activations,\n",
    "    )\n",
    "    output['wikitext2'] = ppl\n",
    "    # make sure that the cache is released\n",
    "    torch.cuda.empty_cache()\n",
    "    \n",
    "    return output"
   ]
  },
  {
   "cell_type": "code",
   "execution_count": 5,
   "id": "8ce4cde9-f676-4f4e-bf2c-4c760380fe7d",
   "metadata": {},
   "outputs": [],
   "source": [
    "model = transformers.AutoModelForCausalLM.from_pretrained(\n",
    "    MODEL_PATH,\n",
    ").cuda()"
   ]
  },
  {
   "cell_type": "code",
   "execution_count": 6,
   "id": "059d9b2e-5932-46fd-82ee-7448ae94953e",
   "metadata": {},
   "outputs": [
    {
     "name": "stderr",
     "output_type": "stream",
     "text": [
      "The attention layers in this model are transitioning from computing the RoPE embeddings internally through `position_ids` (2D tensor with the indexes of the tokens), to using externally computed `position_embeddings` (Tuple of tensors, containing cos and sin). In v4.45 `position_ids` will be removed and `position_embeddings` will be mandatory.\n"
     ]
    },
    {
     "data": {
      "text/plain": [
       "{'wikitext2': 7430.7607421875}"
      ]
     },
     "execution_count": 6,
     "metadata": {},
     "output_type": "execute_result"
    }
   ],
   "source": [
    "eval_ppl(model, MODEL_PATH, model_seqlen=MODEL_SEQLEN, device='cuda:0')"
   ]
  },
  {
   "cell_type": "code",
   "execution_count": null,
   "id": "35502f75-0278-4763-8ffd-4d68491a7c01",
   "metadata": {},
   "outputs": [],
   "source": [
    "baseline_ppl = eval_ppl(model, MODEL_PATH, model_seqlen=MODEL_SEQLEN, device='cuda:0')['wikitext2']"
   ]
  },
  {
   "cell_type": "code",
   "execution_count": null,
   "id": "486cab51-2e2a-454e-bfce-700c8b1e67b1",
   "metadata": {},
   "outputs": [],
   "source": [
    "import copy"
   ]
  },
  {
   "cell_type": "code",
   "execution_count": null,
   "id": "fcfb8e43-0e58-47e5-ad22-b278609a6607",
   "metadata": {},
   "outputs": [],
   "source": [
    "1"
   ]
  },
  {
   "cell_type": "code",
   "execution_count": null,
   "id": "a14dbc89-b077-4c42-8d1f-58ae7a9e17d1",
   "metadata": {},
   "outputs": [],
   "source": []
  },
  {
   "cell_type": "code",
   "execution_count": null,
   "id": "546684dd-d6c7-4649-9f49-b8722cbaaf84",
   "metadata": {},
   "outputs": [],
   "source": []
  },
  {
   "cell_type": "code",
   "execution_count": null,
   "id": "876a7f46-71ff-41e1-8b4d-887276bca378",
   "metadata": {},
   "outputs": [],
   "source": []
  },
  {
   "cell_type": "code",
   "execution_count": null,
   "id": "639c360e-38bf-4e92-8b79-7e85c431dfd4",
   "metadata": {},
   "outputs": [],
   "source": []
  },
  {
   "cell_type": "code",
   "execution_count": null,
   "id": "2a6f73bf-09f4-4add-a93e-f52994773443",
   "metadata": {},
   "outputs": [],
   "source": []
  },
  {
   "cell_type": "code",
   "execution_count": null,
   "id": "ed2a5662-e7fe-4a28-a5da-fa02984c064e",
   "metadata": {},
   "outputs": [],
   "source": []
  }
 ],
 "metadata": {
  "kernelspec": {
   "display_name": "Python 3 (ipykernel)",
   "language": "python",
   "name": "python3"
  },
  "language_info": {
   "codemirror_mode": {
    "name": "ipython",
    "version": 3
   },
   "file_extension": ".py",
   "mimetype": "text/x-python",
   "name": "python",
   "nbconvert_exporter": "python",
   "pygments_lexer": "ipython3",
   "version": "3.12.4"
  }
 },
 "nbformat": 4,
 "nbformat_minor": 5
}
