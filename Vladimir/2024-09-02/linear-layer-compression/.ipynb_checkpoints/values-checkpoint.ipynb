{
 "cells": [
  {
   "cell_type": "code",
   "execution_count": 1,
   "metadata": {},
   "outputs": [],
   "source": [
    "# MODEL = \"meta-llama/Llama-2-7b-hf\"\n",
    "MODEL = \"meta-llama/Meta-Llama-3.1-8B\""
   ]
  },
  {
   "cell_type": "code",
   "execution_count": 16,
   "metadata": {},
   "outputs": [],
   "source": [
    "import tqdm\n",
    "import pandas as pd \n",
    "import wandb\n",
    "\n",
    "def get_df_from_wandb(path):\n",
    "    api = wandb.Api()\n",
    "\n",
    "    # Project is specified by <entity/project-name>\n",
    "    runs = api.runs(path)\n",
    "    \n",
    "    data_df_lines = []\n",
    "    for run in tqdm.tqdm(runs): \n",
    "        data_df_lines.append({\n",
    "            'Name': run.name,\n",
    "            'Commit': run.commit,\n",
    "            **run.summary._json_dict,\n",
    "            **{k: v for k,v in run.config.items() if not k.startswith('_')},\n",
    "        })\n",
    "    data_df = pd.DataFrame(data_df_lines)\n",
    "    return data_df"
   ]
  },
  {
   "cell_type": "code",
   "execution_count": 67,
   "metadata": {},
   "outputs": [
    {
     "name": "stderr",
     "output_type": "stream",
     "text": [
      "100%|██████████████████████████████████████| 9305/9305 [01:03<00:00, 145.46it/s]\n"
     ]
    }
   ],
   "source": [
    "data_df = get_df_from_wandb('rock-and-roll/NOISY_MSE_ONE_LAYER_GALQIWI_PPL')\n",
    "data_df['layer'] = data_df['layer_idx']\n",
    "data_df['mse'] = data_df['relative_mse']\n",
    "data_df = data_df[['layer', 'mse', 'wikitext2']]\n",
    "data_df = data_df.dropna().copy()"
   ]
  },
  {
   "cell_type": "code",
   "execution_count": null,
   "metadata": {},
   "outputs": [],
   "source": [
    "data_df = get_df_from_wandb('rock-and-roll/NOISY_MSE_ONE_LINEAR_LAYER_GALQIWI_PPL')\n",
    "data_df['layer'] = data_df['layer_name']\n",
    "data_df['mse'] = data_df['relative_mse']\n",
    "data_df = data_df[['layer', 'mse', 'wikitext2']]\n",
    "data_df = data_df.dropna().copy()"
   ]
  },
  {
   "cell_type": "code",
   "execution_count": 90,
   "metadata": {},
   "outputs": [
    {
     "data": {
      "text/plain": [
       "224"
      ]
     },
     "execution_count": 90,
     "metadata": {},
     "output_type": "execute_result"
    }
   ],
   "source": [
    "layers = sorted(set(data_df['layer']))\n",
    "len(layers)"
   ]
  },
  {
   "cell_type": "code",
   "execution_count": 91,
   "metadata": {},
   "outputs": [],
   "source": [
    "scale_by_layer = {}\n",
    "\n",
    "for layer_idx, layer in enumerate(layers):\n",
    "    to_fit = data_df[data_df['layer'] == layer]\n",
    "    to_fit = to_fit[to_fit['mse'] < 4 ** -2]\n",
    "    \n",
    "    scale_by_layer[layer] = linregress(to_fit['mse'], to_fit['wikitext2']).slope"
   ]
  },
  {
   "cell_type": "code",
   "execution_count": 107,
   "metadata": {},
   "outputs": [
    {
     "name": "stdout",
     "output_type": "stream",
     "text": [
      "\n"
     ]
    },
    {
     "data": {
      "image/png": "[encoded data removed]",
      "text/plain": [
       "<Figure size 640x480 with 1 Axes>"
      ]
     },
     "metadata": {},
     "output_type": "display_data"
    }
   ],
   "source": [
    "cmap = mpl.colormaps[\"plasma\"]\n",
    "\n",
    "for layer_idx, layer in enumerate({'model.layers.0.self_attn.k_proj'}):\n",
    "    to_plot = data_df[data_df['layer'] == layer]\n",
    "    to_plot = to_plot[to_plot['mse'] < 4 ** -2]\n",
    "    \n",
    "    plt.scatter(to_plot['mse'], to_plot['wikitext2'], color=cmap(layer_idx / len(layers)))\n",
    "\n",
    "    grid = np.linspace(to_plot['mse'].min(), to_plot['mse'].max(), 10)\n",
    "    print()\n",
    "    \n",
    "    plt.plot(grid, linregress(to_plot['mse'], to_plot['wikitext2']).intercept + grid * scale_by_layer[layer], color=cmap(layer_idx / len(layers)))"
   ]
  },
  {
   "cell_type": "code",
   "execution_count": 103,
   "metadata": {},
   "outputs": [
    {
     "data": {
      "text/html": [
       "<div>\n",
       "<style scoped>\n",
       "    .dataframe tbody tr th:only-of-type {\n",
       "        vertical-align: middle;\n",
       "    }\n",
       "\n",
       "    .dataframe tbody tr th {\n",
       "        vertical-align: top;\n",
       "    }\n",
       "\n",
       "    .dataframe thead th {\n",
       "        text-align: right;\n",
       "    }\n",
       "</style>\n",
       "<table border=\"1\" class=\"dataframe\">\n",
       "  <thead>\n",
       "    <tr style=\"text-align: right;\">\n",
       "      <th></th>\n",
       "      <th>layer</th>\n",
       "      <th>scale</th>\n",
       "    </tr>\n",
       "  </thead>\n",
       "  <tbody>\n",
       "    <tr>\n",
       "      <th>3</th>\n",
       "      <td>model.layers.0.self_attn.k_proj</td>\n",
       "      <td>-0.009921</td>\n",
       "    </tr>\n",
       "    <tr>\n",
       "      <th>5</th>\n",
       "      <td>model.layers.0.self_attn.q_proj</td>\n",
       "      <td>0.011279</td>\n",
       "    </tr>\n",
       "    <tr>\n",
       "      <th>80</th>\n",
       "      <td>model.layers.19.self_attn.k_proj</td>\n",
       "      <td>0.029439</td>\n",
       "    </tr>\n",
       "    <tr>\n",
       "      <th>10</th>\n",
       "      <td>model.layers.1.self_attn.k_proj</td>\n",
       "      <td>0.037431</td>\n",
       "    </tr>\n",
       "    <tr>\n",
       "      <th>108</th>\n",
       "      <td>model.layers.22.self_attn.k_proj</td>\n",
       "      <td>0.039065</td>\n",
       "    </tr>\n",
       "    <tr>\n",
       "      <th>...</th>\n",
       "      <td>...</td>\n",
       "      <td>...</td>\n",
       "    </tr>\n",
       "    <tr>\n",
       "      <th>13</th>\n",
       "      <td>model.layers.1.self_attn.v_proj</td>\n",
       "      <td>0.963616</td>\n",
       "    </tr>\n",
       "    <tr>\n",
       "      <th>6</th>\n",
       "      <td>model.layers.0.self_attn.v_proj</td>\n",
       "      <td>1.006232</td>\n",
       "    </tr>\n",
       "    <tr>\n",
       "      <th>177</th>\n",
       "      <td>model.layers.31.mlp.up_proj</td>\n",
       "      <td>1.348424</td>\n",
       "    </tr>\n",
       "    <tr>\n",
       "      <th>175</th>\n",
       "      <td>model.layers.31.mlp.down_proj</td>\n",
       "      <td>2.451743</td>\n",
       "    </tr>\n",
       "    <tr>\n",
       "      <th>7</th>\n",
       "      <td>model.layers.1.mlp.down_proj</td>\n",
       "      <td>15.760776</td>\n",
       "    </tr>\n",
       "  </tbody>\n",
       "</table>\n",
       "<p>224 rows × 2 columns</p>\n",
       "</div>"
      ],
      "text/plain": [
       "                                layer      scale\n",
       "3     model.layers.0.self_attn.k_proj  -0.009921\n",
       "5     model.layers.0.self_attn.q_proj   0.011279\n",
       "80   model.layers.19.self_attn.k_proj   0.029439\n",
       "10    model.layers.1.self_attn.k_proj   0.037431\n",
       "108  model.layers.22.self_attn.k_proj   0.039065\n",
       "..                                ...        ...\n",
       "13    model.layers.1.self_attn.v_proj   0.963616\n",
       "6     model.layers.0.self_attn.v_proj   1.006232\n",
       "177       model.layers.31.mlp.up_proj   1.348424\n",
       "175     model.layers.31.mlp.down_proj   2.451743\n",
       "7        model.layers.1.mlp.down_proj  15.760776\n",
       "\n",
       "[224 rows x 2 columns]"
      ]
     },
     "execution_count": 103,
     "metadata": {},
     "output_type": "execute_result"
    }
   ],
   "source": [
    "pd.DataFrame(scale_by_layer.items(), columns=['layer', 'scale']).sort_values('scale')"
   ]
  },
  {
   "cell_type": "code",
   "execution_count": null,
   "metadata": {},
   "outputs": [],
   "source": []
  },
  {
   "cell_type": "code",
   "execution_count": null,
   "metadata": {},
   "outputs": [],
   "source": []
  },
  {
   "cell_type": "code",
   "execution_count": null,
   "metadata": {},
   "outputs": [],
   "source": []
  },
  {
   "cell_type": "code",
   "execution_count": null,
   "metadata": {},
   "outputs": [],
   "source": []
  },
  {
   "cell_type": "code",
   "execution_count": null,
   "metadata": {},
   "outputs": [],
   "source": []
  },
  {
   "cell_type": "code",
   "execution_count": null,
   "metadata": {},
   "outputs": [],
   "source": []
  },
  {
   "cell_type": "code",
   "execution_count": null,
   "metadata": {},
   "outputs": [],
   "source": [
    "\n"
   ]
  }
 ],
 "metadata": {
  "kernelspec": {
   "display_name": "Python 3 (ipykernel)",
   "language": "python",
   "name": "python3"
  },
  "language_info": {
   "codemirror_mode": {
    "name": "ipython",
    "version": 3
   },
   "file_extension": ".py",
   "mimetype": "text/x-python",
   "name": "python",
   "nbconvert_exporter": "python",
   "pygments_lexer": "ipython3",
   "version": "3.12.4"
  }
 },
 "nbformat": 4,
 "nbformat_minor": 4
}
