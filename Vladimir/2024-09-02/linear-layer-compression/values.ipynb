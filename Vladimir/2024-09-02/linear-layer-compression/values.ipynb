{
 "cells": [
  {
   "cell_type": "code",
   "execution_count": 1,
   "metadata": {},
   "outputs": [],
   "source": [
    "# MODEL = \"meta-llama/Llama-2-7b-hf\"\n",
    "MODEL = \"meta-llama/Meta-Llama-3.1-8B\""
   ]
  },
  {
   "cell_type": "code",
   "execution_count": 4,
   "metadata": {},
   "outputs": [],
   "source": [
    "import tqdm\n",
    "import pandas as pd \n",
    "import wandb\n",
    "import functools\n",
    "\n",
    "\n",
    "@functools.cache\n",
    "def get_df_from_wandb(path):\n",
    "    api = wandb.Api()\n",
    "\n",
    "    # Project is specified by <entity/project-name>\n",
    "    runs = api.runs(path)\n",
    "    \n",
    "    data_df_lines = []\n",
    "    for run in tqdm.tqdm(runs): \n",
    "        data_df_lines.append({\n",
    "            'Name': run.name,\n",
    "            'Commit': run.commit,\n",
    "            **run.summary._json_dict,\n",
    "            **{k: v for k,v in run.config.items() if not k.startswith('_')},\n",
    "        })\n",
    "    data_df = pd.DataFrame(data_df_lines)\n",
    "    return data_df"
   ]
  },
  {
   "cell_type": "code",
   "execution_count": 5,
   "metadata": {},
   "outputs": [
    {
     "name": "stderr",
     "output_type": "stream",
     "text": [
      "34504it [04:58, 115.58it/s]                                                     \n"
     ]
    }
   ],
   "source": [
    "data_df = get_df_from_wandb('rock-and-roll/NOISY_MSE_ONE_LINEAR_LAYER_GALQIWI_PPL')\n",
    "data_df['layer'] = data_df['layer_name']\n",
    "data_df['mse'] = data_df['relative_mse']\n",
    "data_df = data_df[['layer', 'mse', 'wikitext2']]\n",
    "data_df = data_df.dropna().copy()"
   ]
  },
  {
   "cell_type": "code",
   "execution_count": 6,
   "metadata": {},
   "outputs": [
    {
     "data": {
      "text/plain": [
       "224"
      ]
     },
     "execution_count": 6,
     "metadata": {},
     "output_type": "execute_result"
    }
   ],
   "source": [
    "layers = sorted(set(data_df['layer']))\n",
    "len(layers)"
   ]
  },
  {
   "cell_type": "code",
   "execution_count": 57,
   "metadata": {},
   "outputs": [],
   "source": [
    "from scipy.stats import linregress\n",
    "\n",
    "\n",
    "scale_by_layer = {}\n",
    "\n",
    "for layer_idx, layer in enumerate(layers):\n",
    "    to_fit = data_df[data_df['layer'] == layer]\n",
    "    # to_fit = to_fit[to_fit['mse'] < 4 ** -1.7]\n",
    "    to_fit = to_fit[to_fit['wikitext2'] < 5.640]\n",
    "    \n",
    "    scale_by_layer[layer] = linregress(to_fit['mse'], to_fit['wikitext2']).slope"
   ]
  },
  {
   "cell_type": "code",
   "execution_count": 55,
   "metadata": {},
   "outputs": [],
   "source": [
    "scale_by_layer_old = scale_by_layer"
   ]
  },
  {
   "cell_type": "code",
   "execution_count": 58,
   "metadata": {},
   "outputs": [
    {
     "data": {
      "text/plain": [
       "(array([35., 34., 24., 23., 16., 38., 27.,  7.,  9.,  6.]),\n",
       " array([0.00307754, 0.0519854 , 0.10089325, 0.14980111, 0.19870897,\n",
       "        0.24761683, 0.29652468, 0.34543254, 0.3943404 , 0.44324826,\n",
       "        0.49215612]),\n",
       " <BarContainer object of 10 artists>)"
      ]
     },
     "execution_count": 58,
     "metadata": {},
     "output_type": "execute_result"
    },
    {
     "data": {
      "image/png": "[encoded data removed]",
      "text/plain": [
       "<Figure size 640x480 with 1 Axes>"
      ]
     },
     "metadata": {},
     "output_type": "display_data"
    }
   ],
   "source": [
    "plt.hist(sorted((value for value in scale_by_layer_old.values() if value < 0.6)), bins=10, alpha=0.5)\n",
    "plt.hist(sorted((value for value in scale_by_layer.values() if value < 0.6)), bins=10, alpha=0.5)"
   ]
  },
  {
   "cell_type": "code",
   "execution_count": 71,
   "metadata": {},
   "outputs": [
    {
     "data": {
      "image/png": "[encoded data removed]",
      "text/plain": [
       "<Figure size 640x480 with 1 Axes>"
      ]
     },
     "metadata": {},
     "output_type": "display_data"
    }
   ],
   "source": [
    "import matplotlib\n",
    "import matplotlib.pyplot as plt\n",
    "import numpy as np\n",
    "\n",
    "\n",
    "cmap = matplotlib.colormaps[\"plasma\"]\n",
    "\n",
    "for layer_idx, layer in enumerate({'model.layers.26.self_attn.k_proj'}):\n",
    "    to_plot = data_df[data_df['layer'] == layer]\n",
    "    to_plot = to_plot[to_plot['mse'] < 4 ** -2]\n",
    "    to_plot = to_plot[to_plot['wikitext2'] < 5.640]\n",
    "    \n",
    "    plt.scatter(to_plot['mse'], to_plot['wikitext2'], color=cmap(layer_idx / len(layers)))\n",
    "\n",
    "    grid = np.linspace(to_plot['mse'].min(), to_plot['mse'].max(), 10)\n",
    "    \n",
    "    plt.plot(grid, data_df['wikitext2'].min() + grid * scale_by_layer[layer], color=cmap(layer_idx / len(layers)))"
   ]
  },
  {
   "cell_type": "code",
   "execution_count": 59,
   "metadata": {},
   "outputs": [
    {
     "data": {
      "text/html": [
       "<div>\n",
       "<style scoped>\n",
       "    .dataframe tbody tr th:only-of-type {\n",
       "        vertical-align: middle;\n",
       "    }\n",
       "\n",
       "    .dataframe tbody tr th {\n",
       "        vertical-align: top;\n",
       "    }\n",
       "\n",
       "    .dataframe thead th {\n",
       "        text-align: right;\n",
       "    }\n",
       "</style>\n",
       "<table border=\"1\" class=\"dataframe\">\n",
       "  <thead>\n",
       "    <tr style=\"text-align: right;\">\n",
       "      <th></th>\n",
       "      <th>layer</th>\n",
       "      <th>scale</th>\n",
       "    </tr>\n",
       "  </thead>\n",
       "  <tbody>\n",
       "    <tr>\n",
       "      <th>5</th>\n",
       "      <td>model.layers.0.self_attn.q_proj</td>\n",
       "      <td>0.003078</td>\n",
       "    </tr>\n",
       "    <tr>\n",
       "      <th>3</th>\n",
       "      <td>model.layers.0.self_attn.k_proj</td>\n",
       "      <td>0.009613</td>\n",
       "    </tr>\n",
       "    <tr>\n",
       "      <th>115</th>\n",
       "      <td>model.layers.23.self_attn.k_proj</td>\n",
       "      <td>0.030481</td>\n",
       "    </tr>\n",
       "    <tr>\n",
       "      <th>108</th>\n",
       "      <td>model.layers.22.self_attn.k_proj</td>\n",
       "      <td>0.031087</td>\n",
       "    </tr>\n",
       "    <tr>\n",
       "      <th>136</th>\n",
       "      <td>model.layers.26.self_attn.k_proj</td>\n",
       "      <td>0.031214</td>\n",
       "    </tr>\n",
       "    <tr>\n",
       "      <th>...</th>\n",
       "      <td>...</td>\n",
       "      <td>...</td>\n",
       "    </tr>\n",
       "    <tr>\n",
       "      <th>6</th>\n",
       "      <td>model.layers.0.self_attn.v_proj</td>\n",
       "      <td>0.952292</td>\n",
       "    </tr>\n",
       "    <tr>\n",
       "      <th>13</th>\n",
       "      <td>model.layers.1.self_attn.v_proj</td>\n",
       "      <td>1.090792</td>\n",
       "    </tr>\n",
       "    <tr>\n",
       "      <th>177</th>\n",
       "      <td>model.layers.31.mlp.up_proj</td>\n",
       "      <td>1.480820</td>\n",
       "    </tr>\n",
       "    <tr>\n",
       "      <th>175</th>\n",
       "      <td>model.layers.31.mlp.down_proj</td>\n",
       "      <td>2.976877</td>\n",
       "    </tr>\n",
       "    <tr>\n",
       "      <th>7</th>\n",
       "      <td>model.layers.1.mlp.down_proj</td>\n",
       "      <td>17.933256</td>\n",
       "    </tr>\n",
       "  </tbody>\n",
       "</table>\n",
       "<p>224 rows × 2 columns</p>\n",
       "</div>"
      ],
      "text/plain": [
       "                                layer      scale\n",
       "5     model.layers.0.self_attn.q_proj   0.003078\n",
       "3     model.layers.0.self_attn.k_proj   0.009613\n",
       "115  model.layers.23.self_attn.k_proj   0.030481\n",
       "108  model.layers.22.self_attn.k_proj   0.031087\n",
       "136  model.layers.26.self_attn.k_proj   0.031214\n",
       "..                                ...        ...\n",
       "6     model.layers.0.self_attn.v_proj   0.952292\n",
       "13    model.layers.1.self_attn.v_proj   1.090792\n",
       "177       model.layers.31.mlp.up_proj   1.480820\n",
       "175     model.layers.31.mlp.down_proj   2.976877\n",
       "7        model.layers.1.mlp.down_proj  17.933256\n",
       "\n",
       "[224 rows x 2 columns]"
      ]
     },
     "execution_count": 59,
     "metadata": {},
     "output_type": "execute_result"
    }
   ],
   "source": [
    "pd.DataFrame(scale_by_layer.items(), columns=['layer', 'scale']).sort_values('scale')"
   ]
  },
  {
   "cell_type": "code",
   "execution_count": 48,
   "metadata": {},
   "outputs": [
    {
     "data": {
      "text/plain": [
       "(array([ 6., 40., 31., 21., 26., 28., 36., 17.,  7.,  7.]),\n",
       " array([-0.00723147,  0.04625384,  0.09973916,  0.15322447,  0.20670979,\n",
       "         0.2601951 ,  0.31368042,  0.36716574,  0.42065105,  0.47413637,\n",
       "         0.52762168]),\n",
       " <BarContainer object of 10 artists>)"
      ]
     },
     "execution_count": 48,
     "metadata": {},
     "output_type": "execute_result"
    },
    {
     "data": {
      "image/png": "[encoded data removed]",
      "text/plain": [
       "<Figure size 640x480 with 1 Axes>"
      ]
     },
     "metadata": {},
     "output_type": "display_data"
    }
   ],
   "source": [
    "plt.hist(sorted((value for value in scale_by_layer.values() if value < 0.6)), bins=10)"
   ]
  },
  {
   "cell_type": "code",
   "execution_count": null,
   "metadata": {},
   "outputs": [],
   "source": [
    "\n"
   ]
  },
  {
   "cell_type": "code",
   "execution_count": null,
   "metadata": {},
   "outputs": [],
   "source": [
    "\n",
    "\n"
   ]
  },
  {
   "cell_type": "code",
   "execution_count": null,
   "metadata": {},
   "outputs": [],
   "source": [
    "\n"
   ]
  },
  {
   "cell_type": "code",
   "execution_count": null,
   "metadata": {},
   "outputs": [],
   "source": []
  },
  {
   "cell_type": "code",
   "execution_count": null,
   "metadata": {},
   "outputs": [],
   "source": []
  },
  {
   "cell_type": "code",
   "execution_count": null,
   "metadata": {},
   "outputs": [],
   "source": []
  },
  {
   "cell_type": "code",
   "execution_count": null,
   "metadata": {},
   "outputs": [],
   "source": []
  },
  {
   "cell_type": "code",
   "execution_count": null,
   "metadata": {},
   "outputs": [],
   "source": []
  },
  {
   "cell_type": "code",
   "execution_count": null,
   "metadata": {},
   "outputs": [],
   "source": [
    "\n"
   ]
  }
 ],
 "metadata": {
  "kernelspec": {
   "display_name": "Python 3 (ipykernel)",
   "language": "python",
   "name": "python3"
  },
  "language_info": {
   "codemirror_mode": {
    "name": "ipython",
    "version": 3
   },
   "file_extension": ".py",
   "mimetype": "text/x-python",
   "name": "python",
   "nbconvert_exporter": "python",
   "pygments_lexer": "ipython3",
   "version": "3.12.4"
  }
 },
 "nbformat": 4,
 "nbformat_minor": 4
}
