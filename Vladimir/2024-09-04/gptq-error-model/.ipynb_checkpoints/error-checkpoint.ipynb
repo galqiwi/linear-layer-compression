{
 "cells": [
  {
   "cell_type": "code",
   "execution_count": 1,
   "id": "acb98bf2-483f-4e1a-bacc-bc134f107843",
   "metadata": {},
   "outputs": [],
   "source": [
    "import torch"
   ]
  },
  {
   "cell_type": "code",
   "execution_count": 2,
   "id": "471b241e-53eb-4c91-97a3-af3ac0c3c29a",
   "metadata": {},
   "outputs": [],
   "source": [
    "# !cp -r /home/galqiwi/root/vcs_projects/linear-layer-compression-Andrei/Andrei/grids ./"
   ]
  },
  {
   "cell_type": "code",
   "execution_count": 3,
   "id": "1ef0f8a6-6258-4ed8-8382-df2279051b1a",
   "metadata": {},
   "outputs": [],
   "source": [
    "xtx_dict = torch.load('/home/galqiwi/root/vcs_projects/linear-layer-compression-Andrei/Andrei/gptq/xtx_0.pt')"
   ]
  },
  {
   "cell_type": "code",
   "execution_count": null,
   "id": "649080e9-b867-4b82-b1e2-00e691f7894d",
   "metadata": {},
   "outputs": [
    {
     "data": {
      "application/vnd.jupyter.widget-view+json": {
       "model_id": "62b984e06c174b5a9cb85c3b3d4129a9",
       "version_major": 2,
       "version_minor": 0
      },
      "text/plain": [
       "Loading checkpoint shards:   0%|          | 0/4 [00:00<?, ?it/s]"
      ]
     },
     "metadata": {},
     "output_type": "display_data"
    }
   ],
   "source": [
    "import transformers\n",
    "\n",
    "model = transformers.AutoModelForCausalLM.from_pretrained(\n",
    "    '/mnt/LLM/hub/models--meta-llama--Meta-Llama-3.1-8B/snapshots/48d6d0fc4e02fb1269b36940650a1b7233035cbb/',\n",
    ")"
   ]
  },
  {
   "cell_type": "code",
   "execution_count": null,
   "id": "cac86eae-6490-4680-ae0a-afdead1ce851",
   "metadata": {},
   "outputs": [],
   "source": [
    "weight = model.model.layers[0].self_attn.k_proj.weight\n",
    "xtx = xtx_dict['self_attn.k_proj']"
   ]
  },
  {
   "cell_type": "code",
   "execution_count": null,
   "id": "b512f3d8-62c6-4ff9-843a-492565f7b8bf",
   "metadata": {},
   "outputs": [],
   "source": [
    "weight = weight.cuda()\n",
    "xtx = xtx.cuda()"
   ]
  },
  {
   "cell_type": "code",
   "execution_count": null,
   "id": "3dabfe69-f1d9-463f-9529-a9ea6deada30",
   "metadata": {},
   "outputs": [],
   "source": [
    "xtx = xtx / xtx.std()"
   ]
  },
  {
   "cell_type": "code",
   "execution_count": null,
   "id": "a7e6f242-d00f-4793-9aed-b23484d83cac",
   "metadata": {},
   "outputs": [],
   "source": [
    "from gptq import apply_gptq"
   ]
  },
  {
   "cell_type": "code",
   "execution_count": null,
   "id": "509fdde6-3e63-4f80-88ab-dfa470a3717a",
   "metadata": {},
   "outputs": [],
   "source": [
    "xtx.mean(), xtx.std(), xtx.min(), xtx.max()"
   ]
  },
  {
   "cell_type": "code",
   "execution_count": 16,
   "id": "9512163e-be8d-4bc2-824e-19c2852fe95b",
   "metadata": {},
   "outputs": [
    {
     "data": {
      "application/vnd.jupyter.widget-view+json": {
       "model_id": "",
       "version_major": 2,
       "version_minor": 0
      },
      "text/plain": [
       "GPTQ blocks...:   0%|          | 0/32 [00:00<?, ?it/s]"
      ]
     },
     "metadata": {},
     "output_type": "display_data"
    },
    {
     "data": {
      "text/plain": [
       "tensor([[ -19.8321,   26.9446,  -26.1016,  ...,   59.8415,   -4.7797,\n",
       "           24.0220],\n",
       "        [  14.2814,  -16.9443,    2.0702,  ...,   66.3409, -102.6500,\n",
       "           54.1116],\n",
       "        [ -13.6121,   -0.4662,  -26.2713,  ...,  -26.0681,   49.2972,\n",
       "           14.6791],\n",
       "        ...,\n",
       "        [ -21.3355,  -11.5428,   23.1307,  ...,  -48.3525,   17.5933,\n",
       "          -37.5791],\n",
       "        [  -4.6390,   -5.1579,  -37.6087,  ...,    7.6739,  -48.8693,\n",
       "           -4.2224],\n",
       "        [ -56.2057,    0.8033,  -10.7451,  ...,  -15.6760,   16.5855,\n",
       "            1.6741]], device='cuda:0')"
      ]
     },
     "execution_count": 16,
     "metadata": {},
     "output_type": "execute_result"
    }
   ],
   "source": [
    "apply_gptq(\n",
    "    weight, xtx,\n",
    "    edenn_d=2, edenn_n=1024,\n",
    "    had_block_size=1024,\n",
    ")"
   ]
  },
  {
   "cell_type": "code",
   "execution_count": null,
   "id": "90dd2f12-0e46-46d4-be70-ab076310a7e8",
   "metadata": {},
   "outputs": [],
   "source": []
  }
 ],
 "metadata": {
  "kernelspec": {
   "display_name": "Python 3 (ipykernel)",
   "language": "python",
   "name": "python3"
  },
  "language_info": {
   "codemirror_mode": {
    "name": "ipython",
    "version": 3
   },
   "file_extension": ".py",
   "mimetype": "text/x-python",
   "name": "python",
   "nbconvert_exporter": "python",
   "pygments_lexer": "ipython3",
   "version": "3.12.4"
  }
 },
 "nbformat": 4,
 "nbformat_minor": 5
}
