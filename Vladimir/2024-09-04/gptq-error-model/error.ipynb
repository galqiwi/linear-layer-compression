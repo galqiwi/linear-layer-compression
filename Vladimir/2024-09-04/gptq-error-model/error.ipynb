{
 "cells": [
  {
   "cell_type": "code",
   "execution_count": null,
   "id": "544aeb57-de2e-4210-9013-ae2298bca206",
   "metadata": {},
   "outputs": [],
   "source": []
  },
  {
   "cell_type": "code",
   "execution_count": 1,
   "id": "acb98bf2-483f-4e1a-bacc-bc134f107843",
   "metadata": {},
   "outputs": [
    {
     "data": {
      "text/plain": [
       "<torch.autograd.grad_mode.set_grad_enabled at 0x7f1f46a4a210>"
      ]
     },
     "execution_count": 1,
     "metadata": {},
     "output_type": "execute_result"
    }
   ],
   "source": [
    "import torch\n",
    "torch.set_grad_enabled(False)"
   ]
  },
  {
   "cell_type": "code",
   "execution_count": 2,
   "id": "471b241e-53eb-4c91-97a3-af3ac0c3c29a",
   "metadata": {},
   "outputs": [],
   "source": [
    "# !cp -r /home/galqiwi/root/vcs_projects/linear-layer-compression-Andrei/Andrei/gptq/gptq.py ./\n",
    "# !cp -r /home/galqiwi/root/vcs_projects/linear-layer-compression-Andrei/Andrei/gptq/edenn.py ./"
   ]
  },
  {
   "cell_type": "code",
   "execution_count": 3,
   "id": "1ef0f8a6-6258-4ed8-8382-df2279051b1a",
   "metadata": {},
   "outputs": [],
   "source": [
    "xtx_dict = torch.load('/home/galqiwi/root/vcs_projects/linear-layer-compression-Andrei/Andrei/gptq/xtx_0.pt')"
   ]
  },
  {
   "cell_type": "code",
   "execution_count": 4,
   "id": "649080e9-b867-4b82-b1e2-00e691f7894d",
   "metadata": {},
   "outputs": [
    {
     "data": {
      "application/vnd.jupyter.widget-view+json": {
       "model_id": "ae4560eee8eb489fb97ea255b75dfe9b",
       "version_major": 2,
       "version_minor": 0
      },
      "text/plain": [
       "Loading checkpoint shards:   0%|          | 0/4 [00:00<?, ?it/s]"
      ]
     },
     "metadata": {},
     "output_type": "display_data"
    }
   ],
   "source": [
    "import transformers\n",
    "\n",
    "model = transformers.AutoModelForCausalLM.from_pretrained(\n",
    "    '/mnt/LLM/hub/models--meta-llama--Meta-Llama-3.1-8B/snapshots/48d6d0fc4e02fb1269b36940650a1b7233035cbb/',\n",
    ")"
   ]
  },
  {
   "cell_type": "code",
   "execution_count": 74,
   "id": "cac86eae-6490-4680-ae0a-afdead1ce851",
   "metadata": {},
   "outputs": [],
   "source": [
    "weight = model.model.layers[0].self_attn.k_proj.weight\n",
    "xtx = xtx_dict['self_attn.k_proj']\n",
    "xtx = torch.diag(10 ** torch.linspace(0, 10, len(xtx)))"
   ]
  },
  {
   "cell_type": "code",
   "execution_count": 75,
   "id": "b512f3d8-62c6-4ff9-843a-492565f7b8bf",
   "metadata": {},
   "outputs": [],
   "source": [
    "weight = weight.cuda()\n",
    "weight = torch.randn_like(weight)\n",
    "xtx = xtx.cuda()"
   ]
  },
  {
   "cell_type": "code",
   "execution_count": 76,
   "id": "13f9f93c-4f77-4cb7-843e-1def4b3fdd5e",
   "metadata": {},
   "outputs": [],
   "source": [
    "def fix_scale(value):\n",
    "    return value / value.norm() * torch.nn.Linear(*value.shape).weight.norm()\n",
    "\n",
    "xtx = fix_scale(xtx)"
   ]
  },
  {
   "cell_type": "code",
   "execution_count": 77,
   "id": "a7e6f242-d00f-4793-9aed-b23484d83cac",
   "metadata": {},
   "outputs": [],
   "source": [
    "from gptq import apply_gptq\n",
    "from edenn import edenn, pad_to_block, HadLinear"
   ]
  },
  {
   "cell_type": "code",
   "execution_count": 78,
   "id": "6a23dd78-fb3a-40ea-a93f-5f4089db5063",
   "metadata": {},
   "outputs": [],
   "source": [
    "l_xtx = torch.linalg.cholesky(xtx)"
   ]
  },
  {
   "cell_type": "code",
   "execution_count": 79,
   "id": "1552008d-0856-4286-9be3-c6bb183a472b",
   "metadata": {},
   "outputs": [
    {
     "data": {
      "application/vnd.jupyter.widget-view+json": {
       "model_id": "",
       "version_major": 2,
       "version_minor": 0
      },
      "text/plain": [
       "GPTQ blocks...:   0%|          | 0/32 [00:00<?, ?it/s]"
      ]
     },
     "metadata": {},
     "output_type": "display_data"
    },
    {
     "data": {
      "application/vnd.jupyter.widget-view+json": {
       "model_id": "",
       "version_major": 2,
       "version_minor": 0
      },
      "text/plain": [
       "GPTQ blocks...:   0%|          | 0/32 [00:00<?, ?it/s]"
      ]
     },
     "metadata": {},
     "output_type": "display_data"
    }
   ],
   "source": [
    "had_block_size = 1024\n",
    "\n",
    "dequantized_times = HadLinear(apply_gptq(\n",
    "    weight @ l_xtx, torch.eye(len(xtx), device='cuda'),\n",
    "    edenn_d=2, edenn_n=1024,\n",
    "    had_block_size=had_block_size,\n",
    "), had_block_size)(torch.eye(*xtx.shape, device='cuda')).T.contiguous()\n",
    "\n",
    "dequantized = HadLinear(apply_gptq(\n",
    "    weight, xtx,\n",
    "    edenn_d=2, edenn_n=1024,\n",
    "    had_block_size=had_block_size,\n",
    "), had_block_size)(torch.eye(*xtx.shape, device='cuda')).T.contiguous()"
   ]
  },
  {
   "cell_type": "code",
   "execution_count": 80,
   "id": "b1bed6cb-312c-48c8-a0b2-21a7881120bc",
   "metadata": {},
   "outputs": [
    {
     "data": {
      "text/plain": [
       "tensor(0.0020, device='cuda:0')"
      ]
     },
     "execution_count": 80,
     "metadata": {},
     "output_type": "execute_result"
    }
   ],
   "source": [
    "old_relative_mse = ((dequantized_times - weight @ l_xtx).norm() / (weight @ l_xtx).norm()) ** 2\n",
    "old_relative_mse"
   ]
  },
  {
   "cell_type": "code",
   "execution_count": 81,
   "id": "2c3c6b55-9375-4b16-b0af-062c14bb3657",
   "metadata": {},
   "outputs": [
    {
     "data": {
      "text/plain": [
       "tensor(0.0020, device='cuda:0')"
      ]
     },
     "execution_count": 81,
     "metadata": {},
     "output_type": "execute_result"
    }
   ],
   "source": [
    "old_relative_mse = (\n",
    "    torch.diag((dequantized_times - weight @ l_xtx) @ (dequantized_times - weight @ l_xtx).T).sum() /\n",
    "    torch.diag(weight @ xtx @ weight.T).sum()\n",
    ")\n",
    "old_relative_mse"
   ]
  },
  {
   "cell_type": "code",
   "execution_count": 82,
   "id": "26a9a75f-e6cb-4bb1-a885-b715df7bb4e5",
   "metadata": {},
   "outputs": [
    {
     "data": {
      "text/plain": [
       "tensor(3.9711, device='cuda:0')"
      ]
     },
     "execution_count": 82,
     "metadata": {},
     "output_type": "execute_result"
    }
   ],
   "source": [
    "mse = (\n",
    "    (dequantized @ l_xtx - weight @ l_xtx).norm() /\n",
    "    weight.norm()\n",
    ") ** 2 / (torch.logdet(xtx) / len(xtx)).exp().item()\n",
    "\n",
    "mse"
   ]
  },
  {
   "cell_type": "code",
   "execution_count": 90,
   "id": "1603f29f-fc4f-4c7f-b48b-b392ebf92160",
   "metadata": {},
   "outputs": [
    {
     "data": {
      "text/plain": [
       "tensor(3.9711e-05, device='cuda:0')"
      ]
     },
     "execution_count": 90,
     "metadata": {},
     "output_type": "execute_result"
    }
   ],
   "source": [
    "mse = (\n",
    "    (dequantized @ l_xtx - weight @ l_xtx).norm() /\n",
    "    weight.norm()\n",
    ") ** 2 / torch.linalg.svd(xtx).S.max()\n",
    "\n",
    "mse"
   ]
  },
  {
   "cell_type": "code",
   "execution_count": 83,
   "id": "47ec9091-55b0-4949-9331-e554cfef8e6d",
   "metadata": {},
   "outputs": [
    {
     "data": {
      "text/plain": [
       "tensor(0.0009, device='cuda:0')"
      ]
     },
     "execution_count": 83,
     "metadata": {},
     "output_type": "execute_result"
    }
   ],
   "source": [
    "mse = (\n",
    "    (dequantized @ l_xtx - weight @ l_xtx).norm() /\n",
    "    (weight @ l_xtx).norm()\n",
    ") ** 2\n",
    "mse"
   ]
  },
  {
   "cell_type": "code",
   "execution_count": null,
   "id": "d10e7b2a-4bd9-4722-9d5b-6b0f954c35a6",
   "metadata": {},
   "outputs": [],
   "source": [
    "mse = (\n",
    "    (dequantized @ l_xtx - weight @ l_xtx).norm() /\n",
    "    weight.norm()\n",
    ") ** 2 / (torch.logdet(xtx) / len(xtx)).exp().item()\n",
    "\n",
    "mse"
   ]
  },
  {
   "cell_type": "code",
   "execution_count": 95,
   "id": "aa3fb764-3ae4-4eab-91cb-b0a6047fe4cf",
   "metadata": {},
   "outputs": [
    {
     "data": {
      "text/plain": [
       "tensor(0.0125, device='cuda:0')"
      ]
     },
     "execution_count": 95,
     "metadata": {},
     "output_type": "execute_result"
    }
   ],
   "source": [
    "(dequantized @ l_xtx - weight @ l_xtx).norm() / (weight).norm()"
   ]
  },
  {
   "cell_type": "code",
   "execution_count": 98,
   "id": "66707dbc-14d2-4f26-b025-9ed35f03afd3",
   "metadata": {},
   "outputs": [
    {
     "data": {
      "text/plain": [
       "tensor(0.7505, device='cuda:0')"
      ]
     },
     "execution_count": 98,
     "metadata": {},
     "output_type": "execute_result"
    }
   ],
   "source": [
    "(eigenvalues < 0.0125).float().mean()"
   ]
  },
  {
   "cell_type": "code",
   "execution_count": 91,
   "id": "e8565f67-e7db-407c-b478-6ec67cd0db75",
   "metadata": {},
   "outputs": [],
   "source": [
    "eigenvalues = torch.linalg.svd(xtx).S"
   ]
  },
  {
   "cell_type": "code",
   "execution_count": 92,
   "id": "08c2656d-91e2-41ec-b458-e0681488c72c",
   "metadata": {},
   "outputs": [
    {
     "data": {
      "text/plain": [
       "tensor([3.9053e+00, 3.8834e+00, 3.8616e+00,  ..., 3.9494e-10, 3.9273e-10,\n",
       "        3.9053e-10], device='cuda:0')"
      ]
     },
     "execution_count": 92,
     "metadata": {},
     "output_type": "execute_result"
    }
   ],
   "source": [
    "eigenvalues"
   ]
  }
 ],
 "metadata": {
  "kernelspec": {
   "display_name": "Python 3 (ipykernel)",
   "language": "python",
   "name": "python3"
  },
  "language_info": {
   "codemirror_mode": {
    "name": "ipython",
    "version": 3
   },
   "file_extension": ".py",
   "mimetype": "text/x-python",
   "name": "python",
   "nbconvert_exporter": "python",
   "pygments_lexer": "ipython3",
   "version": "3.12.4"
  }
 },
 "nbformat": 4,
 "nbformat_minor": 5
}
