{
 "cells": [
  {
   "cell_type": "code",
   "execution_count": 1,
   "metadata": {},
   "outputs": [],
   "source": [
    "# MODEL = \"meta-llama/Llama-2-7b-hf\"\n",
    "MODEL = \"meta-llama/Meta-Llama-3.1-8B\""
   ]
  },
  {
   "cell_type": "code",
   "execution_count": 2,
   "metadata": {},
   "outputs": [
    {
     "name": "stderr",
     "output_type": "stream",
     "text": [
      "/home/galqiwi/miniconda-eval/envs/eval/lib/python3.12/site-packages/tqdm/auto.py:21: TqdmWarning: IProgress not found. Please update jupyter and ipywidgets. See https://ipywidgets.readthedocs.io/en/stable/user_install.html\n",
      "  from .autonotebook import tqdm as notebook_tqdm\n",
      "Loading checkpoint shards: 100%|██████████████████| 4/4 [00:00<00:00,  6.23it/s]\n"
     ]
    }
   ],
   "source": [
    "from transformers import AutoModelForCausalLM\n",
    "\n",
    "model_pt = AutoModelForCausalLM.from_pretrained(\n",
    "    '/mnt/LLM/hub/models--meta-llama--Meta-Llama-3.1-8B/snapshots/13f04ed6f85ef2aa2fd11b960a275c3e31a8069e/',\n",
    "    trust_remote_code=True, torch_dtype=\"auto\", device_map='meta',\n",
    ")\n",
    "\n",
    "def get_module_by_path(model, path):\n",
    "    if path == '':\n",
    "        return model\n",
    "    splitted = path.split('.', 1)\n",
    "    if len(splitted) == 1:\n",
    "        splitted.append('')\n",
    "    next_name, suffix = splitted\n",
    "\n",
    "    try:\n",
    "        next_module = model[int(next_name)]\n",
    "    except:\n",
    "        next_module = getattr(model, next_name)\n",
    "\n",
    "    return get_module_by_path(next_module, suffix)"
   ]
  },
  {
   "cell_type": "code",
   "execution_count": 3,
   "metadata": {},
   "outputs": [],
   "source": [
    "import functools\n",
    "\n",
    "\n",
    "@functools.cache\n",
    "def get_numel(path):\n",
    "    return get_module_by_path(model_pt, path).weight.numel()\n",
    "\n",
    "total_params = sum(p.numel() for p in model_pt.model.layers.parameters())"
   ]
  },
  {
   "cell_type": "code",
   "execution_count": 4,
   "metadata": {},
   "outputs": [],
   "source": [
    "import tqdm\n",
    "import pandas as pd \n",
    "import wandb\n",
    "import functools\n",
    "\n",
    "\n",
    "@functools.cache\n",
    "def get_df_from_wandb(path):\n",
    "    api = wandb.Api()\n",
    "\n",
    "    # Project is specified by <entity/project-name>\n",
    "    runs = api.runs(path)\n",
    "    \n",
    "    data_df_lines = []\n",
    "    for run in tqdm.tqdm(runs): \n",
    "        data_df_lines.append({\n",
    "            'Name': run.name,\n",
    "            'Commit': run.commit,\n",
    "            **run.summary._json_dict,\n",
    "            **{k: v for k,v in run.config.items() if not k.startswith('_')},\n",
    "        })\n",
    "    data_df = pd.DataFrame(data_df_lines)\n",
    "    return data_df"
   ]
  },
  {
   "cell_type": "code",
   "execution_count": 21,
   "metadata": {},
   "outputs": [],
   "source": [
    "data_df = get_df_from_wandb('rock-and-roll/NOISY_MSE_ONE_LINEAR_LAYER_GALQIWI_PPL')\n",
    "\n",
    "data_df['layer'] = data_df['layer_name']\n",
    "data_df['mse'] = data_df['relative_mse']\n",
    "\n",
    "data_df = data_df[data_df['base_model'] == MODEL]\n",
    "\n",
    "data_df = data_df[['layer', 'mse', 'wikitext2']]\n",
    "data_df = data_df.dropna().copy()"
   ]
  },
  {
   "cell_type": "code",
   "execution_count": 16,
   "metadata": {},
   "outputs": [
    {
     "data": {
      "text/plain": [
       "0        meta-llama/Meta-Llama-3.1-8B\n",
       "1        meta-llama/Meta-Llama-3.1-8B\n",
       "2        meta-llama/Meta-Llama-3.1-8B\n",
       "3        meta-llama/Meta-Llama-3.1-8B\n",
       "4        meta-llama/Meta-Llama-3.1-8B\n",
       "                     ...             \n",
       "45885        meta-llama/Llama-2-7b-hf\n",
       "45886        meta-llama/Llama-2-7b-hf\n",
       "45887        meta-llama/Llama-2-7b-hf\n",
       "45888        meta-llama/Llama-2-7b-hf\n",
       "45889        meta-llama/Llama-2-7b-hf\n",
       "Name: base_model, Length: 45890, dtype: object"
      ]
     },
     "execution_count": 16,
     "metadata": {},
     "output_type": "execute_result"
    }
   ],
   "source": []
  },
  {
   "cell_type": "code",
   "execution_count": null,
   "metadata": {},
   "outputs": [],
   "source": []
  },
  {
   "cell_type": "code",
   "execution_count": null,
   "metadata": {},
   "outputs": [],
   "source": [
    "\n"
   ]
  },
  {
   "cell_type": "code",
   "execution_count": 6,
   "metadata": {},
   "outputs": [
    {
     "data": {
      "text/plain": [
       "224"
      ]
     },
     "execution_count": 6,
     "metadata": {},
     "output_type": "execute_result"
    }
   ],
   "source": [
    "layers = sorted(set(data_df['layer']))\n",
    "len(layers)"
   ]
  },
  {
   "cell_type": "code",
   "execution_count": 7,
   "metadata": {},
   "outputs": [],
   "source": [
    "from scipy.stats import linregress\n",
    "\n",
    "\n",
    "scale_by_layer = {}\n",
    "\n",
    "for layer_idx, layer in enumerate(layers):\n",
    "    to_fit = data_df[data_df['layer'] == layer]\n",
    "    to_fit = to_fit[to_fit['mse'] < 4 ** -1.7]\n",
    "    # to_fit = to_fit[to_fit['wikitext2'] < 5.640]\n",
    "    \n",
    "    scale_by_layer[layer] = linregress(to_fit['mse'], to_fit['wikitext2']).slope"
   ]
  },
  {
   "cell_type": "code",
   "execution_count": 8,
   "metadata": {},
   "outputs": [
    {
     "data": {
      "image/png": "[encoded data removed]",
      "text/plain": [
       "<Figure size 640x480 with 1 Axes>"
      ]
     },
     "metadata": {},
     "output_type": "display_data"
    }
   ],
   "source": [
    "import matplotlib\n",
    "import matplotlib.pyplot as plt\n",
    "import numpy as np\n",
    "\n",
    "\n",
    "cmap = matplotlib.colormaps[\"plasma\"]\n",
    "\n",
    "for layer_idx, layer in enumerate(layers):\n",
    "    to_plot = data_df[data_df['layer'] == layer]\n",
    "    to_plot = to_plot[to_plot['mse'] < 4 ** -2]\n",
    "    # to_plot = to_plot[to_plot['wikitext2'] < 5.640]\n",
    "    \n",
    "    plt.scatter(to_plot['mse'], to_plot['wikitext2'], color=cmap(layer_idx / len(layers)))\n",
    "\n",
    "    grid = np.linspace(to_plot['mse'].min(), to_plot['mse'].max(), 10)\n",
    "    \n",
    "    plt.plot(grid, data_df['wikitext2'].min() + grid * scale_by_layer[layer], color=cmap(layer_idx / len(layers)))"
   ]
  },
  {
   "cell_type": "code",
   "execution_count": 9,
   "metadata": {},
   "outputs": [
    {
     "data": {
      "text/html": [
       "<div>\n",
       "<style scoped>\n",
       "    .dataframe tbody tr th:only-of-type {\n",
       "        vertical-align: middle;\n",
       "    }\n",
       "\n",
       "    .dataframe tbody tr th {\n",
       "        vertical-align: top;\n",
       "    }\n",
       "\n",
       "    .dataframe thead th {\n",
       "        text-align: right;\n",
       "    }\n",
       "</style>\n",
       "<table border=\"1\" class=\"dataframe\">\n",
       "  <thead>\n",
       "    <tr style=\"text-align: right;\">\n",
       "      <th></th>\n",
       "      <th>layer</th>\n",
       "      <th>scale</th>\n",
       "    </tr>\n",
       "  </thead>\n",
       "  <tbody>\n",
       "    <tr>\n",
       "      <th>3</th>\n",
       "      <td>model.layers.0.self_attn.k_proj</td>\n",
       "      <td>0.406277</td>\n",
       "    </tr>\n",
       "    <tr>\n",
       "      <th>10</th>\n",
       "      <td>model.layers.1.self_attn.k_proj</td>\n",
       "      <td>0.437591</td>\n",
       "    </tr>\n",
       "    <tr>\n",
       "      <th>12</th>\n",
       "      <td>model.layers.1.self_attn.q_proj</td>\n",
       "      <td>0.450043</td>\n",
       "    </tr>\n",
       "    <tr>\n",
       "      <th>5</th>\n",
       "      <td>model.layers.0.self_attn.q_proj</td>\n",
       "      <td>0.464820</td>\n",
       "    </tr>\n",
       "    <tr>\n",
       "      <th>87</th>\n",
       "      <td>model.layers.2.self_attn.k_proj</td>\n",
       "      <td>0.470286</td>\n",
       "    </tr>\n",
       "    <tr>\n",
       "      <th>...</th>\n",
       "      <td>...</td>\n",
       "      <td>...</td>\n",
       "    </tr>\n",
       "    <tr>\n",
       "      <th>13</th>\n",
       "      <td>model.layers.1.self_attn.v_proj</td>\n",
       "      <td>1.315343</td>\n",
       "    </tr>\n",
       "    <tr>\n",
       "      <th>70</th>\n",
       "      <td>model.layers.18.mlp.down_proj</td>\n",
       "      <td>1.327803</td>\n",
       "    </tr>\n",
       "    <tr>\n",
       "      <th>177</th>\n",
       "      <td>model.layers.31.mlp.up_proj</td>\n",
       "      <td>1.927780</td>\n",
       "    </tr>\n",
       "    <tr>\n",
       "      <th>175</th>\n",
       "      <td>model.layers.31.mlp.down_proj</td>\n",
       "      <td>2.891667</td>\n",
       "    </tr>\n",
       "    <tr>\n",
       "      <th>7</th>\n",
       "      <td>model.layers.1.mlp.down_proj</td>\n",
       "      <td>16.927667</td>\n",
       "    </tr>\n",
       "  </tbody>\n",
       "</table>\n",
       "<p>224 rows × 2 columns</p>\n",
       "</div>"
      ],
      "text/plain": [
       "                               layer      scale\n",
       "3    model.layers.0.self_attn.k_proj   0.406277\n",
       "10   model.layers.1.self_attn.k_proj   0.437591\n",
       "12   model.layers.1.self_attn.q_proj   0.450043\n",
       "5    model.layers.0.self_attn.q_proj   0.464820\n",
       "87   model.layers.2.self_attn.k_proj   0.470286\n",
       "..                               ...        ...\n",
       "13   model.layers.1.self_attn.v_proj   1.315343\n",
       "70     model.layers.18.mlp.down_proj   1.327803\n",
       "177      model.layers.31.mlp.up_proj   1.927780\n",
       "175    model.layers.31.mlp.down_proj   2.891667\n",
       "7       model.layers.1.mlp.down_proj  16.927667\n",
       "\n",
       "[224 rows x 2 columns]"
      ]
     },
     "execution_count": 9,
     "metadata": {},
     "output_type": "execute_result"
    }
   ],
   "source": [
    "pd.DataFrame(scale_by_layer.items(), columns=['layer', 'scale']).sort_values('scale')"
   ]
  },
  {
   "cell_type": "code",
   "execution_count": 10,
   "metadata": {},
   "outputs": [
    {
     "ename": "NameError",
     "evalue": "name 'configs_list' is not defined",
     "output_type": "error",
     "traceback": [
      "\u001b[0;31m---------------------------------------------------------------------------\u001b[0m",
      "\u001b[0;31mNameError\u001b[0m                                 Traceback (most recent call last)",
      "Cell \u001b[0;32mIn[10], line 21\u001b[0m\n\u001b[1;32m      9\u001b[0m methods_list\u001b[38;5;241m.\u001b[39mappend({\n\u001b[1;32m     10\u001b[0m     \u001b[38;5;124m'\u001b[39m\u001b[38;5;124mbits\u001b[39m\u001b[38;5;124m'\u001b[39m: \u001b[38;5;241m8\u001b[39m,\n\u001b[1;32m     11\u001b[0m     \u001b[38;5;124m'\u001b[39m\u001b[38;5;124mmse\u001b[39m\u001b[38;5;124m'\u001b[39m: \u001b[38;5;241m4\u001b[39m \u001b[38;5;241m*\u001b[39m\u001b[38;5;241m*\u001b[39m \u001b[38;5;241m-\u001b[39m\u001b[38;5;241m8\u001b[39m,\n\u001b[1;32m     12\u001b[0m     \u001b[38;5;124m'\u001b[39m\u001b[38;5;124mname\u001b[39m\u001b[38;5;124m'\u001b[39m: \u001b[38;5;124m'\u001b[39m\u001b[38;5;124mint8\u001b[39m\u001b[38;5;124m'\u001b[39m,\n\u001b[1;32m     13\u001b[0m })\n\u001b[1;32m     15\u001b[0m methods_list\u001b[38;5;241m.\u001b[39mappend({\n\u001b[1;32m     16\u001b[0m     \u001b[38;5;124m'\u001b[39m\u001b[38;5;124mbits\u001b[39m\u001b[38;5;124m'\u001b[39m: \u001b[38;5;241m4\u001b[39m,\n\u001b[1;32m     17\u001b[0m     \u001b[38;5;124m'\u001b[39m\u001b[38;5;124mmse\u001b[39m\u001b[38;5;124m'\u001b[39m: \u001b[38;5;241m4\u001b[39m \u001b[38;5;241m*\u001b[39m\u001b[38;5;241m*\u001b[39m \u001b[38;5;241m-\u001b[39m\u001b[38;5;241m4\u001b[39m,\n\u001b[1;32m     18\u001b[0m     \u001b[38;5;124m'\u001b[39m\u001b[38;5;124mname\u001b[39m\u001b[38;5;124m'\u001b[39m: \u001b[38;5;124m'\u001b[39m\u001b[38;5;124mfp4\u001b[39m\u001b[38;5;124m'\u001b[39m,\n\u001b[1;32m     19\u001b[0m })\n\u001b[0;32m---> 21\u001b[0m methods_df \u001b[38;5;241m=\u001b[39m pd\u001b[38;5;241m.\u001b[39mDataFrame(\u001b[43mconfigs_list\u001b[49m)\n",
      "\u001b[0;31mNameError\u001b[0m: name 'configs_list' is not defined"
     ]
    }
   ],
   "source": [
    "methods_list = []\n",
    "\n",
    "methods_list.append({\n",
    "    'bits': 16,\n",
    "    'mse': 0,\n",
    "    'name': 'fp16',\n",
    "})\n",
    "\n",
    "methods_list.append({\n",
    "    'bits': 8,\n",
    "    'mse': 4 ** -8,\n",
    "    'name': 'int8',\n",
    "})\n",
    "\n",
    "methods_list.append({\n",
    "    'bits': 4,\n",
    "    'mse': 4 ** -4,\n",
    "    'name': 'fp4',\n",
    "})\n",
    "\n",
    "methods_df = pd.DataFrame(configs_list)"
   ]
  },
  {
   "cell_type": "code",
   "execution_count": null,
   "metadata": {},
   "outputs": [],
   "source": [
    "def prune_unoptimal(configurations):\n",
    "    configurations = sorted(configurations, key=lambda conf: conf['bits'])\n",
    "    \n",
    "    output = []\n",
    "    best_err = float('+inf')\n",
    "\n",
    "    for conf in configurations:\n",
    "        conf_err = conf['sum_err']\n",
    "        if conf_err >= best_err:\n",
    "            continue\n",
    "\n",
    "        best_err = conf_err\n",
    "        output.append(conf)\n",
    "\n",
    "    return output\n",
    "\n",
    "\n",
    "def update_optimal_configurations(optimal_configurations, err_slope, methods_df, numel):\n",
    "    configurations = []\n",
    "\n",
    "    for _, method in methods_df.iterrows():\n",
    "        for conf in optimal_configurations:\n",
    "            configurations.append({\n",
    "                'bits': conf['bits'] + method['bits'] * numel,\n",
    "                'sum_err': conf['sum_err'] + method['mse'] * err_slope,\n",
    "                'names': conf['names'] + (method['name'],)\n",
    "            })\n",
    "\n",
    "    return prune_unoptimal(configurations)\n",
    "\n",
    "\n",
    "def get_optimal_configurations(scale_by_layer, methods_df):\n",
    "    # important: lexicographic sort, not numerical\n",
    "    layers = set(scale_by_layer.keys())\n",
    "    layers = [\n",
    "        layer for\n",
    "        layer, _ in\n",
    "        sorted(scale_by_layer.items(), key=lambda x: x[1])\n",
    "    ]\n",
    "    # assert set(layers) == set(scale_by_layer.keys())\n",
    "    \n",
    "    output = [{\n",
    "        'bits': 0.0,\n",
    "        'sum_err': 0.0,\n",
    "        'names': tuple(),\n",
    "    }]\n",
    "\n",
    "    for layer in tqdm.tqdm(layers):\n",
    "        output = update_optimal_configurations(output, scale_by_layer[layer], methods_df, get_numel(layer))\n",
    "        while len(output) > 1000:\n",
    "            output = output[::2]\n",
    "    \n",
    "    return layers, output"
   ]
  },
  {
   "cell_type": "code",
   "execution_count": 263,
   "metadata": {},
   "outputs": [
    {
     "name": "stderr",
     "output_type": "stream",
     "text": [
      "100%|█████████████████████████████████████████| 224/224 [00:33<00:00,  6.63it/s]\n"
     ]
    }
   ],
   "source": [
    "layers, optimal_configs = get_optimal_configurations(scale_by_layer, )"
   ]
  },
  {
   "cell_type": "code",
   "execution_count": 266,
   "metadata": {},
   "outputs": [
    {
     "data": {
      "text/plain": [
       "[<matplotlib.lines.Line2D at 0x7f4ec3620bc0>]"
      ]
     },
     "execution_count": 266,
     "metadata": {},
     "output_type": "execute_result"
    },
    {
     "data": {
      "image/png": "[encoded data removed]",
      "text/plain": [
       "<Figure size 640x480 with 1 Axes>"
      ]
     },
     "metadata": {},
     "output_type": "display_data"
    }
   ],
   "source": [
    "plt.plot([conf['bits'] for conf in optimal_configs], [conf['sum_err'] for conf in optimal_configs])"
   ]
  },
  {
   "cell_type": "code",
   "execution_count": 280,
   "metadata": {},
   "outputs": [],
   "source": [
    "optimal_conf = max(filter(lambda conf: conf['bits'] < 3 * total_params, optimal_configs), key=lambda conf: conf['bits'])"
   ]
  },
  {
   "cell_type": "code",
   "execution_count": 286,
   "metadata": {},
   "outputs": [
    {
     "data": {
      "text/plain": [
       "2.996862597809077"
      ]
     },
     "execution_count": 286,
     "metadata": {},
     "output_type": "execute_result"
    }
   ],
   "source": [
    "optimal_conf['bits'] / total_params"
   ]
  },
  {
   "cell_type": "code",
   "execution_count": 282,
   "metadata": {},
   "outputs": [],
   "source": [
    "optimal_by_layer = dict(zip(layers, optimal_conf['names']))"
   ]
  },
  {
   "cell_type": "code",
   "execution_count": 283,
   "metadata": {},
   "outputs": [
    {
     "name": "stdout",
     "output_type": "stream",
     "text": [
      "[[5, 2048], [5, 4096], [2, 4096], [3, 2048], [5, 2048], [5, 4096], [3, 2048], [4, 2048], [3, 2048], [1, 32], [3, 2048], [5, 4096], [3, 256], [2, 4096], [4, 4096], [3, 2048], [1, 64], [4, 4096], [4, 2048], [4, 4096], [4, 2048], [3, 512], [3, 4096], [2, 1024], [3, 2048], [4, 2048], [4, 2048], [3, 512], [4, 4096], [3, 2048], [2, 1024], [3, 2048], [4, 2048], [4, 4096], [4, 4096], [3, 512], [3, 2048], [3, 4096], [3, 2048], [3, 256], [4, 4096], [3, 256], [4, 4096], [3, 4096], [3, 4096], [3, 1024], [4, 2048], [4, 4096], [4, 2048], [2, 128], [3, 2048], [1, 32], [2, 128], [4, 2048], [3, 256], [2, 64], [3, 1024], [1, 16], [2, 1024], [3, 2048], [5, 4096], [4, 2048], [4, 2048], [3, 1024], [3, 4096], [3, 4096], [2, 256], [5, 4096], [4, 2048], [4, 2048], [3, 2048], [3, 2048], [2, 4096], [3, 4096], [5, 4096], [4, 2048], [3, 256], [3, 2048], [3, 4096], [2, 4096], [3, 4096], [5, 4096], [4, 2048], [4, 2048], [3, 512], [3, 2048], [2, 4096], [2, 256], [4, 2048], [3, 512], [4, 4096], [3, 2048], [3, 4096], [2, 256], [3, 2048], [5, 4096], [4, 2048], [4, 4096], [3, 4096], [3, 4096], [2, 1024], [2, 256], [5, 4096], [4, 2048], [4, 2048], [4, 4096], [2, 256], [2, 1024], [3, 2048], [5, 4096], [3, 512], [4, 4096], [4, 4096], [3, 4096], [2, 1024], [2, 256], [5, 4096], [4, 4096], [3, 2048], [3, 512], [3, 2048], [1, 64], [3, 1024], [4, 2048], [4, 4096], [3, 1024], [3, 512], [3, 2048], [3, 4096], [3, 1024], [4, 2048], [4, 2048], [3, 1024], [4, 2048], [3, 2048], [1, 32], [4, 4096], [4, 2048], [3, 512], [4, 4096], [5, 4096], [3, 2048], [3, 4096], [4, 2048], [4, 2048], [3, 1024], [4, 4096], [4, 4096], [3, 2048], [2, 1024], [4, 4096], [4, 2048], [4, 2048], [2, 128], [5, 4096], [4, 4096], [2, 1024], [4, 2048], [4, 2048], [3, 256], [4, 4096], [5, 4096], [3, 2048], [3, 4096], [4, 2048], [4, 2048], [3, 512], [4, 2048], [5, 4096], [3, 2048], [3, 4096], [4, 2048], [4, 2048], [4, 4096], [3, 512], [4, 4096], [3, 2048], [3, 4096], [5, 4096], [3, 512], [4, 2048], [4, 4096], [4, 2048], [3, 2048], [2, 1024], [4, 4096], [4, 4096], [4, 2048], [3, 512], [4, 2048], [3, 4096], [2, 256], [4, 2048], [3, 256], [3, 256], [3, 512], [4, 4096], [3, 2048], [2, 1024], [4, 4096], [4, 2048], [4, 2048], [3, 512], [3, 4096], [3, 4096], [2, 256], [4, 4096], [4, 2048], [4, 2048], [4, 2048], [5, 2048], [3, 2048], [3, 4096], [4, 4096], [4, 4096], [4, 4096], [4, 4096], [4, 2048], [3, 2048], [2, 1024], [2, 256], [3, 1024], [3, 4096], [1, 32]]\n"
     ]
    }
   ],
   "source": [
    "layer_idx = 0\n",
    "\n",
    "def to_list(name):\n",
    "    return [round(float(x.split('=')[-1])) for x in name.split(';')]\n",
    "\n",
    "output = []\n",
    "\n",
    "for layer_idx in range(32):\n",
    "    output.append(to_list(optimal_by_layer[f'model.layers.{layer_idx}.self_attn.q_proj']))\n",
    "    output.append(to_list(optimal_by_layer[f'model.layers.{layer_idx}.self_attn.k_proj']))\n",
    "    output.append(to_list(optimal_by_layer[f'model.layers.{layer_idx}.self_attn.v_proj']))\n",
    "    output.append(to_list(optimal_by_layer[f'model.layers.{layer_idx}.self_attn.o_proj']))\n",
    "    output.append(to_list(optimal_by_layer[f'model.layers.{layer_idx}.mlp.gate_proj']))\n",
    "    output.append(to_list(optimal_by_layer[f'model.layers.{layer_idx}.mlp.up_proj']))\n",
    "    output.append(to_list(optimal_by_layer[f'model.layers.{layer_idx}.mlp.down_proj']))\n",
    "\n",
    "print(output)"
   ]
  },
  {
   "cell_type": "code",
   "execution_count": 223,
   "metadata": {},
   "outputs": [
    {
     "data": {
      "text/plain": [
       "224"
      ]
     },
     "execution_count": 223,
     "metadata": {},
     "output_type": "execute_result"
    }
   ],
   "source": [
    "len(output)"
   ]
  },
  {
   "cell_type": "code",
   "execution_count": 83,
   "metadata": {},
   "outputs": [
    {
     "name": "stdout",
     "output_type": "stream",
     "text": [
      "[galqiwi 009c55f] linear-layer-compression\n",
      " 1 file changed, 268 insertions(+), 430 deletions(-)\n",
      " rewrite Vladimir/2024-09-02/linear-layer-compression/values.ipynb (90%)\n",
      "Warning: Permanently added 'github.com,64:ff9b::8c52:7903' (ECDSA) to the list of known hosts.\n",
      "Counting objects: 6, done.\n",
      "Delta compression using up to 255 threads.\n",
      "Compressing objects: 100% (6/6), done.\n",
      "Writing objects: 100% (6/6), 1.12 KiB | 1.12 MiB/s, done.\n",
      "Total 6 (delta 1), reused 0 (delta 0)\n",
      "remote: Resolving deltas: 100% (1/1), completed with 1 local object.\u001b[K\n",
      "To github.com:galqiwi/linear-layer-compression.git\n",
      "   38782d9..009c55f  galqiwi -> galqiwi\n"
     ]
    }
   ],
   "source": [
    "!git add . && git commit -m 'linear-layer-compression' && git push"
   ]
  },
  {
   "cell_type": "code",
   "execution_count": null,
   "metadata": {},
   "outputs": [],
   "source": []
  },
  {
   "cell_type": "code",
   "execution_count": null,
   "metadata": {},
   "outputs": [],
   "source": []
  },
  {
   "cell_type": "code",
   "execution_count": null,
   "metadata": {},
   "outputs": [],
   "source": []
  },
  {
   "cell_type": "code",
   "execution_count": null,
   "metadata": {},
   "outputs": [],
   "source": []
  },
  {
   "cell_type": "code",
   "execution_count": null,
   "metadata": {},
   "outputs": [],
   "source": []
  },
  {
   "cell_type": "code",
   "execution_count": null,
   "metadata": {},
   "outputs": [],
   "source": []
  },
  {
   "cell_type": "code",
   "execution_count": null,
   "metadata": {},
   "outputs": [],
   "source": []
  },
  {
   "cell_type": "code",
   "execution_count": null,
   "metadata": {},
   "outputs": [],
   "source": [
    "\n"
   ]
  }
 ],
 "metadata": {
  "kernelspec": {
   "display_name": "Python 3 (ipykernel)",
   "language": "python",
   "name": "python3"
  },
  "language_info": {
   "codemirror_mode": {
    "name": "ipython",
    "version": 3
   },
   "file_extension": ".py",
   "mimetype": "text/x-python",
   "name": "python",
   "nbconvert_exporter": "python",
   "pygments_lexer": "ipython3",
   "version": "3.12.4"
  }
 },
 "nbformat": 4,
 "nbformat_minor": 4
}
