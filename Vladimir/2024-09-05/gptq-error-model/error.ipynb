{
 "cells": [
  {
   "cell_type": "code",
   "execution_count": 1,
   "id": "acb98bf2-483f-4e1a-bacc-bc134f107843",
   "metadata": {},
   "outputs": [
    {
     "data": {
      "text/plain": [
       "<torch.autograd.grad_mode.set_grad_enabled at 0x7f236d5bba70>"
      ]
     },
     "execution_count": 1,
     "metadata": {},
     "output_type": "execute_result"
    }
   ],
   "source": [
    "import torch\n",
    "torch.set_grad_enabled(False)"
   ]
  },
  {
   "cell_type": "code",
   "execution_count": 2,
   "id": "471b241e-53eb-4c91-97a3-af3ac0c3c29a",
   "metadata": {},
   "outputs": [],
   "source": [
    "# !cp -r /home/galqiwi/root/vcs_projects/linear-layer-compression-Andrei/Andrei/gptq/gptq.py ./\n",
    "# !cp -r /home/galqiwi/root/vcs_projects/linear-layer-compression-Andrei/Andrei/gptq/edenn.py ./"
   ]
  },
  {
   "cell_type": "code",
   "execution_count": 2,
   "id": "1ef0f8a6-6258-4ed8-8382-df2279051b1a",
   "metadata": {},
   "outputs": [],
   "source": [
    "xtx_dict = torch.load('/home/galqiwi/root/vcs_projects/linear-layer-compression-Andrei/Andrei/gptq/xtx_0.pt')"
   ]
  },
  {
   "cell_type": "code",
   "execution_count": 3,
   "id": "649080e9-b867-4b82-b1e2-00e691f7894d",
   "metadata": {},
   "outputs": [
    {
     "data": {
      "application/vnd.jupyter.widget-view+json": {
       "model_id": "a907206c19134f6e9c44017ec3b50a4e",
       "version_major": 2,
       "version_minor": 0
      },
      "text/plain": [
       "Loading checkpoint shards:   0%|          | 0/4 [00:00<?, ?it/s]"
      ]
     },
     "metadata": {},
     "output_type": "display_data"
    }
   ],
   "source": [
    "import transformers\n",
    "\n",
    "model = transformers.AutoModelForCausalLM.from_pretrained(\n",
    "    '/mnt/LLM/hub/models--meta-llama--Meta-Llama-3.1-8B/snapshots/48d6d0fc4e02fb1269b36940650a1b7233035cbb/',\n",
    ")"
   ]
  },
  {
   "cell_type": "code",
   "execution_count": 4,
   "id": "cac86eae-6490-4680-ae0a-afdead1ce851",
   "metadata": {},
   "outputs": [],
   "source": [
    "weight = model.model.layers[0].self_attn.k_proj.weight\n",
    "xtx = xtx_dict['self_attn.k_proj']\n",
    "# xtx = torch.diag(10 ** torch.linspace(0, 10, len(xtx)))"
   ]
  },
  {
   "cell_type": "code",
   "execution_count": 5,
   "id": "b512f3d8-62c6-4ff9-843a-492565f7b8bf",
   "metadata": {},
   "outputs": [],
   "source": [
    "weight = weight.cuda()\n",
    "weight = torch.randn_like(weight)\n",
    "xtx = xtx.cuda()"
   ]
  },
  {
   "cell_type": "code",
   "execution_count": 6,
   "id": "13f9f93c-4f77-4cb7-843e-1def4b3fdd5e",
   "metadata": {},
   "outputs": [],
   "source": [
    "def fix_scale(value):\n",
    "    return value / value.norm() * torch.nn.Linear(*value.shape).weight.norm()\n",
    "\n",
    "xtx = fix_scale(xtx)"
   ]
  },
  {
   "cell_type": "code",
   "execution_count": 7,
   "id": "a7e6f242-d00f-4793-9aed-b23484d83cac",
   "metadata": {},
   "outputs": [],
   "source": [
    "from gptq import apply_gptq\n",
    "from edenn import edenn, pad_to_block, HadLinear"
   ]
  },
  {
   "cell_type": "code",
   "execution_count": 8,
   "id": "6a23dd78-fb3a-40ea-a93f-5f4089db5063",
   "metadata": {},
   "outputs": [],
   "source": [
    "l_xtx = torch.linalg.cholesky(xtx)"
   ]
  },
  {
   "cell_type": "code",
   "execution_count": 12,
   "id": "c7bc2da1-f548-451c-ac14-0ba64db5662c",
   "metadata": {},
   "outputs": [
    {
     "name": "stdout",
     "output_type": "stream",
     "text": [
      "75\n"
     ]
    },
    {
     "data": {
      "text/html": [
       "<div>\n",
       "<style scoped>\n",
       "    .dataframe tbody tr th:only-of-type {\n",
       "        vertical-align: middle;\n",
       "    }\n",
       "\n",
       "    .dataframe tbody tr th {\n",
       "        vertical-align: top;\n",
       "    }\n",
       "\n",
       "    .dataframe thead th {\n",
       "        text-align: right;\n",
       "    }\n",
       "</style>\n",
       "<table border=\"1\" class=\"dataframe\">\n",
       "  <thead>\n",
       "    <tr style=\"text-align: right;\">\n",
       "      <th></th>\n",
       "      <th>bits</th>\n",
       "      <th>mse</th>\n",
       "      <th>name</th>\n",
       "    </tr>\n",
       "  </thead>\n",
       "  <tbody>\n",
       "    <tr>\n",
       "      <th>8</th>\n",
       "      <td>5.00</td>\n",
       "      <td>0.002038</td>\n",
       "      <td>edenn_d=2.0;edenn_n=1024.0</td>\n",
       "    </tr>\n",
       "    <tr>\n",
       "      <th>39</th>\n",
       "      <td>0.75</td>\n",
       "      <td>0.465032</td>\n",
       "      <td>edenn_d=4.0;edenn_n=8.0</td>\n",
       "    </tr>\n",
       "    <tr>\n",
       "      <th>15</th>\n",
       "      <td>6.00</td>\n",
       "      <td>0.000582</td>\n",
       "      <td>edenn_d=2.0;edenn_n=4096.0</td>\n",
       "    </tr>\n",
       "  </tbody>\n",
       "</table>\n",
       "</div>"
      ],
      "text/plain": [
       "    bits       mse                        name\n",
       "8   5.00  0.002038  edenn_d=2.0;edenn_n=1024.0\n",
       "39  0.75  0.465032     edenn_d=4.0;edenn_n=8.0\n",
       "15  6.00  0.000582  edenn_d=2.0;edenn_n=4096.0"
      ]
     },
     "execution_count": 12,
     "metadata": {},
     "output_type": "execute_result"
    }
   ],
   "source": [
    "import requests\n",
    "from ast import literal_eval\n",
    "import pandas as pd\n",
    "\n",
    "grids = literal_eval(requests.get(\n",
    "    'https://gist.githubusercontent.com/BlackSamorez/c74f24a648eb8bbfbbbf83f3145ba3c7/raw/ddc3280a4861938e2e2034c29d6802817e26e799/gistfile1.txt'\n",
    ").text)\n",
    "\n",
    "grids = pd.DataFrame(grids)\n",
    "grids['name'] = grids.apply(\n",
    "    lambda row: 'edenn_d=' + str(row['edenn_d']) + ';edenn_n=' + str(row['edenn_n']),\n",
    "    axis=1,\n",
    ")\n",
    "grids = grids[['bits', 'mse', 'name']]\n",
    "print(len(grids))\n",
    "grids.sample(3)\n"
   ]
  },
  {
   "cell_type": "code",
   "execution_count": null,
   "id": "7501f825-1615-49d3-9ef8-79875c7d36c7",
   "metadata": {},
   "outputs": [],
   "source": [
    "grids.sort_values('bits').tail(30).head(15)"
   ]
  },
  {
   "cell_type": "code",
   "execution_count": null,
   "id": "48fbb871-b1d7-4a80-8ecf-623da4d3061d",
   "metadata": {},
   "outputs": [],
   "source": [
    "\n"
   ]
  },
  {
   "cell_type": "code",
   "execution_count": null,
   "id": "47f27701-6e53-4d18-bd74-aa474f5e0f49",
   "metadata": {},
   "outputs": [],
   "source": [
    "\n"
   ]
  },
  {
   "cell_type": "code",
   "execution_count": null,
   "id": "9bbfc55f-661c-4e0b-b661-c64f73386240",
   "metadata": {},
   "outputs": [],
   "source": []
  },
  {
   "cell_type": "code",
   "execution_count": null,
   "id": "712fd819-ae14-4aef-839d-eac942baf727",
   "metadata": {},
   "outputs": [],
   "source": []
  },
  {
   "cell_type": "code",
   "execution_count": null,
   "id": "5765fe09-5151-4d99-ad0c-5a125c473907",
   "metadata": {},
   "outputs": [],
   "source": []
  },
  {
   "cell_type": "code",
   "execution_count": 48,
   "id": "1552008d-0856-4286-9be3-c6bb183a472b",
   "metadata": {},
   "outputs": [
    {
     "data": {
      "application/vnd.jupyter.widget-view+json": {
       "model_id": "",
       "version_major": 2,
       "version_minor": 0
      },
      "text/plain": [
       "GPTQ blocks...:   0%|          | 0/22 [00:00<?, ?it/s]"
      ]
     },
     "metadata": {},
     "output_type": "display_data"
    },
    {
     "data": {
      "application/vnd.jupyter.widget-view+json": {
       "model_id": "",
       "version_major": 2,
       "version_minor": 0
      },
      "text/plain": [
       "GPTQ blocks...:   0%|          | 0/22 [00:00<?, ?it/s]"
      ]
     },
     "metadata": {},
     "output_type": "display_data"
    }
   ],
   "source": [
    "had_block_size = 1024\n",
    "\n",
    "dequantized_times = HadLinear(apply_gptq(\n",
    "    weight @ l_xtx, torch.eye(len(xtx), device='cuda'),\n",
    "    edenn_d=3, edenn_n=512,\n",
    "    had_block_size=had_block_size,\n",
    "), had_block_size)(torch.eye(*xtx.shape, device='cuda')).T.contiguous()\n",
    "\n",
    "dequantized = HadLinear(apply_gptq(\n",
    "    weight, xtx,\n",
    "    edenn_d=3, edenn_n=512,\n",
    "    had_block_size=had_block_size,\n",
    "), had_block_size)(torch.eye(*xtx.shape, device='cuda')).T.contiguous()"
   ]
  },
  {
   "cell_type": "code",
   "execution_count": 49,
   "id": "b1bed6cb-312c-48c8-a0b2-21a7881120bc",
   "metadata": {},
   "outputs": [
    {
     "data": {
      "text/plain": [
       "tensor(0.0267, device='cuda:0')"
      ]
     },
     "execution_count": 49,
     "metadata": {},
     "output_type": "execute_result"
    }
   ],
   "source": [
    "old_relative_mse = ((dequantized_times - weight @ l_xtx).norm() / (weight @ l_xtx).norm()) ** 2\n",
    "old_relative_mse"
   ]
  },
  {
   "cell_type": "code",
   "execution_count": 50,
   "id": "26a9a75f-e6cb-4bb1-a885-b715df7bb4e5",
   "metadata": {},
   "outputs": [
    {
     "data": {
      "text/plain": [
       "tensor(0.3371, device='cuda:0')"
      ]
     },
     "execution_count": 50,
     "metadata": {},
     "output_type": "execute_result"
    }
   ],
   "source": [
    "mse = (\n",
    "    (dequantized @ l_xtx - weight @ l_xtx).norm() /\n",
    "    weight.norm()\n",
    ") ** 2 / (torch.logdet(xtx) / len(xtx)).exp().item()\n",
    "\n",
    "mse"
   ]
  },
  {
   "cell_type": "code",
   "execution_count": 51,
   "id": "c551d820-bccb-469c-9eb1-dd3b2721cedd",
   "metadata": {},
   "outputs": [
    {
     "data": {
      "text/plain": [
       "tensor(12.6391, device='cuda:0')"
      ]
     },
     "execution_count": 51,
     "metadata": {},
     "output_type": "execute_result"
    }
   ],
   "source": [
    "mse / old_relative_mse"
   ]
  },
  {
   "cell_type": "code",
   "execution_count": 58,
   "id": "89c71723-98e1-434f-a3b3-4a31a469bf97",
   "metadata": {},
   "outputs": [
    {
     "name": "stdout",
     "output_type": "stream",
     "text": [
      "[[-1, -1], [-1, -1], [-1, -1], [-1, -1], [-1, -1], [-1, -1], [-1, -1], [-1, -1], [-1, -1], [-1, -1], [-1, -1], [-1, -1], [-1, -1], [-1, -1], [-1, -1], [-1, -1], [-1, -1], [-1, -1], [-1, -1], [-1, -1], [-1, -1], [-1, -1], [-1, -1], [-1, -1], [-1, -1], [-1, -1], [-1, -1], [-1, -1], [-1, -1], [-1, -1], [-1, -1], [-1, -1], [-1, -1], [-1, -1], [-1, -1], [-1, -1], [-1, -1], [-1, -1], [-1, -1], [-1, -1], [-1, -1], [-1, -1], [-1, -1], [-1, -1], [-1, -1], [-1, -1], [-1, -1], [-1, -1], [-1, -1], [-1, -1], [-1, -1], [-1, -1], [-1, -1], [-1, -1], [-1, -1], [-1, -1], [-1, -1], [-1, -1], [-1, -1], [-1, -1], [-1, -1], [-1, -1], [-1, -1], [-1, -1], [-1, -1], [-1, -1], [-1, -1], [-1, -1], [-1, -1], [-1, -1], [-1, -1], [-1, -1], [-1, -1], [-1, -1], [-1, -1], [-1, -1], [-1, -1], [-1, -1], [-1, -1], [-1, -1], [-1, -1], [-1, -1], [-1, -1], [-1, -1], [-1, -1], [-1, -1], [-1, -1], [-1, -1], [-1, -1], [-1, -1], [-1, -1], [-1, -1], [-1, -1], [-1, -1], [-1, -1], [-1, -1], [-1, -1], [-1, -1], [-1, -1], [-1, -1], [-1, -1], [-1, -1], [-1, -1], [-1, -1], [-1, -1], [-1, -1], [-1, -1], [-1, -1], [-1, -1], [-1, -1], [-1, -1], [-1, -1], [-1, -1], [-1, -1], [-1, -1], [-1, -1], [-1, -1], [-1, -1], [-1, -1], [-1, -1], [-1, -1], [-1, -1], [-1, -1], [-1, -1], [-1, -1], [-1, -1], [-1, -1], [-1, -1], [-1, -1], [-1, -1], [-1, -1], [-1, -1], [-1, -1], [-1, -1], [-1, -1], [-1, -1], [-1, -1], [-1, -1], [-1, -1], [-1, -1], [-1, -1], [-1, -1], [-1, -1], [-1, -1], [-1, -1], [-1, -1], [-1, -1], [-1, -1], [-1, -1], [-1, -1], [-1, -1], [-1, -1], [-1, -1], [-1, -1], [-1, -1], [-1, -1], [-1, -1], [-1, -1], [-1, -1], [-1, -1], [-1, -1], [-1, -1], [-1, -1], [-1, -1], [-1, -1], [-1, -1], [-1, -1], [-1, -1], [-1, -1], [-1, -1], [-1, -1], [-1, -1], [-1, -1], [-1, -1], [-1, -1], [-1, -1], [-1, -1], [-1, -1], [-1, -1], [-1, -1], [-1, -1], [-1, -1], [-1, -1], [-1, -1], [-1, -1], [-1, -1], [-1, -1], [-1, -1], [-1, -1], [-1, -1], [-1, -1], [-1, -1], [-1, -1], [-1, -1], [-1, -1], [-1, -1], [-1, -1], [-1, -1], [-1, -1], [-1, -1], [-1, -1], [-1, -1], [-1, -1], [-1, -1], [-1, -1], [-1, -1], [-1, -1], [-1, -1], [-1, -1], [-1, -1], [-1, -1], [-1, -1], [-1, -1], [-1, -1], [-1, -1], [-1, -1], [-1, -1], [-1, -1], [-1, -1], [-1, -1], [-1, -1], [-1, -1], [-1, -1], [-1, -1]]\n"
     ]
    }
   ],
   "source": [
    "print([[-1, -1]] * 224)"
   ]
  },
  {
   "cell_type": "code",
   "execution_count": 47,
   "id": "47ec9091-55b0-4949-9331-e554cfef8e6d",
   "metadata": {},
   "outputs": [
    {
     "data": {
      "text/plain": [
       "tensor(0.0004, device='cuda:0')"
      ]
     },
     "execution_count": 47,
     "metadata": {},
     "output_type": "execute_result"
    }
   ],
   "source": [
    "mse = (\n",
    "    (dequantized @ l_xtx - weight @ l_xtx).norm() /\n",
    "    (weight @ l_xtx).norm()\n",
    ") ** 2\n",
    "mse"
   ]
  },
  {
   "cell_type": "code",
   "execution_count": 37,
   "id": "e8565f67-e7db-407c-b478-6ec67cd0db75",
   "metadata": {},
   "outputs": [],
   "source": [
    "eigenvalues = torch.linalg.svd(xtx).S"
   ]
  },
  {
   "cell_type": "code",
   "execution_count": 55,
   "id": "08c2656d-91e2-41ec-b458-e0681488c72c",
   "metadata": {},
   "outputs": [
    {
     "data": {
      "text/plain": [
       "tensor(0.0002, device='cuda:0')"
      ]
     },
     "execution_count": 55,
     "metadata": {},
     "output_type": "execute_result"
    }
   ],
   "source": [
    "eigenvalues.log().mean().exp()"
   ]
  },
  {
   "cell_type": "code",
   "execution_count": 56,
   "id": "cd98c41a-400e-4d2c-88ef-e0f4d22eaa8c",
   "metadata": {},
   "outputs": [
    {
     "data": {
      "text/plain": [
       "tensor(0.0304, device='cuda:0')"
      ]
     },
     "execution_count": 56,
     "metadata": {},
     "output_type": "execute_result"
    }
   ],
   "source": [
    "eigenvalues.mean()"
   ]
  },
  {
   "cell_type": "code",
   "execution_count": null,
   "id": "f373ba74-0fa3-40b4-b3ad-5389b2f35206",
   "metadata": {},
   "outputs": [],
   "source": [
    "eigenvalues"
   ]
  },
  {
   "cell_type": "code",
   "execution_count": 40,
   "id": "e7dd9c62-1972-4afe-832f-867607470952",
   "metadata": {},
   "outputs": [
    {
     "data": {
      "text/plain": [
       "[<matplotlib.lines.Line2D at 0x7f191439f230>]"
      ]
     },
     "execution_count": 40,
     "metadata": {},
     "output_type": "execute_result"
    },
    {
     "data": {
      "image/png": "[encoded data removed]",
      "text/plain": [
       "<Figure size 640x480 with 1 Axes>"
      ]
     },
     "metadata": {},
     "output_type": "display_data"
    }
   ],
   "source": [
    "import matplotlib.pyplot as plt\n",
    "plt.plot(eigenvalues.cpu().log().numpy())"
   ]
  }
 ],
 "metadata": {
  "kernelspec": {
   "display_name": "Python 3 (ipykernel)",
   "language": "python",
   "name": "python3"
  },
  "language_info": {
   "codemirror_mode": {
    "name": "ipython",
    "version": 3
   },
   "file_extension": ".py",
   "mimetype": "text/x-python",
   "name": "python",
   "nbconvert_exporter": "python",
   "pygments_lexer": "ipython3",
   "version": "3.12.4"
  }
 },
 "nbformat": 4,
 "nbformat_minor": 5
}
