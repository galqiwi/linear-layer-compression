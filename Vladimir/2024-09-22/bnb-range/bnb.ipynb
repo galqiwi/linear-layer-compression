{
 "cells": [
  {
   "cell_type": "code",
   "execution_count": 1,
   "id": "4e3f6b82-f9c9-41ad-bfd3-7c3c96c643f4",
   "metadata": {},
   "outputs": [
    {
     "name": "stdout",
     "output_type": "stream",
     "text": [
      "env: CUDA_VISIBLE_DEVICES=7\n",
      "env: OMP_NUM_THREADS=16\n"
     ]
    }
   ],
   "source": [
    "%env CUDA_VISIBLE_DEVICES=7\n",
    "%env OMP_NUM_THREADS=16"
   ]
  },
  {
   "cell_type": "code",
   "execution_count": 2,
   "id": "4f205468-18d1-4a22-9d32-84ec0c805662",
   "metadata": {},
   "outputs": [
    {
     "data": {
      "text/plain": [
       "<torch.autograd.grad_mode.set_grad_enabled at 0x7fc6353dc130>"
      ]
     },
     "execution_count": 2,
     "metadata": {},
     "output_type": "execute_result"
    }
   ],
   "source": [
    "import torch\n",
    "torch.set_grad_enabled(False)"
   ]
  },
  {
   "cell_type": "code",
   "execution_count": 3,
   "id": "14ee57a6-6ee0-4e20-b514-985c2dec0b77",
   "metadata": {},
   "outputs": [],
   "source": [
    "# MODEL = \"meta-llama/Llama-2-7b-hf\"\n",
    "MODEL = \"meta-llama/Meta-Llama-3.1-8B\"\n",
    "BASE_PPL = 5.606886386871338"
   ]
  },
  {
   "cell_type": "code",
   "execution_count": 4,
   "id": "69fdf84b-13f1-4249-9056-4ca874c9d292",
   "metadata": {},
   "outputs": [
    {
     "data": {
      "application/vnd.jupyter.widget-view+json": {
       "model_id": "5f624a5b1d5c4668845b2497e9c73acf",
       "version_major": 2,
       "version_minor": 0
      },
      "text/plain": [
       "Loading checkpoint shards:   0%|          | 0/4 [00:00<?, ?it/s]"
      ]
     },
     "metadata": {},
     "output_type": "display_data"
    }
   ],
   "source": [
    "from transformers import AutoModelForCausalLM\n",
    "\n",
    "MODEL_PATH = 'meta-llama/Meta-Llama-3.1-8B'\n",
    "MODEL_SEQLEN = 8192\n",
    "\n",
    "model_pt = AutoModelForCausalLM.from_pretrained(\n",
    "    MODEL_PATH,\n",
    "    trust_remote_code=True, torch_dtype=\"auto\", device_map='cpu',\n",
    ")\n",
    "\n",
    "def get_module_by_path(model, path):\n",
    "    if path == '':\n",
    "        return model\n",
    "    splitted = path.split('.', 1)\n",
    "    if len(splitted) == 1:\n",
    "        splitted.append('')\n",
    "    next_name, suffix = splitted\n",
    "\n",
    "    try:\n",
    "        next_module = model[int(next_name)]\n",
    "    except:\n",
    "        next_module = getattr(model, next_name)\n",
    "\n",
    "    return get_module_by_path(next_module, suffix)"
   ]
  },
  {
   "cell_type": "code",
   "execution_count": 5,
   "id": "26bc8131-9184-4455-bb40-1d216aaac254",
   "metadata": {},
   "outputs": [
    {
     "name": "stderr",
     "output_type": "stream",
     "text": [
      "Token indices sequence length is longer than the specified maximum sequence length for this model (289077 > 131072). Running this sequence through the model will result in indexing errors\n"
     ]
    }
   ],
   "source": [
    "from eval import *\n",
    "\n",
    "testloader = get_loaders(\n",
    "    'wikitext2',\n",
    "    seed=0,\n",
    "    model_path=MODEL_PATH,\n",
    "    seqlen=MODEL_SEQLEN,\n",
    "    eval_mode=True,\n",
    "    use_fast_tokenizer=False,\n",
    "    trust_remote_code=False,\n",
    ")\n",
    "\n",
    "def eval_ppl(\n",
    "    model,\n",
    "    model_path=MODEL_PATH,\n",
    "    model_seqlen=MODEL_SEQLEN,\n",
    "    device = 'cuda:0',\n",
    "    # ppl_datasets = ('wikitext2',),\n",
    "    trust_remote_code=False,\n",
    "    offload_activations=False,\n",
    "):\n",
    "    output = {}\n",
    "    \n",
    "    ppl = perplexity_eval(\n",
    "        model,\n",
    "        testloader,\n",
    "        dataset_name='wikitext2',\n",
    "        model_seqlen=model_seqlen,\n",
    "        device=device,\n",
    "        offload_activations=offload_activations,\n",
    "    )\n",
    "    output['wikitext2'] = ppl\n",
    "    # make sure that the cache is released\n",
    "    torch.cuda.empty_cache()\n",
    "    \n",
    "    return output"
   ]
  },
  {
   "cell_type": "code",
   "execution_count": 6,
   "id": "5add09d8-4b7e-4db7-89ee-0fe9fbb7ce17",
   "metadata": {},
   "outputs": [],
   "source": [
    "import torch\n",
    "import bitsandbytes as bnb\n",
    "\n",
    "@torch.no_grad()\n",
    "def _quantize_dequantize_bnb_8(weight):\n",
    "    out_features, in_features = weight.shape\n",
    "    w = bnb.nn.Linear8bitLt(\n",
    "        in_features,\n",
    "        out_features,\n",
    "        bias=False,\n",
    "        has_fp16_weights=False,\n",
    "        threshold=6.0,  # Default from the LLM.int8() paper\n",
    "    )\n",
    "    w.weight = bnb.nn.Int8Params(\n",
    "        weight, requires_grad=False, has_fp16_weights=False\n",
    "    ).to(weight.dtype)\n",
    "    w.cuda()\n",
    "\n",
    "    # hacky dequantization\n",
    "    output = w(torch.eye(in_features).half().cuda()).T.contiguous()\n",
    "\n",
    "    assert output.shape == weight.shape, (output.shape, weight.shape)\n",
    "\n",
    "    return output\n",
    "\n",
    "\n",
    "@torch.no_grad()\n",
    "def quantize_dequantize_bnb_8(weight):\n",
    "    # chunked processing for large in_features\n",
    "    \n",
    "    BLOCK_SIZE = 8192\n",
    "    \n",
    "    out_features, in_features = weight.shape\n",
    "    \n",
    "    output = []\n",
    "    for begin in range(0, in_features, BLOCK_SIZE):\n",
    "        end = min(begin + BLOCK_SIZE, in_features)\n",
    "\n",
    "        chunk = weight[:, begin:end]\n",
    "        \n",
    "        output.append(\n",
    "            _quantize_dequantize_bnb_8(chunk)\n",
    "        )\n",
    "\n",
    "    return torch.cat(output, dim=1)\n",
    "\n",
    "\n",
    "@torch.no_grad()\n",
    "def _quantize_dequantize_bnb_4(weight):\n",
    "    out_features, in_features = weight.shape\n",
    "    w = bnb.nn.LinearNF4(\n",
    "        in_features,\n",
    "        out_features,\n",
    "        bias=False,\n",
    "    )\n",
    "    w.weight = bnb.nn.Params4bit(\n",
    "        weight, requires_grad=False, quant_type=\"nf4\", blocksize=64,\n",
    "    ).to(weight.dtype)\n",
    "    w.cuda()\n",
    "    \n",
    "    output = w(torch.eye(in_features).half().cuda()).T.contiguous()\n",
    "\n",
    "    assert output.shape == weight.shape, (output.shape, weight.shape)\n",
    "\n",
    "    return output\n",
    "\n",
    "\n",
    "@torch.no_grad()\n",
    "def quantize_dequantize_bnb_4(weight):\n",
    "    # chunked processing for large in_features\n",
    "    \n",
    "    BLOCK_SIZE = 8192\n",
    "    \n",
    "    out_features, in_features = weight.shape\n",
    "    \n",
    "    output = []\n",
    "    for begin in range(0, in_features, BLOCK_SIZE):\n",
    "        end = min(begin + BLOCK_SIZE, in_features)\n",
    "\n",
    "        chunk = weight[:, begin:end]\n",
    "        \n",
    "        output.append(\n",
    "            _quantize_dequantize_bnb_4(chunk)\n",
    "        )\n",
    "\n",
    "    return torch.cat(output, dim=1)"
   ]
  },
  {
   "cell_type": "code",
   "execution_count": 7,
   "id": "8f09fe4e-bf3e-4e28-b7fb-34d8af32aa09",
   "metadata": {},
   "outputs": [],
   "source": [
    "import functools\n",
    "\n",
    "\n",
    "@functools.cache\n",
    "def get_numel(path):\n",
    "    return get_module_by_path(model_pt, path).weight.numel()\n",
    "\n",
    "total_params = sum(p.numel() for p in model_pt.model.layers.parameters())"
   ]
  },
  {
   "cell_type": "code",
   "execution_count": 8,
   "id": "83e288e3-c028-409e-acc7-ef68f152fca1",
   "metadata": {},
   "outputs": [],
   "source": [
    "import tqdm\n",
    "import pandas as pd \n",
    "import wandb\n",
    "import functools\n",
    "\n",
    "\n",
    "@functools.cache\n",
    "def get_df_from_wandb(path):\n",
    "    api = wandb.Api()\n",
    "\n",
    "    # Project is specified by <entity/project-name>\n",
    "    runs = api.runs(path)\n",
    "    \n",
    "    data_df_lines = []\n",
    "    for run in tqdm.tqdm(runs): \n",
    "        data_df_lines.append({\n",
    "            'Name': run.name,\n",
    "            'Commit': run.commit,\n",
    "            **run.summary._json_dict,\n",
    "            **{k: v for k,v in run.config.items() if not k.startswith('_')},\n",
    "        })\n",
    "    data_df = pd.DataFrame(data_df_lines)\n",
    "    return data_df"
   ]
  },
  {
   "cell_type": "code",
   "execution_count": 9,
   "id": "9455cada-8fa3-4d48-9a36-a5f0bffb3532",
   "metadata": {},
   "outputs": [
    {
     "name": "stderr",
     "output_type": "stream",
     "text": [
      "/tmp/ipykernel_2039533/4033118981.py:2: DtypeWarning: Columns (22) have mixed types. Specify dtype option on import or set low_memory=False.\n",
      "  data_df = pd.read_csv('~/linear-layer-compression/Andrei/gptq/layerwise_slopes.csv')\n"
     ]
    }
   ],
   "source": [
    "# data_df = get_df_from_wandb('rock-and-roll/NOISY_MSE_ONE_LINEAR_LAYER_GALQIWI_PPL')\n",
    "data_df = pd.read_csv('~/linear-layer-compression/Andrei/gptq/layerwise_slopes.csv')\n",
    "\n",
    "data_df['layer'] = data_df['layer_name']\n",
    "data_df['mse'] = data_df['relative_mse']\n",
    "\n",
    "data_df = data_df[data_df['base_model'] == MODEL]\n",
    "\n",
    "data_df = data_df[['layer', 'mse', 'wikitext2']]\n",
    "data_df = data_df.dropna().copy()\n",
    "\n",
    "from sklearn.linear_model import LinearRegression\n",
    "\n",
    "layers = sorted(set(data_df['layer']))\n",
    "\n",
    "scale_by_layer = {}\n",
    "intercept_by_layer = {}\n",
    "\n",
    "for layer_idx, layer in enumerate(layers):\n",
    "    to_fit = data_df[data_df['layer'] == layer]\n",
    "    to_fit = to_fit[to_fit['mse'] < 4 ** -1.7]\n",
    "    # to_fit = to_fit[to_fit['wikitext2'] < 5.640]\n",
    "\n",
    "    slope = LinearRegression(fit_intercept=False).fit(to_fit['mse'].values.reshape(-1, 1), to_fit['wikitext2'] - BASE_PPL).coef_\n",
    "    \n",
    "    scale_by_layer[layer] = slope.item()\n",
    "    intercept_by_layer[layer] = BASE_PPL"
   ]
  },
  {
   "cell_type": "code",
   "execution_count": 10,
   "id": "69e57674-2379-45c5-8df5-060d2f7b7449",
   "metadata": {},
   "outputs": [
    {
     "data": {
      "image/png": "[encoded data removed]",
      "text/plain": [
       "<Figure size 640x480 with 1 Axes>"
      ]
     },
     "metadata": {},
     "output_type": "display_data"
    }
   ],
   "source": [
    "import matplotlib\n",
    "import matplotlib.pyplot as plt\n",
    "import numpy as np\n",
    "\n",
    "\n",
    "cmap = matplotlib.colormaps[\"plasma\"]\n",
    "\n",
    "plt.scatter([0.0], [5.606692790985107])\n",
    "\n",
    "for layer_idx, layer in enumerate(layers):\n",
    "# for layer_idx, layer in enumerate(layers):\n",
    "    to_plot = data_df[data_df['layer'] == layer]\n",
    "    to_plot = to_plot[to_plot['mse'] < 0.01]\n",
    "    # to_plot = to_plot[to_plot['wikitext2'] < 5.640]\n",
    "    \n",
    "    plt.scatter(to_plot['mse'], to_plot['wikitext2'], color=cmap(layer_idx / len(layers)))\n",
    "\n",
    "    grid = np.linspace(0, to_plot['mse'].max(), 10)\n",
    "    \n",
    "    plt.plot(grid, intercept_by_layer[layer] + grid * scale_by_layer[layer], color=cmap(layer_idx / len(layers)))\n",
    "\n",
    "\n",
    "plt.title(f'{MODEL}')\n",
    "plt.xlabel('mse')\n",
    "plt.ylabel('ppl')\n",
    "plt.savefig(f'ppl_mse.png')"
   ]
  },
  {
   "cell_type": "code",
   "execution_count": 11,
   "id": "ac306ac9-a113-42fa-a9a4-6eece638be31",
   "metadata": {},
   "outputs": [],
   "source": [
    "from ortools.linear_solver import pywraplp\n",
    "\n",
    "def find_grids_with_budget(\n",
    "    slopes,    # linear coefficients for [layerwise mse -> metric]\n",
    "    weights,   # linear coefficients for [layer bitwidth -> total bitwidth] (1 / num_blocks for blockwise)\n",
    "    budget,    # upper bound on total bitwidth\n",
    "    grid_bits, # available grid bitwidths\n",
    "    grid_mses  # available grid mses\n",
    ") -> tuple[float, list]:\n",
    "    num_layers = len(slopes)\n",
    "    num_grids = len(grid_bits)\n",
    "    assert len(grid_mses) == num_grids\n",
    "    \n",
    "    solver = pywraplp.Solver.CreateSolver(\"CP-SAT\")\n",
    "\n",
    "    x = {(j, i) : solver.BoolVar(\"name\") for i in range(num_grids) for j in range(num_layers)}\n",
    "    \n",
    "    for j in range(num_layers) : solver.Add(sum(x[(j, i)] for i in range(num_grids)) == 1)\n",
    "    solver.Add(sum(x[(j, i)] * weights[j] * grid_bits[i] for j in range(num_layers) for i in range(num_grids)) <= budget)\n",
    "    solver.Minimize(sum(x[(j, i)] * slopes[j] * grid_mses[i] for j in range(num_layers) for i in range(num_grids)))\n",
    "\n",
    "    status = solver.Solve()\n",
    "    if status == pywraplp.Solver.OPTIMAL:\n",
    "        avg_bits = sum(x[(j, i)].solution_value() * weights[j] * grid_bits[i] for j in range(num_layers) for i in range(num_grids))\n",
    "        solution = np.asarray([[x[(j, i)].solution_value() for i in range(num_grids)] for j in range(num_layers)])\n",
    "        indices = np.argwhere(solution == 1.0)\n",
    "        assert len(indices) == num_layers\n",
    "        return avg_bits, indices[:,1]\n",
    "    else:\n",
    "        raise Exception(\"Didn't solve\")"
   ]
  },
  {
   "cell_type": "code",
   "execution_count": 12,
   "id": "824c619a-3694-4601-90a6-37d124630fcc",
   "metadata": {},
   "outputs": [
    {
     "data": {
      "text/plain": [
       "0.008485984057188034"
      ]
     },
     "execution_count": 12,
     "metadata": {},
     "output_type": "execute_result"
    }
   ],
   "source": [
    "shape = (1024, 1024)\n",
    "\n",
    "test_input = torch.randn(shape, device='cuda')\n",
    "\n",
    "(((quantize_dequantize_bnb_4(test_input) - test_input).norm() ** 2) / (test_input.norm() ** 2)).item()"
   ]
  },
  {
   "cell_type": "code",
   "execution_count": 13,
   "id": "054541d7-9d28-45d3-bb10-e15b0e975721",
   "metadata": {},
   "outputs": [
    {
     "data": {
      "text/plain": [
       "0.008461331948637962"
      ]
     },
     "execution_count": 13,
     "metadata": {},
     "output_type": "execute_result"
    }
   ],
   "source": [
    "shape = (8024, 4024)\n",
    "\n",
    "test_input = torch.randn(shape, device='cuda')\n",
    "\n",
    "(((quantize_dequantize_bnb_4(test_input) - test_input).norm() ** 2) / (test_input.norm() ** 2)).item()"
   ]
  },
  {
   "cell_type": "code",
   "execution_count": 14,
   "id": "8cf57413-c37b-47c4-bf72-e9c127de17a4",
   "metadata": {},
   "outputs": [
    {
     "data": {
      "text/html": [
       "<div>\n",
       "<style scoped>\n",
       "    .dataframe tbody tr th:only-of-type {\n",
       "        vertical-align: middle;\n",
       "    }\n",
       "\n",
       "    .dataframe tbody tr th {\n",
       "        vertical-align: top;\n",
       "    }\n",
       "\n",
       "    .dataframe thead th {\n",
       "        text-align: right;\n",
       "    }\n",
       "</style>\n",
       "<table border=\"1\" class=\"dataframe\">\n",
       "  <thead>\n",
       "    <tr style=\"text-align: right;\">\n",
       "      <th></th>\n",
       "      <th>name</th>\n",
       "      <th>bits</th>\n",
       "      <th>mse</th>\n",
       "    </tr>\n",
       "  </thead>\n",
       "  <tbody>\n",
       "    <tr>\n",
       "      <th>0</th>\n",
       "      <td>fp16</td>\n",
       "      <td>16.000000</td>\n",
       "      <td>2.328306e-10</td>\n",
       "    </tr>\n",
       "    <tr>\n",
       "      <th>1</th>\n",
       "      <td>bnb-8</td>\n",
       "      <td>8.015595</td>\n",
       "      <td>1.707077e-04</td>\n",
       "    </tr>\n",
       "    <tr>\n",
       "      <th>2</th>\n",
       "      <td>bnb-4</td>\n",
       "      <td>4.250000</td>\n",
       "      <td>8.422852e-03</td>\n",
       "    </tr>\n",
       "  </tbody>\n",
       "</table>\n",
       "</div>"
      ],
      "text/plain": [
       "    name       bits           mse\n",
       "0   fp16  16.000000  2.328306e-10\n",
       "1  bnb-8   8.015595  1.707077e-04\n",
       "2  bnb-4   4.250000  8.422852e-03"
      ]
     },
     "execution_count": 14,
     "metadata": {},
     "output_type": "execute_result"
    }
   ],
   "source": [
    "test_input = torch.randn((1024, 1024), device='cuda')\n",
    "\n",
    "ok_grids = pd.DataFrame([{\n",
    "    'name': 'fp16',\n",
    "    'bits': 16,\n",
    "    'mse': 4 ** -16, # should be zero, but it breaks solver\n",
    "}, {\n",
    "    'name': 'bnb-8',\n",
    "    'bits': 8 + 16 / 1026,\n",
    "    'mse': 0.00017070770263671875,\n",
    "}, {\n",
    "    'name': 'bnb-4',\n",
    "    'bits': 4 + 16 / 64,\n",
    "    'mse': 0.0084228515625,\n",
    "}])\n",
    "\n",
    "ok_grids"
   ]
  },
  {
   "cell_type": "code",
   "execution_count": 15,
   "id": "66f4526c-c684-4f03-9fe2-a4060c814fe7",
   "metadata": {},
   "outputs": [
    {
     "data": {
      "text/plain": [
       "LlamaForCausalLM(\n",
       "  (model): LlamaModel(\n",
       "    (embed_tokens): Embedding(128256, 4096)\n",
       "    (layers): ModuleList(\n",
       "      (0-31): 32 x LlamaDecoderLayer(\n",
       "        (self_attn): LlamaSdpaAttention(\n",
       "          (q_proj): Linear(in_features=4096, out_features=4096, bias=False)\n",
       "          (k_proj): Linear(in_features=4096, out_features=1024, bias=False)\n",
       "          (v_proj): Linear(in_features=4096, out_features=1024, bias=False)\n",
       "          (o_proj): Linear(in_features=4096, out_features=4096, bias=False)\n",
       "          (rotary_emb): LlamaRotaryEmbedding()\n",
       "        )\n",
       "        (mlp): LlamaMLP(\n",
       "          (gate_proj): Linear(in_features=4096, out_features=14336, bias=False)\n",
       "          (up_proj): Linear(in_features=4096, out_features=14336, bias=False)\n",
       "          (down_proj): Linear(in_features=14336, out_features=4096, bias=False)\n",
       "          (act_fn): SiLU()\n",
       "        )\n",
       "        (input_layernorm): LlamaRMSNorm((4096,), eps=1e-05)\n",
       "        (post_attention_layernorm): LlamaRMSNorm((4096,), eps=1e-05)\n",
       "      )\n",
       "    )\n",
       "    (norm): LlamaRMSNorm((4096,), eps=1e-05)\n",
       "    (rotary_emb): LlamaRotaryEmbedding()\n",
       "  )\n",
       "  (lm_head): Linear(in_features=4096, out_features=128256, bias=False)\n",
       ")"
      ]
     },
     "execution_count": 15,
     "metadata": {},
     "output_type": "execute_result"
    }
   ],
   "source": [
    "model_pt"
   ]
  },
  {
   "cell_type": "code",
   "execution_count": 16,
   "id": "ec5f58fa-fc4b-4ab5-94c4-9c4d0f9975a1",
   "metadata": {},
   "outputs": [
    {
     "name": "stdout",
     "output_type": "stream",
     "text": [
      "7.999040863041684 bits\n"
     ]
    }
   ],
   "source": [
    "layers = sorted(layers)\n",
    "\n",
    "scales = [scale_by_layer[layer] for layer in layers]\n",
    "numels = [get_numel(layer) for layer in layers]\n",
    "grid_names=ok_grids['name'].values\n",
    "grid_bits=ok_grids['bits'].values\n",
    "grid_mses=ok_grids['mse'].values\n",
    "\n",
    "solution_size, solution_idxs = find_grids_with_budget(\n",
    "    scales,\n",
    "    numels,\n",
    "    budget=sum(numels) * 8,\n",
    "    grid_bits=ok_grids['bits'].values,\n",
    "    grid_mses=ok_grids['mse'].values,\n",
    ")\n",
    "\n",
    "print(f'{solution_size / sum(numels)} bits')"
   ]
  },
  {
   "cell_type": "code",
   "execution_count": 17,
   "id": "1fba2414-8a3e-4cfb-bc17-9147c5966db1",
   "metadata": {},
   "outputs": [
    {
     "data": {
      "text/plain": [
       "0.011921067897488227"
      ]
     },
     "execution_count": 17,
     "metadata": {},
     "output_type": "execute_result"
    }
   ],
   "source": [
    "sum([scale * ok_grids['mse'].values[solution_idx] for solution_idx, scale in zip(solution_idxs, scales)])"
   ]
  },
  {
   "cell_type": "code",
   "execution_count": 18,
   "id": "adc76a60-52f5-4732-8af1-748bca154aa6",
   "metadata": {},
   "outputs": [],
   "source": [
    "def get_solution(n_bits = 8):\n",
    "    scales = [scale_by_layer[layer] for layer in layers]\n",
    "    numels = [get_numel(layer) for layer in layers]\n",
    "    grid_names=ok_grids['name'].values\n",
    "    grid_bits=ok_grids['bits'].values\n",
    "    grid_mses=ok_grids['mse'].values\n",
    "    \n",
    "    solution_size, solution_idxs = find_grids_with_budget(\n",
    "        scales,\n",
    "        numels,\n",
    "        budget=sum(numels) * n_bits,\n",
    "        grid_bits=ok_grids['bits'].values,\n",
    "        grid_mses=ok_grids['mse'].values,\n",
    "    )\n",
    "\n",
    "    solution_pred_err = sum([scale * ok_grids['mse'].values[solution_idx] for solution_idx, scale in zip(solution_idxs, scales)])\n",
    "\n",
    "    return solution_size, solution_pred_err, solution_idxs"
   ]
  },
  {
   "cell_type": "code",
   "execution_count": 19,
   "id": "2baa9a8e-3dd0-4555-a7eb-f1afeb5cd529",
   "metadata": {},
   "outputs": [
    {
     "name": "stderr",
     "output_type": "stream",
     "text": [
      "100%|██████████| 40/40 [00:12<00:00,  3.19it/s]\n"
     ]
    }
   ],
   "source": [
    "grid = np.linspace(4.25, 12, 40)\n",
    "\n",
    "bnb_pred_lines = []\n",
    "\n",
    "for n_bits in tqdm.tqdm(grid):\n",
    "    solution_size, solution_pred_err, solution_idxs = get_solution(n_bits)\n",
    "    bnb_pred_lines.append({\n",
    "        'solution_size': solution_size,\n",
    "        'solution_pred_err': solution_pred_err,\n",
    "    })\n",
    "\n",
    "bnb_pred_df = pd.DataFrame(bnb_pred_lines)"
   ]
  },
  {
   "cell_type": "code",
   "execution_count": 20,
   "id": "c9da5253-3777-4371-8737-ecd2e25f2348",
   "metadata": {},
   "outputs": [
    {
     "data": {
      "image/png": "[encoded data removed]",
      "text/plain": [
       "<Figure size 640x480 with 1 Axes>"
      ]
     },
     "metadata": {},
     "output_type": "display_data"
    }
   ],
   "source": [
    "plt.title('bnb ppl error')\n",
    "plt.ylabel('PPL increase')\n",
    "plt.xlabel('wbits')\n",
    "plt.plot(bnb_pred_df['solution_size'] / total_params, bnb_pred_df['solution_pred_err'])\n",
    "\n",
    "plt.show()"
   ]
  },
  {
   "cell_type": "code",
   "execution_count": 21,
   "id": "f7b17edf-38fc-482c-a381-0942e0a5ccef",
   "metadata": {},
   "outputs": [],
   "source": [
    "def get_module_by_path(model, path):\n",
    "    if path == '':\n",
    "        return model\n",
    "    splitted = path.split('.', 1)\n",
    "    if len(splitted) == 1:\n",
    "        splitted.append('')\n",
    "    next_name, suffix = splitted\n",
    "\n",
    "    try:\n",
    "        next_module = model[int(next_name)]\n",
    "    except:\n",
    "        next_module = getattr(model, next_name)\n",
    "\n",
    "    return get_module_by_path(next_module, suffix)"
   ]
  },
  {
   "cell_type": "code",
   "execution_count": 22,
   "id": "9726d764-d3d2-48ad-9132-60f5bb2cbf67",
   "metadata": {},
   "outputs": [],
   "source": [
    "model_pt = model_pt.cuda()"
   ]
  },
  {
   "cell_type": "code",
   "execution_count": 23,
   "id": "7007a491-5c66-471d-817f-e1f11ac46333",
   "metadata": {},
   "outputs": [
    {
     "name": "stderr",
     "output_type": "stream",
     "text": [
      "The attention layers in this model are transitioning from computing the RoPE embeddings internally through `position_ids` (2D tensor with the indexes of the tokens), to using externally computed `position_embeddings` (Tuple of tensors, containing cos and sin). In v4.45 `position_ids` will be removed and `position_embeddings` will be mandatory.\n"
     ]
    },
    {
     "data": {
      "text/plain": [
       "5.606260776519775"
      ]
     },
     "execution_count": 23,
     "metadata": {},
     "output_type": "execute_result"
    }
   ],
   "source": [
    "BASELINE_PPL = eval_ppl(model_pt)['wikitext2']\n",
    "BASELINE_PPL"
   ]
  },
  {
   "cell_type": "code",
   "execution_count": 24,
   "id": "207bf64c-c0d7-4d57-9606-bb2074705be0",
   "metadata": {},
   "outputs": [],
   "source": [
    "model_state_dict = model_pt.state_dict()"
   ]
  },
  {
   "cell_type": "code",
   "execution_count": 25,
   "id": "8b05d364-846a-4392-92da-80f9bc3e8dcd",
   "metadata": {},
   "outputs": [
    {
     "name": "stderr",
     "output_type": "stream",
     "text": []
    }
   ],
   "source": [
    "model_state_dict_4bit = {\n",
    "    layer: quantize_dequantize_bnb_4(model_state_dict[f'{layer}.weight']).cpu()\n",
    "    for layer in tqdm.tqdm(layers)\n",
    "}"
   ]
  },
  {
   "cell_type": "code",
   "execution_count": 26,
   "id": "4318a2cc-cc7b-4f6f-ad7d-ca9e53ba5e2d",
   "metadata": {},
   "outputs": [
    {
     "name": "stderr",
     "output_type": "stream",
     "text": [
      "  7%|▋         | 15/224 [00:03<00:41,  5.05it/s]"
     ]
    },
    {
     "ename": "KeyboardInterrupt",
     "evalue": "",
     "output_type": "error",
     "traceback": [
      "\u001b[0;31m---------------------------------------------------------------------------\u001b[0m",
      "\u001b[0;31mKeyboardInterrupt\u001b[0m                         Traceback (most recent call last)",
      "Cell \u001b[0;32mIn[26], line 1\u001b[0m\n\u001b[0;32m----> 1\u001b[0m model_state_dict_8bit \u001b[38;5;241m=\u001b[39m {\n\u001b[1;32m      2\u001b[0m     layer: quantize_dequantize_bnb_8(model_state_dict[\u001b[38;5;124mf\u001b[39m\u001b[38;5;124m'\u001b[39m\u001b[38;5;132;01m{\u001b[39;00mlayer\u001b[38;5;132;01m}\u001b[39;00m\u001b[38;5;124m.weight\u001b[39m\u001b[38;5;124m'\u001b[39m])\n\u001b[1;32m      3\u001b[0m     \u001b[38;5;28;01mfor\u001b[39;00m layer \u001b[38;5;129;01min\u001b[39;00m tqdm\u001b[38;5;241m.\u001b[39mtqdm(layers)\n\u001b[1;32m      4\u001b[0m }\n",
      "Cell \u001b[0;32mIn[26], line 2\u001b[0m, in \u001b[0;36m<dictcomp>\u001b[0;34m(.0)\u001b[0m\n\u001b[1;32m      1\u001b[0m model_state_dict_8bit \u001b[38;5;241m=\u001b[39m {\n\u001b[0;32m----> 2\u001b[0m     layer: \u001b[43mquantize_dequantize_bnb_8\u001b[49m\u001b[43m(\u001b[49m\u001b[43mmodel_state_dict\u001b[49m\u001b[43m[\u001b[49m\u001b[38;5;124;43mf\u001b[39;49m\u001b[38;5;124;43m'\u001b[39;49m\u001b[38;5;132;43;01m{\u001b[39;49;00m\u001b[43mlayer\u001b[49m\u001b[38;5;132;43;01m}\u001b[39;49;00m\u001b[38;5;124;43m.weight\u001b[39;49m\u001b[38;5;124;43m'\u001b[39;49m\u001b[43m]\u001b[49m\u001b[43m)\u001b[49m\n\u001b[1;32m      3\u001b[0m     \u001b[38;5;28;01mfor\u001b[39;00m layer \u001b[38;5;129;01min\u001b[39;00m tqdm\u001b[38;5;241m.\u001b[39mtqdm(layers)\n\u001b[1;32m      4\u001b[0m }\n",
      "File \u001b[0;32m~/GPTAQ/.conda/lib/python3.10/site-packages/torch/utils/_contextlib.py:115\u001b[0m, in \u001b[0;36mcontext_decorator.<locals>.decorate_context\u001b[0;34m(*args, **kwargs)\u001b[0m\n\u001b[1;32m    112\u001b[0m \u001b[38;5;129m@functools\u001b[39m\u001b[38;5;241m.\u001b[39mwraps(func)\n\u001b[1;32m    113\u001b[0m \u001b[38;5;28;01mdef\u001b[39;00m \u001b[38;5;21mdecorate_context\u001b[39m(\u001b[38;5;241m*\u001b[39margs, \u001b[38;5;241m*\u001b[39m\u001b[38;5;241m*\u001b[39mkwargs):\n\u001b[1;32m    114\u001b[0m     \u001b[38;5;28;01mwith\u001b[39;00m ctx_factory():\n\u001b[0;32m--> 115\u001b[0m         \u001b[38;5;28;01mreturn\u001b[39;00m \u001b[43mfunc\u001b[49m\u001b[43m(\u001b[49m\u001b[38;5;241;43m*\u001b[39;49m\u001b[43margs\u001b[49m\u001b[43m,\u001b[49m\u001b[43m \u001b[49m\u001b[38;5;241;43m*\u001b[39;49m\u001b[38;5;241;43m*\u001b[39;49m\u001b[43mkwargs\u001b[49m\u001b[43m)\u001b[49m\n",
      "Cell \u001b[0;32mIn[6], line 42\u001b[0m, in \u001b[0;36mquantize_dequantize_bnb_8\u001b[0;34m(weight)\u001b[0m\n\u001b[1;32m     37\u001b[0m     end \u001b[38;5;241m=\u001b[39m \u001b[38;5;28mmin\u001b[39m(begin \u001b[38;5;241m+\u001b[39m BLOCK_SIZE, in_features)\n\u001b[1;32m     39\u001b[0m     chunk \u001b[38;5;241m=\u001b[39m weight[:, begin:end]\n\u001b[1;32m     41\u001b[0m     output\u001b[38;5;241m.\u001b[39mappend(\n\u001b[0;32m---> 42\u001b[0m         \u001b[43m_quantize_dequantize_bnb_8\u001b[49m\u001b[43m(\u001b[49m\u001b[43mchunk\u001b[49m\u001b[43m)\u001b[49m\n\u001b[1;32m     43\u001b[0m     )\n\u001b[1;32m     45\u001b[0m \u001b[38;5;28;01mreturn\u001b[39;00m torch\u001b[38;5;241m.\u001b[39mcat(output, dim\u001b[38;5;241m=\u001b[39m\u001b[38;5;241m1\u001b[39m)\n",
      "File \u001b[0;32m~/GPTAQ/.conda/lib/python3.10/site-packages/torch/utils/_contextlib.py:115\u001b[0m, in \u001b[0;36mcontext_decorator.<locals>.decorate_context\u001b[0;34m(*args, **kwargs)\u001b[0m\n\u001b[1;32m    112\u001b[0m \u001b[38;5;129m@functools\u001b[39m\u001b[38;5;241m.\u001b[39mwraps(func)\n\u001b[1;32m    113\u001b[0m \u001b[38;5;28;01mdef\u001b[39;00m \u001b[38;5;21mdecorate_context\u001b[39m(\u001b[38;5;241m*\u001b[39margs, \u001b[38;5;241m*\u001b[39m\u001b[38;5;241m*\u001b[39mkwargs):\n\u001b[1;32m    114\u001b[0m     \u001b[38;5;28;01mwith\u001b[39;00m ctx_factory():\n\u001b[0;32m--> 115\u001b[0m         \u001b[38;5;28;01mreturn\u001b[39;00m \u001b[43mfunc\u001b[49m\u001b[43m(\u001b[49m\u001b[38;5;241;43m*\u001b[39;49m\u001b[43margs\u001b[49m\u001b[43m,\u001b[49m\u001b[43m \u001b[49m\u001b[38;5;241;43m*\u001b[39;49m\u001b[38;5;241;43m*\u001b[39;49m\u001b[43mkwargs\u001b[49m\u001b[43m)\u001b[49m\n",
      "Cell \u001b[0;32mIn[6], line 7\u001b[0m, in \u001b[0;36m_quantize_dequantize_bnb_8\u001b[0;34m(weight)\u001b[0m\n\u001b[1;32m      4\u001b[0m \u001b[38;5;129m@torch\u001b[39m\u001b[38;5;241m.\u001b[39mno_grad()\n\u001b[1;32m      5\u001b[0m \u001b[38;5;28;01mdef\u001b[39;00m \u001b[38;5;21m_quantize_dequantize_bnb_8\u001b[39m(weight):\n\u001b[1;32m      6\u001b[0m     out_features, in_features \u001b[38;5;241m=\u001b[39m weight\u001b[38;5;241m.\u001b[39mshape\n\u001b[0;32m----> 7\u001b[0m     w \u001b[38;5;241m=\u001b[39m \u001b[43mbnb\u001b[49m\u001b[38;5;241;43m.\u001b[39;49m\u001b[43mnn\u001b[49m\u001b[38;5;241;43m.\u001b[39;49m\u001b[43mLinear8bitLt\u001b[49m\u001b[43m(\u001b[49m\n\u001b[1;32m      8\u001b[0m \u001b[43m        \u001b[49m\u001b[43min_features\u001b[49m\u001b[43m,\u001b[49m\n\u001b[1;32m      9\u001b[0m \u001b[43m        \u001b[49m\u001b[43mout_features\u001b[49m\u001b[43m,\u001b[49m\n\u001b[1;32m     10\u001b[0m \u001b[43m        \u001b[49m\u001b[43mbias\u001b[49m\u001b[38;5;241;43m=\u001b[39;49m\u001b[38;5;28;43;01mFalse\u001b[39;49;00m\u001b[43m,\u001b[49m\n\u001b[1;32m     11\u001b[0m \u001b[43m        \u001b[49m\u001b[43mhas_fp16_weights\u001b[49m\u001b[38;5;241;43m=\u001b[39;49m\u001b[38;5;28;43;01mFalse\u001b[39;49;00m\u001b[43m,\u001b[49m\n\u001b[1;32m     12\u001b[0m \u001b[43m        \u001b[49m\u001b[43mthreshold\u001b[49m\u001b[38;5;241;43m=\u001b[39;49m\u001b[38;5;241;43m6.0\u001b[39;49m\u001b[43m,\u001b[49m\u001b[43m  \u001b[49m\u001b[38;5;66;43;03m# Default from the LLM.int8() paper\u001b[39;49;00m\n\u001b[1;32m     13\u001b[0m \u001b[43m    \u001b[49m\u001b[43m)\u001b[49m\n\u001b[1;32m     14\u001b[0m     w\u001b[38;5;241m.\u001b[39mweight \u001b[38;5;241m=\u001b[39m bnb\u001b[38;5;241m.\u001b[39mnn\u001b[38;5;241m.\u001b[39mInt8Params(\n\u001b[1;32m     15\u001b[0m         weight, requires_grad\u001b[38;5;241m=\u001b[39m\u001b[38;5;28;01mFalse\u001b[39;00m, has_fp16_weights\u001b[38;5;241m=\u001b[39m\u001b[38;5;28;01mFalse\u001b[39;00m\n\u001b[1;32m     16\u001b[0m     )\u001b[38;5;241m.\u001b[39mto(weight\u001b[38;5;241m.\u001b[39mdtype)\n\u001b[1;32m     17\u001b[0m     w\u001b[38;5;241m.\u001b[39mcuda()\n",
      "File \u001b[0;32m~/GPTAQ/.conda/lib/python3.10/site-packages/bitsandbytes/nn/modules.py:715\u001b[0m, in \u001b[0;36mLinear8bitLt.__init__\u001b[0;34m(self, input_features, output_features, bias, has_fp16_weights, memory_efficient_backward, threshold, index, device)\u001b[0m\n\u001b[1;32m    693\u001b[0m \u001b[38;5;28;01mdef\u001b[39;00m \u001b[38;5;21m__init__\u001b[39m(\n\u001b[1;32m    694\u001b[0m     \u001b[38;5;28mself\u001b[39m,\n\u001b[1;32m    695\u001b[0m     input_features: \u001b[38;5;28mint\u001b[39m,\n\u001b[0;32m   (...)\u001b[0m\n\u001b[1;32m    702\u001b[0m     device\u001b[38;5;241m=\u001b[39m\u001b[38;5;28;01mNone\u001b[39;00m,\n\u001b[1;32m    703\u001b[0m ):\n\u001b[1;32m    704\u001b[0m \u001b[38;5;250m    \u001b[39m\u001b[38;5;124;03m\"\"\"\u001b[39;00m\n\u001b[1;32m    705\u001b[0m \u001b[38;5;124;03m    Initialize Linear8bitLt class.\u001b[39;00m\n\u001b[1;32m    706\u001b[0m \n\u001b[0;32m   (...)\u001b[0m\n\u001b[1;32m    713\u001b[0m \u001b[38;5;124;03m            Whether the linear class uses the bias term as well.\u001b[39;00m\n\u001b[1;32m    714\u001b[0m \u001b[38;5;124;03m    \"\"\"\u001b[39;00m\n\u001b[0;32m--> 715\u001b[0m     \u001b[38;5;28;43msuper\u001b[39;49m\u001b[43m(\u001b[49m\u001b[43m)\u001b[49m\u001b[38;5;241;43m.\u001b[39;49m\u001b[38;5;21;43m__init__\u001b[39;49m\u001b[43m(\u001b[49m\u001b[43minput_features\u001b[49m\u001b[43m,\u001b[49m\u001b[43m \u001b[49m\u001b[43moutput_features\u001b[49m\u001b[43m,\u001b[49m\u001b[43m \u001b[49m\u001b[43mbias\u001b[49m\u001b[43m,\u001b[49m\u001b[43m \u001b[49m\u001b[43mdevice\u001b[49m\u001b[43m)\u001b[49m\n\u001b[1;32m    716\u001b[0m     \u001b[38;5;28;01massert\u001b[39;00m \u001b[38;5;129;01mnot\u001b[39;00m memory_efficient_backward, \u001b[38;5;124m\"\u001b[39m\u001b[38;5;124mmemory_efficient_backward is no longer required and the argument is deprecated in 0.37.0 and will be removed in 0.39.0\u001b[39m\u001b[38;5;124m\"\u001b[39m\n\u001b[1;32m    717\u001b[0m     \u001b[38;5;28mself\u001b[39m\u001b[38;5;241m.\u001b[39mstate \u001b[38;5;241m=\u001b[39m bnb\u001b[38;5;241m.\u001b[39mMatmulLtState()\n",
      "File \u001b[0;32m~/GPTAQ/.conda/lib/python3.10/site-packages/torch/nn/modules/linear.py:103\u001b[0m, in \u001b[0;36mLinear.__init__\u001b[0;34m(self, in_features, out_features, bias, device, dtype)\u001b[0m\n\u001b[1;32m    101\u001b[0m \u001b[38;5;28;01melse\u001b[39;00m:\n\u001b[1;32m    102\u001b[0m     \u001b[38;5;28mself\u001b[39m\u001b[38;5;241m.\u001b[39mregister_parameter(\u001b[38;5;124m'\u001b[39m\u001b[38;5;124mbias\u001b[39m\u001b[38;5;124m'\u001b[39m, \u001b[38;5;28;01mNone\u001b[39;00m)\n\u001b[0;32m--> 103\u001b[0m \u001b[38;5;28;43mself\u001b[39;49m\u001b[38;5;241;43m.\u001b[39;49m\u001b[43mreset_parameters\u001b[49m\u001b[43m(\u001b[49m\u001b[43m)\u001b[49m\n",
      "File \u001b[0;32m~/GPTAQ/.conda/lib/python3.10/site-packages/torch/nn/modules/linear.py:109\u001b[0m, in \u001b[0;36mLinear.reset_parameters\u001b[0;34m(self)\u001b[0m\n\u001b[1;32m    105\u001b[0m \u001b[38;5;28;01mdef\u001b[39;00m \u001b[38;5;21mreset_parameters\u001b[39m(\u001b[38;5;28mself\u001b[39m) \u001b[38;5;241m-\u001b[39m\u001b[38;5;241m>\u001b[39m \u001b[38;5;28;01mNone\u001b[39;00m:\n\u001b[1;32m    106\u001b[0m     \u001b[38;5;66;03m# Setting a=sqrt(5) in kaiming_uniform is the same as initializing with\u001b[39;00m\n\u001b[1;32m    107\u001b[0m     \u001b[38;5;66;03m# uniform(-1/sqrt(in_features), 1/sqrt(in_features)). For details, see\u001b[39;00m\n\u001b[1;32m    108\u001b[0m     \u001b[38;5;66;03m# https://github.com/pytorch/pytorch/issues/57109\u001b[39;00m\n\u001b[0;32m--> 109\u001b[0m     \u001b[43minit\u001b[49m\u001b[38;5;241;43m.\u001b[39;49m\u001b[43mkaiming_uniform_\u001b[49m\u001b[43m(\u001b[49m\u001b[38;5;28;43mself\u001b[39;49m\u001b[38;5;241;43m.\u001b[39;49m\u001b[43mweight\u001b[49m\u001b[43m,\u001b[49m\u001b[43m \u001b[49m\u001b[43ma\u001b[49m\u001b[38;5;241;43m=\u001b[39;49m\u001b[43mmath\u001b[49m\u001b[38;5;241;43m.\u001b[39;49m\u001b[43msqrt\u001b[49m\u001b[43m(\u001b[49m\u001b[38;5;241;43m5\u001b[39;49m\u001b[43m)\u001b[49m\u001b[43m)\u001b[49m\n\u001b[1;32m    110\u001b[0m     \u001b[38;5;28;01mif\u001b[39;00m \u001b[38;5;28mself\u001b[39m\u001b[38;5;241m.\u001b[39mbias \u001b[38;5;129;01mis\u001b[39;00m \u001b[38;5;129;01mnot\u001b[39;00m \u001b[38;5;28;01mNone\u001b[39;00m:\n\u001b[1;32m    111\u001b[0m         fan_in, _ \u001b[38;5;241m=\u001b[39m init\u001b[38;5;241m.\u001b[39m_calculate_fan_in_and_fan_out(\u001b[38;5;28mself\u001b[39m\u001b[38;5;241m.\u001b[39mweight)\n",
      "File \u001b[0;32m~/GPTAQ/.conda/lib/python3.10/site-packages/torch/nn/init.py:459\u001b[0m, in \u001b[0;36mkaiming_uniform_\u001b[0;34m(tensor, a, mode, nonlinearity, generator)\u001b[0m\n\u001b[1;32m    457\u001b[0m bound \u001b[38;5;241m=\u001b[39m math\u001b[38;5;241m.\u001b[39msqrt(\u001b[38;5;241m3.0\u001b[39m) \u001b[38;5;241m*\u001b[39m std  \u001b[38;5;66;03m# Calculate uniform bounds from standard deviation\u001b[39;00m\n\u001b[1;32m    458\u001b[0m \u001b[38;5;28;01mwith\u001b[39;00m torch\u001b[38;5;241m.\u001b[39mno_grad():\n\u001b[0;32m--> 459\u001b[0m     \u001b[38;5;28;01mreturn\u001b[39;00m \u001b[43mtensor\u001b[49m\u001b[38;5;241;43m.\u001b[39;49m\u001b[43muniform_\u001b[49m\u001b[43m(\u001b[49m\u001b[38;5;241;43m-\u001b[39;49m\u001b[43mbound\u001b[49m\u001b[43m,\u001b[49m\u001b[43m \u001b[49m\u001b[43mbound\u001b[49m\u001b[43m,\u001b[49m\u001b[43m \u001b[49m\u001b[43mgenerator\u001b[49m\u001b[38;5;241;43m=\u001b[39;49m\u001b[43mgenerator\u001b[49m\u001b[43m)\u001b[49m\n",
      "\u001b[0;31mKeyboardInterrupt\u001b[0m: "
     ]
    }
   ],
   "source": [
    "model_state_dict_8bit = {\n",
    "    layer: quantize_dequantize_bnb_8(model_state_dict[f'{layer}.weight']).cpu()\n",
    "    for layer in tqdm.tqdm(layers)\n",
    "}"
   ]
  },
  {
   "cell_type": "code",
   "execution_count": 27,
   "id": "32716fe0-b7d1-4909-a44e-9116fd24c234",
   "metadata": {
    "scrolled": true
   },
   "outputs": [],
   "source": [
    "import tqdm\n",
    "import copy\n",
    "\n",
    "def eval_quantized_model(solution_idxs):\n",
    "    quantized_model = copy.deepcopy(model_pt)\n",
    "    \n",
    "    for layer_name, quant_idx in zip(layers, solution_idxs):\n",
    "        layer = get_module_by_path(quantized_model, layer_name)\n",
    "        weight = layer.weight\n",
    "        if quant_idx == 1:\n",
    "            weight = model_state_dict_8bit[layer_name]\n",
    "        if quant_idx == 2:\n",
    "            weight = model_state_dict_4bit[layer_name]\n",
    "        layer.weight.data = weight.to(torch.bfloat16)\n",
    "        # print(layer, quant_idx)\n",
    "\n",
    "    return eval_ppl(quantized_model)['wikitext2'] - BASELINE_PPL"
   ]
  },
  {
   "cell_type": "code",
   "execution_count": 28,
   "id": "1af0f2d7-9c00-4cfb-9340-2e5ad59730b9",
   "metadata": {},
   "outputs": [
    {
     "name": "stderr",
     "output_type": "stream",
     "text": [
      "  0%|          | 0/5 [00:01<?, ?it/s]\n"
     ]
    },
    {
     "ename": "OutOfMemoryError",
     "evalue": "CUDA out of memory. Tried to allocate 2.19 GiB. GPU 0 has a total capacity of 44.53 GiB of which 740.88 MiB is free. Including non-PyTorch memory, this process has 43.79 GiB memory in use. Of the allocated memory 43.16 GiB is allocated by PyTorch, and 123.79 MiB is reserved by PyTorch but unallocated. If reserved but unallocated memory is large try setting PYTORCH_CUDA_ALLOC_CONF=expandable_segments:True to avoid fragmentation.  See documentation for Memory Management  (https://pytorch.org/docs/stable/notes/cuda.html#environment-variables)",
     "output_type": "error",
     "traceback": [
      "\u001b[0;31m---------------------------------------------------------------------------\u001b[0m",
      "\u001b[0;31mOutOfMemoryError\u001b[0m                          Traceback (most recent call last)",
      "Cell \u001b[0;32mIn[28], line 7\u001b[0m\n\u001b[1;32m      5\u001b[0m \u001b[38;5;28;01mfor\u001b[39;00m n_bits \u001b[38;5;129;01min\u001b[39;00m tqdm\u001b[38;5;241m.\u001b[39mtqdm(grid):\n\u001b[1;32m      6\u001b[0m     solution_size, solution_pred_err, solution_idxs \u001b[38;5;241m=\u001b[39m get_solution(n_bits)\n\u001b[0;32m----> 7\u001b[0m     real_err \u001b[38;5;241m=\u001b[39m \u001b[43meval_quantized_model\u001b[49m\u001b[43m(\u001b[49m\u001b[43msolution_idxs\u001b[49m\u001b[43m)\u001b[49m\n\u001b[1;32m      8\u001b[0m     bnb_real_lines\u001b[38;5;241m.\u001b[39mappend({\n\u001b[1;32m      9\u001b[0m         \u001b[38;5;124m'\u001b[39m\u001b[38;5;124msolution_size\u001b[39m\u001b[38;5;124m'\u001b[39m: solution_size,\n\u001b[1;32m     10\u001b[0m         \u001b[38;5;124m'\u001b[39m\u001b[38;5;124msolution_pred_err\u001b[39m\u001b[38;5;124m'\u001b[39m: solution_pred_err,\n\u001b[1;32m     11\u001b[0m         \u001b[38;5;124m'\u001b[39m\u001b[38;5;124msolution_real_err\u001b[39m\u001b[38;5;124m'\u001b[39m: real_err,\n\u001b[1;32m     12\u001b[0m     })\n",
      "Cell \u001b[0;32mIn[27], line 17\u001b[0m, in \u001b[0;36meval_quantized_model\u001b[0;34m(solution_idxs)\u001b[0m\n\u001b[1;32m     14\u001b[0m     layer\u001b[38;5;241m.\u001b[39mweight\u001b[38;5;241m.\u001b[39mdata \u001b[38;5;241m=\u001b[39m weight\u001b[38;5;241m.\u001b[39mto(torch\u001b[38;5;241m.\u001b[39mbfloat16)\n\u001b[1;32m     15\u001b[0m     \u001b[38;5;66;03m# print(layer, quant_idx)\u001b[39;00m\n\u001b[0;32m---> 17\u001b[0m \u001b[38;5;28;01mreturn\u001b[39;00m \u001b[43meval_ppl\u001b[49m\u001b[43m(\u001b[49m\u001b[43mquantized_model\u001b[49m\u001b[43m)\u001b[49m[\u001b[38;5;124m'\u001b[39m\u001b[38;5;124mwikitext2\u001b[39m\u001b[38;5;124m'\u001b[39m] \u001b[38;5;241m-\u001b[39m BASELINE_PPL\n",
      "Cell \u001b[0;32mIn[5], line 24\u001b[0m, in \u001b[0;36meval_ppl\u001b[0;34m(model, model_path, model_seqlen, device, trust_remote_code, offload_activations)\u001b[0m\n\u001b[1;32m     13\u001b[0m \u001b[38;5;28;01mdef\u001b[39;00m \u001b[38;5;21meval_ppl\u001b[39m(\n\u001b[1;32m     14\u001b[0m     model,\n\u001b[1;32m     15\u001b[0m     model_path\u001b[38;5;241m=\u001b[39mMODEL_PATH,\n\u001b[0;32m   (...)\u001b[0m\n\u001b[1;32m     20\u001b[0m     offload_activations\u001b[38;5;241m=\u001b[39m\u001b[38;5;28;01mFalse\u001b[39;00m,\n\u001b[1;32m     21\u001b[0m ):\n\u001b[1;32m     22\u001b[0m     output \u001b[38;5;241m=\u001b[39m {}\n\u001b[0;32m---> 24\u001b[0m     ppl \u001b[38;5;241m=\u001b[39m \u001b[43mperplexity_eval\u001b[49m\u001b[43m(\u001b[49m\n\u001b[1;32m     25\u001b[0m \u001b[43m        \u001b[49m\u001b[43mmodel\u001b[49m\u001b[43m,\u001b[49m\n\u001b[1;32m     26\u001b[0m \u001b[43m        \u001b[49m\u001b[43mtestloader\u001b[49m\u001b[43m,\u001b[49m\n\u001b[1;32m     27\u001b[0m \u001b[43m        \u001b[49m\u001b[43mdataset_name\u001b[49m\u001b[38;5;241;43m=\u001b[39;49m\u001b[38;5;124;43m'\u001b[39;49m\u001b[38;5;124;43mwikitext2\u001b[39;49m\u001b[38;5;124;43m'\u001b[39;49m\u001b[43m,\u001b[49m\n\u001b[1;32m     28\u001b[0m \u001b[43m        \u001b[49m\u001b[43mmodel_seqlen\u001b[49m\u001b[38;5;241;43m=\u001b[39;49m\u001b[43mmodel_seqlen\u001b[49m\u001b[43m,\u001b[49m\n\u001b[1;32m     29\u001b[0m \u001b[43m        \u001b[49m\u001b[43mdevice\u001b[49m\u001b[38;5;241;43m=\u001b[39;49m\u001b[43mdevice\u001b[49m\u001b[43m,\u001b[49m\n\u001b[1;32m     30\u001b[0m \u001b[43m        \u001b[49m\u001b[43moffload_activations\u001b[49m\u001b[38;5;241;43m=\u001b[39;49m\u001b[43moffload_activations\u001b[49m\u001b[43m,\u001b[49m\n\u001b[1;32m     31\u001b[0m \u001b[43m    \u001b[49m\u001b[43m)\u001b[49m\n\u001b[1;32m     32\u001b[0m     output[\u001b[38;5;124m'\u001b[39m\u001b[38;5;124mwikitext2\u001b[39m\u001b[38;5;124m'\u001b[39m] \u001b[38;5;241m=\u001b[39m ppl\n\u001b[1;32m     33\u001b[0m     \u001b[38;5;66;03m# make sure that the cache is released\u001b[39;00m\n",
      "File \u001b[0;32m~/GPTAQ/.conda/lib/python3.10/site-packages/torch/utils/_contextlib.py:115\u001b[0m, in \u001b[0;36mcontext_decorator.<locals>.decorate_context\u001b[0;34m(*args, **kwargs)\u001b[0m\n\u001b[1;32m    112\u001b[0m \u001b[38;5;129m@functools\u001b[39m\u001b[38;5;241m.\u001b[39mwraps(func)\n\u001b[1;32m    113\u001b[0m \u001b[38;5;28;01mdef\u001b[39;00m \u001b[38;5;21mdecorate_context\u001b[39m(\u001b[38;5;241m*\u001b[39margs, \u001b[38;5;241m*\u001b[39m\u001b[38;5;241m*\u001b[39mkwargs):\n\u001b[1;32m    114\u001b[0m     \u001b[38;5;28;01mwith\u001b[39;00m ctx_factory():\n\u001b[0;32m--> 115\u001b[0m         \u001b[38;5;28;01mreturn\u001b[39;00m \u001b[43mfunc\u001b[49m\u001b[43m(\u001b[49m\u001b[38;5;241;43m*\u001b[39;49m\u001b[43margs\u001b[49m\u001b[43m,\u001b[49m\u001b[43m \u001b[49m\u001b[38;5;241;43m*\u001b[39;49m\u001b[38;5;241;43m*\u001b[39;49m\u001b[43mkwargs\u001b[49m\u001b[43m)\u001b[49m\n",
      "File \u001b[0;32m~/linear-layer-compression/Vladimir/2024-09-22/bnb-range/eval.py:552\u001b[0m, in \u001b[0;36mperplexity_eval\u001b[0;34m(model, testenc, dataset_name, model_seqlen, device, offload_activations)\u001b[0m\n\u001b[1;32m    549\u001b[0m model\u001b[38;5;241m.\u001b[39mconfig\u001b[38;5;241m.\u001b[39muse_cache \u001b[38;5;241m=\u001b[39m \u001b[38;5;28;01mFalse\u001b[39;00m\n\u001b[1;32m    551\u001b[0m inps, forward_args \u001b[38;5;241m=\u001b[39m get_inps(model, testenc, model_seqlen, [device], offload_activations)\n\u001b[0;32m--> 552\u001b[0m outs \u001b[38;5;241m=\u001b[39m [torch\u001b[38;5;241m.\u001b[39mzeros_like(inp_tensor, pin_memory\u001b[38;5;241m=\u001b[39minp_tensor\u001b[38;5;241m.\u001b[39mis_pinned()) \u001b[38;5;28;01mfor\u001b[39;00m inp_tensor \u001b[38;5;129;01min\u001b[39;00m inps]\n\u001b[1;32m    553\u001b[0m \u001b[38;5;28;01mfor\u001b[39;00m k, v \u001b[38;5;129;01min\u001b[39;00m forward_args\u001b[38;5;241m.\u001b[39mitems():\n\u001b[1;32m    554\u001b[0m     forward_args[k] \u001b[38;5;241m=\u001b[39m v\u001b[38;5;241m.\u001b[39mto(device) \u001b[38;5;28;01mif\u001b[39;00m \u001b[38;5;28misinstance\u001b[39m(v, torch\u001b[38;5;241m.\u001b[39mTensor) \u001b[38;5;28;01melse\u001b[39;00m v\n",
      "File \u001b[0;32m~/linear-layer-compression/Vladimir/2024-09-22/bnb-range/eval.py:552\u001b[0m, in \u001b[0;36m<listcomp>\u001b[0;34m(.0)\u001b[0m\n\u001b[1;32m    549\u001b[0m model\u001b[38;5;241m.\u001b[39mconfig\u001b[38;5;241m.\u001b[39muse_cache \u001b[38;5;241m=\u001b[39m \u001b[38;5;28;01mFalse\u001b[39;00m\n\u001b[1;32m    551\u001b[0m inps, forward_args \u001b[38;5;241m=\u001b[39m get_inps(model, testenc, model_seqlen, [device], offload_activations)\n\u001b[0;32m--> 552\u001b[0m outs \u001b[38;5;241m=\u001b[39m [\u001b[43mtorch\u001b[49m\u001b[38;5;241;43m.\u001b[39;49m\u001b[43mzeros_like\u001b[49m\u001b[43m(\u001b[49m\u001b[43minp_tensor\u001b[49m\u001b[43m,\u001b[49m\u001b[43m \u001b[49m\u001b[43mpin_memory\u001b[49m\u001b[38;5;241;43m=\u001b[39;49m\u001b[43minp_tensor\u001b[49m\u001b[38;5;241;43m.\u001b[39;49m\u001b[43mis_pinned\u001b[49m\u001b[43m(\u001b[49m\u001b[43m)\u001b[49m\u001b[43m)\u001b[49m \u001b[38;5;28;01mfor\u001b[39;00m inp_tensor \u001b[38;5;129;01min\u001b[39;00m inps]\n\u001b[1;32m    553\u001b[0m \u001b[38;5;28;01mfor\u001b[39;00m k, v \u001b[38;5;129;01min\u001b[39;00m forward_args\u001b[38;5;241m.\u001b[39mitems():\n\u001b[1;32m    554\u001b[0m     forward_args[k] \u001b[38;5;241m=\u001b[39m v\u001b[38;5;241m.\u001b[39mto(device) \u001b[38;5;28;01mif\u001b[39;00m \u001b[38;5;28misinstance\u001b[39m(v, torch\u001b[38;5;241m.\u001b[39mTensor) \u001b[38;5;28;01melse\u001b[39;00m v\n",
      "\u001b[0;31mOutOfMemoryError\u001b[0m: CUDA out of memory. Tried to allocate 2.19 GiB. GPU 0 has a total capacity of 44.53 GiB of which 740.88 MiB is free. Including non-PyTorch memory, this process has 43.79 GiB memory in use. Of the allocated memory 43.16 GiB is allocated by PyTorch, and 123.79 MiB is reserved by PyTorch but unallocated. If reserved but unallocated memory is large try setting PYTORCH_CUDA_ALLOC_CONF=expandable_segments:True to avoid fragmentation.  See documentation for Memory Management  (https://pytorch.org/docs/stable/notes/cuda.html#environment-variables)"
     ]
    }
   ],
   "source": [
    "grid = np.linspace(4.25, 8, 5)\n",
    "\n",
    "bnb_real_lines = []\n",
    "\n",
    "for n_bits in tqdm.tqdm(grid):\n",
    "    solution_size, solution_pred_err, solution_idxs = get_solution(n_bits)\n",
    "    real_err = eval_quantized_model(solution_idxs)\n",
    "    bnb_real_lines.append({\n",
    "        'solution_size': solution_size,\n",
    "        'solution_pred_err': solution_pred_err,\n",
    "        'solution_real_err': real_err,\n",
    "    })"
   ]
  },
  {
   "cell_type": "code",
   "execution_count": 94,
   "id": "13749a88-b155-48d8-a03a-7d4882037b1f",
   "metadata": {},
   "outputs": [],
   "source": [
    "bnb_real_df = pd.DataFrame(bnb_real_lines)"
   ]
  },
  {
   "cell_type": "code",
   "execution_count": 49,
   "id": "5405a44e-d53c-4d80-be19-7223d90fc85b",
   "metadata": {},
   "outputs": [
    {
     "data": {
      "text/plain": [
       "0.3602409362792969"
      ]
     },
     "execution_count": 49,
     "metadata": {},
     "output_type": "execute_result"
    }
   ],
   "source": [
    "eval_quantized_model(np.array([2] * 224))"
   ]
  },
  {
   "cell_type": "code",
   "execution_count": 99,
   "id": "107ffe05-0347-4435-a881-3e61487f720d",
   "metadata": {},
   "outputs": [
    {
     "data": {
      "text/plain": [
       "0    1.652436\n",
       "1    1.397774\n",
       "2    1.369681\n",
       "3    1.296716\n",
       "4    0.667670\n",
       "dtype: float64"
      ]
     },
     "execution_count": 99,
     "metadata": {},
     "output_type": "execute_result"
    }
   ],
   "source": [
    "bnb_real_df['solution_pred_err'] / bnb_real_df['solution_real_err']"
   ]
  },
  {
   "cell_type": "code",
   "execution_count": 98,
   "id": "1c1ee980-fb1b-44ff-98c3-3e1e6614e5f4",
   "metadata": {},
   "outputs": [
    {
     "data": {
      "text/plain": [
       "Text(0, 0.5, 'real ppl err')"
      ]
     },
     "execution_count": 98,
     "metadata": {},
     "output_type": "execute_result"
    },
    {
     "data": {
      "image/png": "[encoded data removed]",
      "text/plain": [
       "<Figure size 640x480 with 1 Axes>"
      ]
     },
     "metadata": {},
     "output_type": "display_data"
    }
   ],
   "source": [
    "plt.scatter(bnb_real_df['solution_pred_err'], bnb_real_df['solution_real_err'])\n",
    "plt.plot(bnb_real_df['solution_pred_err'], bnb_real_df['solution_real_err'])\n",
    "plt.xlabel('pred ppl err')\n",
    "plt.ylabel('real ppl err')"
   ]
  },
  {
   "cell_type": "code",
   "execution_count": 96,
   "id": "b654564c-6f95-4438-beb2-9b2fa7485adb",
   "metadata": {},
   "outputs": [
    {
     "data": {
      "image/png": "[encoded data removed]",
      "text/plain": [
       "<Figure size 640x480 with 1 Axes>"
      ]
     },
     "metadata": {},
     "output_type": "display_data"
    }
   ],
   "source": [
    "import matplotlib as mpl\n",
    "\n",
    "plt.title('bnb ppl error')\n",
    "plt.ylabel('PPL increase')\n",
    "plt.xlabel('wbits')\n",
    "plt.plot(bnb_pred_df['solution_size'] / total_params, bnb_pred_df['solution_pred_err'], label='predicted optimal ppl delta')\n",
    "plt.scatter(bnb_real_df['solution_size'] / total_params, bnb_real_df['solution_real_err'], color=mpl.colormaps['tab10'](1), label='real optimal ppl delta')\n",
    "\n",
    "plt.legend()\n",
    "\n",
    "plt.show()"
   ]
  },
  {
   "cell_type": "code",
   "execution_count": 105,
   "id": "72bf8b7e-b9b5-47ec-a88a-c04cdc74321a",
   "metadata": {},
   "outputs": [],
   "source": [
    "bnb_pred_df.to_csv('bnb_pred_df.csv')\n",
    "bnb_real_df.to_csv('bnb_real_df.csv')"
   ]
  },
  {
   "cell_type": "code",
   "execution_count": 110,
   "id": "ef643fd4-ff10-4c4b-befa-41aff99a227c",
   "metadata": {},
   "outputs": [
    {
     "name": "stderr",
     "output_type": "stream",
     "text": [
      "huggingface/tokenizers: The current process just got forked, after parallelism has already been used. Disabling parallelism to avoid deadlocks...\n",
      "To disable this warning, you can either:\n",
      "\t- Avoid using `tokenizers` before the fork if possible\n",
      "\t- Explicitly set the environment variable TOKENIZERS_PARALLELISM=(true | false)\n"
     ]
    },
    {
     "name": "stdout",
     "output_type": "stream",
     "text": [
      "[galqiwi 6ea888f] upd\n",
      " 1 file changed, 17 insertions(+), 13 deletions(-)\n",
      "Warning: Permanently added 'github.com,64:ff9b::8c52:7904' (ECDSA) to the list of known hosts.\n",
      "Counting objects: 6, done.\n",
      "Delta compression using up to 255 threads.\n",
      "Compressing objects: 100% (5/5), done.\n",
      "Writing objects: 100% (6/6), 715 bytes | 715.00 KiB/s, done.\n",
      "Total 6 (delta 4), reused 0 (delta 0)\n",
      "remote: Resolving deltas: 100% (4/4), completed with 4 local objects.\u001b[K\n",
      "To github.com:galqiwi/linear-layer-compression.git\n",
      "   09a1217..6ea888f  galqiwi -> galqiwi\n"
     ]
    }
   ],
   "source": [
    "!git add *.ipynb *.png *.csv *.py && git commit -m upd && git push"
   ]
  }
 ],
 "metadata": {
  "kernelspec": {
   "display_name": "Python 3 (ipykernel)",
   "language": "python",
   "name": "python3"
  },
  "language_info": {
   "codemirror_mode": {
    "name": "ipython",
    "version": 3
   },
   "file_extension": ".py",
   "mimetype": "text/x-python",
   "name": "python",
   "nbconvert_exporter": "python",
   "pygments_lexer": "ipython3",
   "version": "3.10.14"
  }
 },
 "nbformat": 4,
 "nbformat_minor": 5
}
