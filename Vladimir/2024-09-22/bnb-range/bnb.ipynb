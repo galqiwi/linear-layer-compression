{
 "cells": [
  {
   "cell_type": "code",
   "execution_count": 1,
   "id": "4e3f6b82-f9c9-41ad-bfd3-7c3c96c643f4",
   "metadata": {},
   "outputs": [
    {
     "name": "stdout",
     "output_type": "stream",
     "text": [
      "env: CUDA_VISIBLE_DEVICES=7\n",
      "env: OMP_NUM_THREADS=16\n"
     ]
    }
   ],
   "source": [
    "%env CUDA_VISIBLE_DEVICES=7\n",
    "%env OMP_NUM_THREADS=16"
   ]
  },
  {
   "cell_type": "code",
   "execution_count": 2,
   "id": "4f205468-18d1-4a22-9d32-84ec0c805662",
   "metadata": {},
   "outputs": [
    {
     "data": {
      "text/plain": [
       "<torch.autograd.grad_mode.set_grad_enabled at 0x7f584064cbe0>"
      ]
     },
     "execution_count": 2,
     "metadata": {},
     "output_type": "execute_result"
    }
   ],
   "source": [
    "import torch\n",
    "torch.set_grad_enabled(False)"
   ]
  },
  {
   "cell_type": "code",
   "execution_count": 3,
   "id": "14ee57a6-6ee0-4e20-b514-985c2dec0b77",
   "metadata": {},
   "outputs": [],
   "source": [
    "# MODEL = \"meta-llama/Llama-2-7b-hf\"\n",
    "MODEL = \"meta-llama/Meta-Llama-3.1-8B\"\n",
    "BASE_PPL = 5.606886386871338"
   ]
  },
  {
   "cell_type": "code",
   "execution_count": 4,
   "id": "69fdf84b-13f1-4249-9056-4ca874c9d292",
   "metadata": {},
   "outputs": [
    {
     "data": {
      "application/vnd.jupyter.widget-view+json": {
       "model_id": "a49ecd1e84b64c138dd1fda7e76f00d9",
       "version_major": 2,
       "version_minor": 0
      },
      "text/plain": [
       "Loading checkpoint shards:   0%|          | 0/4 [00:00<?, ?it/s]"
      ]
     },
     "metadata": {},
     "output_type": "display_data"
    }
   ],
   "source": [
    "from transformers import AutoModelForCausalLM\n",
    "\n",
    "MODEL_PATH = 'meta-llama/Meta-Llama-3.1-8B'\n",
    "MODEL_SEQLEN = 8192\n",
    "\n",
    "model_pt = AutoModelForCausalLM.from_pretrained(\n",
    "    MODEL_PATH,\n",
    "    trust_remote_code=True, torch_dtype=\"auto\", device_map='cpu',\n",
    ")\n",
    "\n",
    "def get_module_by_path(model, path):\n",
    "    if path == '':\n",
    "        return model\n",
    "    splitted = path.split('.', 1)\n",
    "    if len(splitted) == 1:\n",
    "        splitted.append('')\n",
    "    next_name, suffix = splitted\n",
    "\n",
    "    try:\n",
    "        next_module = model[int(next_name)]\n",
    "    except:\n",
    "        next_module = getattr(model, next_name)\n",
    "\n",
    "    return get_module_by_path(next_module, suffix)"
   ]
  },
  {
   "cell_type": "code",
   "execution_count": 5,
   "id": "26bc8131-9184-4455-bb40-1d216aaac254",
   "metadata": {},
   "outputs": [
    {
     "name": "stderr",
     "output_type": "stream",
     "text": [
      "Token indices sequence length is longer than the specified maximum sequence length for this model (289077 > 131072). Running this sequence through the model will result in indexing errors\n"
     ]
    }
   ],
   "source": [
    "from eval import *\n",
    "\n",
    "testloader = get_loaders(\n",
    "    'wikitext2',\n",
    "    seed=0,\n",
    "    model_path=MODEL_PATH,\n",
    "    seqlen=MODEL_SEQLEN,\n",
    "    eval_mode=True,\n",
    "    use_fast_tokenizer=False,\n",
    "    trust_remote_code=False,\n",
    ")\n",
    "\n",
    "def eval_ppl(\n",
    "    model,\n",
    "    model_path=MODEL_PATH,\n",
    "    model_seqlen=MODEL_SEQLEN,\n",
    "    device = 'cuda:0',\n",
    "    # ppl_datasets = ('wikitext2',),\n",
    "    trust_remote_code=False,\n",
    "    offload_activations=False,\n",
    "):\n",
    "    output = {}\n",
    "    \n",
    "    ppl = perplexity_eval(\n",
    "        model,\n",
    "        testloader,\n",
    "        dataset_name='wikitext2',\n",
    "        model_seqlen=model_seqlen,\n",
    "        device=device,\n",
    "        offload_activations=offload_activations,\n",
    "    )\n",
    "    output['wikitext2'] = ppl\n",
    "    # make sure that the cache is released\n",
    "    torch.cuda.empty_cache()\n",
    "    \n",
    "    return output"
   ]
  },
  {
   "cell_type": "code",
   "execution_count": 6,
   "id": "5add09d8-4b7e-4db7-89ee-0fe9fbb7ce17",
   "metadata": {},
   "outputs": [],
   "source": [
    "import torch\n",
    "import bitsandbytes as bnb\n",
    "\n",
    "@torch.no_grad()\n",
    "def _quantize_dequantize_bnb_8(weight):\n",
    "    out_features, in_features = weight.shape\n",
    "    w = bnb.nn.Linear8bitLt(\n",
    "        in_features,\n",
    "        out_features,\n",
    "        bias=False,\n",
    "        has_fp16_weights=False,\n",
    "        threshold=6.0,  # Default from the LLM.int8() paper\n",
    "    )\n",
    "    w.weight = bnb.nn.Int8Params(\n",
    "        weight, requires_grad=False, has_fp16_weights=False\n",
    "    ).to(weight.dtype)\n",
    "    w.cuda()\n",
    "\n",
    "    # hacky dequantization\n",
    "    output = w(torch.eye(in_features).half().cuda()).T.contiguous()\n",
    "\n",
    "    assert output.shape == weight.shape, (output.shape, weight.shape)\n",
    "\n",
    "    return output\n",
    "\n",
    "\n",
    "@torch.no_grad()\n",
    "def quantize_dequantize_bnb_8(weight):\n",
    "    # chunked processing for large in_features\n",
    "    \n",
    "    BLOCK_SIZE = 8192\n",
    "    \n",
    "    out_features, in_features = weight.shape\n",
    "    \n",
    "    output = []\n",
    "    for begin in range(0, in_features, BLOCK_SIZE):\n",
    "        end = min(begin + BLOCK_SIZE, in_features)\n",
    "\n",
    "        chunk = weight[:, begin:end]\n",
    "        \n",
    "        output.append(\n",
    "            _quantize_dequantize_bnb_8(chunk)\n",
    "        )\n",
    "\n",
    "    return torch.cat(output, dim=1)\n",
    "\n",
    "\n",
    "@torch.no_grad()\n",
    "def _quantize_dequantize_bnb_4(weight):\n",
    "    out_features, in_features = weight.shape\n",
    "    w = bnb.nn.LinearNF4(\n",
    "        in_features,\n",
    "        out_features,\n",
    "        bias=False,\n",
    "    )\n",
    "    w.weight = bnb.nn.Params4bit(\n",
    "        weight, requires_grad=False, quant_type=\"nf4\", blocksize=64,\n",
    "    ).to(weight.dtype)\n",
    "    w.cuda()\n",
    "    \n",
    "    output = w(torch.eye(in_features).half().cuda()).T.contiguous()\n",
    "\n",
    "    assert output.shape == weight.shape, (output.shape, weight.shape)\n",
    "\n",
    "    return output\n",
    "\n",
    "\n",
    "@torch.no_grad()\n",
    "def quantize_dequantize_bnb_4(weight):\n",
    "    # chunked processing for large in_features\n",
    "    \n",
    "    BLOCK_SIZE = 8192\n",
    "    \n",
    "    out_features, in_features = weight.shape\n",
    "    \n",
    "    output = []\n",
    "    for begin in range(0, in_features, BLOCK_SIZE):\n",
    "        end = min(begin + BLOCK_SIZE, in_features)\n",
    "\n",
    "        chunk = weight[:, begin:end]\n",
    "        \n",
    "        output.append(\n",
    "            _quantize_dequantize_bnb_4(chunk)\n",
    "        )\n",
    "\n",
    "    return torch.cat(output, dim=1)"
   ]
  },
  {
   "cell_type": "code",
   "execution_count": 7,
   "id": "8f09fe4e-bf3e-4e28-b7fb-34d8af32aa09",
   "metadata": {},
   "outputs": [],
   "source": [
    "import functools\n",
    "\n",
    "\n",
    "@functools.cache\n",
    "def get_numel(path):\n",
    "    return get_module_by_path(model_pt, path).weight.numel()\n",
    "\n",
    "total_params = sum(p.numel() for p in model_pt.model.layers.parameters())"
   ]
  },
  {
   "cell_type": "code",
   "execution_count": 8,
   "id": "83e288e3-c028-409e-acc7-ef68f152fca1",
   "metadata": {},
   "outputs": [],
   "source": [
    "import tqdm\n",
    "import pandas as pd \n",
    "import wandb\n",
    "import functools\n",
    "\n",
    "\n",
    "@functools.cache\n",
    "def get_df_from_wandb(path):\n",
    "    api = wandb.Api()\n",
    "\n",
    "    # Project is specified by <entity/project-name>\n",
    "    runs = api.runs(path)\n",
    "    \n",
    "    data_df_lines = []\n",
    "    for run in tqdm.tqdm(runs): \n",
    "        data_df_lines.append({\n",
    "            'Name': run.name,\n",
    "            'Commit': run.commit,\n",
    "            **run.summary._json_dict,\n",
    "            **{k: v for k,v in run.config.items() if not k.startswith('_')},\n",
    "        })\n",
    "    data_df = pd.DataFrame(data_df_lines)\n",
    "    return data_df"
   ]
  },
  {
   "cell_type": "code",
   "execution_count": 9,
   "id": "9455cada-8fa3-4d48-9a36-a5f0bffb3532",
   "metadata": {},
   "outputs": [
    {
     "name": "stderr",
     "output_type": "stream",
     "text": [
      "/tmp/ipykernel_2050179/4033118981.py:2: DtypeWarning: Columns (22) have mixed types. Specify dtype option on import or set low_memory=False.\n",
      "  data_df = pd.read_csv('~/linear-layer-compression/Andrei/gptq/layerwise_slopes.csv')\n"
     ]
    }
   ],
   "source": [
    "# data_df = get_df_from_wandb('rock-and-roll/NOISY_MSE_ONE_LINEAR_LAYER_GALQIWI_PPL')\n",
    "data_df = pd.read_csv('~/linear-layer-compression/Andrei/gptq/layerwise_slopes.csv')\n",
    "\n",
    "data_df['layer'] = data_df['layer_name']\n",
    "data_df['mse'] = data_df['relative_mse']\n",
    "\n",
    "data_df = data_df[data_df['base_model'] == MODEL]\n",
    "\n",
    "data_df = data_df[['layer', 'mse', 'wikitext2']]\n",
    "data_df = data_df.dropna().copy()\n",
    "\n",
    "from sklearn.linear_model import LinearRegression\n",
    "\n",
    "layers = sorted(set(data_df['layer']))\n",
    "\n",
    "scale_by_layer = {}\n",
    "intercept_by_layer = {}\n",
    "\n",
    "for layer_idx, layer in enumerate(layers):\n",
    "    to_fit = data_df[data_df['layer'] == layer]\n",
    "    to_fit = to_fit[to_fit['mse'] < 4 ** -1.7]\n",
    "    # to_fit = to_fit[to_fit['wikitext2'] < 5.640]\n",
    "\n",
    "    slope = LinearRegression(fit_intercept=False).fit(to_fit['mse'].values.reshape(-1, 1), to_fit['wikitext2'] - BASE_PPL).coef_\n",
    "    \n",
    "    scale_by_layer[layer] = slope.item()\n",
    "    intercept_by_layer[layer] = BASE_PPL"
   ]
  },
  {
   "cell_type": "code",
   "execution_count": 10,
   "id": "69e57674-2379-45c5-8df5-060d2f7b7449",
   "metadata": {},
   "outputs": [
    {
     "data": {
      "image/png": "[encoded data removed]",
      "text/plain": [
       "<Figure size 640x480 with 1 Axes>"
      ]
     },
     "metadata": {},
     "output_type": "display_data"
    }
   ],
   "source": [
    "import matplotlib\n",
    "import matplotlib.pyplot as plt\n",
    "import numpy as np\n",
    "\n",
    "\n",
    "cmap = matplotlib.colormaps[\"plasma\"]\n",
    "\n",
    "plt.scatter([0.0], [5.606692790985107])\n",
    "\n",
    "for layer_idx, layer in enumerate(layers):\n",
    "# for layer_idx, layer in enumerate(layers):\n",
    "    to_plot = data_df[data_df['layer'] == layer]\n",
    "    to_plot = to_plot[to_plot['mse'] < 0.01]\n",
    "    # to_plot = to_plot[to_plot['wikitext2'] < 5.640]\n",
    "    \n",
    "    plt.scatter(to_plot['mse'], to_plot['wikitext2'], color=cmap(layer_idx / len(layers)))\n",
    "\n",
    "    grid = np.linspace(0, to_plot['mse'].max(), 10)\n",
    "    \n",
    "    plt.plot(grid, intercept_by_layer[layer] + grid * scale_by_layer[layer], color=cmap(layer_idx / len(layers)))\n",
    "\n",
    "\n",
    "plt.title(f'{MODEL}')\n",
    "plt.xlabel('mse')\n",
    "plt.ylabel('ppl')\n",
    "plt.savefig(f'ppl_mse.png')"
   ]
  },
  {
   "cell_type": "code",
   "execution_count": 11,
   "id": "ac306ac9-a113-42fa-a9a4-6eece638be31",
   "metadata": {},
   "outputs": [],
   "source": [
    "from ortools.linear_solver import pywraplp\n",
    "\n",
    "def find_grids_with_budget(\n",
    "    slopes,    # linear coefficients for [layerwise mse -> metric]\n",
    "    weights,   # linear coefficients for [layer bitwidth -> total bitwidth] (1 / num_blocks for blockwise)\n",
    "    budget,    # upper bound on total bitwidth\n",
    "    grid_bits, # available grid bitwidths\n",
    "    grid_mses  # available grid mses\n",
    ") -> tuple[float, list]:\n",
    "    num_layers = len(slopes)\n",
    "    num_grids = len(grid_bits)\n",
    "    assert len(grid_mses) == num_grids\n",
    "    \n",
    "    solver = pywraplp.Solver.CreateSolver(\"CP-SAT\")\n",
    "\n",
    "    x = {(j, i) : solver.BoolVar(\"name\") for i in range(num_grids) for j in range(num_layers)}\n",
    "    \n",
    "    for j in range(num_layers) : solver.Add(sum(x[(j, i)] for i in range(num_grids)) == 1)\n",
    "    solver.Add(sum(x[(j, i)] * weights[j] * grid_bits[i] for j in range(num_layers) for i in range(num_grids)) <= budget)\n",
    "    solver.Minimize(sum(x[(j, i)] * slopes[j] * grid_mses[i] for j in range(num_layers) for i in range(num_grids)))\n",
    "\n",
    "    status = solver.Solve()\n",
    "    if status == pywraplp.Solver.OPTIMAL:\n",
    "        avg_bits = sum(x[(j, i)].solution_value() * weights[j] * grid_bits[i] for j in range(num_layers) for i in range(num_grids))\n",
    "        solution = np.asarray([[x[(j, i)].solution_value() for i in range(num_grids)] for j in range(num_layers)])\n",
    "        indices = np.argwhere(solution == 1.0)\n",
    "        assert len(indices) == num_layers\n",
    "        return avg_bits, indices[:,1]\n",
    "    else:\n",
    "        raise Exception(\"Didn't solve\")"
   ]
  },
  {
   "cell_type": "code",
   "execution_count": 14,
   "id": "8cf57413-c37b-47c4-bf72-e9c127de17a4",
   "metadata": {},
   "outputs": [
    {
     "data": {
      "text/html": [
       "<div>\n",
       "<style scoped>\n",
       "    .dataframe tbody tr th:only-of-type {\n",
       "        vertical-align: middle;\n",
       "    }\n",
       "\n",
       "    .dataframe tbody tr th {\n",
       "        vertical-align: top;\n",
       "    }\n",
       "\n",
       "    .dataframe thead th {\n",
       "        text-align: right;\n",
       "    }\n",
       "</style>\n",
       "<table border=\"1\" class=\"dataframe\">\n",
       "  <thead>\n",
       "    <tr style=\"text-align: right;\">\n",
       "      <th></th>\n",
       "      <th>name</th>\n",
       "      <th>bits</th>\n",
       "      <th>mse</th>\n",
       "    </tr>\n",
       "  </thead>\n",
       "  <tbody>\n",
       "    <tr>\n",
       "      <th>0</th>\n",
       "      <td>fp16</td>\n",
       "      <td>16.000000</td>\n",
       "      <td>2.328306e-10</td>\n",
       "    </tr>\n",
       "    <tr>\n",
       "      <th>1</th>\n",
       "      <td>bnb-8</td>\n",
       "      <td>8.015595</td>\n",
       "      <td>1.707077e-04</td>\n",
       "    </tr>\n",
       "    <tr>\n",
       "      <th>2</th>\n",
       "      <td>bnb-4</td>\n",
       "      <td>4.250000</td>\n",
       "      <td>8.422852e-03</td>\n",
       "    </tr>\n",
       "  </tbody>\n",
       "</table>\n",
       "</div>"
      ],
      "text/plain": [
       "    name       bits           mse\n",
       "0   fp16  16.000000  2.328306e-10\n",
       "1  bnb-8   8.015595  1.707077e-04\n",
       "2  bnb-4   4.250000  8.422852e-03"
      ]
     },
     "execution_count": 14,
     "metadata": {},
     "output_type": "execute_result"
    }
   ],
   "source": [
    "test_input = torch.randn((1024, 1024), device='cuda')\n",
    "\n",
    "ok_grids = pd.DataFrame([{\n",
    "    'name': 'fp16',\n",
    "    'bits': 16,\n",
    "    'mse': 0.0, # should be zero, but it breaks solver\n",
    "}, {\n",
    "    'name': 'bnb-8',\n",
    "    'bits': 8 + 16 / 1026,\n",
    "    'mse': 0.00017070770263671875,\n",
    "}, {\n",
    "    'name': 'bnb-4',\n",
    "    'bits': 4 + 16 / 64,\n",
    "    'mse': 0.0084228515625,\n",
    "}])\n",
    "\n",
    "ok_grids"
   ]
  },
  {
   "cell_type": "code",
   "execution_count": 16,
   "id": "ec5f58fa-fc4b-4ab5-94c4-9c4d0f9975a1",
   "metadata": {},
   "outputs": [
    {
     "name": "stdout",
     "output_type": "stream",
     "text": [
      "7.999040863041684 bits\n"
     ]
    }
   ],
   "source": [
    "layers = sorted(layers)\n",
    "\n",
    "scales = [scale_by_layer[layer] for layer in layers]\n",
    "numels = [get_numel(layer) for layer in layers]\n",
    "grid_names=ok_grids['name'].values\n",
    "grid_bits=ok_grids['bits'].values\n",
    "grid_mses=ok_grids['mse'].values\n",
    "\n",
    "solution_size, solution_idxs = find_grids_with_budget(\n",
    "    scales,\n",
    "    numels,\n",
    "    budget=sum(numels) * 8,\n",
    "    grid_bits=ok_grids['bits'].values,\n",
    "    grid_mses=ok_grids['mse'].values,\n",
    ")\n",
    "\n",
    "print(f'{solution_size / sum(numels)} bits')"
   ]
  },
  {
   "cell_type": "code",
   "execution_count": 18,
   "id": "adc76a60-52f5-4732-8af1-748bca154aa6",
   "metadata": {},
   "outputs": [],
   "source": [
    "def get_solution(n_bits = 8):\n",
    "    scales = [scale_by_layer[layer] for layer in layers]\n",
    "    numels = [get_numel(layer) for layer in layers]\n",
    "    grid_names=ok_grids['name'].values\n",
    "    grid_bits=ok_grids['bits'].values\n",
    "    grid_mses=ok_grids['mse'].values\n",
    "    \n",
    "    solution_size, solution_idxs = find_grids_with_budget(\n",
    "        scales,\n",
    "        numels,\n",
    "        budget=sum(numels) * n_bits,\n",
    "        grid_bits=ok_grids['bits'].values,\n",
    "        grid_mses=ok_grids['mse'].values,\n",
    "    )\n",
    "\n",
    "    solution_pred_err = sum([scale * ok_grids['mse'].values[solution_idx] for solution_idx, scale in zip(solution_idxs, scales)])\n",
    "\n",
    "    return solution_size, solution_pred_err, solution_idxs"
   ]
  },
  {
   "cell_type": "code",
   "execution_count": 19,
   "id": "2baa9a8e-3dd0-4555-a7eb-f1afeb5cd529",
   "metadata": {},
   "outputs": [
    {
     "name": "stderr",
     "output_type": "stream",
     "text": [
      "100%|██████████| 40/40 [00:09<00:00,  4.33it/s]\n"
     ]
    }
   ],
   "source": [
    "grid = np.linspace(4.25, 12, 40)\n",
    "\n",
    "bnb_pred_lines = []\n",
    "\n",
    "for n_bits in tqdm.tqdm(grid):\n",
    "    solution_size, solution_pred_err, solution_idxs = get_solution(n_bits)\n",
    "    bnb_pred_lines.append({\n",
    "        'solution_size': solution_size,\n",
    "        'solution_pred_err': solution_pred_err,\n",
    "    })\n",
    "\n",
    "bnb_pred_df = pd.DataFrame(bnb_pred_lines)"
   ]
  },
  {
   "cell_type": "code",
   "execution_count": 20,
   "id": "c9da5253-3777-4371-8737-ecd2e25f2348",
   "metadata": {},
   "outputs": [
    {
     "data": {
      "image/png": "[encoded data removed]",
      "text/plain": [
       "<Figure size 640x480 with 1 Axes>"
      ]
     },
     "metadata": {},
     "output_type": "display_data"
    }
   ],
   "source": [
    "plt.title('bnb ppl error')\n",
    "plt.ylabel('PPL increase')\n",
    "plt.xlabel('wbits')\n",
    "plt.plot(bnb_pred_df['solution_size'] / total_params, bnb_pred_df['solution_pred_err'])\n",
    "\n",
    "plt.show()"
   ]
  },
  {
   "cell_type": "code",
   "execution_count": 21,
   "id": "f7b17edf-38fc-482c-a381-0942e0a5ccef",
   "metadata": {},
   "outputs": [],
   "source": [
    "def get_module_by_path(model, path):\n",
    "    if path == '':\n",
    "        return model\n",
    "    splitted = path.split('.', 1)\n",
    "    if len(splitted) == 1:\n",
    "        splitted.append('')\n",
    "    next_name, suffix = splitted\n",
    "\n",
    "    try:\n",
    "        next_module = model[int(next_name)]\n",
    "    except:\n",
    "        next_module = getattr(model, next_name)\n",
    "\n",
    "    return get_module_by_path(next_module, suffix)"
   ]
  },
  {
   "cell_type": "code",
   "execution_count": 22,
   "id": "9726d764-d3d2-48ad-9132-60f5bb2cbf67",
   "metadata": {},
   "outputs": [],
   "source": [
    "model_pt = model_pt.cuda()"
   ]
  },
  {
   "cell_type": "code",
   "execution_count": 23,
   "id": "7007a491-5c66-471d-817f-e1f11ac46333",
   "metadata": {},
   "outputs": [
    {
     "name": "stderr",
     "output_type": "stream",
     "text": [
      "The attention layers in this model are transitioning from computing the RoPE embeddings internally through `position_ids` (2D tensor with the indexes of the tokens), to using externally computed `position_embeddings` (Tuple of tensors, containing cos and sin). In v4.45 `position_ids` will be removed and `position_embeddings` will be mandatory.\n"
     ]
    },
    {
     "data": {
      "text/plain": [
       "5.606260776519775"
      ]
     },
     "execution_count": 23,
     "metadata": {},
     "output_type": "execute_result"
    }
   ],
   "source": [
    "BASELINE_PPL = eval_ppl(model_pt)['wikitext2']\n",
    "BASELINE_PPL"
   ]
  },
  {
   "cell_type": "code",
   "execution_count": 24,
   "id": "207bf64c-c0d7-4d57-9606-bb2074705be0",
   "metadata": {},
   "outputs": [],
   "source": [
    "model_state_dict = model_pt.state_dict()"
   ]
  },
  {
   "cell_type": "code",
   "execution_count": 25,
   "id": "8b05d364-846a-4392-92da-80f9bc3e8dcd",
   "metadata": {},
   "outputs": [
    {
     "name": "stderr",
     "output_type": "stream",
     "text": [
      "100%|██████████| 224/224 [01:22<00:00,  2.73it/s]\n"
     ]
    }
   ],
   "source": [
    "model_state_dict_4bit = {\n",
    "    layer: quantize_dequantize_bnb_4(model_state_dict[f'{layer}.weight']).cpu()\n",
    "    for layer in tqdm.tqdm(layers)\n",
    "}"
   ]
  },
  {
   "cell_type": "code",
   "execution_count": 26,
   "id": "4318a2cc-cc7b-4f6f-ad7d-ca9e53ba5e2d",
   "metadata": {},
   "outputs": [
    {
     "name": "stderr",
     "output_type": "stream",
     "text": [
      "100%|██████████| 224/224 [01:19<00:00,  2.81it/s]\n"
     ]
    }
   ],
   "source": [
    "model_state_dict_8bit = {\n",
    "    layer: quantize_dequantize_bnb_8(model_state_dict[f'{layer}.weight']).cpu()\n",
    "    for layer in tqdm.tqdm(layers)\n",
    "}"
   ]
  },
  {
   "cell_type": "code",
   "execution_count": 27,
   "id": "32716fe0-b7d1-4909-a44e-9116fd24c234",
   "metadata": {
    "scrolled": true
   },
   "outputs": [],
   "source": [
    "import tqdm\n",
    "import copy\n",
    "\n",
    "def eval_quantized_model(solution_idxs):\n",
    "    quantized_model = copy.deepcopy(model_pt)\n",
    "    \n",
    "    for layer_name, quant_idx in zip(layers, solution_idxs):\n",
    "        layer = get_module_by_path(quantized_model, layer_name)\n",
    "        weight = layer.weight\n",
    "        if quant_idx == 1:\n",
    "            weight = model_state_dict_8bit[layer_name]\n",
    "        if quant_idx == 2:\n",
    "            weight = model_state_dict_4bit[layer_name]\n",
    "        layer.weight.data = weight.to(torch.bfloat16)\n",
    "        # print(layer, quant_idx)\n",
    "\n",
    "    return eval_ppl(quantized_model)['wikitext2'] - BASELINE_PPL"
   ]
  },
  {
   "cell_type": "code",
   "execution_count": 28,
   "id": "1af0f2d7-9c00-4cfb-9340-2e5ad59730b9",
   "metadata": {},
   "outputs": [
    {
     "name": "stderr",
     "output_type": "stream",
     "text": [
      "100%|██████████| 5/5 [04:48<00:00, 57.67s/it]\n"
     ]
    }
   ],
   "source": [
    "grid = np.linspace(4.25, 8, 5)\n",
    "\n",
    "bnb_real_lines = []\n",
    "\n",
    "for n_bits in tqdm.tqdm(grid):\n",
    "    solution_size, solution_pred_err, solution_idxs = get_solution(n_bits)\n",
    "    real_err = eval_quantized_model(solution_idxs)\n",
    "    bnb_real_lines.append({\n",
    "        'solution_size': solution_size,\n",
    "        'solution_pred_err': solution_pred_err,\n",
    "        'solution_real_err': real_err,\n",
    "    })"
   ]
  },
  {
   "cell_type": "code",
   "execution_count": 29,
   "id": "13749a88-b155-48d8-a03a-7d4882037b1f",
   "metadata": {},
   "outputs": [],
   "source": [
    "bnb_real_df = pd.DataFrame(bnb_real_lines)"
   ]
  },
  {
   "cell_type": "code",
   "execution_count": 30,
   "id": "5405a44e-d53c-4d80-be19-7223d90fc85b",
   "metadata": {},
   "outputs": [
    {
     "data": {
      "text/plain": [
       "0.3602409362792969"
      ]
     },
     "execution_count": 30,
     "metadata": {},
     "output_type": "execute_result"
    }
   ],
   "source": [
    "eval_quantized_model(np.array([2] * 224))"
   ]
  },
  {
   "cell_type": "code",
   "execution_count": 31,
   "id": "107ffe05-0347-4435-a881-3e61487f720d",
   "metadata": {},
   "outputs": [
    {
     "data": {
      "text/plain": [
       "0    1.622109\n",
       "1    1.412408\n",
       "2    1.404909\n",
       "3    1.468753\n",
       "4    1.364017\n",
       "dtype: float64"
      ]
     },
     "execution_count": 31,
     "metadata": {},
     "output_type": "execute_result"
    }
   ],
   "source": [
    "bnb_real_df['solution_pred_err'] / bnb_real_df['solution_real_err']"
   ]
  },
  {
   "cell_type": "code",
   "execution_count": 32,
   "id": "1c1ee980-fb1b-44ff-98c3-3e1e6614e5f4",
   "metadata": {},
   "outputs": [
    {
     "data": {
      "text/plain": [
       "Text(0, 0.5, 'real ppl err')"
      ]
     },
     "execution_count": 32,
     "metadata": {},
     "output_type": "execute_result"
    },
    {
     "data": {
      "image/png": "[encoded data removed]",
      "text/plain": [
       "<Figure size 640x480 with 1 Axes>"
      ]
     },
     "metadata": {},
     "output_type": "display_data"
    }
   ],
   "source": [
    "plt.scatter(bnb_real_df['solution_pred_err'], bnb_real_df['solution_real_err'])\n",
    "plt.plot(bnb_real_df['solution_pred_err'], bnb_real_df['solution_real_err'])\n",
    "plt.xlabel('pred ppl err')\n",
    "plt.ylabel('real ppl err')"
   ]
  },
  {
   "cell_type": "code",
   "execution_count": 33,
   "id": "b654564c-6f95-4438-beb2-9b2fa7485adb",
   "metadata": {},
   "outputs": [
    {
     "data": {
      "image/png": "[encoded data removed]",
      "text/plain": [
       "<Figure size 640x480 with 1 Axes>"
      ]
     },
     "metadata": {},
     "output_type": "display_data"
    }
   ],
   "source": [
    "import matplotlib as mpl\n",
    "\n",
    "plt.title('bnb ppl error')\n",
    "plt.ylabel('PPL increase')\n",
    "plt.xlabel('wbits')\n",
    "plt.plot(bnb_pred_df['solution_size'] / total_params, bnb_pred_df['solution_pred_err'], label='predicted optimal ppl delta')\n",
    "plt.scatter(bnb_real_df['solution_size'] / total_params, bnb_real_df['solution_real_err'], color=mpl.colormaps['tab10'](1), label='real optimal ppl delta')\n",
    "\n",
    "plt.legend()\n",
    "\n",
    "plt.show()"
   ]
  },
  {
   "cell_type": "code",
   "execution_count": 34,
   "id": "72bf8b7e-b9b5-47ec-a88a-c04cdc74321a",
   "metadata": {},
   "outputs": [],
   "source": [
    "bnb_pred_df.to_csv('bnb_pred_df.csv')\n",
    "bnb_real_df.to_csv('bnb_real_df.csv')"
   ]
  },
  {
   "cell_type": "code",
   "execution_count": 35,
   "id": "ef643fd4-ff10-4c4b-befa-41aff99a227c",
   "metadata": {},
   "outputs": [
    {
     "name": "stderr",
     "output_type": "stream",
     "text": [
      "huggingface/tokenizers: The current process just got forked, after parallelism has already been used. Disabling parallelism to avoid deadlocks...\n",
      "To disable this warning, you can either:\n",
      "\t- Avoid using `tokenizers` before the fork if possible\n",
      "\t- Explicitly set the environment variable TOKENIZERS_PARALLELISM=(true | false)\n"
     ]
    },
    {
     "name": "stdout",
     "output_type": "stream",
     "text": [
      "[main 3d69741] upd\n",
      " 4 files changed, 155 insertions(+), 110 deletions(-)\n",
      "git@github.com: Permission denied (publickey).\n",
      "fatal: Could not read from remote repository.\n",
      "\n",
      "Please make sure you have the correct access rights\n",
      "and the repository exists.\n"
     ]
    }
   ],
   "source": [
    "!git add *.ipynb *.png *.csv *.py && git commit -m upd && git push"
   ]
  }
 ],
 "metadata": {
  "kernelspec": {
   "display_name": "Python 3 (ipykernel)",
   "language": "python",
   "name": "python3"
  },
  "language_info": {
   "codemirror_mode": {
    "name": "ipython",
    "version": 3
   },
   "file_extension": ".py",
   "mimetype": "text/x-python",
   "name": "python",
   "nbconvert_exporter": "python",
   "pygments_lexer": "ipython3",
   "version": "3.10.14"
  }
 },
 "nbformat": 4,
 "nbformat_minor": 5
}
