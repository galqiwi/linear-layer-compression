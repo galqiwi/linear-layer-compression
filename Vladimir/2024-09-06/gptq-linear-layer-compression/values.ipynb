{
 "cells": [
  {
   "cell_type": "code",
   "execution_count": 32,
   "metadata": {},
   "outputs": [
    {
     "name": "stdout",
     "output_type": "stream",
     "text": [
      "env: CUDA_VISIBLE_DEVICES=4\n",
      "env: OMP_NUM_THREADS=16\n"
     ]
    }
   ],
   "source": [
    "%env CUDA_VISIBLE_DEVICES=4\n",
    "%env OMP_NUM_THREADS=16"
   ]
  },
  {
   "cell_type": "code",
   "execution_count": 33,
   "metadata": {},
   "outputs": [],
   "source": [
    "# MODEL = \"meta-llama/Llama-2-7b-hf\"\n",
    "MODEL = \"meta-llama/Meta-Llama-3.1-8B\""
   ]
  },
  {
   "cell_type": "code",
   "execution_count": 34,
   "metadata": {},
   "outputs": [
    {
     "data": {
      "application/vnd.jupyter.widget-view+json": {
       "model_id": "03c4b24a884c4494888021dffb0c1103",
       "version_major": 2,
       "version_minor": 0
      },
      "text/plain": [
       "Loading checkpoint shards:   0%|          | 0/4 [00:00<?, ?it/s]"
      ]
     },
     "metadata": {},
     "output_type": "display_data"
    }
   ],
   "source": [
    "from transformers import AutoModelForCausalLM\n",
    "\n",
    "model_pt = AutoModelForCausalLM.from_pretrained(\n",
    "    '/mnt/LLM/hub/models--meta-llama--Meta-Llama-3.1-8B/snapshots/13f04ed6f85ef2aa2fd11b960a275c3e31a8069e/',\n",
    "    trust_remote_code=True, torch_dtype=\"auto\", device_map='meta',\n",
    ")\n",
    "\n",
    "def get_module_by_path(model, path):\n",
    "    if path == '':\n",
    "        return model\n",
    "    splitted = path.split('.', 1)\n",
    "    if len(splitted) == 1:\n",
    "        splitted.append('')\n",
    "    next_name, suffix = splitted\n",
    "\n",
    "    try:\n",
    "        next_module = model[int(next_name)]\n",
    "    except:\n",
    "        next_module = getattr(model, next_name)\n",
    "\n",
    "    return get_module_by_path(next_module, suffix)"
   ]
  },
  {
   "cell_type": "code",
   "execution_count": 4,
   "metadata": {},
   "outputs": [],
   "source": [
    "import functools\n",
    "\n",
    "\n",
    "@functools.cache\n",
    "def get_numel(path):\n",
    "    return get_module_by_path(model_pt, path).weight.numel()\n",
    "\n",
    "total_params = sum(p.numel() for p in model_pt.model.layers.parameters())"
   ]
  },
  {
   "cell_type": "code",
   "execution_count": 5,
   "metadata": {},
   "outputs": [],
   "source": [
    "import tqdm\n",
    "import pandas as pd \n",
    "import wandb\n",
    "import functools\n",
    "\n",
    "\n",
    "@functools.cache\n",
    "def get_df_from_wandb(path):\n",
    "    api = wandb.Api()\n",
    "\n",
    "    # Project is specified by <entity/project-name>\n",
    "    runs = api.runs(path)\n",
    "    \n",
    "    data_df_lines = []\n",
    "    for run in tqdm.tqdm(runs): \n",
    "        data_df_lines.append({\n",
    "            'Name': run.name,\n",
    "            'Commit': run.commit,\n",
    "            **run.summary._json_dict,\n",
    "            **{k: v for k,v in run.config.items() if not k.startswith('_')},\n",
    "        })\n",
    "    data_df = pd.DataFrame(data_df_lines)\n",
    "    return data_df"
   ]
  },
  {
   "cell_type": "code",
   "execution_count": 6,
   "metadata": {},
   "outputs": [
    {
     "name": "stderr",
     "output_type": "stream",
     "text": [
      "100%|███████████████████████████████████████| 2869/2869 [00:43<00:00, 65.61it/s]\n"
     ]
    }
   ],
   "source": [
    "data_df = get_df_from_wandb('rock-and-roll/GALQIWI_EDENN_GPTQ')\n",
    "\n",
    "data_df = data_df.rename(columns={\n",
    "    'wikitext2_PPL': 'wikitext2',\n",
    "})\n",
    "\n",
    "data_df = data_df[data_df['model'] == MODEL]\n",
    "\n",
    "data_df = data_df[['layer_idx', 'edenn_d', 'edenn_n', 'wikitext2']]\n",
    "\n",
    "data_df = data_df.dropna().copy()"
   ]
  },
  {
   "cell_type": "code",
   "execution_count": 7,
   "metadata": {},
   "outputs": [],
   "source": [
    "layer_names = []\n",
    "\n",
    "for layer_idx in range(32):\n",
    "    layer_names.append(f'model.layers.{layer_idx}.self_attn.q_proj')\n",
    "    layer_names.append(f'model.layers.{layer_idx}.self_attn.k_proj')\n",
    "    layer_names.append(f'model.layers.{layer_idx}.self_attn.v_proj')\n",
    "    layer_names.append(f'model.layers.{layer_idx}.self_attn.o_proj')\n",
    "    layer_names.append(f'model.layers.{layer_idx}.mlp.gate_proj')\n",
    "    layer_names.append(f'model.layers.{layer_idx}.mlp.up_proj')\n",
    "    layer_names.append(f'model.layers.{layer_idx}.mlp.down_proj')"
   ]
  },
  {
   "cell_type": "code",
   "execution_count": 8,
   "metadata": {},
   "outputs": [],
   "source": [
    "data_df['layer'] = data_df['layer_idx'].apply(lambda idx: layer_names[idx])"
   ]
  },
  {
   "cell_type": "code",
   "execution_count": 9,
   "metadata": {},
   "outputs": [
    {
     "data": {
      "text/plain": [
       "224"
      ]
     },
     "execution_count": 9,
     "metadata": {},
     "output_type": "execute_result"
    }
   ],
   "source": [
    "layers = sorted(set(data_df['layer']))\n",
    "len(layers)"
   ]
  },
  {
   "cell_type": "code",
   "execution_count": 36,
   "metadata": {},
   "outputs": [
    {
     "name": "stdout",
     "output_type": "stream",
     "text": [
      "76\n"
     ]
    },
    {
     "data": {
      "text/html": [
       "<div>\n",
       "<style scoped>\n",
       "    .dataframe tbody tr th:only-of-type {\n",
       "        vertical-align: middle;\n",
       "    }\n",
       "\n",
       "    .dataframe tbody tr th {\n",
       "        vertical-align: top;\n",
       "    }\n",
       "\n",
       "    .dataframe thead th {\n",
       "        text-align: right;\n",
       "    }\n",
       "</style>\n",
       "<table border=\"1\" class=\"dataframe\">\n",
       "  <thead>\n",
       "    <tr style=\"text-align: right;\">\n",
       "      <th></th>\n",
       "      <th>bits</th>\n",
       "      <th>mse</th>\n",
       "      <th>name</th>\n",
       "      <th>edenn_d</th>\n",
       "      <th>edenn_n</th>\n",
       "    </tr>\n",
       "  </thead>\n",
       "  <tbody>\n",
       "    <tr>\n",
       "      <th>58</th>\n",
       "      <td>0.333333</td>\n",
       "      <td>0.760724</td>\n",
       "      <td>edenn_d=6.0;edenn_n=4.0</td>\n",
       "      <td>6</td>\n",
       "      <td>4</td>\n",
       "    </tr>\n",
       "    <tr>\n",
       "      <th>41</th>\n",
       "      <td>0.800000</td>\n",
       "      <td>0.427703</td>\n",
       "      <td>edenn_d=5.0;edenn_n=16.0</td>\n",
       "      <td>5</td>\n",
       "      <td>16</td>\n",
       "    </tr>\n",
       "    <tr>\n",
       "      <th>54</th>\n",
       "      <td>0.166667</td>\n",
       "      <td>0.892925</td>\n",
       "      <td>edenn_d=6.0;edenn_n=2.0</td>\n",
       "      <td>6</td>\n",
       "      <td>2</td>\n",
       "    </tr>\n",
       "  </tbody>\n",
       "</table>\n",
       "</div>"
      ],
      "text/plain": [
       "        bits       mse                      name  edenn_d  edenn_n\n",
       "58  0.333333  0.760724   edenn_d=6.0;edenn_n=4.0        6        4\n",
       "41  0.800000  0.427703  edenn_d=5.0;edenn_n=16.0        5       16\n",
       "54  0.166667  0.892925   edenn_d=6.0;edenn_n=2.0        6        2"
      ]
     },
     "execution_count": 36,
     "metadata": {},
     "output_type": "execute_result"
    }
   ],
   "source": [
    "import requests\n",
    "from ast import literal_eval\n",
    "import pandas as pd\n",
    "\n",
    "grids = literal_eval(requests.get(\n",
    "    'https://gist.githubusercontent.com/BlackSamorez/c74f24a648eb8bbfbbbf83f3145ba3c7/raw/ddc3280a4861938e2e2034c29d6802817e26e799/gistfile1.txt'\n",
    ").text)\n",
    "\n",
    "grids.append({\n",
    "    'edenn_d': -1,\n",
    "    'edenn_n': -1,\n",
    "    'bits': 16,\n",
    "    'mse': 0.0,\n",
    "})\n",
    "\n",
    "grids = pd.DataFrame(grids)\n",
    "grids['name'] = grids.apply(\n",
    "    lambda row: 'edenn_d=' + str(row['edenn_d']) + ';edenn_n=' + str(row['edenn_n']),\n",
    "    axis=1,\n",
    ")\n",
    "grids = grids[['bits', 'mse', 'name', 'edenn_d', 'edenn_n']]\n",
    "print(len(grids))\n",
    "grids.sample(3)"
   ]
  },
  {
   "cell_type": "code",
   "execution_count": 37,
   "metadata": {},
   "outputs": [],
   "source": [
    "def get_mse(grid_tuple):\n",
    "    edenn_d, edenn_n = grid_tuple\n",
    "    name = f'edenn_d={edenn_d}.0;edenn_n={edenn_n}.0'\n",
    "    output = grids[grids['name'] == name]['mse'].values[0]\n",
    "    return output"
   ]
  },
  {
   "cell_type": "code",
   "execution_count": 38,
   "metadata": {},
   "outputs": [],
   "source": [
    "data_df['mse'] = data_df[['edenn_d', 'edenn_n']].apply(\n",
    "    lambda row: get_mse(tuple(row.values)),\n",
    "    axis=1,\n",
    ")"
   ]
  },
  {
   "cell_type": "code",
   "execution_count": 39,
   "metadata": {},
   "outputs": [],
   "source": [
    "BASE_PPL = 5.606692790985107"
   ]
  },
  {
   "cell_type": "code",
   "execution_count": 40,
   "metadata": {},
   "outputs": [],
   "source": [
    "from sklearn.linear_model import LinearRegression\n",
    "\n",
    "scale_by_layer = {}\n",
    "intercept_by_layer = {}\n",
    "\n",
    "for layer_idx, layer in enumerate(layers):\n",
    "    to_fit = data_df[data_df['layer'] == layer]\n",
    "    to_fit = to_fit[to_fit['mse'] < 0.04]\n",
    "    # to_fit = to_fit[to_fit['mse'] < 4 ** -1.7]\n",
    "    # to_fit = to_fit[to_fit['wikitext2'] < 5.640]\n",
    "\n",
    "    slope = LinearRegression(fit_intercept=False).fit(to_fit['mse'].values.reshape(-1, 1), to_fit['wikitext2'] - BASE_PPL).coef_\n",
    "    \n",
    "    scale_by_layer[layer] = slope.item()\n",
    "    intercept_by_layer[layer] = BASE_PPL"
   ]
  },
  {
   "cell_type": "code",
   "execution_count": 41,
   "metadata": {},
   "outputs": [
    {
     "data": {
      "image/png": "[encoded data removed]",
      "text/plain": [
       "<Figure size 640x480 with 1 Axes>"
      ]
     },
     "metadata": {},
     "output_type": "display_data"
    }
   ],
   "source": [
    "import matplotlib\n",
    "import matplotlib.pyplot as plt\n",
    "import numpy as np\n",
    "\n",
    "\n",
    "cmap = matplotlib.colormaps[\"plasma\"]\n",
    "\n",
    "plt.scatter([0.0], [5.606692790985107])\n",
    "\n",
    "for layer_idx, layer in enumerate({'model.layers.0.mlp.down_proj'}):\n",
    "# for layer_idx, layer in enumerate(layers):\n",
    "    to_plot = data_df[data_df['layer'] == layer]\n",
    "    to_plot = to_plot[to_plot['mse'] < 0.07]\n",
    "    # to_plot = to_plot[to_plot['wikitext2'] < 5.640]\n",
    "    \n",
    "    plt.scatter(to_plot['mse'], to_plot['wikitext2'], color=cmap(layer_idx / len(layers)))\n",
    "\n",
    "    grid = np.linspace(0, to_plot['mse'].max(), 10)\n",
    "    \n",
    "    plt.plot(grid, intercept_by_layer[layer] + grid * scale_by_layer[layer], color=cmap(layer_idx / len(layers)))\n",
    "\n",
    "\n",
    "plt.title(f'{MODEL}')\n",
    "plt.xlabel('mse')\n",
    "plt.ylabel('ppl')\n",
    "plt.savefig(f'ppl_mse.png')"
   ]
  },
  {
   "cell_type": "code",
   "execution_count": 42,
   "metadata": {},
   "outputs": [
    {
     "data": {
      "text/html": [
       "<div>\n",
       "<style scoped>\n",
       "    .dataframe tbody tr th:only-of-type {\n",
       "        vertical-align: middle;\n",
       "    }\n",
       "\n",
       "    .dataframe tbody tr th {\n",
       "        vertical-align: top;\n",
       "    }\n",
       "\n",
       "    .dataframe thead th {\n",
       "        text-align: right;\n",
       "    }\n",
       "</style>\n",
       "<table border=\"1\" class=\"dataframe\">\n",
       "  <thead>\n",
       "    <tr style=\"text-align: right;\">\n",
       "      <th></th>\n",
       "      <th>layer</th>\n",
       "      <th>scale</th>\n",
       "    </tr>\n",
       "  </thead>\n",
       "  <tbody>\n",
       "    <tr>\n",
       "      <th>3</th>\n",
       "      <td>model.layers.0.self_attn.k_proj</td>\n",
       "      <td>0.010686</td>\n",
       "    </tr>\n",
       "    <tr>\n",
       "      <th>5</th>\n",
       "      <td>model.layers.0.self_attn.q_proj</td>\n",
       "      <td>0.011769</td>\n",
       "    </tr>\n",
       "    <tr>\n",
       "      <th>10</th>\n",
       "      <td>model.layers.1.self_attn.k_proj</td>\n",
       "      <td>0.012210</td>\n",
       "    </tr>\n",
       "    <tr>\n",
       "      <th>12</th>\n",
       "      <td>model.layers.1.self_attn.q_proj</td>\n",
       "      <td>0.015895</td>\n",
       "    </tr>\n",
       "    <tr>\n",
       "      <th>124</th>\n",
       "      <td>model.layers.24.self_attn.q_proj</td>\n",
       "      <td>0.017539</td>\n",
       "    </tr>\n",
       "    <tr>\n",
       "      <th>...</th>\n",
       "      <td>...</td>\n",
       "      <td>...</td>\n",
       "    </tr>\n",
       "    <tr>\n",
       "      <th>91</th>\n",
       "      <td>model.layers.20.mlp.down_proj</td>\n",
       "      <td>0.358584</td>\n",
       "    </tr>\n",
       "    <tr>\n",
       "      <th>0</th>\n",
       "      <td>model.layers.0.mlp.down_proj</td>\n",
       "      <td>0.410446</td>\n",
       "    </tr>\n",
       "    <tr>\n",
       "      <th>176</th>\n",
       "      <td>model.layers.31.mlp.gate_proj</td>\n",
       "      <td>0.458512</td>\n",
       "    </tr>\n",
       "    <tr>\n",
       "      <th>175</th>\n",
       "      <td>model.layers.31.mlp.down_proj</td>\n",
       "      <td>0.471280</td>\n",
       "    </tr>\n",
       "    <tr>\n",
       "      <th>177</th>\n",
       "      <td>model.layers.31.mlp.up_proj</td>\n",
       "      <td>0.683549</td>\n",
       "    </tr>\n",
       "  </tbody>\n",
       "</table>\n",
       "<p>224 rows × 2 columns</p>\n",
       "</div>"
      ],
      "text/plain": [
       "                                layer     scale\n",
       "3     model.layers.0.self_attn.k_proj  0.010686\n",
       "5     model.layers.0.self_attn.q_proj  0.011769\n",
       "10    model.layers.1.self_attn.k_proj  0.012210\n",
       "12    model.layers.1.self_attn.q_proj  0.015895\n",
       "124  model.layers.24.self_attn.q_proj  0.017539\n",
       "..                                ...       ...\n",
       "91      model.layers.20.mlp.down_proj  0.358584\n",
       "0        model.layers.0.mlp.down_proj  0.410446\n",
       "176     model.layers.31.mlp.gate_proj  0.458512\n",
       "175     model.layers.31.mlp.down_proj  0.471280\n",
       "177       model.layers.31.mlp.up_proj  0.683549\n",
       "\n",
       "[224 rows x 2 columns]"
      ]
     },
     "execution_count": 42,
     "metadata": {},
     "output_type": "execute_result"
    }
   ],
   "source": [
    "pd.DataFrame(scale_by_layer.items(), columns=['layer', 'scale']).sort_values('scale')"
   ]
  },
  {
   "cell_type": "code",
   "execution_count": 43,
   "metadata": {},
   "outputs": [],
   "source": [
    "from ortools.linear_solver import pywraplp\n",
    "\n",
    "def find_grids_with_budget(\n",
    "    slopes,    # linear coefficients for [layerwise mse -> metric]\n",
    "    weights,   # linear coefficients for [layer bitwidth -> total bitwidth] (1 / num_blocks for blockwise)\n",
    "    budget,    # upper bound on total bitwidth\n",
    "    grid_bits, # available grid bitwidths\n",
    "    grid_mses  # available grid mses\n",
    ") -> tuple[float, list]:\n",
    "    num_layers = len(slopes)\n",
    "    num_grids = len(grid_bits)\n",
    "    assert len(grid_mses) == num_grids\n",
    "    \n",
    "    solver = pywraplp.Solver.CreateSolver(\"CP-SAT\")\n",
    "\n",
    "    x = {(j, i) : solver.BoolVar(\"name\") for i in range(num_grids) for j in range(num_layers)}\n",
    "    \n",
    "    for j in range(num_layers) : solver.Add(sum(x[(j, i)] for i in range(num_grids)) == 1)\n",
    "    solver.Add(sum(x[(j, i)] * weights[j] * grid_bits[i] for j in range(num_layers) for i in range(num_grids)) <= budget)\n",
    "    solver.Minimize(sum(x[(j, i)] * slopes[j] * grid_mses[i] for j in range(num_layers) for i in range(num_grids)))\n",
    "\n",
    "    status = solver.Solve()\n",
    "    if status == pywraplp.Solver.OPTIMAL:\n",
    "        avg_bits = sum(x[(j, i)].solution_value() * weights[j] * grid_bits[i] for j in range(num_layers) for i in range(num_grids))\n",
    "        solution = np.asarray([[x[(j, i)].solution_value() for i in range(num_grids)] for j in range(num_layers)])\n",
    "        indices = np.argwhere(solution == 1.0)\n",
    "        assert len(indices) == num_layers\n",
    "        return avg_bits, indices[:,1]\n",
    "    else:\n",
    "        raise Exception(\"Didn't solve\")"
   ]
  },
  {
   "cell_type": "code",
   "execution_count": 58,
   "metadata": {},
   "outputs": [],
   "source": [
    "ok_grids = grids[grids['bits'] > 1.5]\n",
    "# ok_grids = grids[grids['edenn_n'].apply(lambda n: n in (2, 4, 8, 16, 256))]"
   ]
  },
  {
   "cell_type": "code",
   "execution_count": 59,
   "metadata": {},
   "outputs": [
    {
     "data": {
      "text/html": [
       "<div>\n",
       "<style scoped>\n",
       "    .dataframe tbody tr th:only-of-type {\n",
       "        vertical-align: middle;\n",
       "    }\n",
       "\n",
       "    .dataframe tbody tr th {\n",
       "        vertical-align: top;\n",
       "    }\n",
       "\n",
       "    .dataframe thead th {\n",
       "        text-align: right;\n",
       "    }\n",
       "</style>\n",
       "<table border=\"1\" class=\"dataframe\">\n",
       "  <thead>\n",
       "    <tr style=\"text-align: right;\">\n",
       "      <th></th>\n",
       "      <th>bits</th>\n",
       "      <th>mse</th>\n",
       "      <th>name</th>\n",
       "      <th>edenn_d</th>\n",
       "      <th>edenn_n</th>\n",
       "    </tr>\n",
       "  </thead>\n",
       "  <tbody>\n",
       "    <tr>\n",
       "      <th>0</th>\n",
       "      <td>4.000000</td>\n",
       "      <td>0.009693</td>\n",
       "      <td>edenn_d=1.0;edenn_n=16.0</td>\n",
       "      <td>1</td>\n",
       "      <td>16</td>\n",
       "    </tr>\n",
       "    <tr>\n",
       "      <th>2</th>\n",
       "      <td>5.000000</td>\n",
       "      <td>0.002822</td>\n",
       "      <td>edenn_d=1.0;edenn_n=32.0</td>\n",
       "      <td>1</td>\n",
       "      <td>32</td>\n",
       "    </tr>\n",
       "    <tr>\n",
       "      <th>3</th>\n",
       "      <td>2.000000</td>\n",
       "      <td>0.116292</td>\n",
       "      <td>edenn_d=1.0;edenn_n=4.0</td>\n",
       "      <td>1</td>\n",
       "      <td>4</td>\n",
       "    </tr>\n",
       "    <tr>\n",
       "      <th>4</th>\n",
       "      <td>6.000000</td>\n",
       "      <td>0.001085</td>\n",
       "      <td>edenn_d=1.0;edenn_n=64.0</td>\n",
       "      <td>1</td>\n",
       "      <td>64</td>\n",
       "    </tr>\n",
       "    <tr>\n",
       "      <th>5</th>\n",
       "      <td>3.000000</td>\n",
       "      <td>0.034860</td>\n",
       "      <td>edenn_d=1.0;edenn_n=8.0</td>\n",
       "      <td>1</td>\n",
       "      <td>8</td>\n",
       "    </tr>\n",
       "    <tr>\n",
       "      <th>8</th>\n",
       "      <td>5.000000</td>\n",
       "      <td>0.002038</td>\n",
       "      <td>edenn_d=2.0;edenn_n=1024.0</td>\n",
       "      <td>2</td>\n",
       "      <td>1024</td>\n",
       "    </tr>\n",
       "    <tr>\n",
       "      <th>9</th>\n",
       "      <td>3.500000</td>\n",
       "      <td>0.015299</td>\n",
       "      <td>edenn_d=2.0;edenn_n=128.0</td>\n",
       "      <td>2</td>\n",
       "      <td>128</td>\n",
       "    </tr>\n",
       "    <tr>\n",
       "      <th>10</th>\n",
       "      <td>2.000000</td>\n",
       "      <td>0.108354</td>\n",
       "      <td>edenn_d=2.0;edenn_n=16.0</td>\n",
       "      <td>2</td>\n",
       "      <td>16</td>\n",
       "    </tr>\n",
       "    <tr>\n",
       "      <th>12</th>\n",
       "      <td>4.000000</td>\n",
       "      <td>0.007742</td>\n",
       "      <td>edenn_d=2.0;edenn_n=256.0</td>\n",
       "      <td>2</td>\n",
       "      <td>256</td>\n",
       "    </tr>\n",
       "    <tr>\n",
       "      <th>13</th>\n",
       "      <td>2.500000</td>\n",
       "      <td>0.056591</td>\n",
       "      <td>edenn_d=2.0;edenn_n=32.0</td>\n",
       "      <td>2</td>\n",
       "      <td>32</td>\n",
       "    </tr>\n",
       "    <tr>\n",
       "      <th>15</th>\n",
       "      <td>6.000000</td>\n",
       "      <td>0.000582</td>\n",
       "      <td>edenn_d=2.0;edenn_n=4096.0</td>\n",
       "      <td>2</td>\n",
       "      <td>4096</td>\n",
       "    </tr>\n",
       "    <tr>\n",
       "      <th>16</th>\n",
       "      <td>3.000000</td>\n",
       "      <td>0.029809</td>\n",
       "      <td>edenn_d=2.0;edenn_n=64.0</td>\n",
       "      <td>2</td>\n",
       "      <td>64</td>\n",
       "    </tr>\n",
       "    <tr>\n",
       "      <th>18</th>\n",
       "      <td>3.333333</td>\n",
       "      <td>0.017251</td>\n",
       "      <td>edenn_d=3.0;edenn_n=1024.0</td>\n",
       "      <td>3</td>\n",
       "      <td>1024</td>\n",
       "    </tr>\n",
       "    <tr>\n",
       "      <th>21</th>\n",
       "      <td>3.666667</td>\n",
       "      <td>0.010954</td>\n",
       "      <td>edenn_d=3.0;edenn_n=2048.0</td>\n",
       "      <td>3</td>\n",
       "      <td>2048</td>\n",
       "    </tr>\n",
       "    <tr>\n",
       "      <th>22</th>\n",
       "      <td>2.666667</td>\n",
       "      <td>0.042149</td>\n",
       "      <td>edenn_d=3.0;edenn_n=256.0</td>\n",
       "      <td>3</td>\n",
       "      <td>256</td>\n",
       "    </tr>\n",
       "    <tr>\n",
       "      <th>23</th>\n",
       "      <td>1.666667</td>\n",
       "      <td>0.155457</td>\n",
       "      <td>edenn_d=3.0;edenn_n=32.0</td>\n",
       "      <td>3</td>\n",
       "      <td>32</td>\n",
       "    </tr>\n",
       "    <tr>\n",
       "      <th>25</th>\n",
       "      <td>4.000000</td>\n",
       "      <td>0.006948</td>\n",
       "      <td>edenn_d=3.0;edenn_n=4096.0</td>\n",
       "      <td>3</td>\n",
       "      <td>4096</td>\n",
       "    </tr>\n",
       "    <tr>\n",
       "      <th>26</th>\n",
       "      <td>3.000000</td>\n",
       "      <td>0.027009</td>\n",
       "      <td>edenn_d=3.0;edenn_n=512.0</td>\n",
       "      <td>3</td>\n",
       "      <td>512</td>\n",
       "    </tr>\n",
       "    <tr>\n",
       "      <th>27</th>\n",
       "      <td>2.000000</td>\n",
       "      <td>0.101566</td>\n",
       "      <td>edenn_d=3.0;edenn_n=64.0</td>\n",
       "      <td>3</td>\n",
       "      <td>64</td>\n",
       "    </tr>\n",
       "    <tr>\n",
       "      <th>29</th>\n",
       "      <td>2.500000</td>\n",
       "      <td>0.049994</td>\n",
       "      <td>edenn_d=4.0;edenn_n=1024.0</td>\n",
       "      <td>4</td>\n",
       "      <td>1024</td>\n",
       "    </tr>\n",
       "    <tr>\n",
       "      <th>32</th>\n",
       "      <td>2.750000</td>\n",
       "      <td>0.035588</td>\n",
       "      <td>edenn_d=4.0;edenn_n=2048.0</td>\n",
       "      <td>4</td>\n",
       "      <td>2048</td>\n",
       "    </tr>\n",
       "    <tr>\n",
       "      <th>33</th>\n",
       "      <td>2.000000</td>\n",
       "      <td>0.095966</td>\n",
       "      <td>edenn_d=4.0;edenn_n=256.0</td>\n",
       "      <td>4</td>\n",
       "      <td>256</td>\n",
       "    </tr>\n",
       "    <tr>\n",
       "      <th>36</th>\n",
       "      <td>3.000000</td>\n",
       "      <td>0.025578</td>\n",
       "      <td>edenn_d=4.0;edenn_n=4096.0</td>\n",
       "      <td>4</td>\n",
       "      <td>4096</td>\n",
       "    </tr>\n",
       "    <tr>\n",
       "      <th>37</th>\n",
       "      <td>2.250000</td>\n",
       "      <td>0.069525</td>\n",
       "      <td>edenn_d=4.0;edenn_n=512.0</td>\n",
       "      <td>4</td>\n",
       "      <td>512</td>\n",
       "    </tr>\n",
       "    <tr>\n",
       "      <th>40</th>\n",
       "      <td>2.000000</td>\n",
       "      <td>0.093365</td>\n",
       "      <td>edenn_d=5.0;edenn_n=1024.0</td>\n",
       "      <td>5</td>\n",
       "      <td>1024</td>\n",
       "    </tr>\n",
       "    <tr>\n",
       "      <th>43</th>\n",
       "      <td>2.200000</td>\n",
       "      <td>0.071777</td>\n",
       "      <td>edenn_d=5.0;edenn_n=2048.0</td>\n",
       "      <td>5</td>\n",
       "      <td>2048</td>\n",
       "    </tr>\n",
       "    <tr>\n",
       "      <th>44</th>\n",
       "      <td>1.600000</td>\n",
       "      <td>0.156232</td>\n",
       "      <td>edenn_d=5.0;edenn_n=256.0</td>\n",
       "      <td>5</td>\n",
       "      <td>256</td>\n",
       "    </tr>\n",
       "    <tr>\n",
       "      <th>47</th>\n",
       "      <td>2.400000</td>\n",
       "      <td>0.054560</td>\n",
       "      <td>edenn_d=5.0;edenn_n=4096.0</td>\n",
       "      <td>5</td>\n",
       "      <td>4096</td>\n",
       "    </tr>\n",
       "    <tr>\n",
       "      <th>48</th>\n",
       "      <td>1.800000</td>\n",
       "      <td>0.122014</td>\n",
       "      <td>edenn_d=5.0;edenn_n=512.0</td>\n",
       "      <td>5</td>\n",
       "      <td>512</td>\n",
       "    </tr>\n",
       "    <tr>\n",
       "      <th>51</th>\n",
       "      <td>1.666667</td>\n",
       "      <td>0.141370</td>\n",
       "      <td>edenn_d=6.0;edenn_n=1024.0</td>\n",
       "      <td>6</td>\n",
       "      <td>1024</td>\n",
       "    </tr>\n",
       "    <tr>\n",
       "      <th>55</th>\n",
       "      <td>1.833333</td>\n",
       "      <td>0.114496</td>\n",
       "      <td>edenn_d=6.0;edenn_n=2048.0</td>\n",
       "      <td>6</td>\n",
       "      <td>2048</td>\n",
       "    </tr>\n",
       "    <tr>\n",
       "      <th>59</th>\n",
       "      <td>2.000000</td>\n",
       "      <td>0.091225</td>\n",
       "      <td>edenn_d=6.0;edenn_n=4096.0</td>\n",
       "      <td>6</td>\n",
       "      <td>4096</td>\n",
       "    </tr>\n",
       "    <tr>\n",
       "      <th>75</th>\n",
       "      <td>16.000000</td>\n",
       "      <td>0.000000</td>\n",
       "      <td>edenn_d=-1.0;edenn_n=-1.0</td>\n",
       "      <td>-1</td>\n",
       "      <td>-1</td>\n",
       "    </tr>\n",
       "  </tbody>\n",
       "</table>\n",
       "</div>"
      ],
      "text/plain": [
       "         bits       mse                        name  edenn_d  edenn_n\n",
       "0    4.000000  0.009693    edenn_d=1.0;edenn_n=16.0        1       16\n",
       "2    5.000000  0.002822    edenn_d=1.0;edenn_n=32.0        1       32\n",
       "3    2.000000  0.116292     edenn_d=1.0;edenn_n=4.0        1        4\n",
       "4    6.000000  0.001085    edenn_d=1.0;edenn_n=64.0        1       64\n",
       "5    3.000000  0.034860     edenn_d=1.0;edenn_n=8.0        1        8\n",
       "8    5.000000  0.002038  edenn_d=2.0;edenn_n=1024.0        2     1024\n",
       "9    3.500000  0.015299   edenn_d=2.0;edenn_n=128.0        2      128\n",
       "10   2.000000  0.108354    edenn_d=2.0;edenn_n=16.0        2       16\n",
       "12   4.000000  0.007742   edenn_d=2.0;edenn_n=256.0        2      256\n",
       "13   2.500000  0.056591    edenn_d=2.0;edenn_n=32.0        2       32\n",
       "15   6.000000  0.000582  edenn_d=2.0;edenn_n=4096.0        2     4096\n",
       "16   3.000000  0.029809    edenn_d=2.0;edenn_n=64.0        2       64\n",
       "18   3.333333  0.017251  edenn_d=3.0;edenn_n=1024.0        3     1024\n",
       "21   3.666667  0.010954  edenn_d=3.0;edenn_n=2048.0        3     2048\n",
       "22   2.666667  0.042149   edenn_d=3.0;edenn_n=256.0        3      256\n",
       "23   1.666667  0.155457    edenn_d=3.0;edenn_n=32.0        3       32\n",
       "25   4.000000  0.006948  edenn_d=3.0;edenn_n=4096.0        3     4096\n",
       "26   3.000000  0.027009   edenn_d=3.0;edenn_n=512.0        3      512\n",
       "27   2.000000  0.101566    edenn_d=3.0;edenn_n=64.0        3       64\n",
       "29   2.500000  0.049994  edenn_d=4.0;edenn_n=1024.0        4     1024\n",
       "32   2.750000  0.035588  edenn_d=4.0;edenn_n=2048.0        4     2048\n",
       "33   2.000000  0.095966   edenn_d=4.0;edenn_n=256.0        4      256\n",
       "36   3.000000  0.025578  edenn_d=4.0;edenn_n=4096.0        4     4096\n",
       "37   2.250000  0.069525   edenn_d=4.0;edenn_n=512.0        4      512\n",
       "40   2.000000  0.093365  edenn_d=5.0;edenn_n=1024.0        5     1024\n",
       "43   2.200000  0.071777  edenn_d=5.0;edenn_n=2048.0        5     2048\n",
       "44   1.600000  0.156232   edenn_d=5.0;edenn_n=256.0        5      256\n",
       "47   2.400000  0.054560  edenn_d=5.0;edenn_n=4096.0        5     4096\n",
       "48   1.800000  0.122014   edenn_d=5.0;edenn_n=512.0        5      512\n",
       "51   1.666667  0.141370  edenn_d=6.0;edenn_n=1024.0        6     1024\n",
       "55   1.833333  0.114496  edenn_d=6.0;edenn_n=2048.0        6     2048\n",
       "59   2.000000  0.091225  edenn_d=6.0;edenn_n=4096.0        6     4096\n",
       "75  16.000000  0.000000   edenn_d=-1.0;edenn_n=-1.0       -1       -1"
      ]
     },
     "execution_count": 59,
     "metadata": {},
     "output_type": "execute_result"
    }
   ],
   "source": [
    "ok_grids"
   ]
  },
  {
   "cell_type": "code",
   "execution_count": 60,
   "metadata": {},
   "outputs": [
    {
     "name": "stdout",
     "output_type": "stream",
     "text": [
      "2.999949919871794 bits\n"
     ]
    }
   ],
   "source": [
    "layers = sorted(layers)\n",
    "\n",
    "scales = [scale_by_layer[layer] for layer in layers]\n",
    "numels = [get_numel(layer) for layer in layers]\n",
    "grid_names=ok_grids['name'].values\n",
    "grid_bits=ok_grids['bits'].values\n",
    "grid_mses=ok_grids['mse'].values\n",
    "\n",
    "solution_size, solution_idxs = find_grids_with_budget(\n",
    "    scales,\n",
    "    numels,\n",
    "    budget=sum(numels) * 3,\n",
    "    grid_bits=ok_grids['bits'].values,\n",
    "    grid_mses=ok_grids['mse'].values,\n",
    ")\n",
    "\n",
    "print(f'{solution_size / sum(numels)} bits')"
   ]
  },
  {
   "cell_type": "code",
   "execution_count": 61,
   "metadata": {},
   "outputs": [],
   "source": [
    "solution_names = [grid_names[idx] for idx in solution_idxs]\n",
    "solution_mses = [grid_mses[idx] for idx in solution_idxs]"
   ]
  },
  {
   "cell_type": "code",
   "execution_count": 62,
   "metadata": {},
   "outputs": [
    {
     "data": {
      "text/plain": [
       "<BarContainer object of 224 artists>"
      ]
     },
     "execution_count": 62,
     "metadata": {},
     "output_type": "execute_result"
    },
    {
     "data": {
      "image/png": "[encoded data removed]",
      "text/plain": [
       "<Figure size 640x480 with 1 Axes>"
      ]
     },
     "metadata": {},
     "output_type": "display_data"
    }
   ],
   "source": [
    "plt.bar(range(len(solution_mses)), solution_mses)"
   ]
  },
  {
   "cell_type": "code",
   "execution_count": 63,
   "metadata": {},
   "outputs": [
    {
     "data": {
      "text/plain": [
       "(0.024670672283848814, 0.0005824833642691374, 0.1413695514202118)"
      ]
     },
     "execution_count": 63,
     "metadata": {},
     "output_type": "execute_result"
    }
   ],
   "source": [
    "np.mean(solution_mses), np.min(solution_mses), np.max(solution_mses)"
   ]
  },
  {
   "cell_type": "code",
   "execution_count": 64,
   "metadata": {},
   "outputs": [
    {
     "data": {
      "text/plain": [
       "6.242172178307512"
      ]
     },
     "execution_count": 64,
     "metadata": {},
     "output_type": "execute_result"
    }
   ],
   "source": [
    "BASE_PPL + sum([scale * mse for scale, mse in zip(scales, solution_mses)])"
   ]
  },
  {
   "cell_type": "code",
   "execution_count": 65,
   "metadata": {},
   "outputs": [],
   "source": [
    "optimal_by_layer = dict(zip(layers, solution_names))"
   ]
  },
  {
   "cell_type": "code",
   "execution_count": 66,
   "metadata": {},
   "outputs": [
    {
     "name": "stdout",
     "output_type": "stream",
     "text": [
      "edenn_d=-1.0;edenn_n=-1.0\n",
      "edenn_d=2.0;edenn_n=4096.0\n",
      "edenn_d=1.0;edenn_n=64.0\n",
      "edenn_d=2.0;edenn_n=1024.0\n",
      "edenn_d=1.0;edenn_n=32.0\n",
      "edenn_d=3.0;edenn_n=4096.0\n",
      "edenn_d=2.0;edenn_n=256.0\n",
      "edenn_d=1.0;edenn_n=16.0\n",
      "edenn_d=3.0;edenn_n=2048.0\n",
      "edenn_d=2.0;edenn_n=128.0\n",
      "edenn_d=3.0;edenn_n=1024.0\n",
      "edenn_d=4.0;edenn_n=4096.0\n",
      "edenn_d=3.0;edenn_n=512.0\n",
      "edenn_d=2.0;edenn_n=64.0\n",
      "edenn_d=1.0;edenn_n=8.0\n",
      "edenn_d=4.0;edenn_n=2048.0\n",
      "edenn_d=3.0;edenn_n=256.0\n",
      "edenn_d=4.0;edenn_n=1024.0\n",
      "edenn_d=5.0;edenn_n=4096.0\n",
      "edenn_d=2.0;edenn_n=32.0\n",
      "edenn_d=4.0;edenn_n=512.0\n",
      "edenn_d=5.0;edenn_n=2048.0\n"
     ]
    }
   ],
   "source": [
    "def to_list(name):\n",
    "    return [round(float(x.split('=')[-1])) for x in name.split(';')]\n",
    "\n",
    "print(*grids[grids['bits'] > 2.0].sort_values('mse')['name'].values, sep='\\n')"
   ]
  },
  {
   "cell_type": "code",
   "execution_count": 67,
   "metadata": {},
   "outputs": [
    {
     "data": {
      "text/plain": [
       "{(1, 32),\n",
       " (1, 64),\n",
       " (2, 32),\n",
       " (2, 64),\n",
       " (2, 1024),\n",
       " (2, 4096),\n",
       " (3, 512),\n",
       " (3, 2048),\n",
       " (3, 4096),\n",
       " (4, 1024),\n",
       " (5, 2048),\n",
       " (6, 4096)}"
      ]
     },
     "execution_count": 67,
     "metadata": {},
     "output_type": "execute_result"
    }
   ],
   "source": [
    "set(data_df[['edenn_d', 'edenn_n']].apply(\n",
    "    lambda row: tuple(row.values),\n",
    "    axis=1,\n",
    "))"
   ]
  },
  {
   "cell_type": "code",
   "execution_count": 68,
   "metadata": {},
   "outputs": [
    {
     "data": {
      "text/plain": [
       "<matplotlib.collections.PathCollection at 0x7f1bcbc73050>"
      ]
     },
     "execution_count": 68,
     "metadata": {},
     "output_type": "execute_result"
    },
    {
     "data": {
      "image/png": "[encoded data removed]",
      "text/plain": [
       "<Figure size 640x480 with 1 Axes>"
      ]
     },
     "metadata": {},
     "output_type": "display_data"
    }
   ],
   "source": [
    "plt.scatter(grids['bits'], grids['mse'])"
   ]
  },
  {
   "cell_type": "code",
   "execution_count": 69,
   "metadata": {},
   "outputs": [
    {
     "name": "stdout",
     "output_type": "stream",
     "text": [
      "[[6, 1024], [4, 2048], [3, 2048], [5, 4096], [5, 4096], [5, 4096], [3, 2048], [6, 4096], [4, 4096], [2, 1024], [3, 2048], [4, 2048], [4, 4096], [3, 1024], [4, 2048], [3, 1024], [2, 4096], [5, 4096], [4, 2048], [4, 2048], [4, 4096], [4, 2048], [3, 1024], [2, 1024], [3, 1024], [4, 4096], [4, 4096], [4, 4096], [4, 2048], [3, 4096], [2, 1024], [3, 2048], [4, 4096], [4, 4096], [3, 1024], [4, 2048], [3, 4096], [2, 1024], [4, 4096], [4, 2048], [4, 4096], [4, 4096], [4, 4096], [3, 1024], [3, 4096], [3, 1024], [4, 2048], [4, 4096], [4, 4096], [4, 2048], [3, 2048], [3, 4096], [3, 1024], [4, 2048], [4, 4096], [4, 4096], [4, 4096], [3, 2048], [2, 1024], [4, 4096], [5, 4096], [4, 4096], [4, 4096], [4, 2048], [3, 4096], [3, 4096], [3, 1024], [5, 4096], [4, 2048], [4, 4096], [4, 4096], [3, 2048], [2, 1024], [3, 1024], [5, 4096], [4, 2048], [4, 2048], [4, 4096], [3, 2048], [3, 4096], [4, 4096], [5, 4096], [4, 2048], [5, 4096], [4, 2048], [3, 4096], [2, 1024], [3, 1024], [5, 4096], [4, 2048], [4, 2048], [4, 4096], [3, 2048], [2, 1024], [3, 2048], [5, 4096], [4, 2048], [4, 4096], [4, 4096], [3, 4096], [3, 4096], [3, 2048], [5, 4096], [4, 4096], [4, 4096], [4, 4096], [3, 4096], [2, 1024], [3, 1024], [4, 2048], [4, 4096], [4, 4096], [4, 4096], [3, 1024], [2, 1024], [4, 4096], [4, 2048], [4, 4096], [3, 1024], [4, 2048], [3, 2048], [2, 1024], [4, 4096], [4, 2048], [4, 4096], [3, 1024], [4, 2048], [3, 2048], [2, 1024], [3, 1024], [4, 2048], [4, 4096], [3, 1024], [4, 4096], [3, 1024], [2, 1024], [4, 4096], [4, 4096], [4, 4096], [3, 1024], [5, 4096], [3, 2048], [2, 1024], [4, 2048], [4, 4096], [3, 1024], [3, 2048], [4, 2048], [3, 2048], [2, 1024], [5, 4096], [4, 4096], [4, 4096], [3, 1024], [5, 4096], [3, 2048], [2, 1024], [4, 4096], [4, 4096], [4, 4096], [3, 1024], [5, 4096], [3, 2048], [2, 1024], [4, 2048], [4, 4096], [4, 4096], [3, 1024], [6, 4096], [3, 1024], [2, 1024], [4, 2048], [4, 4096], [4, 4096], [3, 1024], [5, 4096], [3, 2048], [2, 1024], [4, 2048], [4, 4096], [4, 4096], [3, 1024], [5, 4096], [3, 2048], [3, 4096], [4, 2048], [4, 4096], [4, 4096], [4, 4096], [5, 4096], [3, 2048], [3, 4096], [4, 4096], [4, 4096], [4, 4096], [4, 4096], [4, 2048], [3, 4096], [3, 4096], [4, 2048], [4, 4096], [4, 4096], [4, 4096], [4, 4096], [3, 2048], [3, 4096], [4, 2048], [4, 4096], [4, 4096], [4, 4096], [5, 4096], [3, 1024], [3, 4096], [4, 2048], [4, 4096], [4, 4096], [4, 4096], [4, 2048], [3, 1024], [3, 4096], [4, 4096], [3, 2048], [3, 4096], [3, 2048]]\n"
     ]
    }
   ],
   "source": [
    "layer_idx = 0\n",
    "\n",
    "def to_list(name):\n",
    "    return [round(float(x.split('=')[-1])) for x in name.split(';')]\n",
    "\n",
    "output = []\n",
    "\n",
    "for layer_idx in range(32):\n",
    "    output.append(to_list(optimal_by_layer[f'model.layers.{layer_idx}.self_attn.q_proj']))\n",
    "    output.append(to_list(optimal_by_layer[f'model.layers.{layer_idx}.self_attn.k_proj']))\n",
    "    output.append(to_list(optimal_by_layer[f'model.layers.{layer_idx}.self_attn.v_proj']))\n",
    "    output.append(to_list(optimal_by_layer[f'model.layers.{layer_idx}.self_attn.o_proj']))\n",
    "    output.append(to_list(optimal_by_layer[f'model.layers.{layer_idx}.mlp.gate_proj']))\n",
    "    output.append(to_list(optimal_by_layer[f'model.layers.{layer_idx}.mlp.up_proj']))\n",
    "    output.append(to_list(optimal_by_layer[f'model.layers.{layer_idx}.mlp.down_proj']))\n",
    "\n",
    "print(output)"
   ]
  },
  {
   "cell_type": "code",
   "execution_count": 4,
   "metadata": {},
   "outputs": [
    {
     "data": {
      "text/plain": [
       "[(2, 1024),\n",
       " (2, 4096),\n",
       " (3, 1024),\n",
       " (3, 2048),\n",
       " (3, 4096),\n",
       " (4, 2048),\n",
       " (4, 4096),\n",
       " (5, 4096),\n",
       " (6, 1024),\n",
       " (6, 4096)]"
      ]
     },
     "execution_count": 4,
     "metadata": {},
     "output_type": "execute_result"
    }
   ],
   "source": [
    "sorted(set(tuple(x) for x in [[6, 1024], [4, 2048], [3, 2048], [5, 4096], [5, 4096], [5, 4096], [3, 2048], [6, 4096], [4, 4096], [2, 1024], [3, 2048], [4, 2048], [4, 4096], [3, 1024], [4, 2048], [3, 1024], [2, 4096], [5, 4096], [4, 2048], [4, 2048], [4, 4096], [4, 2048], [3, 1024], [2, 1024], [3, 1024], [4, 4096], [4, 4096], [4, 4096], [4, 2048], [3, 4096], [2, 1024], [3, 2048], [4, 4096], [4, 4096], [3, 1024], [4, 2048], [3, 4096], [2, 1024], [4, 4096], [4, 2048], [4, 4096], [4, 4096], [4, 4096], [3, 1024], [3, 4096], [3, 1024], [4, 2048], [4, 4096], [4, 4096], [4, 2048], [3, 2048], [3, 4096], [3, 1024], [4, 2048], [4, 4096], [4, 4096], [4, 4096], [3, 2048], [2, 1024], [4, 4096], [5, 4096], [4, 4096], [4, 4096], [4, 2048], [3, 4096], [3, 4096], [3, 1024], [5, 4096], [4, 2048], [4, 4096], [4, 4096], [3, 2048], [2, 1024], [3, 1024], [5, 4096], [4, 2048], [4, 2048], [4, 4096], [3, 2048], [3, 4096], [4, 4096], [5, 4096], [4, 2048], [5, 4096], [4, 2048], [3, 4096], [2, 1024], [3, 1024], [5, 4096], [4, 2048], [4, 2048], [4, 4096], [3, 2048], [2, 1024], [3, 2048], [5, 4096], [4, 2048], [4, 4096], [4, 4096], [3, 4096], [3, 4096], [3, 2048], [5, 4096], [4, 4096], [4, 4096], [4, 4096], [3, 4096], [2, 1024], [3, 1024], [4, 2048], [4, 4096], [4, 4096], [4, 4096], [3, 1024], [2, 1024], [4, 4096], [4, 2048], [4, 4096], [3, 1024], [4, 2048], [3, 2048], [2, 1024], [4, 4096], [4, 2048], [4, 4096], [3, 1024], [4, 2048], [3, 2048], [2, 1024], [3, 1024], [4, 2048], [4, 4096], [3, 1024], [4, 4096], [3, 1024], [2, 1024], [4, 4096], [4, 4096], [4, 4096], [3, 1024], [5, 4096], [3, 2048], [2, 1024], [4, 2048], [4, 4096], [3, 1024], [3, 2048], [4, 2048], [3, 2048], [2, 1024], [5, 4096], [4, 4096], [4, 4096], [3, 1024], [5, 4096], [3, 2048], [2, 1024], [4, 4096], [4, 4096], [4, 4096], [3, 1024], [5, 4096], [3, 2048], [2, 1024], [4, 2048], [4, 4096], [4, 4096], [3, 1024], [6, 4096], [3, 1024], [2, 1024], [4, 2048], [4, 4096], [4, 4096], [3, 1024], [5, 4096], [3, 2048], [2, 1024], [4, 2048], [4, 4096], [4, 4096], [3, 1024], [5, 4096], [3, 2048], [3, 4096], [4, 2048], [4, 4096], [4, 4096], [4, 4096], [5, 4096], [3, 2048], [3, 4096], [4, 4096], [4, 4096], [4, 4096], [4, 4096], [4, 2048], [3, 4096], [3, 4096], [4, 2048], [4, 4096], [4, 4096], [4, 4096], [4, 4096], [3, 2048], [3, 4096], [4, 2048], [4, 4096], [4, 4096], [4, 4096], [5, 4096], [3, 1024], [3, 4096], [4, 2048], [4, 4096], [4, 4096], [4, 4096], [4, 2048], [3, 1024], [3, 4096], [4, 4096], [3, 2048], [3, 4096], [3, 2048]]))"
   ]
  },
  {
   "cell_type": "code",
   "execution_count": 30,
   "metadata": {},
   "outputs": [
    {
     "name": "stdout",
     "output_type": "stream",
     "text": [
      "[galqiwi d28b543] linear-layer-compression\n",
      " 2 files changed, 620 insertions(+), 1356 deletions(-)\n",
      " rewrite Vladimir/2024-09-06/gptq-linear-layer-compression/values.ipynb (86%)\n",
      "Warning: Permanently added 'github.com,64:ff9b::8c52:7904' (ECDSA) to the list of known hosts.\n",
      "Counting objects: 8, done.\n",
      "Delta compression using up to 255 threads.\n",
      "Compressing objects: 100% (8/8), done.\n",
      "Writing objects: 100% (8/8), 1.91 KiB | 976.00 KiB/s, done.\n",
      "Total 8 (delta 3), reused 0 (delta 0)\n",
      "remote: Resolving deltas: 100% (3/3), completed with 2 local objects.\u001b[K\n",
      "To github.com:galqiwi/linear-layer-compression.git\n",
      "   68a65fe..d28b543  galqiwi -> galqiwi\n"
     ]
    }
   ],
   "source": [
    "!git add . && git commit -m 'linear-layer-compression' && git push"
   ]
  },
  {
   "cell_type": "code",
   "execution_count": null,
   "metadata": {},
   "outputs": [],
   "source": []
  },
  {
   "cell_type": "code",
   "execution_count": null,
   "metadata": {},
   "outputs": [],
   "source": []
  },
  {
   "cell_type": "code",
   "execution_count": null,
   "metadata": {},
   "outputs": [],
   "source": []
  },
  {
   "cell_type": "code",
   "execution_count": null,
   "metadata": {},
   "outputs": [],
   "source": []
  },
  {
   "cell_type": "code",
   "execution_count": null,
   "metadata": {},
   "outputs": [],
   "source": []
  },
  {
   "cell_type": "code",
   "execution_count": null,
   "metadata": {},
   "outputs": [],
   "source": [
    "\n"
   ]
  }
 ],
 "metadata": {
  "kernelspec": {
   "display_name": "Python 3 (ipykernel)",
   "language": "python",
   "name": "python3"
  },
  "language_info": {
   "codemirror_mode": {
    "name": "ipython",
    "version": 3
   },
   "file_extension": ".py",
   "mimetype": "text/x-python",
   "name": "python",
   "nbconvert_exporter": "python",
   "pygments_lexer": "ipython3",
   "version": "3.12.4"
  }
 },
 "nbformat": 4,
 "nbformat_minor": 4
}
