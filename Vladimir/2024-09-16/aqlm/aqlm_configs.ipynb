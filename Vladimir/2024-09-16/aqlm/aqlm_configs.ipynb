{
 "cells": [
  {
   "cell_type": "code",
   "execution_count": 1,
   "id": "9b77cbc0-1fd9-4a74-991d-71c95478f469",
   "metadata": {},
   "outputs": [
    {
     "name": "stdout",
     "output_type": "stream",
     "text": [
      "env: CUDA_VISIBLE_DEVICES=7\n",
      "env: OMP_NUM_THREADS=16\n"
     ]
    }
   ],
   "source": [
    "%env CUDA_VISIBLE_DEVICES=7\n",
    "%env OMP_NUM_THREADS=16"
   ]
  },
  {
   "cell_type": "code",
   "execution_count": 3,
   "id": "e2123ccf-20a1-41aa-92dc-68acc492b488",
   "metadata": {},
   "outputs": [],
   "source": [
    "# !git clone https://github.com/Vahe1994/AQLM.git && cd AQLM && git checkout 559a36681398d7189297fccf3b1e59e8e030e942"
   ]
  },
  {
   "cell_type": "code",
   "execution_count": 4,
   "id": "96299d35-cbd9-4f0a-ac8c-ad75038e7044",
   "metadata": {},
   "outputs": [],
   "source": [
    "import os\n",
    "import sys\n",
    "sys.path.insert(0, 'AQLM')\n",
    "\n",
    "import time\n",
    "import random\n",
    "from tqdm.auto import trange\n",
    "\n",
    "import torch\n",
    "import torch.nn as nn\n",
    "import torch.nn.functional as F\n",
    "import transformers\n",
    "\n",
    "from src.aq import QuantizedWeight\n",
    "\n",
    "torch.set_num_threads(16)\n",
    "torch.backends.cudnn.allow_tf32 = False\n",
    "torch.backends.cuda.matmul.allow_tf32 = False\n",
    "device = torch.device('cuda' if torch.cuda.is_available() else 'cpu')"
   ]
  },
  {
   "cell_type": "code",
   "execution_count": 5,
   "id": "7925db57-8d5b-4dd7-b463-4d3b89fd2aaf",
   "metadata": {},
   "outputs": [],
   "source": [
    "# num_codebooks = 2\n",
    "# nbits_per_codebook = 8\n",
    "out_group_size = 1\n",
    "in_group_size = 8\n",
    "batch_size = 16384\n",
    "beam_size = 1\n",
    "sparsity_regularizer = 0\n",
    "print_frequency = 10\n",
    "scale_nbits = 0    # 0 means no scales, 16 means no compression;\n",
    "codebook_values_nbits = 16  # less than 16 means we quantize codebooks as well\n",
    "init_max_iter = 100\n",
    "steps_per_epoch = 100\n",
    "\n",
    "relative_mse_tolerance = 0.01"
   ]
  },
  {
   "cell_type": "code",
   "execution_count": 27,
   "id": "9ef41eef-6efa-4ca1-8605-67744ad70503",
   "metadata": {},
   "outputs": [],
   "source": [
    "def get_loss_after_quantization(reference_weight, XTX, num_codebooks, nbits_per_codebook, relative_mse_tolerance = 0.01, verbose=False):\n",
    "    def get_loss():\n",
    "        delta_weight = (quantized_weight() - reference_weight).double()\n",
    "        return (delta_weight @ XTX.double()).flatten() @ delta_weight.flatten()\n",
    "    \n",
    "    quantized_weight = QuantizedWeight(\n",
    "        XTX=XTX, reference_weight=reference_weight, num_codebooks=num_codebooks,\n",
    "        nbits_per_codebook=nbits_per_codebook, scale_nbits=scale_nbits, \n",
    "        out_group_size=out_group_size, in_group_size=in_group_size,\n",
    "        verbose=verbose, max_iter=init_max_iter,   # faster init, not tested\n",
    "    )\n",
    "    if verbose:\n",
    "        print(\"AVG bits:\", quantized_weight.estimate_nbits_per_parameter())\n",
    "    opt = torch.optim.Adam(quantized_weight.parameters(), lr=1e-4, betas=(0.0, 0.95), amsgrad=True)\n",
    "\n",
    "    previous_best_loss = float('inf')\n",
    "    best_loss = float('inf')\n",
    "    \n",
    "    for epoch in range(1_000_000_000):\n",
    "        done = False\n",
    "        \n",
    "        for step in range(steps_per_epoch):\n",
    "            loss = get_loss()\n",
    "        \n",
    "            if not torch.isfinite(loss).item():\n",
    "                raise ValueError(f\"Quantization loss is {loss}\")\n",
    "    \n",
    "            best_loss = min(loss.item(), best_loss)\n",
    "    \n",
    "            if step == 0:\n",
    "                if loss.item() / previous_best_loss > (1.0 - relative_mse_tolerance):\n",
    "                    if verbose:\n",
    "                        print(f'{previous_best_loss = }')\n",
    "                        print(f'{loss.item() = }')\n",
    "                    return quantized_weight.estimate_nbits_per_parameter(), get_loss().item()\n",
    "                    \n",
    "                    done = True\n",
    "                    break # early stopping; no updates after last epoch's beam search\n",
    "                previous_best_loss = min(previous_best_loss, loss.item())\n",
    "            \n",
    "            opt.zero_grad()\n",
    "            loss.backward()\n",
    "            opt.step()\n",
    "            \n",
    "            if verbose and ((epoch * steps_per_epoch + step) % print_frequency == 0):\n",
    "                print(f\"epoch={epoch}\\tstep={step}\\tloss={loss.item():.10f}\\t\")\n",
    "    \n",
    "        if done:\n",
    "            break\n",
    "        \n",
    "        quantized_weight.beam_search_update_codes_(\n",
    "            XTX, reference_weight, beam_size=beam_size,\n",
    "            sparsity_regularizer=sparsity_regularizer, dim_rng=random.Random(),\n",
    "            verbose=verbose,\n",
    "        )\n",
    "\n",
    "    return quantized_weight.estimate_nbits_per_parameter(), get_loss().item()"
   ]
  },
  {
   "cell_type": "code",
   "execution_count": 33,
   "id": "db0af4f4-8e69-49d0-9a87-232e1ccfb941",
   "metadata": {},
   "outputs": [],
   "source": [
    "x_test = torch.randn(1024, 1024).cuda()\n",
    "XTX = torch.eye(1024).cuda()"
   ]
  },
  {
   "cell_type": "code",
   "execution_count": 45,
   "id": "74c1fdcc-fb10-4a43-a016-0f561b9307fe",
   "metadata": {},
   "outputs": [
    {
     "name": "stdout",
     "output_type": "stream",
     "text": [
      "1 1\n",
      "1 2\n",
      "1 3\n",
      "1 4\n",
      "1 5\n",
      "1 6\n",
      "1 7\n",
      "1 8\n",
      "1 9\n",
      "1 10\n",
      "1 11\n",
      "1 12\n",
      "1 13\n",
      "1 14\n",
      "1 15\n",
      "1 16\n",
      "2 1\n",
      "2 2\n",
      "2 3\n",
      "2 4\n",
      "2 5\n",
      "2 6\n",
      "2 7\n",
      "2 8\n",
      "2 9\n",
      "2 10\n",
      "2 11\n",
      "2 12\n",
      "2 13\n",
      "2 14\n",
      "2 15\n",
      "2 16\n",
      "3 1\n",
      "3 2\n",
      "3 3\n",
      "3 4\n",
      "3 5\n",
      "3 6\n",
      "3 7\n",
      "3 8\n",
      "3 9\n",
      "3 10\n",
      "3 11\n",
      "3 12\n",
      "3 13\n",
      "3 14\n",
      "3 15\n",
      "3 16\n",
      "4 1\n",
      "4 2\n",
      "4 3\n",
      "4 4\n",
      "4 5\n",
      "4 6\n",
      "4 7\n",
      "4 8\n",
      "4 9\n",
      "4 10\n",
      "4 11\n",
      "4 12\n",
      "4 13\n",
      "4 14\n",
      "4 15\n",
      "4 16\n"
     ]
    }
   ],
   "source": [
    "import itertools\n",
    "\n",
    "configs = []\n",
    "\n",
    "for n_codebooks, n_bits_per_codebook in itertools.product(range(1, 5), range(1, 17)):\n",
    "    print(n_codebooks, n_bits_per_codebook)\n",
    "    bits, loss = get_loss_after_quantization(x_test, XTX, n_codebooks, n_bits_per_codebook)\n",
    "    loss = (loss / (x_test.norm() ** 2)).item()\n",
    "    configs.append({\n",
    "        'n_codebooks': n_codebooks,\n",
    "        'n_bits_per_codebook': n_bits_per_codebook,\n",
    "        'wbits': bits,\n",
    "        'mse': loss,\n",
    "    })"
   ]
  },
  {
   "cell_type": "code",
   "execution_count": 53,
   "id": "70fffddf-e310-49e9-af0a-b1ce8a97574a",
   "metadata": {},
   "outputs": [],
   "source": [
    "import pandas as pd\n",
    "\n",
    "configs_df = pd.DataFrame(configs)"
   ]
  },
  {
   "cell_type": "code",
   "execution_count": 61,
   "id": "1941cb82-23e5-47ba-9fd5-3ebe2df75655",
   "metadata": {},
   "outputs": [
    {
     "data": {
      "image/png": "[encoded data removed]",
      "text/plain": [
       "<Figure size 640x480 with 1 Axes>"
      ]
     },
     "metadata": {},
     "output_type": "display_data"
    }
   ],
   "source": [
    "import numpy as np\n",
    "import matplotlib.pyplot as plt\n",
    "\n",
    "to_plot = configs_df[configs_df['wbits'] < 8.0]\n",
    "\n",
    "grid = np.linspace(0, 8)\n",
    "\n",
    "plt.plot(grid, 4 ** -grid, color='red')\n",
    "plt.scatter(to_plot['wbits'], to_plot['mse'])\n",
    "\n",
    "plt.yscale('log')"
   ]
  },
  {
   "cell_type": "code",
   "execution_count": 64,
   "id": "0af3e000-5a84-439f-bae2-1303e647c79b",
   "metadata": {},
   "outputs": [
    {
     "name": "stdout",
     "output_type": "stream",
     "text": [
      ",n_codebooks,n_bits_per_codebook,wbits,mse\n",
      "0,1,1,0.140869140625,0.919545590877533\n",
      "1,1,2,0.26611328125,0.8224712610244751\n",
      "2,1,3,0.3916015625,0.7082441449165344\n",
      "3,1,4,0.517578125,0.6006791591644287\n",
      "4,1,5,0.64453125,0.5165958404541016\n",
      "5,1,6,0.7734375,0.43828025460243225\n",
      "6,1,7,0.90625,0.3716720640659332\n",
      "7,1,8,1.046875,0.3143085539340973\n",
      "8,1,9,1.203125,0.2638692259788513\n",
      "9,1,10,1.390625,0.22001385688781738\n",
      "10,1,11,1.640625,0.18064697086811066\n",
      "11,1,12,2.015625,0.1454421728849411\n",
      "12,1,13,2.640625,0.1135108694434166\n",
      "13,1,14,3.765625,0.0839976817369461\n",
      "14,1,15,5.890625,0.056254711002111435\n",
      "15,1,16,10.015625,0.028201874345541\n",
      "16,2,1,0.26611328125,0.8393333554267883\n",
      "17,2,2,0.5166015625,0.644393801689148\n",
      "18,2,3,0.767578125,0.4761597216129303\n",
      "19,2,4,1.01953125,0.35457074642181396\n",
      "20,2,5,1.2734375,0.2630593776702881\n",
      "21,2,6,1.53125,0.1916685402393341\n",
      "22,2,7,1.796875,0.13853929936885834\n",
      "23,2,8,2.078125,0.09932401776313782\n",
      "24,2,9,2.390625,0.07067837566137314\n",
      "25,2,10,2.765625,0.04867278411984444\n",
      "26,2,11,3.265625,0.03257476165890694\n",
      "27,2,12,4.015625,0.020554395392537117\n",
      "28,2,13,5.265625,0.011994834989309311\n",
      "29,2,14,7.515625,0.006007411517202854\n",
      "30,2,15,11.765625,0.002238045446574688\n",
      "31,2,16,20.015625,0.0002627053763717413\n",
      "32,3,1,0.391357421875,0.7597394585609436\n",
      "33,3,2,0.76708984375,0.48463043570518494\n",
      "34,3,3,1.1435546875,0.3175719380378723\n",
      "35,3,4,1.521484375,0.21107502281665802\n",
      "36,3,5,1.90234375,0.13604776561260223\n",
      "37,3,6,2.2890625,0.08508899807929993\n",
      "38,3,7,2.6875,0.0526263490319252\n",
      "39,3,8,3.109375,0.03231113404035568\n",
      "40,3,9,3.578125,0.0193628016859293\n",
      "41,3,10,4.140625,0.011101891286671162\n",
      "42,3,11,4.890625,0.005947984289377928\n",
      "43,3,12,6.015625,0.002924221334978938\n",
      "44,3,13,7.890625,0.0012605496449396014\n",
      "45,3,14,11.265625,0.00042937579564750195\n",
      "46,3,15,17.640625,7.36227520974353e-05\n",
      "47,3,16,30.015625,1.8091387762875222e-11\n",
      "48,4,1,0.5166015625,0.6794429421424866\n",
      "49,4,2,1.017578125,0.385371595621109\n",
      "50,4,3,1.51953125,0.2193915992975235\n",
      "51,4,4,2.0234375,0.12658466398715973\n",
      "52,4,5,2.53125,0.07119898498058319\n",
      "53,4,6,3.046875,0.0387304350733757\n",
      "54,4,7,3.578125,0.02083878591656685\n",
      "55,4,8,4.140625,0.010958339087665081\n",
      "56,4,9,4.765625,0.005519913975149393\n",
      "57,4,10,5.515625,0.002582556800916791\n",
      "58,4,11,6.515625,0.0011170415673404932\n",
      "59,4,12,8.015625,0.00042586273048073053\n",
      "60,4,13,10.515625,0.00013441266492009163\n",
      "61,4,14,15.015625,3.031856431334745e-05\n",
      "62,4,15,23.515625,5.611464075627737e-07\n",
      "63,4,16,40.015625,5.14173098054016e-06\n",
      "\n"
     ]
    }
   ],
   "source": [
    "print(configs_df.to_csv())"
   ]
  },
  {
   "cell_type": "code",
   "execution_count": null,
   "id": "09bd11de-ea07-47c7-91f7-3f17ce02ad8e",
   "metadata": {},
   "outputs": [],
   "source": [
    "\n"
   ]
  },
  {
   "cell_type": "code",
   "execution_count": null,
   "id": "e9558183-771d-446a-9c66-a5dc85498ca6",
   "metadata": {},
   "outputs": [],
   "source": []
  },
  {
   "cell_type": "code",
   "execution_count": null,
   "id": "50933e8d-1009-476d-ab87-ec35ed69e3d1",
   "metadata": {},
   "outputs": [],
   "source": []
  },
  {
   "cell_type": "code",
   "execution_count": null,
   "id": "fb53e416-9236-46e9-8138-ca6794430647",
   "metadata": {},
   "outputs": [],
   "source": []
  }
 ],
 "metadata": {
  "kernelspec": {
   "display_name": "Python 3 (ipykernel)",
   "language": "python",
   "name": "python3"
  },
  "language_info": {
   "codemirror_mode": {
    "name": "ipython",
    "version": 3
   },
   "file_extension": ".py",
   "mimetype": "text/x-python",
   "name": "python",
   "nbconvert_exporter": "python",
   "pygments_lexer": "ipython3",
   "version": "3.12.4"
  }
 },
 "nbformat": 4,
 "nbformat_minor": 5
}
