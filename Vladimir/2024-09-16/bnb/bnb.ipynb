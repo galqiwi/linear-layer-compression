{
 "cells": [
  {
   "cell_type": "code",
   "execution_count": 1,
   "id": "4e3f6b82-f9c9-41ad-bfd3-7c3c96c643f4",
   "metadata": {},
   "outputs": [
    {
     "name": "stdout",
     "output_type": "stream",
     "text": [
      "env: CUDA_VISIBLE_DEVICES=7\n",
      "env: OMP_NUM_THREADS=16\n"
     ]
    }
   ],
   "source": [
    "%env CUDA_VISIBLE_DEVICES=7\n",
    "%env OMP_NUM_THREADS=16"
   ]
  },
  {
   "cell_type": "code",
   "execution_count": 2,
   "id": "4f205468-18d1-4a22-9d32-84ec0c805662",
   "metadata": {},
   "outputs": [
    {
     "data": {
      "text/plain": [
       "<torch.autograd.grad_mode.set_grad_enabled at 0x7f0478506750>"
      ]
     },
     "execution_count": 2,
     "metadata": {},
     "output_type": "execute_result"
    }
   ],
   "source": [
    "import torch\n",
    "torch.set_grad_enabled(False)"
   ]
  },
  {
   "cell_type": "code",
   "execution_count": 3,
   "id": "14ee57a6-6ee0-4e20-b514-985c2dec0b77",
   "metadata": {},
   "outputs": [],
   "source": [
    "# MODEL = \"meta-llama/Llama-2-7b-hf\"\n",
    "MODEL = \"meta-llama/Meta-Llama-3.1-8B\"\n",
    "BASE_PPL = 5.606692790985107"
   ]
  },
  {
   "cell_type": "code",
   "execution_count": 4,
   "id": "69fdf84b-13f1-4249-9056-4ca874c9d292",
   "metadata": {},
   "outputs": [
    {
     "data": {
      "application/vnd.jupyter.widget-view+json": {
       "model_id": "b7b639c305c74b5a9aa3ca36522a6e41",
       "version_major": 2,
       "version_minor": 0
      },
      "text/plain": [
       "Loading checkpoint shards:   0%|          | 0/4 [00:00<?, ?it/s]"
      ]
     },
     "metadata": {},
     "output_type": "display_data"
    }
   ],
   "source": [
    "from transformers import AutoModelForCausalLM\n",
    "\n",
    "MODEL_PATH = '/mnt/LLM/hub/models--meta-llama--Meta-Llama-3.1-8B/snapshots/13f04ed6f85ef2aa2fd11b960a275c3e31a8069e/'\n",
    "MODEL_SEQLEN = 8192\n",
    "\n",
    "model_pt = AutoModelForCausalLM.from_pretrained(\n",
    "    MODEL_PATH,\n",
    "    trust_remote_code=True, torch_dtype=\"auto\", device_map='cpu',\n",
    ")\n",
    "\n",
    "def get_module_by_path(model, path):\n",
    "    if path == '':\n",
    "        return model\n",
    "    splitted = path.split('.', 1)\n",
    "    if len(splitted) == 1:\n",
    "        splitted.append('')\n",
    "    next_name, suffix = splitted\n",
    "\n",
    "    try:\n",
    "        next_module = model[int(next_name)]\n",
    "    except:\n",
    "        next_module = getattr(model, next_name)\n",
    "\n",
    "    return get_module_by_path(next_module, suffix)"
   ]
  },
  {
   "cell_type": "code",
   "execution_count": 5,
   "id": "26bc8131-9184-4455-bb40-1d216aaac254",
   "metadata": {},
   "outputs": [
    {
     "name": "stderr",
     "output_type": "stream",
     "text": [
      "Token indices sequence length is longer than the specified maximum sequence length for this model (289076 > 131072). Running this sequence through the model will result in indexing errors\n"
     ]
    }
   ],
   "source": [
    "from eval import *\n",
    "\n",
    "testloader = get_loaders(\n",
    "    'wikitext2',\n",
    "    seed=0,\n",
    "    model_path=MODEL_PATH,\n",
    "    seqlen=MODEL_SEQLEN,\n",
    "    eval_mode=True,\n",
    "    use_fast_tokenizer=False,\n",
    "    trust_remote_code=False,\n",
    ")\n",
    "\n",
    "def eval_ppl(\n",
    "    model,\n",
    "    model_path=MODEL_PATH,\n",
    "    model_seqlen=MODEL_SEQLEN,\n",
    "    device = 'cuda:0',\n",
    "    # ppl_datasets = ('wikitext2',),\n",
    "    trust_remote_code=False,\n",
    "    offload_activations=False,\n",
    "):\n",
    "    output = {}\n",
    "    \n",
    "    ppl = perplexity_eval(\n",
    "        model,\n",
    "        testloader,\n",
    "        dataset_name='wikitext2',\n",
    "        model_seqlen=model_seqlen,\n",
    "        device=device,\n",
    "        offload_activations=offload_activations,\n",
    "    )\n",
    "    output['wikitext2'] = ppl\n",
    "    # make sure that the cache is released\n",
    "    torch.cuda.empty_cache()\n",
    "    \n",
    "    return output"
   ]
  },
  {
   "cell_type": "code",
   "execution_count": 6,
   "id": "5add09d8-4b7e-4db7-89ee-0fe9fbb7ce17",
   "metadata": {},
   "outputs": [],
   "source": [
    "import torch\n",
    "import bitsandbytes as bnb\n",
    "\n",
    "@torch.no_grad()\n",
    "def _quantize_dequantize_bnb_8(weight):\n",
    "    out_features, in_features = weight.shape\n",
    "    w = bnb.nn.Linear8bitLt(\n",
    "        in_features,\n",
    "        out_features,\n",
    "        bias=False,\n",
    "        has_fp16_weights=False,\n",
    "        threshold=6.0,  # Default from the LLM.int8() paper\n",
    "    )\n",
    "    w.weight = bnb.nn.Int8Params(\n",
    "        weight, requires_grad=False, has_fp16_weights=False\n",
    "    ).to(weight.dtype)\n",
    "    w.cuda()\n",
    "\n",
    "    # hacky dequantization\n",
    "    output = w(torch.eye(in_features).half().cuda()).T.contiguous()\n",
    "\n",
    "    assert output.shape == weight.shape, (output.shape, weight.shape)\n",
    "\n",
    "    return output\n",
    "\n",
    "\n",
    "@torch.no_grad()\n",
    "def quantize_dequantize_bnb_8(weight):\n",
    "    # chunked processing for large in_features\n",
    "    \n",
    "    BLOCK_SIZE = 8192\n",
    "    \n",
    "    out_features, in_features = weight.shape\n",
    "    \n",
    "    output = []\n",
    "    for begin in range(0, in_features, BLOCK_SIZE):\n",
    "        end = min(begin + BLOCK_SIZE, in_features)\n",
    "\n",
    "        chunk = weight[:, begin:end]\n",
    "        \n",
    "        output.append(\n",
    "            _quantize_dequantize_bnb_8(chunk)\n",
    "        )\n",
    "\n",
    "    return torch.cat(output, dim=1)\n",
    "\n",
    "\n",
    "@torch.no_grad()\n",
    "def _quantize_dequantize_bnb_4(weight):\n",
    "    out_features, in_features = weight.shape\n",
    "    w = bnb.nn.LinearNF4(\n",
    "        in_features,\n",
    "        out_features,\n",
    "        bias=False,\n",
    "    )\n",
    "    w.weight = bnb.nn.Params4bit(\n",
    "        weight, requires_grad=False, quant_type=\"nf4\", blocksize=64,\n",
    "    ).to(weight.dtype)\n",
    "    w.cuda()\n",
    "    \n",
    "    output = w(torch.eye(in_features).half().cuda()).T.contiguous()\n",
    "\n",
    "    assert output.shape == weight.shape, (output.shape, weight.shape)\n",
    "\n",
    "    return output\n",
    "\n",
    "\n",
    "@torch.no_grad()\n",
    "def quantize_dequantize_bnb_4(weight):\n",
    "    # chunked processing for large in_features\n",
    "    \n",
    "    BLOCK_SIZE = 8192\n",
    "    \n",
    "    out_features, in_features = weight.shape\n",
    "    \n",
    "    output = []\n",
    "    for begin in range(0, in_features, BLOCK_SIZE):\n",
    "        end = min(begin + BLOCK_SIZE, in_features)\n",
    "\n",
    "        chunk = weight[:, begin:end]\n",
    "        \n",
    "        output.append(\n",
    "            _quantize_dequantize_bnb_4(chunk)\n",
    "        )\n",
    "\n",
    "    return torch.cat(output, dim=1)"
   ]
  },
  {
   "cell_type": "code",
   "execution_count": 7,
   "id": "8f09fe4e-bf3e-4e28-b7fb-34d8af32aa09",
   "metadata": {},
   "outputs": [],
   "source": [
    "import functools\n",
    "\n",
    "\n",
    "@functools.cache\n",
    "def get_numel(path):\n",
    "    return get_module_by_path(model_pt, path).weight.numel()\n",
    "\n",
    "total_params = sum(p.numel() for p in model_pt.model.layers.parameters())"
   ]
  },
  {
   "cell_type": "code",
   "execution_count": 8,
   "id": "83e288e3-c028-409e-acc7-ef68f152fca1",
   "metadata": {},
   "outputs": [],
   "source": [
    "import tqdm\n",
    "import pandas as pd \n",
    "import wandb\n",
    "import functools\n",
    "\n",
    "\n",
    "@functools.cache\n",
    "def get_df_from_wandb(path):\n",
    "    api = wandb.Api()\n",
    "\n",
    "    # Project is specified by <entity/project-name>\n",
    "    runs = api.runs(path)\n",
    "    \n",
    "    data_df_lines = []\n",
    "    for run in tqdm.tqdm(runs): \n",
    "        data_df_lines.append({\n",
    "            'Name': run.name,\n",
    "            'Commit': run.commit,\n",
    "            **run.summary._json_dict,\n",
    "            **{k: v for k,v in run.config.items() if not k.startswith('_')},\n",
    "        })\n",
    "    data_df = pd.DataFrame(data_df_lines)\n",
    "    return data_df"
   ]
  },
  {
   "cell_type": "code",
   "execution_count": 9,
   "id": "9455cada-8fa3-4d48-9a36-a5f0bffb3532",
   "metadata": {},
   "outputs": [
    {
     "name": "stderr",
     "output_type": "stream",
     "text": [
      "/var/tmp/ipykernel_919456/2033343197.py:2: DtypeWarning: Columns (22) have mixed types. Specify dtype option on import or set low_memory=False.\n",
      "  data_df = pd.read_csv('/tmp/galqiwi/NOISY_MSE_ONE_LINEAR_LAYER_GALQIWI_PPL.csv')\n"
     ]
    }
   ],
   "source": [
    "# data_df = get_df_from_wandb('rock-and-roll/NOISY_MSE_ONE_LINEAR_LAYER_GALQIWI_PPL')\n",
    "data_df = pd.read_csv('/tmp/galqiwi/NOISY_MSE_ONE_LINEAR_LAYER_GALQIWI_PPL.csv')\n",
    "\n",
    "data_df['layer'] = data_df['layer_name']\n",
    "data_df['mse'] = data_df['relative_mse']\n",
    "\n",
    "data_df = data_df[data_df['base_model'] == MODEL]\n",
    "\n",
    "data_df = data_df[['layer', 'mse', 'wikitext2']]\n",
    "data_df = data_df.dropna().copy()\n",
    "\n",
    "from sklearn.linear_model import LinearRegression\n",
    "\n",
    "layers = sorted(set(data_df['layer']))\n",
    "\n",
    "scale_by_layer = {}\n",
    "intercept_by_layer = {}\n",
    "\n",
    "for layer_idx, layer in enumerate(layers):\n",
    "    to_fit = data_df[data_df['layer'] == layer]\n",
    "    to_fit = to_fit[to_fit['mse'] < 4 ** -1.7]\n",
    "    # to_fit = to_fit[to_fit['wikitext2'] < 5.640]\n",
    "\n",
    "    slope = LinearRegression(fit_intercept=False).fit(to_fit['mse'].values.reshape(-1, 1), to_fit['wikitext2'] - BASE_PPL).coef_\n",
    "    \n",
    "    scale_by_layer[layer] = slope.item()\n",
    "    intercept_by_layer[layer] = BASE_PPL"
   ]
  },
  {
   "cell_type": "code",
   "execution_count": 10,
   "id": "69e57674-2379-45c5-8df5-060d2f7b7449",
   "metadata": {},
   "outputs": [
    {
     "data": {
      "image/png": "[encoded data removed]",
      "text/plain": [
       "<Figure size 640x480 with 1 Axes>"
      ]
     },
     "metadata": {},
     "output_type": "display_data"
    }
   ],
   "source": [
    "import matplotlib\n",
    "import matplotlib.pyplot as plt\n",
    "import numpy as np\n",
    "\n",
    "\n",
    "cmap = matplotlib.colormaps[\"plasma\"]\n",
    "\n",
    "plt.scatter([0.0], [5.606692790985107])\n",
    "\n",
    "for layer_idx, layer in enumerate({'model.layers.0.self_attn.k_proj'}):\n",
    "# for layer_idx, layer in enumerate(layers):\n",
    "    to_plot = data_df[data_df['layer'] == layer]\n",
    "    to_plot = to_plot[to_plot['mse'] < 0.07]\n",
    "    # to_plot = to_plot[to_plot['wikitext2'] < 5.640]\n",
    "    \n",
    "    plt.scatter(to_plot['mse'], to_plot['wikitext2'], color=cmap(layer_idx / len(layers)))\n",
    "\n",
    "    grid = np.linspace(0, to_plot['mse'].max(), 10)\n",
    "    \n",
    "    plt.plot(grid, intercept_by_layer[layer] + grid * scale_by_layer[layer], color=cmap(layer_idx / len(layers)))\n",
    "\n",
    "\n",
    "plt.title(f'{MODEL}')\n",
    "plt.xlabel('mse')\n",
    "plt.ylabel('ppl')\n",
    "plt.savefig(f'ppl_mse.png')"
   ]
  },
  {
   "cell_type": "code",
   "execution_count": 11,
   "id": "ac306ac9-a113-42fa-a9a4-6eece638be31",
   "metadata": {},
   "outputs": [],
   "source": [
    "from ortools.linear_solver import pywraplp\n",
    "\n",
    "def find_grids_with_budget(\n",
    "    slopes,    # linear coefficients for [layerwise mse -> metric]\n",
    "    weights,   # linear coefficients for [layer bitwidth -> total bitwidth] (1 / num_blocks for blockwise)\n",
    "    budget,    # upper bound on total bitwidth\n",
    "    grid_bits, # available grid bitwidths\n",
    "    grid_mses  # available grid mses\n",
    ") -> tuple[float, list]:\n",
    "    num_layers = len(slopes)\n",
    "    num_grids = len(grid_bits)\n",
    "    assert len(grid_mses) == num_grids\n",
    "    \n",
    "    solver = pywraplp.Solver.CreateSolver(\"CP-SAT\")\n",
    "\n",
    "    x = {(j, i) : solver.BoolVar(\"name\") for i in range(num_grids) for j in range(num_layers)}\n",
    "    \n",
    "    for j in range(num_layers) : solver.Add(sum(x[(j, i)] for i in range(num_grids)) == 1)\n",
    "    solver.Add(sum(x[(j, i)] * weights[j] * grid_bits[i] for j in range(num_layers) for i in range(num_grids)) <= budget)\n",
    "    solver.Minimize(sum(x[(j, i)] * slopes[j] * grid_mses[i] for j in range(num_layers) for i in range(num_grids)))\n",
    "\n",
    "    status = solver.Solve()\n",
    "    if status == pywraplp.Solver.OPTIMAL:\n",
    "        avg_bits = sum(x[(j, i)].solution_value() * weights[j] * grid_bits[i] for j in range(num_layers) for i in range(num_grids))\n",
    "        solution = np.asarray([[x[(j, i)].solution_value() for i in range(num_grids)] for j in range(num_layers)])\n",
    "        indices = np.argwhere(solution == 1.0)\n",
    "        assert len(indices) == num_layers\n",
    "        return avg_bits, indices[:,1]\n",
    "    else:\n",
    "        raise Exception(\"Didn't solve\")"
   ]
  },
  {
   "cell_type": "code",
   "execution_count": 131,
   "id": "8cf57413-c37b-47c4-bf72-e9c127de17a4",
   "metadata": {},
   "outputs": [
    {
     "data": {
      "text/html": [
       "<div>\n",
       "<style scoped>\n",
       "    .dataframe tbody tr th:only-of-type {\n",
       "        vertical-align: middle;\n",
       "    }\n",
       "\n",
       "    .dataframe tbody tr th {\n",
       "        vertical-align: top;\n",
       "    }\n",
       "\n",
       "    .dataframe thead th {\n",
       "        text-align: right;\n",
       "    }\n",
       "</style>\n",
       "<table border=\"1\" class=\"dataframe\">\n",
       "  <thead>\n",
       "    <tr style=\"text-align: right;\">\n",
       "      <th></th>\n",
       "      <th>name</th>\n",
       "      <th>bits</th>\n",
       "      <th>mse</th>\n",
       "    </tr>\n",
       "  </thead>\n",
       "  <tbody>\n",
       "    <tr>\n",
       "      <th>0</th>\n",
       "      <td>fp16</td>\n",
       "      <td>16</td>\n",
       "      <td>2.328306e-10</td>\n",
       "    </tr>\n",
       "    <tr>\n",
       "      <th>1</th>\n",
       "      <td>bnb-8</td>\n",
       "      <td>8</td>\n",
       "      <td>6.132454e-05</td>\n",
       "    </tr>\n",
       "    <tr>\n",
       "      <th>2</th>\n",
       "      <td>bnb-4</td>\n",
       "      <td>4</td>\n",
       "      <td>8.472871e-03</td>\n",
       "    </tr>\n",
       "  </tbody>\n",
       "</table>\n",
       "</div>"
      ],
      "text/plain": [
       "    name  bits           mse\n",
       "0   fp16    16  2.328306e-10\n",
       "1  bnb-8     8  6.132454e-05\n",
       "2  bnb-4     4  8.472871e-03"
      ]
     },
     "execution_count": 131,
     "metadata": {},
     "output_type": "execute_result"
    }
   ],
   "source": [
    "test_input = torch.randn((1024, 1024), device='cuda')\n",
    "\n",
    "ok_grids = pd.DataFrame([{\n",
    "    'name': 'fp16',\n",
    "    'bits': 16,\n",
    "    'mse': 4 ** -16, # should be zero, but it breaks solver\n",
    "}, {\n",
    "    'name': 'bnb-8',\n",
    "    'bits': 8,\n",
    "    'mse': (((quantize_dequantize_bnb_8(x) - x).norm() ** 2) / (x.norm() ** 2)).item(),\n",
    "}, {\n",
    "    'name': 'bnb-4',\n",
    "    'bits': 4,\n",
    "    'mse': (((quantize_dequantize_bnb_4(x) - x).norm() ** 2) / (x.norm() ** 2)).item(),\n",
    "}])\n",
    "\n",
    "ok_grids"
   ]
  },
  {
   "cell_type": "code",
   "execution_count": 132,
   "id": "66f4526c-c684-4f03-9fe2-a4060c814fe7",
   "metadata": {},
   "outputs": [
    {
     "data": {
      "text/plain": [
       "LlamaForCausalLM(\n",
       "  (model): LlamaModel(\n",
       "    (embed_tokens): Embedding(128256, 4096)\n",
       "    (layers): ModuleList(\n",
       "      (0-31): 32 x LlamaDecoderLayer(\n",
       "        (self_attn): LlamaSdpaAttention(\n",
       "          (q_proj): Linear(in_features=4096, out_features=4096, bias=False)\n",
       "          (k_proj): Linear(in_features=4096, out_features=1024, bias=False)\n",
       "          (v_proj): Linear(in_features=4096, out_features=1024, bias=False)\n",
       "          (o_proj): Linear(in_features=4096, out_features=4096, bias=False)\n",
       "          (rotary_emb): LlamaRotaryEmbedding()\n",
       "        )\n",
       "        (mlp): LlamaMLP(\n",
       "          (gate_proj): Linear(in_features=4096, out_features=14336, bias=False)\n",
       "          (up_proj): Linear(in_features=4096, out_features=14336, bias=False)\n",
       "          (down_proj): Linear(in_features=14336, out_features=4096, bias=False)\n",
       "          (act_fn): SiLU()\n",
       "        )\n",
       "        (input_layernorm): LlamaRMSNorm((4096,), eps=1e-05)\n",
       "        (post_attention_layernorm): LlamaRMSNorm((4096,), eps=1e-05)\n",
       "      )\n",
       "    )\n",
       "    (norm): LlamaRMSNorm((4096,), eps=1e-05)\n",
       "    (rotary_emb): LlamaRotaryEmbedding()\n",
       "  )\n",
       "  (lm_head): Linear(in_features=4096, out_features=128256, bias=False)\n",
       ")"
      ]
     },
     "execution_count": 132,
     "metadata": {},
     "output_type": "execute_result"
    }
   ],
   "source": [
    "model_pt"
   ]
  },
  {
   "cell_type": "code",
   "execution_count": 133,
   "id": "ec5f58fa-fc4b-4ab5-94c4-9c4d0f9975a1",
   "metadata": {},
   "outputs": [
    {
     "name": "stdout",
     "output_type": "stream",
     "text": [
      "7.997596153846154 bits\n"
     ]
    }
   ],
   "source": [
    "layers = sorted(layers)\n",
    "\n",
    "scales = [scale_by_layer[layer] for layer in layers]\n",
    "numels = [get_numel(layer) for layer in layers]\n",
    "grid_names=ok_grids['name'].values\n",
    "grid_bits=ok_grids['bits'].values\n",
    "grid_mses=ok_grids['mse'].values\n",
    "\n",
    "solution_size, solution_idxs = find_grids_with_budget(\n",
    "    scales,\n",
    "    numels,\n",
    "    budget=sum(numels) * 8,\n",
    "    grid_bits=ok_grids['bits'].values,\n",
    "    grid_mses=ok_grids['mse'].values,\n",
    ")\n",
    "\n",
    "print(f'{solution_size / sum(numels)} bits')"
   ]
  },
  {
   "cell_type": "code",
   "execution_count": 134,
   "id": "1fba2414-8a3e-4cfb-bc17-9147c5966db1",
   "metadata": {},
   "outputs": [
    {
     "data": {
      "text/plain": [
       "0.004150841340810637"
      ]
     },
     "execution_count": 134,
     "metadata": {},
     "output_type": "execute_result"
    }
   ],
   "source": [
    "sum([scale * ok_grids['mse'].values[solution_idx] for solution_idx, scale in zip(solution_idxs, scales)])"
   ]
  },
  {
   "cell_type": "code",
   "execution_count": 135,
   "id": "6fded4f8-027b-43fd-932f-ee3c252edfd3",
   "metadata": {},
   "outputs": [
    {
     "data": {
      "text/plain": [
       "[('model.layers.0.self_attn.k_proj', 4194304, 2),\n",
       " ('model.layers.0.self_attn.q_proj', 16777216, 2),\n",
       " ('model.layers.0.self_attn.v_proj', 4194304, 0),\n",
       " ('model.layers.1.self_attn.v_proj', 4194304, 0)]"
      ]
     },
     "execution_count": 135,
     "metadata": {},
     "output_type": "execute_result"
    }
   ],
   "source": [
    "list([(layer, get_numel(layer), idx) for layer, idx in zip(layers, solution_idxs) if idx != 1])"
   ]
  },
  {
   "cell_type": "code",
   "execution_count": 126,
   "id": "f7b17edf-38fc-482c-a381-0942e0a5ccef",
   "metadata": {},
   "outputs": [],
   "source": [
    "def get_module_by_path(model, path):\n",
    "    if path == '':\n",
    "        return model\n",
    "    splitted = path.split('.', 1)\n",
    "    if len(splitted) == 1:\n",
    "        splitted.append('')\n",
    "    next_name, suffix = splitted\n",
    "\n",
    "    try:\n",
    "        next_module = model[int(next_name)]\n",
    "    except:\n",
    "        next_module = getattr(model, next_name)\n",
    "\n",
    "    return get_module_by_path(next_module, suffix)"
   ]
  },
  {
   "cell_type": "code",
   "execution_count": 127,
   "id": "9726d764-d3d2-48ad-9132-60f5bb2cbf67",
   "metadata": {},
   "outputs": [],
   "source": [
    "model_pt = model_pt.cuda()"
   ]
  },
  {
   "cell_type": "code",
   "execution_count": 17,
   "id": "7007a491-5c66-471d-817f-e1f11ac46333",
   "metadata": {},
   "outputs": [
    {
     "name": "stderr",
     "output_type": "stream",
     "text": [
      "The attention layers in this model are transitioning from computing the RoPE embeddings internally through `position_ids` (2D tensor with the indexes of the tokens), to using externally computed `position_embeddings` (Tuple of tensors, containing cos and sin). In v4.45 `position_ids` will be removed and `position_embeddings` will be mandatory.\n"
     ]
    },
    {
     "data": {
      "text/plain": [
       "{'wikitext2': 5.606260776519775}"
      ]
     },
     "execution_count": 17,
     "metadata": {},
     "output_type": "execute_result"
    }
   ],
   "source": [
    "eval_ppl(model_pt)"
   ]
  },
  {
   "cell_type": "code",
   "execution_count": 128,
   "id": "32716fe0-b7d1-4909-a44e-9116fd24c234",
   "metadata": {
    "scrolled": true
   },
   "outputs": [
    {
     "name": "stderr",
     "output_type": "stream",
     "text": [
      "\n",
      "  0%|                                                   | 0/224 [00:00<?, ?it/s]\u001b[A\n",
      "  0%|▏                                          | 1/224 [00:00<02:20,  1.59it/s]\u001b[A\n",
      "  1%|▍                                          | 2/224 [00:01<02:02,  1.81it/s]\u001b[A\n",
      "  1%|▌                                          | 3/224 [00:01<01:57,  1.88it/s]\u001b[A\n",
      "  2%|▉                                          | 5/224 [00:01<01:04,  3.40it/s]\u001b[A\n",
      "  3%|█▏                                         | 6/224 [00:02<00:56,  3.87it/s]\u001b[A\n",
      "  4%|█▋                                         | 9/224 [00:02<00:44,  4.81it/s]\u001b[A\n",
      "  4%|█▉                                        | 10/224 [00:03<00:57,  3.74it/s]\u001b[A\n",
      "  5%|██▎                                       | 12/224 [00:03<00:44,  4.76it/s]\u001b[A\n",
      "  6%|██▍                                       | 13/224 [00:03<00:42,  4.99it/s]\u001b[A\n",
      "  7%|██▊                                       | 15/224 [00:04<00:50,  4.10it/s]\u001b[A\n",
      "  7%|███                                       | 16/224 [00:04<01:02,  3.33it/s]\u001b[A\n",
      "  8%|███▏                                      | 17/224 [00:05<01:12,  2.87it/s]\u001b[A\n",
      "  8%|███▌                                      | 19/224 [00:05<00:52,  3.93it/s]\u001b[A\n",
      "  9%|███▊                                      | 20/224 [00:05<00:48,  4.25it/s]\u001b[A\n",
      " 10%|████▏                                     | 22/224 [00:06<00:55,  3.61it/s]\u001b[A\n",
      " 10%|████▎                                     | 23/224 [00:06<01:05,  3.07it/s]\u001b[A\n",
      " 11%|████▌                                     | 24/224 [00:07<01:13,  2.73it/s]\u001b[A\n",
      " 12%|████▉                                     | 26/224 [00:07<00:52,  3.79it/s]\u001b[A\n",
      " 12%|█████                                     | 27/224 [00:07<00:47,  4.14it/s]\u001b[A\n",
      " 13%|█████▍                                    | 29/224 [00:08<00:53,  3.62it/s]\u001b[A\n",
      " 13%|█████▋                                    | 30/224 [00:08<01:03,  3.07it/s]\u001b[A\n",
      " 14%|█████▊                                    | 31/224 [00:09<01:10,  2.74it/s]\u001b[A\n",
      " 15%|██████▏                                   | 33/224 [00:09<00:49,  3.82it/s]\u001b[A\n",
      " 15%|██████▎                                   | 34/224 [00:09<00:45,  4.17it/s]\u001b[A\n",
      " 16%|██████▊                                   | 36/224 [00:10<00:51,  3.63it/s]\u001b[A\n",
      " 17%|██████▉                                   | 37/224 [00:10<01:00,  3.10it/s]\u001b[A\n",
      " 17%|███████▏                                  | 38/224 [00:11<01:07,  2.77it/s]\u001b[A\n",
      " 18%|███████▌                                  | 40/224 [00:11<00:47,  3.87it/s]\u001b[A\n",
      " 18%|███████▋                                  | 41/224 [00:11<00:43,  4.22it/s]\u001b[A\n",
      " 19%|████████                                  | 43/224 [00:12<00:47,  3.80it/s]\u001b[A\n",
      " 20%|████████▎                                 | 44/224 [00:12<00:56,  3.19it/s]\u001b[A\n",
      " 20%|████████▍                                 | 45/224 [00:13<01:03,  2.81it/s]\u001b[A\n",
      " 21%|████████▊                                 | 47/224 [00:13<00:45,  3.91it/s]\u001b[A\n",
      " 21%|█████████                                 | 48/224 [00:13<00:41,  4.25it/s]\u001b[A\n",
      " 22%|█████████▍                                | 50/224 [00:14<00:48,  3.61it/s]\u001b[A\n",
      " 23%|█████████▌                                | 51/224 [00:14<01:00,  2.85it/s]\u001b[A\n",
      " 23%|█████████▊                                | 52/224 [00:15<01:13,  2.33it/s]\u001b[A\n",
      " 24%|██████████▏                               | 54/224 [00:15<00:53,  3.20it/s]\u001b[A\n",
      " 25%|██████████▎                               | 55/224 [00:16<00:49,  3.39it/s]\u001b[A\n",
      " 25%|██████████▋                               | 57/224 [00:16<00:56,  2.93it/s]\u001b[A\n",
      " 26%|██████████▉                               | 58/224 [00:17<01:06,  2.49it/s]\u001b[A\n",
      " 26%|███████████                               | 59/224 [00:18<01:16,  2.17it/s]\u001b[A\n",
      " 27%|███████████▍                              | 61/224 [00:18<00:55,  2.95it/s]\u001b[A\n",
      " 28%|███████████▋                              | 62/224 [00:18<00:49,  3.25it/s]\u001b[A\n",
      " 29%|████████████                              | 64/224 [00:19<00:55,  2.90it/s]\u001b[A\n",
      " 29%|████████████▏                             | 65/224 [00:20<01:06,  2.41it/s]\u001b[A\n",
      " 29%|████████████▍                             | 66/224 [00:20<01:13,  2.16it/s]\u001b[A\n",
      " 30%|████████████▋                             | 68/224 [00:21<00:51,  3.03it/s]\u001b[A\n",
      " 31%|████████████▉                             | 69/224 [00:21<00:46,  3.31it/s]\u001b[A\n",
      " 32%|█████████████▎                            | 71/224 [00:22<00:52,  2.89it/s]\u001b[A\n",
      " 32%|█████████████▌                            | 72/224 [00:22<01:01,  2.48it/s]\u001b[A\n",
      " 33%|█████████████▋                            | 73/224 [00:23<01:07,  2.23it/s]\u001b[A\n",
      " 33%|██████████████                            | 75/224 [00:23<00:47,  3.11it/s]\u001b[A\n",
      " 34%|██████████████▎                           | 76/224 [00:23<00:43,  3.39it/s]\u001b[A\n",
      " 35%|██████████████▋                           | 78/224 [00:24<00:48,  2.99it/s]\u001b[A\n",
      " 35%|██████████████▊                           | 79/224 [00:25<00:56,  2.59it/s]\u001b[A\n",
      " 36%|███████████████                           | 80/224 [00:25<01:01,  2.36it/s]\u001b[A\n",
      " 37%|███████████████▎                          | 82/224 [00:25<00:42,  3.32it/s]\u001b[A\n",
      " 37%|███████████████▌                          | 83/224 [00:26<00:38,  3.64it/s]\u001b[A\n",
      " 38%|███████████████▉                          | 85/224 [00:26<00:43,  3.18it/s]\u001b[A\n",
      " 38%|████████████████▏                         | 86/224 [00:27<00:50,  2.74it/s]\u001b[A\n",
      " 39%|████████████████▎                         | 87/224 [00:27<00:57,  2.40it/s]\u001b[A\n",
      " 40%|████████████████▋                         | 89/224 [00:28<00:41,  3.25it/s]\u001b[A\n",
      " 40%|████████████████▉                         | 90/224 [00:28<00:37,  3.53it/s]\u001b[A\n",
      " 41%|█████████████████▎                        | 92/224 [00:29<00:43,  3.01it/s]\u001b[A\n",
      " 42%|█████████████████▍                        | 93/224 [00:29<00:51,  2.57it/s]\u001b[A\n",
      " 42%|█████████████████▋                        | 94/224 [00:30<00:57,  2.27it/s]\u001b[A\n",
      " 43%|██████████████████                        | 96/224 [00:30<00:40,  3.15it/s]\u001b[A\n",
      " 43%|██████████████████▏                       | 97/224 [00:30<00:37,  3.41it/s]\u001b[A\n",
      " 44%|██████████████████▌                       | 99/224 [00:31<00:42,  2.96it/s]\u001b[A\n",
      " 45%|██████████████████▎                      | 100/224 [00:32<00:49,  2.52it/s]\u001b[A\n",
      " 45%|██████████████████▍                      | 101/224 [00:32<00:54,  2.26it/s]\u001b[A\n",
      " 46%|██████████████████▊                      | 103/224 [00:33<00:38,  3.17it/s]\u001b[A\n",
      " 46%|███████████████████                      | 104/224 [00:33<00:34,  3.48it/s]\u001b[A\n",
      " 47%|███████████████████▍                     | 106/224 [00:34<00:39,  2.98it/s]\u001b[A\n",
      " 48%|███████████████████▌                     | 107/224 [00:34<00:45,  2.56it/s]\u001b[A\n",
      " 48%|███████████████████▊                     | 108/224 [00:35<00:51,  2.27it/s]\u001b[A\n",
      " 49%|████████████████████▏                    | 110/224 [00:35<00:35,  3.17it/s]\u001b[A\n",
      " 50%|████████████████████▎                    | 111/224 [00:35<00:32,  3.47it/s]\u001b[A\n",
      " 50%|████████████████████▋                    | 113/224 [00:36<00:36,  3.03it/s]\u001b[A\n",
      " 51%|████████████████████▊                    | 114/224 [00:37<00:42,  2.57it/s]\u001b[A\n",
      " 51%|█████████████████████                    | 115/224 [00:37<00:47,  2.28it/s]\u001b[A\n",
      " 52%|█████████████████████▍                   | 117/224 [00:38<00:33,  3.19it/s]\u001b[A\n",
      " 53%|█████████████████████▌                   | 118/224 [00:38<00:30,  3.48it/s]\u001b[A\n",
      " 54%|█████████████████████▉                   | 120/224 [00:39<00:34,  3.06it/s]\u001b[A\n",
      " 54%|██████████████████████▏                  | 121/224 [00:39<00:39,  2.63it/s]\u001b[A\n",
      " 54%|██████████████████████▎                  | 122/224 [00:40<00:43,  2.33it/s]\u001b[A\n",
      " 55%|██████████████████████▋                  | 124/224 [00:40<00:30,  3.26it/s]\u001b[A\n",
      " 56%|██████████████████████▉                  | 125/224 [00:40<00:27,  3.55it/s]\u001b[A\n",
      " 57%|███████████████████████▏                 | 127/224 [00:41<00:31,  3.08it/s]\u001b[A\n",
      " 57%|███████████████████████▍                 | 128/224 [00:42<00:36,  2.62it/s]\u001b[A\n",
      " 58%|███████████████████████▌                 | 129/224 [00:42<00:40,  2.34it/s]\u001b[A\n",
      " 58%|███████████████████████▉                 | 131/224 [00:42<00:28,  3.25it/s]\u001b[A\n",
      " 59%|████████████████████████▏                | 132/224 [00:43<00:25,  3.54it/s]\u001b[A\n",
      " 60%|████████████████████████▌                | 134/224 [00:43<00:29,  3.09it/s]\u001b[A\n",
      " 60%|████████████████████████▋                | 135/224 [00:44<00:33,  2.66it/s]\u001b[A\n",
      " 61%|████████████████████████▉                | 136/224 [00:45<00:37,  2.37it/s]\u001b[A\n",
      " 62%|█████████████████████████▎               | 138/224 [00:45<00:25,  3.31it/s]\u001b[A\n",
      " 62%|█████████████████████████▍               | 139/224 [00:45<00:23,  3.60it/s]\u001b[A\n",
      " 63%|█████████████████████████▊               | 141/224 [00:46<00:26,  3.09it/s]\u001b[A\n",
      " 63%|█████████████████████████▉               | 142/224 [00:46<00:30,  2.65it/s]\u001b[A\n",
      " 64%|██████████████████████████▏              | 143/224 [00:47<00:34,  2.35it/s]\u001b[A\n",
      " 65%|██████████████████████████▌              | 145/224 [00:47<00:24,  3.26it/s]\u001b[A\n",
      " 65%|██████████████████████████▋              | 146/224 [00:47<00:21,  3.56it/s]\u001b[A\n",
      " 66%|███████████████████████████              | 148/224 [00:48<00:24,  3.10it/s]\u001b[A\n",
      " 67%|███████████████████████████▎             | 149/224 [00:49<00:28,  2.63it/s]\u001b[A\n",
      " 67%|███████████████████████████▍             | 150/224 [00:49<00:31,  2.33it/s]\u001b[A\n",
      " 68%|███████████████████████████▊             | 152/224 [00:50<00:22,  3.23it/s]\u001b[A\n",
      " 68%|████████████████████████████             | 153/224 [00:50<00:20,  3.51it/s]\u001b[A\n",
      " 69%|████████████████████████████▎            | 155/224 [00:51<00:22,  3.06it/s]\u001b[A\n",
      " 70%|████████████████████████████▌            | 156/224 [00:51<00:25,  2.63it/s]\u001b[A\n",
      " 70%|████████████████████████████▋            | 157/224 [00:52<00:28,  2.34it/s]\u001b[A\n",
      " 71%|█████████████████████████████            | 159/224 [00:52<00:19,  3.26it/s]\u001b[A\n",
      " 71%|█████████████████████████████▎           | 160/224 [00:52<00:17,  3.56it/s]\u001b[A\n",
      " 72%|█████████████████████████████▋           | 162/224 [00:53<00:20,  3.09it/s]\u001b[A\n",
      " 73%|█████████████████████████████▊           | 163/224 [00:54<00:23,  2.64it/s]\u001b[A\n",
      " 73%|██████████████████████████████           | 164/224 [00:54<00:25,  2.35it/s]\u001b[A\n",
      " 74%|██████████████████████████████▍          | 166/224 [00:54<00:17,  3.26it/s]\u001b[A\n",
      " 75%|██████████████████████████████▌          | 167/224 [00:55<00:16,  3.56it/s]\u001b[A\n",
      " 75%|██████████████████████████████▉          | 169/224 [00:55<00:17,  3.11it/s]\u001b[A\n",
      " 76%|███████████████████████████████          | 170/224 [00:56<00:19,  2.70it/s]\u001b[A\n",
      " 76%|███████████████████████████████▎         | 171/224 [00:56<00:21,  2.44it/s]\u001b[A\n",
      " 77%|███████████████████████████████▋         | 173/224 [00:57<00:15,  3.39it/s]\u001b[A\n",
      " 78%|███████████████████████████████▊         | 174/224 [00:57<00:13,  3.69it/s]\u001b[A\n",
      " 79%|████████████████████████████████▏        | 176/224 [00:58<00:15,  3.19it/s]\u001b[A\n",
      " 79%|████████████████████████████████▍        | 177/224 [00:58<00:17,  2.74it/s]\u001b[A\n",
      " 79%|████████████████████████████████▌        | 178/224 [00:59<00:18,  2.45it/s]\u001b[A\n",
      " 80%|████████████████████████████████▉        | 180/224 [00:59<00:12,  3.41it/s]\u001b[A\n",
      " 81%|█████████████████████████████████▏       | 181/224 [00:59<00:11,  3.71it/s]\u001b[A\n",
      " 82%|█████████████████████████████████▍       | 183/224 [01:00<00:12,  3.23it/s]\u001b[A\n",
      " 82%|█████████████████████████████████▋       | 184/224 [01:00<00:14,  2.78it/s]\u001b[A\n",
      " 83%|█████████████████████████████████▊       | 185/224 [01:01<00:15,  2.46it/s]\u001b[A\n",
      " 83%|██████████████████████████████████▏      | 187/224 [01:01<00:10,  3.41it/s]\u001b[A\n",
      " 84%|██████████████████████████████████▍      | 188/224 [01:01<00:09,  3.72it/s]\u001b[A\n",
      " 85%|██████████████████████████████████▊      | 190/224 [01:02<00:10,  3.21it/s]\u001b[A\n",
      " 85%|██████████████████████████████████▉      | 191/224 [01:03<00:11,  2.77it/s]\u001b[A\n",
      " 86%|███████████████████████████████████▏     | 192/224 [01:03<00:12,  2.47it/s]\u001b[A\n",
      " 87%|███████████████████████████████████▌     | 194/224 [01:03<00:08,  3.43it/s]\u001b[A\n",
      " 87%|███████████████████████████████████▋     | 195/224 [01:04<00:07,  3.74it/s]\u001b[A\n",
      " 88%|████████████████████████████████████     | 197/224 [01:04<00:08,  3.21it/s]\u001b[A\n",
      " 88%|████████████████████████████████████▏    | 198/224 [01:05<00:09,  2.75it/s]\u001b[A\n",
      " 89%|████████████████████████████████████▍    | 199/224 [01:06<00:10,  2.45it/s]\u001b[A\n",
      " 90%|████████████████████████████████████▊    | 201/224 [01:06<00:06,  3.39it/s]\u001b[A\n",
      " 90%|████████████████████████████████████▉    | 202/224 [01:06<00:05,  3.70it/s]\u001b[A\n",
      " 91%|█████████████████████████████████████▎   | 204/224 [01:07<00:06,  3.20it/s]\u001b[A\n",
      " 92%|█████████████████████████████████████▌   | 205/224 [01:07<00:06,  2.77it/s]\u001b[A\n",
      " 92%|█████████████████████████████████████▋   | 206/224 [01:08<00:07,  2.48it/s]\u001b[A\n",
      " 93%|██████████████████████████████████████   | 208/224 [01:08<00:04,  3.45it/s]\u001b[A\n",
      " 93%|██████████████████████████████████████▎  | 209/224 [01:08<00:03,  3.77it/s]\u001b[A\n",
      " 94%|██████████████████████████████████████▌  | 211/224 [01:09<00:04,  3.23it/s]\u001b[A\n",
      " 95%|██████████████████████████████████████▊  | 212/224 [01:10<00:04,  2.73it/s]\u001b[A\n",
      " 95%|██████████████████████████████████████▉  | 213/224 [01:10<00:04,  2.46it/s]\u001b[A\n",
      " 96%|███████████████████████████████████████▎ | 215/224 [01:10<00:02,  3.41it/s]\u001b[A\n",
      " 96%|███████████████████████████████████████▌ | 216/224 [01:11<00:02,  3.71it/s]\u001b[A\n",
      " 97%|███████████████████████████████████████▉ | 218/224 [01:11<00:01,  3.19it/s]\u001b[A\n",
      " 98%|████████████████████████████████████████ | 219/224 [01:12<00:01,  2.74it/s]\u001b[A\n",
      " 98%|████████████████████████████████████████▎| 220/224 [01:12<00:01,  2.45it/s]\u001b[A\n",
      " 99%|████████████████████████████████████████▋| 222/224 [01:13<00:00,  3.41it/s]\u001b[A\n",
      "100%|█████████████████████████████████████████| 224/224 [01:13<00:00,  3.05it/s]\u001b[A\n"
     ]
    }
   ],
   "source": [
    "import tqdm\n",
    "import copy\n",
    "\n",
    "quantized_model = copy.deepcopy(model_pt)\n",
    "\n",
    "for layer_name, quant_idx in zip(tqdm.tqdm(layers), solution_idxs):\n",
    "    layer = get_module_by_path(quantized_model, layer_name)\n",
    "    weight = layer.weight\n",
    "    if quant_idx == 1:\n",
    "        weight = quantize_dequantize_bnb_8(weight)\n",
    "    if quant_idx == 2:\n",
    "        weight = quantize_dequantize_bnb_4(weight)\n",
    "    layer.weight.data = weight.to(torch.bfloat16)\n",
    "    # print(layer, quant_idx)"
   ]
  },
  {
   "cell_type": "code",
   "execution_count": 129,
   "id": "b4ee65d2-6807-483b-ab18-e9275333371d",
   "metadata": {},
   "outputs": [
    {
     "data": {
      "text/plain": [
       "{'wikitext2': 5.612521171569824}"
      ]
     },
     "execution_count": 129,
     "metadata": {},
     "output_type": "execute_result"
    }
   ],
   "source": [
    "eval_ppl(quantized_model)"
   ]
  },
  {
   "cell_type": "code",
   "execution_count": 32,
   "id": "a4dc82ad-a096-413c-9957-3082f024d866",
   "metadata": {},
   "outputs": [
    {
     "data": {
      "text/plain": [
       "0.8332698654480832"
      ]
     },
     "execution_count": 32,
     "metadata": {},
     "output_type": "execute_result"
    }
   ],
   "source": [
    "(5.612521171569824 - 5.606260776519775) / (5.613773822784424 - 5.606260776519775)"
   ]
  },
  {
   "cell_type": "code",
   "execution_count": 34,
   "id": "0c17d3ab-8e13-4623-ac76-3a40d92e5d8d",
   "metadata": {},
   "outputs": [
    {
     "data": {
      "text/plain": [
       "0.006260395050048828"
      ]
     },
     "execution_count": 34,
     "metadata": {},
     "output_type": "execute_result"
    }
   ],
   "source": [
    "5.612521171569824 - 5.606260776519775"
   ]
  },
  {
   "cell_type": "code",
   "execution_count": 33,
   "id": "d594b227-47c7-40c5-aa85-c291a05852af",
   "metadata": {},
   "outputs": [
    {
     "data": {
      "text/plain": [
       "0.0075130462646484375"
      ]
     },
     "execution_count": 33,
     "metadata": {},
     "output_type": "execute_result"
    }
   ],
   "source": [
    "5.613773822784424 - 5.606260776519775"
   ]
  },
  {
   "cell_type": "code",
   "execution_count": 30,
   "id": "0de8ca0b-0712-42cb-9b24-c79b4c5774a9",
   "metadata": {},
   "outputs": [
    {
     "name": "stderr",
     "output_type": "stream",
     "text": [
      "100%|█████████████████████████████████████████| 224/224 [01:08<00:00,  3.25it/s]\n"
     ]
    }
   ],
   "source": [
    "import tqdm\n",
    "import copy\n",
    "\n",
    "quantized_model = copy.deepcopy(model_pt)\n",
    "\n",
    "for layer_name, quant_idx in zip(tqdm.tqdm(layers), solution_idxs):\n",
    "    quant_idx = 1\n",
    "    \n",
    "    layer = get_module_by_path(quantized_model, layer_name)\n",
    "    weight = layer.weight\n",
    "    if quant_idx == 1:\n",
    "        weight = quantize_dequantize_bnb_8(weight)\n",
    "    if quant_idx == 2:\n",
    "        weight = quantize_dequantize_bnb_4(weight)\n",
    "    layer.weight.data = weight.to(torch.bfloat16)\n",
    "    # print(layer, quant_idx)"
   ]
  },
  {
   "cell_type": "code",
   "execution_count": 31,
   "id": "6a2c7aa8-34ab-4cb6-9f91-01131217cc15",
   "metadata": {},
   "outputs": [
    {
     "data": {
      "text/plain": [
       "{'wikitext2': 5.613773822784424}"
      ]
     },
     "execution_count": 31,
     "metadata": {},
     "output_type": "execute_result"
    }
   ],
   "source": [
    "eval_ppl(quantized_model)"
   ]
  },
  {
   "cell_type": "code",
   "execution_count": null,
   "id": "42c5277c-b9b6-4932-86b8-03a51fd1a637",
   "metadata": {},
   "outputs": [],
   "source": []
  },
  {
   "cell_type": "code",
   "execution_count": 54,
   "id": "98baee28-be9c-4fe1-a472-7e1ba1a9e8dc",
   "metadata": {},
   "outputs": [],
   "source": []
  }
 ],
 "metadata": {
  "kernelspec": {
   "display_name": "Python 3 (ipykernel)",
   "language": "python",
   "name": "python3"
  },
  "language_info": {
   "codemirror_mode": {
    "name": "ipython",
    "version": 3
   },
   "file_extension": ".py",
   "mimetype": "text/x-python",
   "name": "python",
   "nbconvert_exporter": "python",
   "pygments_lexer": "ipython3",
   "version": "3.12.4"
  }
 },
 "nbformat": 4,
 "nbformat_minor": 5
}
