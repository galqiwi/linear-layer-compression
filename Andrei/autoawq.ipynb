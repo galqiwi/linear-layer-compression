{
 "cells": [
  {
   "cell_type": "code",
   "execution_count": null,
   "metadata": {},
   "outputs": [],
   "source": [
    "%env CUDA_VISIBLE_DEVICES=6\n",
    "\n",
    "from awq import AutoAWQForCausalLM\n",
    "from transformers import AutoTokenizer\n",
    "\n",
    "model_path = \"meta-llama/Meta-Llama-3.1-8B\"\n",
    "quant_config = {\n",
    "  \"zero_point\": True,\n",
    "  \"q_group_size\": 64,\n",
    "  \"w_bit\": 4,\n",
    "  \"version\": \"GEMM\",\n",
    "}\n",
    "\n",
    "# Load model\n",
    "model = AutoAWQForCausalLM.from_pretrained(\n",
    "  model_path, low_cpu_mem_usage=True, use_cache=False, device_map=\"cuda\",\n",
    ")\n",
    "tokenizer = AutoTokenizer.from_pretrained(model_path)\n",
    "\n",
    "# Quantize\n",
    "model.quantize(tokenizer, quant_config=quant_config)\n"
   ]
  },
  {
   "cell_type": "code",
   "execution_count": 7,
   "metadata": {},
   "outputs": [],
   "source": [
    "def get_zero_shots(model, task_list = ('arc_easy',), num_fewshots=1):\n",
    "    import lm_eval\n",
    "\n",
    "    lm_eval_model = lm_eval.models.huggingface.HFLM(\n",
    "        pretrained=model,\n",
    "    )\n",
    "\n",
    "    tasks = lm_eval.tasks.get_task_dict(task_list)\n",
    "    if num_fewshots != 1:\n",
    "        # TODO: make fewshots properly\n",
    "        for task_name in tasks:\n",
    "            task = tasks[task_name]\n",
    "            if isinstance(task, tuple):\n",
    "                task = task[1]\n",
    "            if task is None:\n",
    "                continue\n",
    "            task.config.num_fewshot = num_fewshots\n",
    "\n",
    "    results = lm_eval.evaluator.evaluate(\n",
    "        lm=lm_eval_model,\n",
    "        task_dict=tasks,\n",
    "    )\n",
    "\n",
    "    result_dict = {task_name: task_result['acc,none'] for task_name, task_result in results['results'].items()}\n",
    "    result_err_dict = {f'{task_name}_err': task_result['acc_stderr,none'] for task_name, task_result in\n",
    "                       results['results'].items()}\n",
    "    result_dict = dict(list(result_dict.items()) + list(result_err_dict.items()))\n",
    "\n",
    "    if num_fewshots != 1:\n",
    "        result_dict = {f'{task_name}@{num_fewshots}': acc for task_name, acc in result_dict.items()}\n",
    "\n",
    "    return result_dict"
   ]
  },
  {
   "cell_type": "code",
   "execution_count": 3,
   "metadata": {},
   "outputs": [],
   "source": [
    "import torch\n",
    "from torch import nn\n",
    "from torch.nn import functional as F\n",
    "\n",
    "from tqdm.auto import trange, tqdm\n",
    "\n",
    "@torch.no_grad()\n",
    "def llama_eval(model, dataloader):\n",
    "    print('Evaluating ...')\n",
    "\n",
    "    nsamples = len(dataloader) \n",
    "\n",
    "    use_cache = model.config.use_cache\n",
    "    model.config.use_cache = False\n",
    "    layers = model.model.layers\n",
    "\n",
    "    model.model.embed_tokens = model.model.embed_tokens\n",
    "    model.model.rotary_emb = model.model.rotary_emb\n",
    "    layers[0] = layers[0]\n",
    "\n",
    "    dtype = next(iter(model.parameters())).dtype\n",
    "    inps = []\n",
    "    attention_masks = []\n",
    "    position_ids = []\n",
    "\n",
    "    class Catcher(nn.Module):\n",
    "        def __init__(self, module):\n",
    "            super().__init__()\n",
    "            self.module = module\n",
    "        def forward(self, inp, **kwargs):\n",
    "            inps.append(inp)\n",
    "            attention_masks.append(kwargs['attention_mask'])\n",
    "            position_ids.append(kwargs['position_ids'])\n",
    "            raise ValueError\n",
    "    layers[0] = Catcher(layers[0])\n",
    "    for batch in dataloader:\n",
    "        try:\n",
    "            model(batch.to(\"cuda\"))\n",
    "        except ValueError:\n",
    "            pass\n",
    "    layers[0] = layers[0].module\n",
    "\n",
    "    layers[0] = layers[0]\n",
    "    model.model.embed_tokens = model.model.embed_tokens\n",
    "    torch.cuda.empty_cache()\n",
    "\n",
    "    for i in trange(len(layers), desc=f\"Evaluating layer-by-layer...\"):\n",
    "        layer = layers[i]\n",
    "        for j in range(nsamples):\n",
    "            inps[j] = layer(inps[j], attention_mask=attention_masks[j], position_ids=position_ids[j])[0]\n",
    "        layers[i] = layer\n",
    "        del layer\n",
    "        torch.cuda.empty_cache()\n",
    "\n",
    "    if model.model.norm is not None:\n",
    "        model.model.norm = model.model.norm\n",
    "    model.lm_head = model.lm_head\n",
    "\n",
    "    nlls = []\n",
    "    for i in range(nsamples):\n",
    "        hidden_states = inps[i]\n",
    "        if model.model.norm is not None:\n",
    "            hidden_states = model.model.norm(hidden_states)\n",
    "        lm_logits = model.lm_head(hidden_states)\n",
    "        shift_logits = lm_logits[:, :-1, :].contiguous()\n",
    "        shift_labels = (dataloader[i].to(\"cuda\"))[:, 1:]\n",
    "        loss_fct = nn.CrossEntropyLoss()\n",
    "        loss = loss_fct(shift_logits.view(-1, shift_logits.size(-1)), shift_labels.view(-1))\n",
    "        neg_log_likelihood = loss.float() * 8192\n",
    "        nlls.append(neg_log_likelihood)\n",
    "    ppl = torch.exp(torch.stack(nlls).sum() / (nsamples * 8192))\n",
    "    print(ppl.item())\n",
    "\n",
    "    model.config.use_cache = use_cache\n",
    "    \n",
    "    return ppl.item()"
   ]
  },
  {
   "cell_type": "code",
   "execution_count": 4,
   "metadata": {},
   "outputs": [],
   "source": [
    "model = model.to(\"cuda\")"
   ]
  },
  {
   "cell_type": "code",
   "execution_count": null,
   "metadata": {},
   "outputs": [],
   "source": [
    "from gptq.datautils import get_loaders\n",
    "\n",
    "datasets = ['wikitext2'] \n",
    "for dataset in datasets:\n",
    "    dataloader, testloader = get_loaders(\n",
    "        dataset, seed=0, model=\"meta-llama/Meta-Llama-3.1-8B\", seqlen=8192\n",
    "    )\n",
    "    ppl = llama_eval(model, testloader)"
   ]
  },
  {
   "cell_type": "code",
   "execution_count": null,
   "metadata": {},
   "outputs": [],
   "source": [
    "results = get_zero_shots(\n",
    "    model,\n",
    "    task_list=(\"winogrande\",\"arc_easy\",\"piqa\",\"hellaswag\",\"winogrande\",\"arc_challenge\"),\n",
    "    num_fewshots=1,\n",
    ")"
   ]
  },
  {
   "cell_type": "code",
   "execution_count": null,
   "metadata": {},
   "outputs": [],
   "source": [
    "results"
   ]
  },
  {
   "cell_type": "code",
   "execution_count": null,
   "metadata": {},
   "outputs": [],
   "source": [
    "results = get_zero_shots(\n",
    "    model,\n",
    "    task_list=(\"mmlu\",),\n",
    "    num_fewshots=5,\n",
    ")"
   ]
  },
  {
   "cell_type": "code",
   "execution_count": null,
   "metadata": {},
   "outputs": [],
   "source": [
    "results"
   ]
  },
  {
   "cell_type": "markdown",
   "metadata": {},
   "source": []
  }
 ],
 "metadata": {
  "kernelspec": {
   "display_name": "Python 3",
   "language": "python",
   "name": "python3"
  },
  "language_info": {
   "codemirror_mode": {
    "name": "ipython",
    "version": 3
   },
   "file_extension": ".py",
   "mimetype": "text/x-python",
   "name": "python",
   "nbconvert_exporter": "python",
   "pygments_lexer": "ipython3",
   "version": "3.10.14"
  }
 },
 "nbformat": 4,
 "nbformat_minor": 2
}
