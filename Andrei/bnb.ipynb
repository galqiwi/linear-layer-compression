{
 "cells": [
  {
   "cell_type": "code",
   "execution_count": 1,
   "metadata": {},
   "outputs": [
    {
     "name": "stdout",
     "output_type": "stream",
     "text": [
      "env: CUDA_VISIBLE_DEVICES=0\n"
     ]
    }
   ],
   "source": [
    "%env CUDA_VISIBLE_DEVICES=0\n",
    "\n",
    "import torch\n",
    "import math\n",
    "\n",
    "from bitsandbytes.functional import (\n",
    "    quantize_fp4, quantize_nf4, quantize_blockwise,\n",
    "    dequantize_fp4, dequantize_nf4, dequantize_blockwise,\n",
    ")\n",
    "\n",
    "from gptq.edenn import higgs_quantize_dequantize\n",
    "\n",
    "from tqdm.auto import trange, tqdm"
   ]
  },
  {
   "cell_type": "code",
   "execution_count": 2,
   "metadata": {},
   "outputs": [
    {
     "data": {
      "application/vnd.jupyter.widget-view+json": {
       "model_id": "77f0e7d483a04f40b416509cd5285379",
       "version_major": 2,
       "version_minor": 0
      },
      "text/plain": [
       "Loading checkpoint shards:   0%|          | 0/4 [00:00<?, ?it/s]"
      ]
     },
     "metadata": {},
     "output_type": "display_data"
    }
   ],
   "source": [
    "from transformers import AutoModelForCausalLM\n",
    "\n",
    "model = AutoModelForCausalLM.from_pretrained(\"meta-llama/Meta-Llama-3.1-8B\", torch_dtype=\"auto\", device_map=\"cpu\")"
   ]
  },
  {
   "cell_type": "code",
   "execution_count": 3,
   "metadata": {},
   "outputs": [],
   "source": [
    "weight = model.model.layers[15].self_attn.q_proj.weight.data.cuda().clone().detach()"
   ]
  },
  {
   "cell_type": "code",
   "execution_count": 4,
   "metadata": {},
   "outputs": [
    {
     "data": {
      "application/vnd.jupyter.widget-view+json": {
       "model_id": "fa2d7b3f5c4f4bd2a7bba803977a99ed",
       "version_major": 2,
       "version_minor": 0
      },
      "text/plain": [
       "  0%|          | 0/1000 [00:00<?, ?it/s]"
      ]
     },
     "metadata": {},
     "output_type": "display_data"
    },
    {
     "data": {
      "text/plain": [
       "(0.0, 1.0464905066018135)"
      ]
     },
     "execution_count": 4,
     "metadata": {},
     "output_type": "execute_result"
    },
    {
     "data": {
      "image/png": "[encoded data removed]",
      "text/plain": [
       "<Figure size 640x480 with 1 Axes>"
      ]
     },
     "metadata": {},
     "output_type": "display_data"
    }
   ],
   "source": [
    "from scipy.stats import norm\n",
    "import numpy as np\n",
    "\n",
    "af_4_centers = np.linspace(-1, 1, num=16, endpoint=True)\n",
    "\n",
    "\n",
    "for i in trange(1000):\n",
    "    af_4_boundaries_quantiles = [0.0] + [norm.cdf((af_4_centers[i] + af_4_centers[i + 1]) / 2) for i in range(len(af_4_centers) - 1)] + [1.0]\n",
    "    af_4_centers = [norm.ppf((af_4_boundaries_quantiles[i] + af_4_boundaries_quantiles[i + 1]) / 2) for i in range(len(af_4_boundaries_quantiles) - 1)]\n",
    "    \n",
    "    \n",
    "import matplotlib.pyplot as plt\n",
    "import numpy as np\n",
    "\n",
    "for c in af_4_centers:\n",
    "    plt.axvline(c, color=\"blue\", linestyle=\"--\")\n",
    "    \n",
    "plt.plot(np.linspace(-4, 4), np.exp(-np.linspace(-4, 4)**2/2))\n",
    "\n",
    "plt.ylim(0, None)"
   ]
  },
  {
   "cell_type": "code",
   "execution_count": 5,
   "metadata": {},
   "outputs": [],
   "source": [
    "AF4_GRID = torch.asarray(af_4_centers)[:, None].float().cuda()"
   ]
  },
  {
   "cell_type": "code",
   "execution_count": 6,
   "metadata": {},
   "outputs": [],
   "source": [
    "def entropy(idx):\n",
    "    _, counts = torch.unique(idx, return_counts=True)\n",
    "    counts = counts.to(torch.float)\n",
    "    return -torch.sum(counts / idx.numel() * torch.log2(counts / idx.numel())).item()\n",
    "\n",
    "@torch.no_grad()\n",
    "def higgs_grouped_quantize_dequantize(weight, d, n, group_size=1024):\n",
    "    weight = weight.clone().detach().reshape(weight.shape[0], -1, group_size).float()\n",
    "    scales = torch.norm(weight, dim=-1)[..., None] / math.sqrt(group_size)\n",
    "    weight = weight / scales\n",
    "    \n",
    "    orig_shape = weight.shape\n",
    "    \n",
    "    for i in range(0, weight.shape[0], 1024):\n",
    "        q, codes_entropy = higgs_quantize_dequantize(weight[i:i+1024].reshape(-1, d), d, n)\n",
    "        weight[i:i+1024] = q.reshape(weight[i:i+1024].shape)\n",
    "    \n",
    "    weight = weight.reshape(orig_shape)\n",
    "\n",
    "    return (weight * scales).reshape(weight.shape[0], -1), codes_entropy / d\n",
    "\n",
    "\n",
    "def create_nf4_grid(offset=0.9677083, symmetric=True):\n",
    "    from scipy.stats import norm\n",
    "    \n",
    "    if symmetric:\n",
    "        v = norm.ppf(torch.linspace(1/17, 1, 16)[:-1]).tolist()\n",
    "    else:\n",
    "        # one more positive value, this is an asymmetric type\n",
    "        v1 = norm.ppf(torch.linspace(offset, 0.5, 9)[:-1]).tolist()\n",
    "        v3 = (-norm.ppf(torch.linspace(offset, 0.5, 8)[:-1])).tolist()\n",
    "        v = v1 + [0] + v3\n",
    "\n",
    "    values = torch.Tensor(v)\n",
    "    values = values.sort().values\n",
    "\n",
    "    return values[:,None]\n",
    "\n",
    "NF4_GRID = create_nf4_grid(symmetric=False).cuda()\n",
    "\n",
    "@torch.no_grad()\n",
    "def custom_grouped_quantize_dequantize(weight, grid, group_size=1024):\n",
    "    weight = weight.clone().detach().reshape(weight.shape[0], -1, group_size).float()\n",
    "    \n",
    "    scales = torch.norm(weight, dim=-1)[..., None]\n",
    "    \n",
    "    scales = scales / math.sqrt(group_size)\n",
    "    weight = weight / scales\n",
    "    \n",
    "    orig_shape = weight.shape\n",
    "    \n",
    "    ids = torch.argmax(2 * weight[..., None] @ grid.T - torch.linalg.norm(grid, dim=1) ** 2, -1)\n",
    "    codes_entropy = entropy(ids)\n",
    "    weight = grid[ids]\n",
    "    \n",
    "    weight = weight.reshape(orig_shape)\n",
    "\n",
    "    return (weight * scales).reshape(weight.shape[0], -1), codes_entropy"
   ]
  },
  {
   "cell_type": "code",
   "execution_count": 7,
   "metadata": {},
   "outputs": [],
   "source": [
    "def bnb_nf4(w):\n",
    "    codes, state = quantize_nf4(w)\n",
    "    return dequantize_nf4(codes, state), entropy(torch.cat((codes // 16, codes % 16)))\n",
    "\n",
    "def bnb_int8(w):\n",
    "    codes, state = quantize_blockwise(w)\n",
    "    return dequantize_blockwise(codes, state), entropy(codes)"
   ]
  },
  {
   "cell_type": "code",
   "execution_count": 8,
   "metadata": {},
   "outputs": [],
   "source": [
    "grids = [\n",
    "    {\"name\": \"nf4\", \"qdq\": lambda w: custom_grouped_quantize_dequantize(w, NF4_GRID)},\n",
    "    {\"name\": \"af4\", \"qdq\": lambda w: custom_grouped_quantize_dequantize(w, AF4_GRID)},\n",
    "    {\"name\": \"EDEN\", \"qdq\": lambda w: higgs_grouped_quantize_dequantize(w, 1, 2**4)},\n",
    "    {\"name\": \"HIGGS\", \"qdq\": lambda w: higgs_grouped_quantize_dequantize(w, 2, 2**8)},\n",
    "    {\"name\": \"BnB nf4\", \"qdq\": lambda w: bnb_nf4(w)},\n",
    "    {\"name\": \"BnB int8\", \"qdq\": lambda w: bnb_int8(w)},\n",
    "]"
   ]
  },
  {
   "cell_type": "code",
   "execution_count": 9,
   "metadata": {},
   "outputs": [
    {
     "name": "stdout",
     "output_type": "stream",
     "text": [
      "No Hadamard\n",
      "nf4             :    l2: 0.0274   l1: 0.1060   ent: 4.00    \n",
      "af4             :    l2: 0.0142   l1: 0.0950   ent: 3.91    \n",
      "EDEN            :    l2: 0.0109   l1: 0.0996   ent: 3.76    \n",
      "HIGGS           :    l2: 0.0086   l1: 0.0890   ent: 3.87    \n",
      "BnB nf4         :    l2: 0.0086   l1: 0.0928   ent: 3.87    \n",
      "BnB int8        :    l2: 0.0002   l1: 0.0131   ent: 7.05    \n"
     ]
    }
   ],
   "source": [
    "print(\"No Hadamard\")\n",
    "\n",
    "for grid in grids:\n",
    "    qdq_weight, codes_entropy = grid[\"qdq\"](weight)\n",
    "    grid[\"rmse\"] = (qdq_weight - weight).pow(2).sum() / weight.pow(2).sum()\n",
    "    grid[\"l1_err\"] = (qdq_weight - weight).abs().sum() / weight.abs().sum()\n",
    "    grid[\"entropy\"] = codes_entropy\n",
    "    print(f\"{grid['name']:<16}:    l2: {grid['rmse']:<8.4f} l1: {grid['l1_err']:<8.4f} ent: {codes_entropy:<8.2f}\")"
   ]
  },
  {
   "cell_type": "code",
   "execution_count": 10,
   "metadata": {},
   "outputs": [
    {
     "name": "stdout",
     "output_type": "stream",
     "text": [
      "With Hadamard\n",
      "nf4             :    l2: 0.1538   l1: 0.1040   ent: 4.00    \n",
      "af4             :    l2: 0.1083   l1: 0.0935   ent: 3.91    \n",
      "EDEN            :    l2: 0.0973   l1: 0.0985   ent: 3.77    \n",
      "HIGGS           :    l2: 0.0879   l1: 0.0882   ent: 3.88    \n",
      "BnB nf4         :    l2: 0.0918   l1: 0.0913   ent: 3.88    \n",
      "BnB int8        :    l2: 0.0131   l1: 0.0125   ent: 7.07    \n"
     ]
    }
   ],
   "source": [
    "import math\n",
    "\n",
    "from fast_hadamard_transform import hadamard_transform\n",
    "\n",
    "h_weight = hadamard_transform(weight, scale=1/math.sqrt(weight.shape[-1]))\n",
    "\n",
    "print(\"With Hadamard\")\n",
    "\n",
    "for grid in grids:\n",
    "    qdq_h_weight, codes_entropy = grid[\"qdq\"](h_weight)\n",
    "    grid[\"h_rmse\"] = (qdq_h_weight - h_weight).pow(2).sum().sqrt() / h_weight.pow(2).sum().sqrt()\n",
    "    grid[\"h_l1_err\"] = (qdq_h_weight - h_weight).abs().sum() / h_weight.abs().sum()\n",
    "    grid[\"h_entropy\"] = codes_entropy\n",
    "    print(f\"{grid['name']:<16}:    l2: {grid['h_rmse']:<8.4f} l1: {grid['h_l1_err']:<8.4f} ent: {codes_entropy:<8.2f}\")"
   ]
  },
  {
   "cell_type": "code",
   "execution_count": 11,
   "metadata": {},
   "outputs": [],
   "source": [
    "@torch.no_grad()\n",
    "def llama_eval(model, dataloader, dev):\n",
    "    print('Evaluating ...')\n",
    "\n",
    "    nsamples = len(dataloader) \n",
    "\n",
    "    use_cache = model.config.use_cache\n",
    "    model.config.use_cache = False\n",
    "    layers = model.model.layers\n",
    "\n",
    "    model.model.embed_tokens = model.model.embed_tokens.to(dev)\n",
    "    model.model.rotary_emb = model.model.rotary_emb.to(dev)\n",
    "    layers[0] = layers[0].to(dev)\n",
    "\n",
    "    dtype = next(iter(model.parameters())).dtype\n",
    "    inps = []\n",
    "    attention_masks = []\n",
    "    position_ids = []\n",
    "\n",
    "    class Catcher(nn.Module):\n",
    "        def __init__(self, module):\n",
    "            super().__init__()\n",
    "            self.module = module\n",
    "        def forward(self, inp, **kwargs):\n",
    "            inps.append(inp)\n",
    "            attention_masks.append(kwargs['attention_mask'])\n",
    "            position_ids.append(kwargs['position_ids'])\n",
    "            raise ValueError\n",
    "    layers[0] = Catcher(layers[0])\n",
    "    for batch in dataloader:\n",
    "        try:\n",
    "            model(batch.to(dev))\n",
    "        except ValueError:\n",
    "            pass\n",
    "    layers[0] = layers[0].module\n",
    "\n",
    "    layers[0] = layers[0].cpu()\n",
    "    model.model.embed_tokens = model.model.embed_tokens.cpu()\n",
    "    torch.cuda.empty_cache()\n",
    "\n",
    "    for i in trange(len(layers), desc=f\"Evaluating layer-by-layer...\"):\n",
    "        layer = layers[i].to(dev)\n",
    "        for j in range(nsamples):\n",
    "            inps[j] = layer(inps[j], attention_mask=attention_masks[j], position_ids=position_ids[j])[0]\n",
    "        layers[i] = layer.cpu()\n",
    "        del layer\n",
    "        torch.cuda.empty_cache()\n",
    "\n",
    "    if model.model.norm is not None:\n",
    "        model.model.norm = model.model.norm.to(dev)\n",
    "    model.lm_head = model.lm_head.to(dev)\n",
    "\n",
    "    nlls = []\n",
    "    for i in range(nsamples):\n",
    "        hidden_states = inps[i]\n",
    "        if model.model.norm is not None:\n",
    "            hidden_states = model.model.norm(hidden_states)\n",
    "        lm_logits = model.lm_head(hidden_states)\n",
    "        shift_logits = lm_logits[:, :-1, :].contiguous()\n",
    "        shift_labels = (dataloader[i].to(dev))[:, 1:]\n",
    "        loss_fct = nn.CrossEntropyLoss()\n",
    "        loss = loss_fct(shift_logits.view(-1, shift_logits.size(-1)), shift_labels.view(-1))\n",
    "        neg_log_likelihood = loss.float() * model.seqlen\n",
    "        nlls.append(neg_log_likelihood)\n",
    "    ppl = torch.exp(torch.stack(nlls).sum() / (nsamples * model.seqlen))\n",
    "    print(ppl.item())\n",
    "\n",
    "    model.config.use_cache = use_cache\n",
    "    \n",
    "    return ppl.item()"
   ]
  },
  {
   "cell_type": "code",
   "execution_count": 12,
   "metadata": {},
   "outputs": [],
   "source": [
    "from torch import nn\n",
    "\n",
    "from gptq.edenn import pad_to_block, HadLinear\n",
    "\n",
    "def find_layers(module, layers=[nn.Linear], name=''):\n",
    "    if type(module) in layers:\n",
    "        return {name: module}\n",
    "    res = {}\n",
    "    for name1, child in module.named_children():\n",
    "        res.update(find_layers(\n",
    "            child, layers=layers, name=name + '.' + name1 if name != '' else name1\n",
    "        ))\n",
    "    return res\n",
    "\n",
    "\n",
    "def replace_submodule(module, submodule_path, new_submodule):\n",
    "    submodule_names = submodule_path.split(\".\")\n",
    "    for submodule in submodule_names[:-1]:\n",
    "        module = getattr(module, submodule)\n",
    "    setattr(module, submodule_names[-1], new_submodule)\n",
    "    \n",
    "def replace_empty(model: nn.Module, had_block_size: int):\n",
    "    linear_layers = find_layers(model)\n",
    "    for name, layer in tqdm(linear_layers.items(), desc=\"Replacing linear layers...\"):\n",
    "        if \"lm_head\" in name:\n",
    "            continue\n",
    "        \n",
    "        replace_submodule(model, name, HadLinear(pad_to_block(layer.weight, [1], had_block_size)))\n",
    "    \n",
    "\n",
    "@torch.no_grad()\n",
    "def llama_rtn(model, hadamard_groupsize, device, qdq):\n",
    "    linear_layers = find_layers(model)\n",
    "    \n",
    "    for (name, layer) in tqdm(linear_layers.items(), desc=\"Quantizing linear layers...\"):\n",
    "        if \"lm_head\" in name:\n",
    "            continue\n",
    "        \n",
    "        weight = layer.weight.data.to(device)\n",
    "        if hadamard_groupsize != 0:\n",
    "            weight = pad_to_block(weight, [-1], hadamard_groupsize).reshape(weight.shape[0], -1, hadamard_groupsize)\n",
    "            weight = hadamard_transform(weight).reshape(weight.shape[0], -1)\n",
    "            \n",
    "        quantized_weight, _ = qdq(weight)\n",
    "        quantized_weight = quantized_weight.half()\n",
    "        \n",
    "        if hadamard_groupsize == 0:\n",
    "            layer.weight.data = quantized_weight\n",
    "            layer.cpu()\n",
    "        else:\n",
    "            replace_submodule(model, name, HadLinear(quantized_weight, hadamard_groupsize).cpu())\n",
    "        \n",
    "    return model"
   ]
  },
  {
   "cell_type": "code",
   "execution_count": 13,
   "metadata": {},
   "outputs": [],
   "source": [
    "from gptq.datautils import *\n",
    "\n",
    "for grid in []:\n",
    "    model = AutoModelForCausalLM.from_pretrained(\"meta-llama/Meta-Llama-3.1-8B\", torch_dtype=torch.float16, device_map=\"cpu\")\n",
    "    model.seqlen = 8192\n",
    "    model = llama_rtn(model, 1024, \"cuda\", grid[\"qdq\"])\n",
    "    \n",
    "    datasets = ['wikitext2'] \n",
    "    for dataset in datasets:\n",
    "        dataloader, testloader = get_loaders(\n",
    "            dataset, seed=0, model=\"meta-llama/Meta-Llama-3.1-8B\", seqlen=8192\n",
    "        )\n",
    "        ppl = llama_eval(model, testloader, \"cuda\")\n",
    "        grid[f\"h_ppl_{dataset}\"] = ppl"
   ]
  },
  {
   "cell_type": "code",
   "execution_count": 14,
   "metadata": {},
   "outputs": [
    {
     "name": "stdout",
     "output_type": "stream",
     "text": [
      "With Hadamard\n",
      "nf4             :    l2: 0.1538   l1: 0.1040   entropy: 4.00     ppl : 0.00    \n",
      "af4             :    l2: 0.1083   l1: 0.0935   entropy: 3.91     ppl : 0.00    \n",
      "EDEN            :    l2: 0.0973   l1: 0.0985   entropy: 3.77     ppl : 0.00    \n",
      "HIGGS           :    l2: 0.0879   l1: 0.0882   entropy: 3.88     ppl : 0.00    \n",
      "BnB nf4         :    l2: 0.0918   l1: 0.0913   entropy: 3.88     ppl : 0.00    \n",
      "BnB int8        :    l2: 0.0131   l1: 0.0125   entropy: 7.07     ppl : 0.00    \n"
     ]
    }
   ],
   "source": [
    "print(\"With Hadamard\")\n",
    "\n",
    "for grid in grids:\n",
    "    print(f\"{grid['name']:<16}:    l2: {grid['h_rmse']:<8.4f} l1: {grid['h_l1_err']:<8.4f} entropy: {grid['h_entropy']:<8.2f} ppl : {grid['h_ppl_wikitext2'] if 'h_ppl_wikitext2' in grid else 0.0:<8.2f}\")"
   ]
  },
  {
   "cell_type": "code",
   "execution_count": 15,
   "metadata": {},
   "outputs": [],
   "source": [
    "from gptq.datautils import *\n",
    "\n",
    "for grid in []:\n",
    "    model = AutoModelForCausalLM.from_pretrained(\"meta-llama/Meta-Llama-3.1-8B\", torch_dtype=torch.float16, device_map=\"cpu\")\n",
    "    model.seqlen = 8192\n",
    "    model = llama_rtn(model, 0, \"cuda\", grid[\"qdq\"])\n",
    "    \n",
    "    datasets = ['wikitext2'] \n",
    "    for dataset in datasets:\n",
    "        dataloader, testloader = get_loaders(\n",
    "            dataset, seed=0, model=\"meta-llama/Meta-Llama-3.1-8B\", seqlen=8192\n",
    "        )\n",
    "        ppl = llama_eval(model, testloader, \"cuda\")\n",
    "        grid[f\"ppl_{dataset}\"] = ppl"
   ]
  },
  {
   "cell_type": "code",
   "execution_count": 16,
   "metadata": {},
   "outputs": [
    {
     "name": "stdout",
     "output_type": "stream",
     "text": [
      "No Hadamard\n",
      "nf4             :    l2: 0.0274   l1: 0.1060   entropy: 4.00     ppl : 0.0000  \n",
      "af4             :    l2: 0.0142   l1: 0.0950   entropy: 3.91     ppl : 0.0000  \n",
      "EDEN            :    l2: 0.0109   l1: 0.0996   entropy: 3.76     ppl : 0.0000  \n",
      "HIGGS           :    l2: 0.0086   l1: 0.0890   entropy: 3.87     ppl : 0.0000  \n",
      "BnB nf4         :    l2: 0.0086   l1: 0.0928   entropy: 3.87     ppl : 0.0000  \n",
      "BnB int8        :    l2: 0.0002   l1: 0.0131   entropy: 7.05     ppl : 0.0000  \n"
     ]
    }
   ],
   "source": [
    "print(\"No Hadamard\")\n",
    "\n",
    "for grid in grids:\n",
    "    print(f\"{grid['name']:<16}:    l2: {grid['rmse']:<8.4f} l1: {grid['l1_err']:<8.4f} entropy: {grid['entropy']:<8.2f} ppl : {grid['ppl_wikitext2'] if 'ppl_wikitext2' in grid else 0.0:<8.4f}\")"
   ]
  },
  {
   "cell_type": "code",
   "execution_count": 17,
   "metadata": {},
   "outputs": [],
   "source": [
    "def get_zero_shots(model, task_list = ('arc_easy',), num_fewshots=1):\n",
    "    import lm_eval\n",
    "\n",
    "    lm_eval_model = lm_eval.models.huggingface.HFLM(\n",
    "        pretrained=model,\n",
    "    )\n",
    "\n",
    "    tasks = lm_eval.tasks.get_task_dict(task_list)\n",
    "    if num_fewshots != 1:\n",
    "        # TODO: make fewshots properly\n",
    "        for task_name in tasks:\n",
    "            task = tasks[task_name]\n",
    "            if isinstance(task, tuple):\n",
    "                task = task[1]\n",
    "            if task is None:\n",
    "                continue\n",
    "            task.config.num_fewshot = num_fewshots\n",
    "\n",
    "    results = lm_eval.evaluator.evaluate(\n",
    "        lm=lm_eval_model,\n",
    "        task_dict=tasks,\n",
    "    )\n",
    "\n",
    "    result_dict = {task_name: task_result['acc,none'] for task_name, task_result in results['results'].items()}\n",
    "    result_err_dict = {f'{task_name}_err': task_result['acc_stderr,none'] for task_name, task_result in\n",
    "                       results['results'].items()}\n",
    "    result_dict = dict(list(result_dict.items()) + list(result_err_dict.items()))\n",
    "\n",
    "    if num_fewshots != 1:\n",
    "        result_dict = {f'{task_name}@{num_fewshots}': acc for task_name, acc in result_dict.items()}\n",
    "\n",
    "    return result_dict"
   ]
  },
  {
   "cell_type": "code",
   "execution_count": 22,
   "metadata": {},
   "outputs": [
    {
     "data": {
      "text/plain": [
       "[{'name': 'nf4',\n",
       "  'qdq': <function __main__.<lambda>(w)>,\n",
       "  'rmse': tensor(0.0274, device='cuda:0'),\n",
       "  'l1_err': tensor(0.1060, device='cuda:0'),\n",
       "  'entropy': 3.9961915016174316,\n",
       "  'h_rmse': tensor(0.1538, device='cuda:0'),\n",
       "  'h_l1_err': tensor(0.1040, device='cuda:0'),\n",
       "  'h_entropy': 3.996105194091797}]"
      ]
     },
     "execution_count": 22,
     "metadata": {},
     "output_type": "execute_result"
    }
   ],
   "source": [
    "grids[:1]"
   ]
  },
  {
   "cell_type": "code",
   "execution_count": 31,
   "metadata": {},
   "outputs": [
    {
     "data": {
      "application/vnd.jupyter.widget-view+json": {
       "model_id": "9f69c7ff3c644c0c92bdc4e35001e5b4",
       "version_major": 2,
       "version_minor": 0
      },
      "text/plain": [
       "Loading checkpoint shards:   0%|          | 0/4 [00:00<?, ?it/s]"
      ]
     },
     "metadata": {},
     "output_type": "display_data"
    },
    {
     "data": {
      "application/vnd.jupyter.widget-view+json": {
       "model_id": "deb1695ea4594df0ab75614ff41f6681",
       "version_major": 2,
       "version_minor": 0
      },
      "text/plain": [
       "Quantizing linear layers...:   0%|          | 0/225 [00:00<?, ?it/s]"
      ]
     },
     "metadata": {},
     "output_type": "display_data"
    },
    {
     "name": "stderr",
     "output_type": "stream",
     "text": [
      "2024-09-30:10:02:25,315 WARNING  [huggingface.py:118] `pretrained` model kwarg is not of type `str`. Many other model arguments may be ignored. Please do not launch via accelerate or use `parallelize=True` if passing an existing model this way.\n",
      "2024-09-30:10:02:26,353 WARNING  [huggingface.py:337] Passed an already-initialized model through `pretrained`, assuming single-process call to evaluate() or custom distributed integration\n",
      "2024-09-30:10:02:44,204 INFO     [task.py:386] Building contexts for arc_challenge on rank 0...\n",
      "100%|██████████| 1172/1172 [00:00<00:00, 1514.22it/s]\n",
      "2024-09-30:10:02:45,027 INFO     [task.py:386] Building contexts for arc_easy on rank 0...\n",
      "100%|██████████| 2376/2376 [00:01<00:00, 1491.61it/s]\n",
      "2024-09-30:10:02:46,716 INFO     [task.py:386] Building contexts for piqa on rank 0...\n",
      "100%|██████████| 1838/1838 [00:01<00:00, 1432.68it/s]\n",
      "2024-09-30:10:02:48,051 INFO     [task.py:386] Building contexts for winogrande on rank 0...\n",
      "100%|██████████| 1267/1267 [00:00<00:00, 103226.11it/s]\n",
      "2024-09-30:10:02:48,099 INFO     [evaluator.py:359] Running loglikelihood requests\n",
      "Running loglikelihood requests: 100%|██████████| 20398/20398 [24:57<00:00, 13.62it/s]\n"
     ]
    }
   ],
   "source": [
    "for grid in grids[-2:-1]:\n",
    "    model = AutoModelForCausalLM.from_pretrained(\"meta-llama/Meta-Llama-3.1-8B\", torch_dtype=torch.float16, device_map=\"cpu\")\n",
    "    model.seqlen = 8192\n",
    "    model = llama_rtn(model, 1024, \"cuda\", grid[\"qdq\"]).cuda()\n",
    "    # results = get_zero_shots(\n",
    "    #     model,\n",
    "    #     task_list=(\"mmlu\",),\n",
    "    #     num_fewshots=5,\n",
    "    # )\n",
    "    results = get_zero_shots(model, task_list = ('winogrande','piqa','arc_easy','arc_challenge'), num_fewshots=1)"
   ]
  },
  {
   "cell_type": "code",
   "execution_count": 35,
   "metadata": {},
   "outputs": [
    {
     "data": {
      "text/plain": [
       "{'arc_challenge': 0.5179180887372014,\n",
       " 'arc_easy': 0.8156565656565656,\n",
       " 'piqa': 0.794885745375408,\n",
       " 'winogrande': 0.7300710339384373,\n",
       " 'arc_challenge_err': 0.014602005585490976,\n",
       " 'arc_easy_err': 0.007956749734670018,\n",
       " 'piqa_err': 0.009420971671017913,\n",
       " 'winogrande_err': 0.0124764333720026}"
      ]
     },
     "execution_count": 35,
     "metadata": {},
     "output_type": "execute_result"
    }
   ],
   "source": [
    "results"
   ]
  },
  {
   "cell_type": "code",
   "execution_count": null,
   "metadata": {},
   "outputs": [],
   "source": []
  },
  {
   "cell_type": "markdown",
   "metadata": {},
   "source": [
    "bnb nf4\n",
    "```json\n",
    "{'mmlu@5': 0.6329582680529839,\n",
    " 'mmlu_humanities@5': 0.5804463336875664,\n",
    " 'mmlu_formal_logic@5': 0.40476190476190477,\n",
    " 'mmlu_high_school_european_history@5': 0.7757575757575758,\n",
    " 'mmlu_high_school_us_history@5': 0.7745098039215687,\n",
    " 'mmlu_high_school_world_history@5': 0.8059071729957806,\n",
    " 'mmlu_international_law@5': 0.7933884297520661,\n",
    " 'mmlu_jurisprudence@5': 0.7314814814814815,\n",
    " 'mmlu_logical_fallacies@5': 0.7423312883435583,\n",
    " 'mmlu_moral_disputes@5': 0.708092485549133,\n",
    " 'mmlu_moral_scenarios@5': 0.41787709497206704,\n",
    " 'mmlu_philosophy@5': 0.729903536977492,\n",
    " 'mmlu_prehistory@5': 0.7006172839506173,\n",
    " 'mmlu_professional_law@5': 0.45436766623207303,\n",
    " 'mmlu_world_religions@5': 0.8011695906432749,\n",
    " 'mmlu_other@5': 0.7077566784679755,\n",
    " 'mmlu_business_ethics@5': 0.64,\n",
    " 'mmlu_clinical_knowledge@5': 0.7358490566037735,\n",
    " 'mmlu_college_medicine@5': 0.6473988439306358,\n",
    " 'mmlu_global_facts@5': 0.34,\n",
    " 'mmlu_human_aging@5': 0.6591928251121076,\n",
    " 'mmlu_management@5': 0.8058252427184466,\n",
    " 'mmlu_marketing@5': 0.8376068376068376,\n",
    " 'mmlu_medical_genetics@5': 0.82,\n",
    " 'mmlu_miscellaneous@5': 0.822477650063857,\n",
    " 'mmlu_nutrition@5': 0.7483660130718954,\n",
    " 'mmlu_professional_accounting@5': 0.4787234042553192,\n",
    " 'mmlu_professional_medicine@5': 0.6764705882352942,\n",
    " 'mmlu_virology@5': 0.5662650602409639,\n",
    " 'mmlu_social_sciences@5': 0.737081572960676,\n",
    " 'mmlu_econometrics@5': 0.47368421052631576,\n",
    " 'mmlu_high_school_geography@5': 0.8181818181818182,\n",
    " 'mmlu_high_school_government_and_politics@5': 0.8549222797927462,\n",
    " 'mmlu_high_school_macroeconomics@5': 0.6051282051282051,\n",
    " 'mmlu_high_school_microeconomics@5': 0.6974789915966386,\n",
    " 'mmlu_high_school_psychology@5': 0.8238532110091743,\n",
    " 'mmlu_human_sexuality@5': 0.7786259541984732,\n",
    " 'mmlu_professional_psychology@5': 0.6862745098039216,\n",
    " 'mmlu_public_relations@5': 0.6818181818181818,\n",
    " 'mmlu_security_studies@5': 0.7551020408163265,\n",
    " 'mmlu_sociology@5': 0.8407960199004975,\n",
    " 'mmlu_us_foreign_policy@5': 0.85,\n",
    " 'mmlu_stem@5': 0.5359974627339043,\n",
    " 'mmlu_abstract_algebra@5': 0.36,\n",
    " 'mmlu_anatomy@5': 0.5851851851851851,\n",
    " 'mmlu_astronomy@5': 0.6842105263157895,\n",
    " 'mmlu_college_biology@5': 0.7291666666666666,\n",
    " 'mmlu_college_chemistry@5': 0.4,\n",
    " 'mmlu_college_computer_science@5': 0.48,\n",
    " 'mmlu_college_mathematics@5': 0.39,\n",
    " 'mmlu_college_physics@5': 0.46078431372549017,\n",
    " 'mmlu_computer_security@5': 0.79,\n",
    " 'mmlu_conceptual_physics@5': 0.5659574468085107,\n",
    " 'mmlu_electrical_engineering@5': 0.6413793103448275,\n",
    " 'mmlu_elementary_mathematics@5': 0.42328042328042326,\n",
    " 'mmlu_high_school_biology@5': 0.7387096774193549,\n",
    " 'mmlu_high_school_chemistry@5': 0.5123152709359606,\n",
    " 'mmlu_high_school_computer_science@5': 0.68,\n",
    " 'mmlu_high_school_mathematics@5': 0.3925925925925926,\n",
    " 'mmlu_high_school_physics@5': 0.4105960264900662,\n",
    " 'mmlu_high_school_statistics@5': 0.5185185185185185,\n",
    " 'mmlu_machine_learning@5': 0.4107142857142857,\n",
    " 'mmlu_err@5': 0.0038553633319567235,\n",
    " 'mmlu_humanities_err@5': 0.006830725995949764,\n",
    " 'mmlu_formal_logic_err@5': 0.04390259265377562,\n",
    " 'mmlu_high_school_european_history_err@5': 0.032568666616811015,\n",
    " 'mmlu_high_school_us_history_err@5': 0.029331162294251728,\n",
    " 'mmlu_high_school_world_history_err@5': 0.025744902532290927,\n",
    " 'mmlu_international_law_err@5': 0.03695980128098826,\n",
    " 'mmlu_jurisprudence_err@5': 0.042844679680521934,\n",
    " 'mmlu_logical_fallacies_err@5': 0.03436150827846917,\n",
    " 'mmlu_moral_disputes_err@5': 0.024476994076247333,\n",
    " 'mmlu_moral_scenarios_err@5': 0.016495400635820084,\n",
    " 'mmlu_philosophy_err@5': 0.02521804037341062,\n",
    " 'mmlu_prehistory_err@5': 0.02548311560119547,\n",
    " 'mmlu_professional_law_err@5': 0.012716941720734804,\n",
    " 'mmlu_world_religions_err@5': 0.03061111655743253,\n",
    " 'mmlu_other_err@5': 0.007846856943447255,\n",
    " 'mmlu_business_ethics_err@5': 0.04824181513244218,\n",
    " 'mmlu_clinical_knowledge_err@5': 0.027134291628741716,\n",
    " 'mmlu_college_medicine_err@5': 0.036430371689585475,\n",
    " 'mmlu_global_facts_err@5': 0.04760952285695235,\n",
    " 'mmlu_human_aging_err@5': 0.031811497470553604,\n",
    " 'mmlu_management_err@5': 0.03916667762822585,\n",
    " 'mmlu_marketing_err@5': 0.024161618127987745,\n",
    " 'mmlu_medical_genetics_err@5': 0.03861229196653694,\n",
    " 'mmlu_miscellaneous_err@5': 0.013664230995834838,\n",
    " 'mmlu_nutrition_err@5': 0.024848018263875195,\n",
    " 'mmlu_professional_accounting_err@5': 0.029800481645628693,\n",
    " 'mmlu_professional_medicine_err@5': 0.02841820861940675,\n",
    " 'mmlu_virology_err@5': 0.03858158940685517,\n",
    " 'mmlu_social_sciences_err@5': 0.00775705595663684,\n",
    " 'mmlu_econometrics_err@5': 0.04697085136647863,\n",
    " 'mmlu_high_school_geography_err@5': 0.02747960301053878,\n",
    " 'mmlu_high_school_government_and_politics_err@5': 0.025416343096306426,\n",
    " 'mmlu_high_school_macroeconomics_err@5': 0.024784316942156395,\n",
    " 'mmlu_high_school_microeconomics_err@5': 0.02983796238829193,\n",
    " 'mmlu_high_school_psychology_err@5': 0.01633288239343138,\n",
    " 'mmlu_human_sexuality_err@5': 0.03641297081313729,\n",
    " 'mmlu_professional_psychology_err@5': 0.01877168389352818,\n",
    " 'mmlu_public_relations_err@5': 0.04461272175910508,\n",
    " 'mmlu_security_studies_err@5': 0.027529637440174903,\n",
    " 'mmlu_sociology_err@5': 0.025870646766169136,\n",
    " 'mmlu_us_foreign_policy_err@5': 0.035887028128263686,\n",
    " 'mmlu_stem_err@5': 0.008591568898741093,\n",
    " 'mmlu_abstract_algebra_err@5': 0.048241815132442176,\n",
    " 'mmlu_anatomy_err@5': 0.04256193767901408,\n",
    " 'mmlu_astronomy_err@5': 0.0378272898086547,\n",
    " 'mmlu_college_biology_err@5': 0.037161774375660164,\n",
    " 'mmlu_college_chemistry_err@5': 0.049236596391733084,\n",
    " 'mmlu_college_computer_science_err@5': 0.050211673156867795,\n",
    " 'mmlu_college_mathematics_err@5': 0.04902071300001975,\n",
    " 'mmlu_college_physics_err@5': 0.04959859966384181,\n",
    " 'mmlu_computer_security_err@5': 0.040936018074033256,\n",
    " 'mmlu_conceptual_physics_err@5': 0.03240038086792747,\n",
    " 'mmlu_electrical_engineering_err@5': 0.03996629574876719,\n",
    " 'mmlu_elementary_mathematics_err@5': 0.025446365634406783,\n",
    " 'mmlu_high_school_biology_err@5': 0.02499305339776483,\n",
    " 'mmlu_high_school_chemistry_err@5': 0.035169204442208966,\n",
    " 'mmlu_high_school_computer_science_err@5': 0.04688261722621504,\n",
    " 'mmlu_high_school_mathematics_err@5': 0.029773847012532967,\n",
    " 'mmlu_high_school_physics_err@5': 0.04016689594849929,\n",
    " 'mmlu_high_school_statistics_err@5': 0.03407632093854051,\n",
    " 'mmlu_machine_learning_err@5': 0.04669510663875191}\n",
    "```\n",
    "\n",
    "bnb int8\n",
    "```json\n",
    "{'mmlu@5': 0.6531120922945449,\n",
    " 'mmlu_humanities@5': 0.5991498405951116,\n",
    " 'mmlu_formal_logic@5': 0.48412698412698413,\n",
    " 'mmlu_high_school_european_history@5': 0.7757575757575758,\n",
    " 'mmlu_high_school_us_history@5': 0.8284313725490197,\n",
    " 'mmlu_high_school_world_history@5': 0.8354430379746836,\n",
    " 'mmlu_international_law@5': 0.8264462809917356,\n",
    " 'mmlu_jurisprudence@5': 0.7407407407407407,\n",
    " 'mmlu_logical_fallacies@5': 0.7423312883435583,\n",
    " 'mmlu_moral_disputes@5': 0.7225433526011561,\n",
    " 'mmlu_moral_scenarios@5': 0.4,\n",
    " 'mmlu_philosophy@5': 0.7202572347266881,\n",
    " 'mmlu_prehistory@5': 0.7160493827160493,\n",
    " 'mmlu_professional_law@5': 0.49478487614080835,\n",
    " 'mmlu_world_religions@5': 0.8128654970760234,\n",
    " 'mmlu_other@5': 0.7199871258448665,\n",
    " 'mmlu_business_ethics@5': 0.65,\n",
    " 'mmlu_clinical_knowledge@5': 0.7660377358490567,\n",
    " 'mmlu_college_medicine@5': 0.6358381502890174,\n",
    " 'mmlu_global_facts@5': 0.31,\n",
    " 'mmlu_human_aging@5': 0.695067264573991,\n",
    " 'mmlu_management@5': 0.8252427184466019,\n",
    " 'mmlu_marketing@5': 0.8589743589743589,\n",
    " 'mmlu_medical_genetics@5': 0.82,\n",
    " 'mmlu_miscellaneous@5': 0.80970625798212,\n",
    " 'mmlu_nutrition@5': 0.7908496732026143,\n",
    " 'mmlu_professional_accounting@5': 0.5035460992907801,\n",
    " 'mmlu_professional_medicine@5': 0.7022058823529411,\n",
    " 'mmlu_virology@5': 0.5783132530120482,\n",
    " 'mmlu_social_sciences@5': 0.7621059473513162,\n",
    " 'mmlu_econometrics@5': 0.4649122807017544,\n",
    " 'mmlu_high_school_geography@5': 0.8181818181818182,\n",
    " 'mmlu_high_school_government_and_politics@5': 0.8911917098445595,\n",
    " 'mmlu_high_school_macroeconomics@5': 0.6461538461538462,\n",
    " 'mmlu_high_school_microeconomics@5': 0.7394957983193278,\n",
    " 'mmlu_high_school_psychology@5': 0.8532110091743119,\n",
    " 'mmlu_human_sexuality@5': 0.7709923664122137,\n",
    " 'mmlu_professional_psychology@5': 0.7156862745098039,\n",
    " 'mmlu_public_relations@5': 0.7181818181818181,\n",
    " 'mmlu_security_studies@5': 0.7428571428571429,\n",
    " 'mmlu_sociology@5': 0.8805970149253731,\n",
    " 'mmlu_us_foreign_policy@5': 0.88,\n",
    " 'mmlu_stem@5': 0.5613701236917221,\n",
    " 'mmlu_abstract_algebra@5': 0.28,\n",
    " 'mmlu_anatomy@5': 0.6370370370370371,\n",
    " 'mmlu_astronomy@5': 0.7302631578947368,\n",
    " 'mmlu_college_biology@5': 0.7777777777777778,\n",
    " 'mmlu_college_chemistry@5': 0.45,\n",
    " 'mmlu_college_computer_science@5': 0.51,\n",
    " 'mmlu_college_mathematics@5': 0.32,\n",
    " 'mmlu_college_physics@5': 0.4803921568627451,\n",
    " 'mmlu_computer_security@5': 0.84,\n",
    " 'mmlu_conceptual_physics@5': 0.6042553191489362,\n",
    " 'mmlu_electrical_engineering@5': 0.6482758620689655,\n",
    " 'mmlu_elementary_mathematics@5': 0.42857142857142855,\n",
    " 'mmlu_high_school_biology@5': 0.7806451612903226,\n",
    " 'mmlu_high_school_chemistry@5': 0.5221674876847291,\n",
    " 'mmlu_high_school_computer_science@5': 0.66,\n",
    " 'mmlu_high_school_mathematics@5': 0.45925925925925926,\n",
    " 'mmlu_high_school_physics@5': 0.4503311258278146,\n",
    " 'mmlu_high_school_statistics@5': 0.5416666666666666,\n",
    " 'mmlu_machine_learning@5': 0.45535714285714285,\n",
    " 'mmlu_err@5': 0.0037948282410972044,\n",
    " 'mmlu_humanities_err@5': 0.006774665604779245,\n",
    " 'mmlu_formal_logic_err@5': 0.04469881854072606,\n",
    " 'mmlu_high_school_european_history_err@5': 0.03256866661681102,\n",
    " 'mmlu_high_school_us_history_err@5': 0.02646056956124065,\n",
    " 'mmlu_high_school_world_history_err@5': 0.024135736240566943,\n",
    " 'mmlu_international_law_err@5': 0.0345727283691767,\n",
    " 'mmlu_jurisprudence_err@5': 0.042365112580946336,\n",
    " 'mmlu_logical_fallacies_err@5': 0.03436150827846917,\n",
    " 'mmlu_moral_disputes_err@5': 0.024105712607754307,\n",
    " 'mmlu_moral_scenarios_err@5': 0.016384638410380816,\n",
    " 'mmlu_philosophy_err@5': 0.025494259350694902,\n",
    " 'mmlu_prehistory_err@5': 0.02508947852376513,\n",
    " 'mmlu_professional_law_err@5': 0.012769541449652547,\n",
    " 'mmlu_world_religions_err@5': 0.029913127232368032,\n",
    " 'mmlu_other_err@5': 0.007740938562114212,\n",
    " 'mmlu_business_ethics_err@5': 0.047937248544110196,\n",
    " 'mmlu_clinical_knowledge_err@5': 0.02605529690115292,\n",
    " 'mmlu_college_medicine_err@5': 0.03669072477416907,\n",
    " 'mmlu_global_facts_err@5': 0.04648231987117316,\n",
    " 'mmlu_human_aging_err@5': 0.030898610882477515,\n",
    " 'mmlu_management_err@5': 0.0376017800602662,\n",
    " 'mmlu_marketing_err@5': 0.022801382534597545,\n",
    " 'mmlu_medical_genetics_err@5': 0.038612291966536955,\n",
    " 'mmlu_miscellaneous_err@5': 0.014036945850381392,\n",
    " 'mmlu_nutrition_err@5': 0.02328768531233481,\n",
    " 'mmlu_professional_accounting_err@5': 0.02982674915328092,\n",
    " 'mmlu_professional_medicine_err@5': 0.027778298701545443,\n",
    " 'mmlu_virology_err@5': 0.03844453181770917,\n",
    " 'mmlu_social_sciences_err@5': 0.00748391651163957,\n",
    " 'mmlu_econometrics_err@5': 0.046920083813689104,\n",
    " 'mmlu_high_school_geography_err@5': 0.027479603010538773,\n",
    " 'mmlu_high_school_government_and_politics_err@5': 0.022473253332768756,\n",
    " 'mmlu_high_school_macroeconomics_err@5': 0.024243783994062164,\n",
    " 'mmlu_high_school_microeconomics_err@5': 0.02851025151234193,\n",
    " 'mmlu_high_school_psychology_err@5': 0.015173141845126267,\n",
    " 'mmlu_human_sexuality_err@5': 0.036853466317118506,\n",
    " 'mmlu_professional_psychology_err@5': 0.01824902441120766,\n",
    " 'mmlu_public_relations_err@5': 0.043091187099464585,\n",
    " 'mmlu_security_studies_err@5': 0.027979823538744546,\n",
    " 'mmlu_sociology_err@5': 0.02292879327721974,\n",
    " 'mmlu_us_foreign_policy_err@5': 0.03265986323710905,\n",
    " 'mmlu_stem_err@5': 0.008479146665131252,\n",
    " 'mmlu_abstract_algebra_err@5': 0.045126085985421276,\n",
    " 'mmlu_anatomy_err@5': 0.04153948404742398,\n",
    " 'mmlu_astronomy_err@5': 0.036117805602848975,\n",
    " 'mmlu_college_biology_err@5': 0.03476590104304134,\n",
    " 'mmlu_college_chemistry_err@5': 0.04999999999999999,\n",
    " 'mmlu_college_computer_science_err@5': 0.05024183937956911,\n",
    " 'mmlu_college_mathematics_err@5': 0.04688261722621504,\n",
    " 'mmlu_college_physics_err@5': 0.04971358884367406,\n",
    " 'mmlu_computer_security_err@5': 0.03684529491774708,\n",
    " 'mmlu_conceptual_physics_err@5': 0.031967586978353627,\n",
    " 'mmlu_electrical_engineering_err@5': 0.0397923663749741,\n",
    " 'mmlu_elementary_mathematics_err@5': 0.025487187147859372,\n",
    " 'mmlu_high_school_biology_err@5': 0.023540799358723295,\n",
    " 'mmlu_high_school_chemistry_err@5': 0.03514528562175007,\n",
    " 'mmlu_high_school_computer_science_err@5': 0.04760952285695237,\n",
    " 'mmlu_high_school_mathematics_err@5': 0.03038416923235082,\n",
    " 'mmlu_high_school_physics_err@5': 0.04062290018683775,\n",
    " 'mmlu_high_school_statistics_err@5': 0.033981108902946366,\n",
    " 'mmlu_machine_learning_err@5': 0.047268355537191}\n",
    " ```\n",
    "\n",
    " bnb int8\n",
    " ```json\n",
    " {'arc_challenge': 0.5110921501706485,\n",
    " 'arc_easy': 0.8122895622895623,\n",
    " 'piqa': 0.8014145810663765,\n",
    " 'winogrande': 0.7348066298342542,\n",
    " 'arc_challenge_err': 0.01460779491401306,\n",
    " 'arc_easy_err': 0.008012496274011486,\n",
    " 'piqa_err': 0.00930781452171787,\n",
    " 'winogrande_err': 0.01240654946619286}\n",
    " ```"
   ]
  },
  {
   "cell_type": "markdown",
   "metadata": {},
   "source": []
  }
 ],
 "metadata": {
  "kernelspec": {
   "display_name": "Python 3",
   "language": "python",
   "name": "python3"
  },
  "language_info": {
   "codemirror_mode": {
    "name": "ipython",
    "version": 3
   },
   "file_extension": ".py",
   "mimetype": "text/x-python",
   "name": "python",
   "nbconvert_exporter": "python",
   "pygments_lexer": "ipython3",
   "version": "3.10.14"
  }
 },
 "nbformat": 4,
 "nbformat_minor": 2
}
