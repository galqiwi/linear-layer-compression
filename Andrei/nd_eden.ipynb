{
 "cells": [
  {
   "cell_type": "code",
   "execution_count": 1,
   "metadata": {},
   "outputs": [
    {
     "name": "stdout",
     "output_type": "stream",
     "text": [
      "env: CUDA_VISIBLE_DEVICES=0\n"
     ]
    }
   ],
   "source": [
    "%env CUDA_VISIBLE_DEVICES=0\n",
    "\n",
    "import math\n",
    "from IPython.display import clear_output\n",
    "import torch\n",
    "import matplotlib.pyplot as plt\n",
    "from tqdm.auto import tqdm, trange\n",
    "\n",
    "STEPS = 1000\n",
    "ALPHA = 0.2"
   ]
  },
  {
   "cell_type": "code",
   "execution_count": 2,
   "metadata": {},
   "outputs": [],
   "source": [
    "def sample_points_in_ball(n_samples=10000, dim=2, radius=10):\n",
    "    \"\"\"\n",
    "    Sample points uniformly within a circle centered at (0, 0) with the given radius.\n",
    "\n",
    "    :param n_samples: Number of points to sample.\n",
    "    :param radius: Radius of the circle.\n",
    "    :return: Torch tensor of sampled points (x1, x2, ...xdim).\n",
    "    \"\"\"\n",
    "    points = torch.rand(n_samples, dim, device=\"cuda\") * 2 * radius - radius\n",
    "    points = points[torch.norm(points, dim=1) < radius]\n",
    "    return points\n",
    "\n",
    "\n",
    "def normal_density(points):\n",
    "    \"\"\"\n",
    "    Compute the Gaussian weights of points under a 2D Normal distribution N(0, 1) in a vectorized manner.\n",
    "    \"\"\"\n",
    "    return torch.exp(-0.5 * torch.sum(points**2, dim=1)) / (2 * torch.pi) ** (points.shape[1] / 2)\n",
    "\n",
    "\n",
    "def compute_centers_of_mass_with_gaussian_weights(grid, sampled_points):\n",
    "    \"\"\"\n",
    "    Compute centers of mass for Voronoi cells using points weighted by a Gaussian distribution, in a vectorized manner.\n",
    "    \"\"\"\n",
    "    # Calculate Gaussian weights for all sampled points\n",
    "    weights = normal_density(sampled_points)\n",
    "    \n",
    "    # Find the Voronoi cell each point belongs to\n",
    "    closest_indices = torch.empty(sampled_points.shape[0], dtype=torch.long, device=sampled_points.device)\n",
    "    for i in range(0, sampled_points.shape[0], 4096):\n",
    "        closest_indices[i:i+4096] = torch.argmax(2 * sampled_points[i:i+4096] @ grid.T - torch.norm(grid, dim=1)**2, dim=1)\n",
    "    \n",
    "    # Initialize sums and weights sum arrays\n",
    "    sums = torch.zeros_like(grid)\n",
    "    weights_sum = torch.zeros(grid.shape[0], dtype=grid.dtype, device=grid.device)\n",
    "    \n",
    "    # Accumulate weighted points and total weights for each Voronoi cell\n",
    "    for i in range(grid.shape[0]):\n",
    "        cell_mask = closest_indices == i\n",
    "        sums[i] = torch.sum(sampled_points[cell_mask] * weights[cell_mask, None], dim=0)\n",
    "        weights_sum[i] = torch.sum(weights[cell_mask])\n",
    "\n",
    "    # Calculate centers of mass\n",
    "    valid_cells = weights_sum > 0\n",
    "    \n",
    "    centers_of_mass = torch.clone(grid)\n",
    "    centers_of_mass[valid_cells] = sums[valid_cells] / weights_sum[valid_cells, None]\n",
    "\n",
    "    return centers_of_mass\n",
    "\n",
    "# Example usage\n",
    "@torch.no_grad()\n",
    "def get_grid(dim, n_points, limit, steps):\n",
    "    centers_of_mass = torch.empty(n_points, dim, device=\"cuda\").normal_(0, 1)\n",
    "    centers_of_mass[torch.norm(centers_of_mass, dim=1) > limit] = 0\n",
    "\n",
    "\n",
    "    for i in trange(steps, leave=False):\n",
    "        # Sample points within the [-13, 13] x [-13, 13] square\n",
    "        sampled_points = sample_points_in_ball(n_samples=10000000, dim=dim, radius=limit)\n",
    "\n",
    "        # Compute centers of mass\n",
    "        centers_of_mass = ALPHA * compute_centers_of_mass_with_gaussian_weights(centers_of_mass, sampled_points) + (1 - ALPHA) * centers_of_mass\n",
    "\n",
    "        # Visualization\n",
    "        # if i % 10 == 0 and centers_of_mass.shape[1] > 1:\n",
    "        #     fig, ax = plt.subplots(figsize=(10,10))\n",
    "        #     clear_output()\n",
    "        #     for com in centers_of_mass[:1000]:\n",
    "        #         ax.plot(com[0].item(), com[1].item(), 'ro')  # Centers of mass marked in red\n",
    "        #     plt.xlim(-limit, limit)\n",
    "        #     plt.ylim(-limit, limit)\n",
    "        #     plt.show()\n",
    "        #     print(f\"{i}/{steps}\")\n",
    "    return centers_of_mass\n"
   ]
  },
  {
   "cell_type": "code",
   "execution_count": 3,
   "metadata": {},
   "outputs": [
    {
     "data": {
      "application/vnd.jupyter.widget-view+json": {
       "model_id": "c1667769fe2d4513894cb7c72e520050",
       "version_major": 2,
       "version_minor": 0
      },
      "text/plain": [
       "  0%|          | 0/1 [00:00<?, ?it/s]"
      ]
     },
     "metadata": {},
     "output_type": "display_data"
    },
    {
     "data": {
      "application/vnd.jupyter.widget-view+json": {
       "model_id": "dead1a130f254864b2a2601c3f57107a",
       "version_major": 2,
       "version_minor": 0
      },
      "text/plain": [
       "  0%|          | 0/1 [00:00<?, ?it/s]"
      ]
     },
     "metadata": {},
     "output_type": "display_data"
    },
    {
     "name": "stdout",
     "output_type": "stream",
     "text": [
      "Skipping dim=1,n_points=256: already exists\n"
     ]
    }
   ],
   "source": [
    "import os\n",
    "import numpy as np\n",
    "\n",
    "for dim in tqdm([1]):\n",
    "    for n_points in tqdm([256], leave=False):\n",
    "        bits = np.log2(n_points) / dim\n",
    "        \n",
    "        # if bits > 6:\n",
    "        #     print(f\"Skipping {dim=},{n_points=}: bitwidth {np.log2(n_points) / dim} too large\")\n",
    "        #     continue\n",
    "        \n",
    "        if bits < 0.25:\n",
    "            print(f\"Skipping {dim=},{n_points=}: bitwidth {np.log2(n_points) / dim} too small\")\n",
    "            continue\n",
    "        \n",
    "        if os.path.isfile(f\"./grids/EDEN{dim}-{n_points}.pt\"):\n",
    "            print(f\"Skipping {dim=},{n_points=}: already exists\")\n",
    "            continue\n",
    "        \n",
    "        \n",
    "        if bits < 1.5:\n",
    "            limit = 4\n",
    "        elif bits < 2.5:\n",
    "            limit = 5\n",
    "        else:\n",
    "            limit = 6\n",
    "        \n",
    "        print(f\"Computing {dim=},{n_points=}...\")\n",
    "        grid = get_grid(dim, n_points, limit, STEPS)\n",
    "        assert n_points == grid.shape[0]\n",
    "        \n",
    "        torch.save(grid, f\"./grids/EDEN{dim}-{n_points}.pt\")"
   ]
  },
  {
   "cell_type": "code",
   "execution_count": null,
   "metadata": {},
   "outputs": [],
   "source": []
  }
 ],
 "metadata": {
  "kernelspec": {
   "display_name": "Python 3",
   "language": "python",
   "name": "python3"
  },
  "language_info": {
   "codemirror_mode": {
    "name": "ipython",
    "version": 3
   },
   "file_extension": ".py",
   "mimetype": "text/x-python",
   "name": "python",
   "nbconvert_exporter": "python",
   "pygments_lexer": "ipython3",
   "version": "3.10.14"
  }
 },
 "nbformat": 4,
 "nbformat_minor": 2
}
