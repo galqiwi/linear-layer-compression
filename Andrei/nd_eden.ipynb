{
 "cells": [
  {
   "cell_type": "code",
   "execution_count": 1,
   "metadata": {},
   "outputs": [
    {
     "name": "stdout",
     "output_type": "stream",
     "text": [
      "env: CUDA_VISIBLE_DEVICES=6\n"
     ]
    }
   ],
   "source": [
    "%env CUDA_VISIBLE_DEVICES=6\n",
    "\n",
    "import math\n",
    "from IPython.display import clear_output\n",
    "import torch\n",
    "import matplotlib.pyplot as plt\n",
    "from tqdm.auto import tqdm, trange\n",
    "\n",
    "STEPS = 200\n",
    "ALPHA = 0.5"
   ]
  },
  {
   "cell_type": "code",
   "execution_count": 2,
   "metadata": {},
   "outputs": [],
   "source": [
    "def sample_points_in_ball(n_samples=10000, dim=2, radius=10):\n",
    "    \"\"\"\n",
    "    Sample points uniformly within a circle centered at (0, 0) with the given radius.\n",
    "\n",
    "    :param n_samples: Number of points to sample.\n",
    "    :param radius: Radius of the circle.\n",
    "    :return: Torch tensor of sampled points (x1, x2, ...xdim).\n",
    "    \"\"\"\n",
    "    points = torch.rand(n_samples, dim, device=\"cuda\") * 2 * radius - radius\n",
    "    points = points[torch.norm(points, dim=1) < radius]\n",
    "    return points\n",
    "\n",
    "\n",
    "def normal_density(points):\n",
    "    \"\"\"\n",
    "    Compute the Gaussian weights of points under a 2D Normal distribution N(0, 1) in a vectorized manner.\n",
    "    \"\"\"\n",
    "    return torch.exp(-0.5 * torch.sum(points**2, dim=1)) / (2 * torch.pi) ** (points.shape[1] / 2)\n",
    "\n",
    "\n",
    "def compute_centers_of_mass_with_gaussian_weights(grid, sampled_points):\n",
    "    \"\"\"\n",
    "    Compute centers of mass for Voronoi cells using points weighted by a Gaussian distribution, in a vectorized manner.\n",
    "    \"\"\"\n",
    "    # Calculate Gaussian weights for all sampled points\n",
    "    weights = normal_density(sampled_points)\n",
    "    \n",
    "    # Find the Voronoi cell each point belongs to\n",
    "    closest_indices = torch.empty(sampled_points.shape[0], dtype=torch.long, device=sampled_points.device)\n",
    "    for i in range(0, sampled_points.shape[0], 4096):\n",
    "        closest_indices[i:i+4096] = torch.argmax(2 * sampled_points[i:i+4096] @ grid.T - torch.norm(grid, dim=1)**2, dim=1)\n",
    "    \n",
    "    # Initialize sums and weights sum arrays\n",
    "    sums = torch.zeros_like(grid)\n",
    "    weights_sum = torch.zeros(grid.shape[0], dtype=grid.dtype, device=grid.device)\n",
    "    \n",
    "    # Accumulate weighted points and total weights for each Voronoi cell\n",
    "    for i in range(grid.shape[0]):\n",
    "        cell_mask = closest_indices == i\n",
    "        sums[i] = torch.sum(sampled_points[cell_mask] * weights[cell_mask, None], dim=0)\n",
    "        weights_sum[i] = torch.sum(weights[cell_mask])\n",
    "\n",
    "    # Calculate centers of mass\n",
    "    valid_cells = weights_sum > 0\n",
    "    \n",
    "    centers_of_mass = torch.clone(grid)\n",
    "    centers_of_mass[valid_cells] = sums[valid_cells] / weights_sum[valid_cells, None]\n",
    "\n",
    "    return centers_of_mass\n",
    "\n",
    "# Example usage\n",
    "@torch.no_grad()\n",
    "def get_grid(dim, bits, limit, steps):\n",
    "    n_points = math.floor(2 ** (bits * dim))\n",
    "    centers_of_mass = torch.empty(n_points, dim, device=\"cuda\").normal_(0, 1)\n",
    "    centers_of_mass[torch.norm(centers_of_mass, dim=1) > limit] = 0\n",
    "\n",
    "\n",
    "    for i in trange(steps, leave=False):\n",
    "        # Sample points within the [-13, 13] x [-13, 13] square\n",
    "        sampled_points = sample_points_in_ball(n_samples=10000000, dim=dim, radius=limit)\n",
    "\n",
    "        # Compute centers of mass\n",
    "        centers_of_mass = ALPHA * compute_centers_of_mass_with_gaussian_weights(centers_of_mass, sampled_points) + (1 - ALPHA) * centers_of_mass\n",
    "\n",
    "        # Visualization\n",
    "        # if i % 10 == 0 and centers_of_mass.shape[1] > 1:\n",
    "        #     fig, ax = plt.subplots(figsize=(10,10))\n",
    "        #     clear_output()\n",
    "        #     for com in centers_of_mass[:1000]:\n",
    "        #         ax.plot(com[0].item(), com[1].item(), 'ro')  # Centers of mass marked in red\n",
    "        #     plt.xlim(-limit, limit)\n",
    "        #     plt.ylim(-limit, limit)\n",
    "        #     plt.show()\n",
    "        #     print(f\"{i}/{steps}\")\n",
    "    return centers_of_mass\n"
   ]
  },
  {
   "cell_type": "code",
   "execution_count": 3,
   "metadata": {},
   "outputs": [
    {
     "data": {
      "application/vnd.jupyter.widget-view+json": {
       "model_id": "62ddf56faf8745b9ad210f1d087c64e8",
       "version_major": 2,
       "version_minor": 0
      },
      "text/plain": [
       "  0%|          | 0/10 [00:00<?, ?it/s]"
      ]
     },
     "metadata": {},
     "output_type": "display_data"
    },
    {
     "data": {
      "application/vnd.jupyter.widget-view+json": {
       "model_id": "41900412a5ce465dab58923c59409e79",
       "version_major": 2,
       "version_minor": 0
      },
      "text/plain": [
       "  0%|          | 0/20 [00:00<?, ?it/s]"
      ]
     },
     "metadata": {},
     "output_type": "display_data"
    },
    {
     "name": "stdout",
     "output_type": "stream",
     "text": [
      "Skipping 1D with 0.1 bits\n",
      "Skipping 1D with 0.25263157894736843 bits\n",
      "Skipping 1D with 0.4052631578947369 bits\n",
      "Skipping 1D with 0.5578947368421052 bits\n",
      "Skipping 1D with 0.7105263157894737 bits\n",
      "Skipping 1D with 0.8631578947368421 bits\n",
      "Skipping 1D with 1.0157894736842106 bits\n",
      "Skipping 1D with 1.168421052631579 bits\n",
      "Skipping 1D with 1.3210526315789475 bits\n",
      "Skipping 1D with 1.473684210526316 bits\n",
      "Skipping 1D with 1.6263157894736844 bits\n",
      "Skipping 1D with 1.7789473684210528 bits\n",
      "Skipping 1D with 1.931578947368421 bits\n",
      "Skipping 1D with 2.0842105263157893 bits\n",
      "Skipping 1D with 2.236842105263158 bits\n",
      "Skipping 1D with 2.3894736842105266 bits\n",
      "Skipping 1D with 2.542105263157895 bits\n",
      "Skipping 1D with 2.694736842105263 bits\n",
      "Skipping 1D with 2.8473684210526318 bits\n",
      "Skipping 1D with 3.0 bits\n"
     ]
    },
    {
     "data": {
      "application/vnd.jupyter.widget-view+json": {
       "model_id": "90b2bd2286e84af4850d4390d6157125",
       "version_major": 2,
       "version_minor": 0
      },
      "text/plain": [
       "  0%|          | 0/20 [00:00<?, ?it/s]"
      ]
     },
     "metadata": {},
     "output_type": "display_data"
    },
    {
     "name": "stdout",
     "output_type": "stream",
     "text": [
      "Skipping 2D with 0.1 bits\n",
      "Skipping 2D with 0.25263157894736843 bits\n",
      "Skipping 2D with 0.4052631578947369 bits\n",
      "Skipping 2D with 0.5578947368421052 bits\n",
      "Skipping 2D with 0.7105263157894737 bits\n",
      "Skipping 2D with 0.8631578947368421 bits\n",
      "Skipping 2D with 1.0157894736842106 bits\n",
      "Skipping 2D with 1.168421052631579 bits\n",
      "Skipping 2D with 1.3210526315789475 bits\n",
      "Skipping 2D with 1.473684210526316 bits\n",
      "Skipping 2D with 1.6263157894736844 bits\n",
      "Skipping 2D with 1.7789473684210528 bits\n",
      "Skipping 2D with 1.931578947368421 bits\n",
      "Skipping 2D with 2.0842105263157893 bits\n",
      "Skipping 2D with 2.236842105263158 bits\n",
      "Skipping 2D with 2.3894736842105266 bits\n",
      "Skipping 2D with 2.542105263157895 bits\n",
      "Skipping 2D with 2.694736842105263 bits\n",
      "Skipping 2D with 2.8473684210526318 bits\n",
      "Skipping 2D with 3.0 bits\n"
     ]
    },
    {
     "data": {
      "application/vnd.jupyter.widget-view+json": {
       "model_id": "1affbded661a4d7f8a0ca689998771dd",
       "version_major": 2,
       "version_minor": 0
      },
      "text/plain": [
       "  0%|          | 0/20 [00:00<?, ?it/s]"
      ]
     },
     "metadata": {},
     "output_type": "display_data"
    },
    {
     "name": "stdout",
     "output_type": "stream",
     "text": [
      "Skipping 3D with 0.1 bits\n",
      "Skipping 3D with 0.25263157894736843 bits\n",
      "Skipping 3D with 0.4052631578947369 bits\n",
      "Skipping 3D with 0.5578947368421052 bits\n",
      "Skipping 3D with 0.7105263157894737 bits\n",
      "Skipping 3D with 0.8631578947368421 bits\n",
      "Skipping 3D with 1.0157894736842106 bits\n",
      "Skipping 3D with 1.168421052631579 bits\n",
      "Skipping 3D with 1.3210526315789475 bits\n",
      "Skipping 3D with 1.473684210526316 bits\n",
      "Skipping 3D with 1.6263157894736844 bits\n",
      "Skipping 3D with 1.7789473684210528 bits\n",
      "Skipping 3D with 1.931578947368421 bits\n",
      "Skipping 3D with 2.0842105263157893 bits\n",
      "Skipping 3D with 2.236842105263158 bits\n",
      "Skipping 3D with 2.3894736842105266 bits\n",
      "Skipping 3D with 2.542105263157895 bits\n",
      "Skipping 3D with 2.694736842105263 bits\n",
      "Skipping 3D with 2.8473684210526318 bits\n",
      "Skipping 3D with 3.0 bits\n"
     ]
    },
    {
     "data": {
      "application/vnd.jupyter.widget-view+json": {
       "model_id": "3d4ead81755e4dcead273359385431b7",
       "version_major": 2,
       "version_minor": 0
      },
      "text/plain": [
       "  0%|          | 0/20 [00:00<?, ?it/s]"
      ]
     },
     "metadata": {},
     "output_type": "display_data"
    },
    {
     "name": "stdout",
     "output_type": "stream",
     "text": [
      "Skipping 4D with 0.1 bits\n",
      "Skipping 4D with 0.25263157894736843 bits\n",
      "Skipping 4D with 0.4052631578947369 bits\n",
      "Skipping 4D with 0.5578947368421052 bits\n",
      "Skipping 4D with 0.7105263157894737 bits\n",
      "Skipping 4D with 0.8631578947368421 bits\n",
      "Skipping 4D with 1.0157894736842106 bits\n",
      "Skipping 4D with 1.168421052631579 bits\n",
      "Skipping 4D with 1.3210526315789475 bits\n",
      "Skipping 4D with 1.473684210526316 bits\n",
      "Skipping 4D with 1.6263157894736844 bits\n",
      "Skipping 4D with 1.7789473684210528 bits\n",
      "Skipping 4D with 1.931578947368421 bits\n",
      "Skipping 4D with 2.0842105263157893 bits\n",
      "Skipping 4D with 2.236842105263158 bits\n",
      "Skipping 4D with 2.3894736842105266 bits\n",
      "Skipping 4D with 2.542105263157895 bits\n",
      "Skipping 4D with 2.694736842105263 bits\n",
      "Skipping 4D with 2.8473684210526318 bits\n",
      "Skipping 4D with 3.0 bits\n"
     ]
    },
    {
     "data": {
      "application/vnd.jupyter.widget-view+json": {
       "model_id": "3a126844b17b442284043b098d4ffb7a",
       "version_major": 2,
       "version_minor": 0
      },
      "text/plain": [
       "  0%|          | 0/20 [00:00<?, ?it/s]"
      ]
     },
     "metadata": {},
     "output_type": "display_data"
    },
    {
     "name": "stdout",
     "output_type": "stream",
     "text": [
      "Skipping 5D with 0.1 bits\n",
      "Skipping 5D with 0.25263157894736843 bits\n",
      "Skipping 5D with 0.4052631578947369 bits\n",
      "Skipping 5D with 0.5578947368421052 bits\n",
      "Skipping 5D with 0.7105263157894737 bits\n",
      "Skipping 5D with 0.8631578947368421 bits\n",
      "Skipping 5D with 1.0157894736842106 bits\n",
      "Skipping 5D with 1.168421052631579 bits\n",
      "Skipping 5D with 1.3210526315789475 bits\n",
      "Skipping 5D with 1.473684210526316 bits\n",
      "Skipping 5D with 1.6263157894736844 bits\n",
      "Skipping 5D with 1.7789473684210528 bits\n",
      "Skipping 5D with 1.931578947368421 bits\n",
      "Skipping 5D with 2.0842105263157893 bits\n",
      "Skipping 5D with 2.236842105263158 bits\n",
      "Skipping 5D with 2.3894736842105266 bits\n",
      "Skipping 5D with 2.542105263157895 bits\n",
      "Skipping 5D with 2.694736842105263 bits\n",
      "Skipping 5D with 2.8473684210526318 bits\n",
      "Skipping 5D with 3.0 bits\n"
     ]
    },
    {
     "data": {
      "application/vnd.jupyter.widget-view+json": {
       "model_id": "ec699b43c66c4269abec9b575adbef1a",
       "version_major": 2,
       "version_minor": 0
      },
      "text/plain": [
       "  0%|          | 0/20 [00:00<?, ?it/s]"
      ]
     },
     "metadata": {},
     "output_type": "display_data"
    },
    {
     "name": "stdout",
     "output_type": "stream",
     "text": [
      "Skipping 6D with 0.1 bits\n",
      "Skipping 6D with 0.25263157894736843 bits\n",
      "Skipping 6D with 0.4052631578947369 bits\n",
      "Skipping 6D with 0.5578947368421052 bits\n",
      "Skipping 6D with 0.7105263157894737 bits\n",
      "Skipping 6D with 0.8631578947368421 bits\n",
      "Skipping 6D with 1.0157894736842106 bits\n",
      "Skipping 6D with 1.168421052631579 bits\n",
      "Skipping 6D with 1.3210526315789475 bits\n",
      "Skipping 6D with 1.473684210526316 bits\n",
      "Skipping 6D with 1.6263157894736844 bits\n",
      "Skipping 6D with 1.7789473684210528 bits\n",
      "Skipping 6D with 1.931578947368421 bits\n",
      "Skipping 6D with 2.0842105263157893 bits\n",
      "Skipping 6D with 2.236842105263158 bits\n",
      "Skipping 6D with 2.3894736842105266 bits\n",
      "Skipping 6D with 2.542105263157895 bits\n",
      "Skipping 6D with 2.694736842105263 bits\n",
      "Skipping 6D with 2.8473684210526318 bits\n",
      "Skipping 6D with 3.0 bits\n"
     ]
    },
    {
     "data": {
      "application/vnd.jupyter.widget-view+json": {
       "model_id": "4707c84b512e42e2bb5c38c6e42b21ae",
       "version_major": 2,
       "version_minor": 0
      },
      "text/plain": [
       "  0%|          | 0/20 [00:00<?, ?it/s]"
      ]
     },
     "metadata": {},
     "output_type": "display_data"
    },
    {
     "name": "stdout",
     "output_type": "stream",
     "text": [
      "Skipping 7D with 0.1 bits\n",
      "Skipping 7D with 0.25263157894736843 bits\n",
      "Skipping 7D with 0.4052631578947369 bits\n",
      "Skipping 7D with 0.5578947368421052 bits\n",
      "Skipping 7D with 0.7105263157894737 bits\n",
      "Skipping 7D with 0.8631578947368421 bits\n",
      "Skipping 7D with 1.0157894736842106 bits\n",
      "Skipping 7D with 1.168421052631579 bits\n",
      "Skipping 7D with 1.3210526315789475 bits\n",
      "Skipping 7D with 1.473684210526316 bits\n"
     ]
    },
    {
     "data": {
      "application/vnd.jupyter.widget-view+json": {
       "model_id": "060a314241194353bcc95a445510fc76",
       "version_major": 2,
       "version_minor": 0
      },
      "text/plain": [
       "  0%|          | 0/200 [00:00<?, ?it/s]"
      ]
     },
     "metadata": {},
     "output_type": "display_data"
    },
    {
     "name": "stdout",
     "output_type": "stream",
     "text": [
      "Skipping 7D with 1.7789473684210528 bits\n",
      "Skipping 7D with 1.931578947368421 bits\n",
      "Skipping 7D with 2.0842105263157893 bits\n",
      "Skipping 7D with 2.236842105263158 bits\n",
      "Skipping 7D with 2.3894736842105266 bits\n",
      "Skipping 7D with 2.542105263157895 bits\n",
      "Skipping 7D with 2.694736842105263 bits\n",
      "Skipping 7D with 2.8473684210526318 bits\n",
      "Skipping 7D with 3.0 bits\n"
     ]
    },
    {
     "data": {
      "application/vnd.jupyter.widget-view+json": {
       "model_id": "0129a40f9aa84d88b23257a296122841",
       "version_major": 2,
       "version_minor": 0
      },
      "text/plain": [
       "  0%|          | 0/20 [00:00<?, ?it/s]"
      ]
     },
     "metadata": {},
     "output_type": "display_data"
    },
    {
     "name": "stdout",
     "output_type": "stream",
     "text": [
      "Skipping 8D with 0.1 bits\n",
      "Skipping 8D with 0.25263157894736843 bits\n",
      "Skipping 8D with 0.4052631578947369 bits\n",
      "Skipping 8D with 0.5578947368421052 bits\n",
      "Skipping 8D with 0.7105263157894737 bits\n",
      "Skipping 8D with 0.8631578947368421 bits\n",
      "Skipping 8D with 1.0157894736842106 bits\n",
      "Skipping 8D with 1.168421052631579 bits\n"
     ]
    },
    {
     "data": {
      "application/vnd.jupyter.widget-view+json": {
       "model_id": "7617e2715087474494d4914ca82afc38",
       "version_major": 2,
       "version_minor": 0
      },
      "text/plain": [
       "  0%|          | 0/200 [00:00<?, ?it/s]"
      ]
     },
     "metadata": {},
     "output_type": "display_data"
    },
    {
     "data": {
      "application/vnd.jupyter.widget-view+json": {
       "model_id": "869f2fc052ed45e8b0661937a7d2e285",
       "version_major": 2,
       "version_minor": 0
      },
      "text/plain": [
       "  0%|          | 0/200 [00:00<?, ?it/s]"
      ]
     },
     "metadata": {},
     "output_type": "display_data"
    },
    {
     "name": "stdout",
     "output_type": "stream",
     "text": [
      "Skipping 8D with 1.6263157894736844 bits\n",
      "Skipping 8D with 1.7789473684210528 bits\n",
      "Skipping 8D with 1.931578947368421 bits\n",
      "Skipping 8D with 2.0842105263157893 bits\n",
      "Skipping 8D with 2.236842105263158 bits\n",
      "Skipping 8D with 2.3894736842105266 bits\n",
      "Skipping 8D with 2.542105263157895 bits\n",
      "Skipping 8D with 2.694736842105263 bits\n",
      "Skipping 8D with 2.8473684210526318 bits\n",
      "Skipping 8D with 3.0 bits\n"
     ]
    },
    {
     "data": {
      "application/vnd.jupyter.widget-view+json": {
       "model_id": "492cbf69b60b442a94ae110ae11e9bf9",
       "version_major": 2,
       "version_minor": 0
      },
      "text/plain": [
       "  0%|          | 0/20 [00:00<?, ?it/s]"
      ]
     },
     "metadata": {},
     "output_type": "display_data"
    },
    {
     "name": "stdout",
     "output_type": "stream",
     "text": [
      "Skipping 9D with 0.1 bits\n",
      "Skipping 9D with 0.25263157894736843 bits\n",
      "Skipping 9D with 0.4052631578947369 bits\n"
     ]
    },
    {
     "data": {
      "application/vnd.jupyter.widget-view+json": {
       "model_id": "c27f9c510c174fa89d1856bffa980fb8",
       "version_major": 2,
       "version_minor": 0
      },
      "text/plain": [
       "  0%|          | 0/200 [00:00<?, ?it/s]"
      ]
     },
     "metadata": {},
     "output_type": "display_data"
    },
    {
     "data": {
      "application/vnd.jupyter.widget-view+json": {
       "model_id": "10f8cb0f63354a6fa4cf368ca13e41cc",
       "version_major": 2,
       "version_minor": 0
      },
      "text/plain": [
       "  0%|          | 0/200 [00:00<?, ?it/s]"
      ]
     },
     "metadata": {},
     "output_type": "display_data"
    },
    {
     "data": {
      "application/vnd.jupyter.widget-view+json": {
       "model_id": "7bb3ad6ec80348319289252e00db793a",
       "version_major": 2,
       "version_minor": 0
      },
      "text/plain": [
       "  0%|          | 0/200 [00:00<?, ?it/s]"
      ]
     },
     "metadata": {},
     "output_type": "display_data"
    },
    {
     "data": {
      "application/vnd.jupyter.widget-view+json": {
       "model_id": "4770568f18d942419047a91ac7e29908",
       "version_major": 2,
       "version_minor": 0
      },
      "text/plain": [
       "  0%|          | 0/200 [00:00<?, ?it/s]"
      ]
     },
     "metadata": {},
     "output_type": "display_data"
    },
    {
     "data": {
      "application/vnd.jupyter.widget-view+json": {
       "model_id": "275e41412a034b09989913653d224073",
       "version_major": 2,
       "version_minor": 0
      },
      "text/plain": [
       "  0%|          | 0/200 [00:00<?, ?it/s]"
      ]
     },
     "metadata": {},
     "output_type": "display_data"
    },
    {
     "data": {
      "application/vnd.jupyter.widget-view+json": {
       "model_id": "e87d1bdca1334602a1f6f56f54317621",
       "version_major": 2,
       "version_minor": 0
      },
      "text/plain": [
       "  0%|          | 0/200 [00:00<?, ?it/s]"
      ]
     },
     "metadata": {},
     "output_type": "display_data"
    },
    {
     "name": "stdout",
     "output_type": "stream",
     "text": [
      "Skipping 9D with 1.473684210526316 bits\n",
      "Skipping 9D with 1.6263157894736844 bits\n",
      "Skipping 9D with 1.7789473684210528 bits\n",
      "Skipping 9D with 1.931578947368421 bits\n",
      "Skipping 9D with 2.0842105263157893 bits\n",
      "Skipping 9D with 2.236842105263158 bits\n",
      "Skipping 9D with 2.3894736842105266 bits\n",
      "Skipping 9D with 2.542105263157895 bits\n",
      "Skipping 9D with 2.694736842105263 bits\n",
      "Skipping 9D with 2.8473684210526318 bits\n",
      "Skipping 9D with 3.0 bits\n"
     ]
    },
    {
     "data": {
      "application/vnd.jupyter.widget-view+json": {
       "model_id": "90a3f9ecbef7410e93960a5fd9a95a1b",
       "version_major": 2,
       "version_minor": 0
      },
      "text/plain": [
       "  0%|          | 0/20 [00:00<?, ?it/s]"
      ]
     },
     "metadata": {},
     "output_type": "display_data"
    },
    {
     "name": "stdout",
     "output_type": "stream",
     "text": [
      "Skipping 10D with 0.1 bits\n",
      "Skipping 10D with 0.25263157894736843 bits\n",
      "Skipping 10D with 0.4052631578947369 bits\n"
     ]
    },
    {
     "data": {
      "application/vnd.jupyter.widget-view+json": {
       "model_id": "5e350696eda94b688fe4e39f38a1a219",
       "version_major": 2,
       "version_minor": 0
      },
      "text/plain": [
       "  0%|          | 0/200 [00:00<?, ?it/s]"
      ]
     },
     "metadata": {},
     "output_type": "display_data"
    },
    {
     "data": {
      "application/vnd.jupyter.widget-view+json": {
       "model_id": "9e8658c1c6bd4bae83b6f3e8182c0eeb",
       "version_major": 2,
       "version_minor": 0
      },
      "text/plain": [
       "  0%|          | 0/200 [00:00<?, ?it/s]"
      ]
     },
     "metadata": {},
     "output_type": "display_data"
    },
    {
     "data": {
      "application/vnd.jupyter.widget-view+json": {
       "model_id": "6e099dcd57384741846dc4be417c922d",
       "version_major": 2,
       "version_minor": 0
      },
      "text/plain": [
       "  0%|          | 0/200 [00:00<?, ?it/s]"
      ]
     },
     "metadata": {},
     "output_type": "display_data"
    },
    {
     "data": {
      "application/vnd.jupyter.widget-view+json": {
       "model_id": "d212fd2b3176406ba1d46d6860b04dbf",
       "version_major": 2,
       "version_minor": 0
      },
      "text/plain": [
       "  0%|          | 0/200 [00:00<?, ?it/s]"
      ]
     },
     "metadata": {},
     "output_type": "display_data"
    },
    {
     "data": {
      "application/vnd.jupyter.widget-view+json": {
       "model_id": "c55d975c906541609a3436eea3ad6bcc",
       "version_major": 2,
       "version_minor": 0
      },
      "text/plain": [
       "  0%|          | 0/200 [00:00<?, ?it/s]"
      ]
     },
     "metadata": {},
     "output_type": "display_data"
    },
    {
     "name": "stdout",
     "output_type": "stream",
     "text": [
      "Skipping 10D with 1.3210526315789475 bits\n",
      "Skipping 10D with 1.473684210526316 bits\n",
      "Skipping 10D with 1.6263157894736844 bits\n",
      "Skipping 10D with 1.7789473684210528 bits\n",
      "Skipping 10D with 1.931578947368421 bits\n",
      "Skipping 10D with 2.0842105263157893 bits\n",
      "Skipping 10D with 2.236842105263158 bits\n",
      "Skipping 10D with 2.3894736842105266 bits\n",
      "Skipping 10D with 2.542105263157895 bits\n",
      "Skipping 10D with 2.694736842105263 bits\n",
      "Skipping 10D with 2.8473684210526318 bits\n",
      "Skipping 10D with 3.0 bits\n"
     ]
    }
   ],
   "source": [
    "import os\n",
    "import numpy as np\n",
    "\n",
    "for dim in trange(1, 11, leave=False):\n",
    "    for bits in tqdm(np.linspace(0.1, 3, num=20)):\n",
    "        n_points = math.floor(2 ** (bits * dim))\n",
    "        \n",
    "        if bits * dim < 1:\n",
    "            print(f\"Skipping {dim}D with {bits} bits\")\n",
    "            continue\n",
    "        \n",
    "        if bits * dim > 12:\n",
    "            print(f\"Skipping {dim}D with {bits} bits\")\n",
    "            continue\n",
    "        \n",
    "        if os.path.isfile(f\"./grids/EDEN{dim}-{n_points}.pt\"):\n",
    "            print(f\"Skipping {dim}D with {bits} bits\")\n",
    "            continue\n",
    "        \n",
    "        if bits < 1.5:\n",
    "            limit = 4\n",
    "        elif bits < 2.5:\n",
    "            limit = 5\n",
    "        else:\n",
    "            limit = 6\n",
    "        \n",
    "        grid = get_grid(dim, bits, limit, STEPS)\n",
    "        assert n_points == grid.shape[0]\n",
    "        \n",
    "        torch.save(grid, f\"./grids/EDEN{dim}-{n_points}.pt\")"
   ]
  },
  {
   "cell_type": "code",
   "execution_count": null,
   "metadata": {},
   "outputs": [],
   "source": [
    "\n",
    "\n"
   ]
  }
 ],
 "metadata": {
  "kernelspec": {
   "display_name": "Python 3",
   "language": "python",
   "name": "python3"
  },
  "language_info": {
   "codemirror_mode": {
    "name": "ipython",
    "version": 3
   },
   "file_extension": ".py",
   "mimetype": "text/x-python",
   "name": "python",
   "nbconvert_exporter": "python",
   "pygments_lexer": "ipython3",
   "version": "3.10.14"
  }
 },
 "nbformat": 4,
 "nbformat_minor": 2
}
