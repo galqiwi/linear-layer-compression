{
 "cells": [
  {
   "cell_type": "code",
   "execution_count": 1,
   "metadata": {},
   "outputs": [
    {
     "name": "stdout",
     "output_type": "stream",
     "text": [
      "env: CUDA_VISIBLE_DEVICES=6\n"
     ]
    }
   ],
   "source": [
    "%env CUDA_VISIBLE_DEVICES=6\n",
    "\n",
    "import math\n",
    "\n",
    "import torch\n",
    "from linear import HiggsLinear, pad_to_block"
   ]
  },
  {
   "cell_type": "code",
   "execution_count": 2,
   "metadata": {},
   "outputs": [],
   "source": [
    "SIZE = 8192\n",
    "HADAMARD_SIZE = 1024\n",
    "GRID_DIM = 2\n",
    "\n",
    "layer = HiggsLinear(\n",
    "    SIZE, SIZE,\n",
    "    GRID_DIM, 256,\n",
    "    device=\"cuda\",\n",
    "    dtype=torch.float16,\n",
    ")"
   ]
  },
  {
   "cell_type": "code",
   "execution_count": 3,
   "metadata": {},
   "outputs": [
    {
     "data": {
      "text/plain": [
       "tensor([[[-5.3320, -5.3789, 15.3594,  ..., 16.2031,  3.0742, 31.0781]]],\n",
       "       device='cuda:0', dtype=torch.float16)"
      ]
     },
     "execution_count": 3,
     "metadata": {},
     "output_type": "execute_result"
    }
   ],
   "source": [
    "input = torch.rand(1, 1, SIZE, device=\"cuda\", dtype=torch.float16)\n",
    "\n",
    "layer(input)"
   ]
  },
  {
   "cell_type": "code",
   "execution_count": 4,
   "metadata": {},
   "outputs": [],
   "source": [
    "from aqlm.utils import unpack_int_data, _dequantize_weight\n",
    "\n",
    "codebooks = torch.load(f\"../grids/EDEN{GRID_DIM}-256.pt\").half()\n",
    "\n",
    "post_hadamard_size = ((HADAMARD_SIZE - 1) // GRID_DIM + 1) * GRID_DIM\n",
    "\n",
    "weight = _dequantize_weight(\n",
    "    unpack_int_data(layer.codes, 8)[:,:,None],\n",
    "    codebooks[None,:,None,:],\n",
    "    # scales=layer.scales,\n",
    ")\n",
    "\n",
    "weight = weight.reshape(weight.shape[0], -1, post_hadamard_size) * layer.scales[...,None]\n",
    "\n",
    "weight = weight.reshape(weight.shape[0], -1)"
   ]
  },
  {
   "cell_type": "code",
   "execution_count": 5,
   "metadata": {},
   "outputs": [
    {
     "data": {
      "text/plain": [
       "tensor([[-5.3125, -5.3867, 15.3594,  ..., 16.2031,  3.0820, 31.1250]],\n",
       "       device='cuda:0', dtype=torch.float16)"
      ]
     },
     "execution_count": 5,
     "metadata": {},
     "output_type": "execute_result"
    }
   ],
   "source": [
    "from fast_hadamard_transform import hadamard_transform\n",
    "\n",
    "pad_to_block(hadamard_transform(input.reshape(-1, HADAMARD_SIZE), scale=1/math.sqrt(HADAMARD_SIZE)).reshape(1, -1), [-1], post_hadamard_size) @ weight.T"
   ]
  },
  {
   "cell_type": "code",
   "execution_count": 6,
   "metadata": {},
   "outputs": [
    {
     "name": "stdout",
     "output_type": "stream",
     "text": [
      "CPU times: user 206 ms, sys: 808 µs, total: 207 ms\n",
      "Wall time: 206 ms\n"
     ]
    }
   ],
   "source": [
    "%%time\n",
    "\n",
    "with torch.inference_mode():\n",
    "    for i in range(1000):\n",
    "        layer(input)\n",
    "        torch.cuda.synchronize()"
   ]
  },
  {
   "cell_type": "code",
   "execution_count": 7,
   "metadata": {},
   "outputs": [
    {
     "name": "stdout",
     "output_type": "stream",
     "text": [
      "CPU times: user 183 ms, sys: 0 ns, total: 183 ms\n",
      "Wall time: 182 ms\n"
     ]
    }
   ],
   "source": [
    "%%time\n",
    "\n",
    "with torch.inference_mode():\n",
    "    for i in range(1000):\n",
    "        torch.nn.functional.linear(input, weight)\n",
    "        torch.cuda.synchronize()"
   ]
  },
  {
   "cell_type": "code",
   "execution_count": null,
   "metadata": {},
   "outputs": [],
   "source": []
  }
 ],
 "metadata": {
  "kernelspec": {
   "display_name": "Python 3",
   "language": "python",
   "name": "python3"
  },
  "language_info": {
   "codemirror_mode": {
    "name": "ipython",
    "version": 3
   },
   "file_extension": ".py",
   "mimetype": "text/x-python",
   "name": "python",
   "nbconvert_exporter": "python",
   "pygments_lexer": "ipython3",
   "version": "3.10.14"
  }
 },
 "nbformat": 4,
 "nbformat_minor": 2
}
