{
 "cells": [
  {
   "cell_type": "code",
   "execution_count": 1,
   "metadata": {},
   "outputs": [
    {
     "name": "stdout",
     "output_type": "stream",
     "text": [
      "env: CUDA_VISIBLE_DEVICES=6\n"
     ]
    }
   ],
   "source": [
    "%env CUDA_VISIBLE_DEVICES=6\n",
    "\n",
    "import math\n",
    "\n",
    "import torch\n",
    "from linear import HiggsLinear"
   ]
  },
  {
   "cell_type": "code",
   "execution_count": 2,
   "metadata": {},
   "outputs": [],
   "source": [
    "SIZE = 4096\n",
    "HADAMARD_SIZE = 1024\n",
    "\n",
    "layer = HiggsLinear(\n",
    "    SIZE, 1,\n",
    "    2, 256,\n",
    "    device=\"cuda\",\n",
    "    dtype=torch.float16,\n",
    ")"
   ]
  },
  {
   "cell_type": "code",
   "execution_count": 3,
   "metadata": {},
   "outputs": [
    {
     "data": {
      "text/plain": [
       "tensor([[[30.7656]]], device='cuda:0', dtype=torch.float16)"
      ]
     },
     "execution_count": 3,
     "metadata": {},
     "output_type": "execute_result"
    }
   ],
   "source": [
    "input = torch.rand(1, 1, SIZE, device=\"cuda\", dtype=torch.float16)\n",
    "\n",
    "layer(input)"
   ]
  },
  {
   "cell_type": "code",
   "execution_count": 4,
   "metadata": {},
   "outputs": [],
   "source": [
    "from aqlm.utils import unpack_int_data, _dequantize_weight"
   ]
  },
  {
   "cell_type": "code",
   "execution_count": 5,
   "metadata": {},
   "outputs": [],
   "source": [
    "@torch.inference_mode()\n",
    "def unpack_int_data(data: torch.IntTensor, nbits: int) -> torch.IntTensor:\n",
    "    return data.to(torch.int64) % (2**nbits)\n",
    "\n",
    "codebooks = torch.load(\"../grids/EDEN2-256.pt\").half()\n",
    "\n",
    "weight = _dequantize_weight(\n",
    "    unpack_int_data(layer.codes, 8)[:,:,None],\n",
    "    codebooks[None,:,None,:],\n",
    "    # scales=layer.scales,\n",
    ").reshape(1, SIZE//HADAMARD_SIZE, HADAMARD_SIZE) * layer.scales[...,None]\n",
    "\n",
    "weight = weight.reshape(1, SIZE)"
   ]
  },
  {
   "cell_type": "code",
   "execution_count": 6,
   "metadata": {},
   "outputs": [
    {
     "data": {
      "text/plain": [
       "tensor([[30.7344]], device='cuda:0', dtype=torch.float16)"
      ]
     },
     "execution_count": 6,
     "metadata": {},
     "output_type": "execute_result"
    }
   ],
   "source": [
    "from fast_hadamard_transform import hadamard_transform\n",
    "\n",
    "hadamard_transform(input.reshape(-1, HADAMARD_SIZE), scale=1/math.sqrt(HADAMARD_SIZE)).reshape(1, -1) @ weight.T"
   ]
  },
  {
   "cell_type": "code",
   "execution_count": null,
   "metadata": {},
   "outputs": [],
   "source": []
  }
 ],
 "metadata": {
  "kernelspec": {
   "display_name": "Python 3",
   "language": "python",
   "name": "python3"
  },
  "language_info": {
   "codemirror_mode": {
    "name": "ipython",
    "version": 3
   },
   "file_extension": ".py",
   "mimetype": "text/x-python",
   "name": "python",
   "nbconvert_exporter": "python",
   "pygments_lexer": "ipython3",
   "version": "3.10.14"
  }
 },
 "nbformat": 4,
 "nbformat_minor": 2
}
