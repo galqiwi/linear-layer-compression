{
 "cells": [
  {
   "cell_type": "code",
   "execution_count": 1,
   "metadata": {},
   "outputs": [
    {
     "name": "stdout",
     "output_type": "stream",
     "text": [
      "env: CUDA_VISIBLE_DEVICES=7\n",
      "env: TOKENIZERS_PARALLELISM=false\n",
      "env: WANDB_NOTEBOOK_NAME=quant.ipynb\n"
     ]
    }
   ],
   "source": [
    "%env CUDA_VISIBLE_DEVICES=7\n",
    "%env TOKENIZERS_PARALLELISM=false\n",
    "%env WANDB_NOTEBOOK_NAME=quant.ipynb\n",
    "\n",
    "import random\n",
    "\n",
    "import torch\n",
    "from torch import nn\n",
    "from torch.nn import functional as F\n",
    "from torch import Tensor\n",
    "\n",
    "from transformers import AutoModelForCausalLM, AutoTokenizer, AutoConfig\n",
    "\n",
    "from datasets import load_dataset\n",
    "\n",
    "from tqdm.notebook import tqdm, trange"
   ]
  },
  {
   "cell_type": "code",
   "execution_count": 2,
   "metadata": {},
   "outputs": [],
   "source": [
    "DEVICE = \"cuda\""
   ]
  },
  {
   "cell_type": "markdown",
   "metadata": {},
   "source": [
    "### Simple quant"
   ]
  },
  {
   "cell_type": "code",
   "execution_count": 3,
   "metadata": {},
   "outputs": [],
   "source": [
    "def get_scale_and_zero(x: Tensor, max_abs: float) -> tuple[Tensor, Tensor]:\n",
    "    \"\"\" Given a tensor x of shape (m, k) and max_abs > 0 produce tensors scale and zero of shape (m, 1)\n",
    "        such that 0 < x / scale + zero < max_abs\"\"\"\n",
    "    # YOUR CODE HERE>>>>>>>>>\n",
    "    xmin = x.min(-1)[0]\n",
    "    xmax = x.max(-1)[0]\n",
    "\n",
    "    scale = (xmax - xmin) / max_abs\n",
    "    scale[scale == 0] = 1\n",
    "    zero = -xmin / scale\n",
    "\n",
    "    scale = scale.unsqueeze(-1)\n",
    "    zero = zero.unsqueeze(-1)\n",
    "    return scale.to(x.dtype), zero.to(x.dtype)\n",
    "\n",
    "def quantize_simple(x, bits):\n",
    "    return torch.clamp(torch.round(x), 0, 2 ** bits - 1)\n"
   ]
  },
  {
   "cell_type": "markdown",
   "metadata": {},
   "source": [
    "### Hadamard quant"
   ]
  },
  {
   "cell_type": "code",
   "execution_count": 4,
   "metadata": {},
   "outputs": [],
   "source": [
    "from functools import cache, lru_cache\n",
    "import math\n",
    "import numpy as np\n",
    "from scipy.special import erf\n",
    "\n",
    "# half-normal centroids\n",
    "opt_hn_centroids = {\n",
    "    1: [0.7978845608028654],\n",
    "    2: [0.4527800398860679, 1.5104176087114887],\n",
    "    3: [0.24509416307340598, 0.7560052489539643, 1.3439092613750225, 2.151945669890335],\n",
    "    4: [\n",
    "        0.12839501671105813,\n",
    "        0.38804823445328507,\n",
    "        0.6567589957631145,\n",
    "        0.9423402689122875,\n",
    "        1.2562309480263467,\n",
    "        1.6180460517130526,\n",
    "        2.069016730231837,\n",
    "        2.732588804065177,\n",
    "    ],\n",
    "}\n",
    "\n",
    "\n",
    "def section_variance(a, b, c) -> float:\n",
    "    if math.isinf(c):\n",
    "        return (\n",
    "            np.sqrt(2 / np.pi) * np.exp(-(a**2) / 2) * (a - 2 * b)\n",
    "            - (b**2 + 1) * erf(a / np.sqrt(2))\n",
    "            + (b**2 + 1) * erf(c / np.sqrt(2))\n",
    "        )\n",
    "    else:\n",
    "        return (\n",
    "            np.sqrt(2 / np.pi) * np.exp(-(a**2) / 2) * (a - 2 * b)\n",
    "            - (b**2 + 1) * erf(a / np.sqrt(2))\n",
    "            + (b**2 + 1) * erf(c / np.sqrt(2))\n",
    "            + np.sqrt(2 / np.pi) * np.exp(-(c**2) / 2) * (2 * b - c)\n",
    "        )\n",
    "\n",
    "\n",
    "def gen_boundaries(centroids):\n",
    "    return [(a + b) / 2 for a, b in zip(centroids[:-1], centroids[1:])]\n",
    "\n",
    "\n",
    "def gen_all_normal_quantization_constants():\n",
    "    # add symmetric negative normal centroids\n",
    "    centroids = {i: [-j for j in reversed(c)] + c for i, c in opt_hn_centroids.items()}\n",
    "\n",
    "    # centroids to bin boundaries\n",
    "    boundaries = {i: gen_boundaries(c) for i, c in centroids.items()}\n",
    "\n",
    "    return centroids, boundaries\n",
    "    \n",
    "\n",
    "@cache\n",
    "def bits_var():\n",
    "    result = {0: 1}\n",
    "    for bits, centers in opt_hn_centroids.items():\n",
    "        borders = [0] + [(a + b) / 2 for a, b in zip(centers[:-1], centers[1:])] + [float(\"inf\")]\n",
    "        variance = sum(section_variance(a, b, c) for a, b, c in zip(borders[:-1], centers, borders[1:]))\n",
    "        result[bits] = variance\n",
    "    return result\n",
    "\n",
    "\n",
    "@cache\n",
    "def get_all_quantization_constants_tensors(device):\n",
    "    centroids, boundaries = gen_all_normal_quantization_constants()\n",
    "\n",
    "    centroids = {i: torch.tensor(c, device=device) for i, c in centroids.items()}\n",
    "    boundaries = {i: torch.tensor(b, device=device) for i, b in boundaries.items()}\n",
    "\n",
    "    return centroids, boundaries\n",
    "\n",
    "\n",
    "\n",
    "centroids, boundaries = get_all_quantization_constants_tensors(DEVICE)\n",
    "\n",
    "def quantize_hadamard(weight, bits):\n",
    "    assignments = torch.bucketize(weight, boundaries[bits])\n",
    "    return torch.take(centroids[bits], assignments)\n"
   ]
  },
  {
   "cell_type": "markdown",
   "metadata": {},
   "source": [
    "### GPTQ"
   ]
  },
  {
   "cell_type": "code",
   "execution_count": 5,
   "metadata": {},
   "outputs": [],
   "source": [
    "@torch.no_grad()\n",
    "def gptq_block(block_weight: Tensor, block_hessian_inverse: Tensor, bits: int, do_hadamard: bool) -> tuple[Tensor, Tensor]:\n",
    "    \"\"\"Perform GPTQ within block\n",
    "    Args:\n",
    "        block_weight (Tensor): weight to quantize of shape (OUT, BLOCK_SIZE)\n",
    "        block_hessian_inverse (Tensor): Cholesky inverse Hessian. Upper triangular of shape (BLOCK_SIZE, BLOCK_SIZE)\n",
    "        bits (int): number of bits to quantize() to\n",
    "\n",
    "    Returns:\n",
    "        tuple[Tensor, Tensor]: quantized weight and scaled quantization error\n",
    "    \"\"\"\n",
    "    quantized_block_weight = torch.zeros_like(block_weight)\n",
    "    scaled_block_error = torch.zeros_like(block_weight)\n",
    "\n",
    "    # Interate over the block's columns\n",
    "    for i in range(block_weight.shape[1]):\n",
    "        # Get the column and the corresponding inverse Hessian\n",
    "        column_weight = block_weight[:, [i]]\n",
    "        # YOUR CODE HERE>>>>>>>>>\n",
    "        column_hessian_inverse = block_hessian_inverse[i, i]\n",
    "\n",
    "        # Quantize the column weight\n",
    "        if do_hadamard:\n",
    "            quantized_column_weight = quantize_hadamard(column_weight.clone(), bits)\n",
    "        else:\n",
    "            quantized_column_weight = quantize_simple(column_weight.clone(), bits)\n",
    "        quantized_block_weight[:, [i]] = quantized_column_weight.clone()\n",
    "        dequantized_column_weight = quantized_column_weight\n",
    "\n",
    "        # Update all the following columns within the block\n",
    "        scaled_column_error = (column_weight - dequantized_column_weight) / column_hessian_inverse\n",
    "        block_weight[:, i+1:] -= scaled_column_error.matmul(block_hessian_inverse[[i], i+1:])\n",
    "        scaled_block_error[:, [i]] = scaled_column_error\n",
    "        # <<<<<<<<<<<<<<<<<<<<<<<\n",
    "\n",
    "    return quantized_block_weight, scaled_block_error, block_weight\n"
   ]
  },
  {
   "cell_type": "code",
   "execution_count": 6,
   "metadata": {},
   "outputs": [],
   "source": [
    "from fast_hadamard_transform import hadamard_transform\n",
    "\n",
    "BLOCK_SIZE = 1024\n",
    "\n",
    "def prepare_inverse_hessian(hessian: Tensor, percdamp: float) -> Tensor:\n",
    "    \"\"\"Precomputes inverse Hessian\n",
    "    Args:\n",
    "        hessian (Tensor): problem hessian\n",
    "        percdamp (float): diagonal damping constant for numerical stability\n",
    "    Returns:\n",
    "        Tensor: precomputed inverse Hessian\n",
    "    \"\"\"\n",
    "    damp = percdamp * torch.mean(torch.diag(hessian))\n",
    "    diag = torch.arange(hessian.shape[0], device=hessian.device)\n",
    "    hessian[diag, diag] += damp\n",
    "    hessian = torch.linalg.cholesky(hessian)\n",
    "    hessian = torch.cholesky_inverse(hessian)\n",
    "    hessian = torch.linalg.cholesky(hessian, upper=True)\n",
    "    return hessian\n",
    "\n",
    "def pad_to_power_of_2(tensor, dims):\n",
    "    pad_dims = [0 for _ in range(2 * len(tensor.shape))]\n",
    "    for dim in dims:\n",
    "        size = tensor.shape[dim]\n",
    "        next_power_of_2 = 2**(size-1).bit_length()\n",
    "        delta = next_power_of_2 - size\n",
    "        pad_dims[-2 * dim - 1] = delta\n",
    "    \n",
    "    return F.pad(tensor, pad_dims, \"constant\", 0)\n",
    "\n",
    "def pad_to_block(tensor, dims):\n",
    "    pad_dims = [0 for _ in range(2 * len(tensor.shape))]\n",
    "    for dim in dims:\n",
    "        size = tensor.shape[dim]\n",
    "        next_multiple_of_1024 = ((size - 1) // BLOCK_SIZE + 1) * BLOCK_SIZE\n",
    "        delta = next_multiple_of_1024 - size\n",
    "        pad_dims[-2 * dim - 1] = delta\n",
    "    \n",
    "    return F.pad(tensor, pad_dims, \"constant\", 0)\n",
    "\n",
    "@torch.no_grad()\n",
    "def gptq(\n",
    "    weight: torch.Tensor, bits: int, hessian: torch.Tensor,\n",
    "    do_hadamard=True,\n",
    "    blocksize:int=128, percdamp:float=.01\n",
    ") -> tuple[Tensor, Tensor, Tensor]:\n",
    "    \"\"\"Quantizes weight with GPTQ\n",
    "    Args:\n",
    "        weight (torch.Tensor): weight to quantize\n",
    "        bits (int): number of bits to quantize to\n",
    "        hessian (torch.Tensor): problem Hessian\n",
    "        blocksize (int, optional): Defaults to 128.\n",
    "        percdamp (float, optional): Hessian damping constant for numerical stability. Defaults to .01.\n",
    "\n",
    "    Returns:\n",
    "        tuple[Tensor, Tensor, Tensor]: quantized_weight, row-wise quantization scales, row-wise quantization zeroes\n",
    "    \"\"\"\n",
    "\n",
    "    dtype = weight.dtype\n",
    "    weight = weight.float()\n",
    "    num_columns = weight.shape[1]\n",
    "    hessian = hessian.float()\n",
    "\n",
    "    # Normalize\n",
    "    if do_hadamard:\n",
    "        # scales = torch.linalg.norm(weight, axis=-1)\n",
    "        weight = pad_to_block(weight, [1])\n",
    "        hessian = pad_to_block(hessian, [0, 1])\n",
    "        \n",
    "        mult = weight.shape[1] // BLOCK_SIZE\n",
    "        weight = weight.reshape(-1, mult, BLOCK_SIZE)\n",
    "        hessian = hessian.reshape(mult, BLOCK_SIZE, mult, BLOCK_SIZE)\n",
    "        \n",
    "        scales = torch.linalg.norm(weight, axis=-1)\n",
    "        \n",
    "        weight = hadamard_transform(weight) / scales[:, :, None]\n",
    "        hessian = hadamard_transform(\n",
    "            hadamard_transform(hessian, scale=1/np.sqrt(BLOCK_SIZE)).permute(2, 3, 0, 1),\n",
    "            scale=1/np.sqrt(BLOCK_SIZE)\n",
    "        ).permute(2, 3, 0, 1)\n",
    "        \n",
    "        weight = weight.reshape(-1, mult * BLOCK_SIZE)\n",
    "        hessian = hessian.reshape(mult * BLOCK_SIZE, mult * BLOCK_SIZE)\n",
    "    else:\n",
    "        scales, zeros = get_scale_and_zero(weight, 2**bits - 1)\n",
    "        weight = weight / scales + zeros\n",
    "\n",
    "    # Process the Hessian to obtain the precomputed inverse Hessian\n",
    "    hessian_inverse = prepare_inverse_hessian(hessian, percdamp)\n",
    "\n",
    "    # Iterate over the columns in blockss\n",
    "    quantized_weight = weight.clone()\n",
    "    for block_start in range(0, num_columns, blocksize):\n",
    "        # YOUR CODE HERE>>>>>>>>>\n",
    "        block_end = min(block_start + blocksize, num_columns)\n",
    "\n",
    "        # Get the next block and quantize it\n",
    "        quantized_block_weight, block_error, weight[:, block_start:block_end] = gptq_block(\n",
    "            weight[:, block_start:block_end],\n",
    "            hessian_inverse[block_start:block_end, block_start:block_end],\n",
    "            bits, do_hadamard,\n",
    "        )\n",
    "\n",
    "        # Tune all the following blocks to mitigate the quantization error\n",
    "        quantized_weight[:, block_start:block_end] = quantized_block_weight.clone()\n",
    "        weight[:, block_end:] -= block_error.matmul(hessian_inverse[block_start:block_end, block_end:])\n",
    "        # <<<<<<<<<<<<<<<<<<<<<<<\n",
    "    if do_hadamard:\n",
    "        quantized_weight = (quantized_weight.reshape(quantized_weight.shape[0], -1, BLOCK_SIZE) * scales[:, :, None]).reshape(quantized_weight.shape[0], -1)\n",
    "    else:\n",
    "        quantized_weight = (quantized_weight - zeros) * scales\n",
    "    return quantized_weight.to(dtype)\n",
    "\n",
    "\n",
    "class HadLinear(nn.Module):\n",
    "    def __init__(self, weight):\n",
    "        super().__init__()\n",
    "        self.weight = nn.Parameter(weight/math.sqrt(BLOCK_SIZE))\n",
    "    \n",
    "    def forward(self, input):\n",
    "        input = pad_to_block(input, [-1])\n",
    "        mult = input.shape[-1] // BLOCK_SIZE\n",
    "        input = input.reshape(input.shape[:-1] + (mult, BLOCK_SIZE))\n",
    "        input = hadamard_transform(input, scale=1/math.sqrt(BLOCK_SIZE))\n",
    "        input = input.reshape(input.shape[:-2] + (mult * BLOCK_SIZE,))\n",
    "        return F.linear(input, self.weight)\n"
   ]
  },
  {
   "cell_type": "code",
   "execution_count": 7,
   "metadata": {},
   "outputs": [],
   "source": [
    "weight = torch.load(\"./weight.pt\").to(DEVICE)\n",
    "hessian = torch.load(\"./hessian.pt\").to(DEVICE)\n",
    "inputs = torch.load(\"./inputs.pt\")"
   ]
  },
  {
   "cell_type": "code",
   "execution_count": 8,
   "metadata": {},
   "outputs": [],
   "source": [
    "normal_weight = gptq(weight, 4, hessian, do_hadamard=False)\n",
    "had_weight = gptq(weight, 4, hessian, do_hadamard=True)"
   ]
  },
  {
   "cell_type": "code",
   "execution_count": 9,
   "metadata": {},
   "outputs": [
    {
     "data": {
      "text/plain": [
       "7137.40625"
      ]
     },
     "execution_count": 9,
     "metadata": {},
     "output_type": "execute_result"
    }
   ],
   "source": [
    "normal_error = 0\n",
    "with torch.no_grad():\n",
    "    for input in inputs:\n",
    "        normal_error += torch.linalg.norm(F.linear(input.to(DEVICE), weight) - F.linear(input.to(DEVICE), normal_weight)).item()\n",
    "normal_error"
   ]
  },
  {
   "cell_type": "code",
   "execution_count": 10,
   "metadata": {},
   "outputs": [
    {
     "data": {
      "text/plain": [
       "4166.28125"
      ]
     },
     "execution_count": 10,
     "metadata": {},
     "output_type": "execute_result"
    }
   ],
   "source": [
    "had_linear = HadLinear(had_weight)\n",
    "\n",
    "had_error = 0\n",
    "with torch.no_grad():\n",
    "    for input in inputs:\n",
    "        had_error += torch.linalg.norm(F.linear(input.to(DEVICE), weight) - had_linear(input.to(DEVICE))).item()\n",
    "had_error"
   ]
  },
  {
   "cell_type": "code",
   "execution_count": 11,
   "metadata": {},
   "outputs": [
    {
     "name": "stderr",
     "output_type": "stream",
     "text": [
      "/nfs/scistore19/alistgrp/apanfero/CompressionEntropy/./gptq/hadamard.py:85: UserWarning: torch.searchsorted(): input value tensor is non-contiguous, this will lower the performance due to extra data copy when converting non-contiguous tensor to contiguous, please use contiguous input value tensor if possible. This message will only appear once per program. (Triggered internally at ../aten/src/ATen/native/BucketizationUtils.h:32.)\n",
      "  assignments = torch.bucketize(weight, boundaries[bits])\n"
     ]
    },
    {
     "name": "stdout",
     "output_type": "stream",
     "text": [
      "time 2.70\n",
      "error 2072563.75\n"
     ]
    }
   ],
   "source": [
    "import sys\n",
    "sys.path.append(\"./gptq\")\n",
    "\n",
    "from gptq import GPTQ\n",
    "from quant import Quantizer\n",
    "from hadamard import HadLinear\n",
    "\n",
    "layer = torch.nn.Linear(weight.shape[1], weight.shape[0], bias=False, device=DEVICE, dtype=weight.dtype)\n",
    "layer.weight.data = weight\n",
    "\n",
    "gptq_processor = GPTQ(layer)\n",
    "gptq_processor.quantizer = Quantizer()\n",
    "gptq_processor.quantizer.configure(4)\n",
    "gptq_processor.H = hessian\n",
    "gptq_processor.nsamples = 1\n",
    "\n",
    "res = gptq_processor.fasterquant(\n",
    "    groupsize=BLOCK_SIZE, clip=False, baseline=False, had=True, eden=True,\n",
    ")\n",
    "one_quant_layer = HadLinear(layer.weight.data, BLOCK_SIZE, True, 16)"
   ]
  },
  {
   "cell_type": "code",
   "execution_count": 12,
   "metadata": {},
   "outputs": [
    {
     "data": {
      "text/plain": [
       "4141.0625"
      ]
     },
     "execution_count": 12,
     "metadata": {},
     "output_type": "execute_result"
    }
   ],
   "source": [
    "one_quant_error = 0\n",
    "with torch.no_grad():\n",
    "    for input in inputs:\n",
    "        one_quant_error += torch.linalg.norm(F.linear(input.to(DEVICE), weight) - one_quant_layer(input.to(DEVICE))).item()\n",
    "one_quant_error"
   ]
  },
  {
   "cell_type": "code",
   "execution_count": 13,
   "metadata": {},
   "outputs": [],
   "source": [
    "double_quant_layer = HadLinear(layer.weight.data, BLOCK_SIZE, True, 4)"
   ]
  },
  {
   "cell_type": "code",
   "execution_count": 14,
   "metadata": {},
   "outputs": [
    {
     "data": {
      "text/plain": [
       "6741.5625"
      ]
     },
     "execution_count": 14,
     "metadata": {},
     "output_type": "execute_result"
    }
   ],
   "source": [
    "double_quant_error = 0\n",
    "with torch.no_grad():\n",
    "    for input in inputs:\n",
    "        double_quant_error += torch.linalg.norm(F.linear(input.to(DEVICE), weight) - double_quant_layer(input.to(DEVICE))).item()\n",
    "double_quant_error"
   ]
  },
  {
   "cell_type": "markdown",
   "metadata": {},
   "source": [
    "### 2 Bit"
   ]
  },
  {
   "cell_type": "code",
   "execution_count": 54,
   "metadata": {},
   "outputs": [],
   "source": [
    "from e8p2 import QUIP_SHARP_QUANTIZER_2"
   ]
  },
  {
   "cell_type": "code",
   "execution_count": 55,
   "metadata": {},
   "outputs": [],
   "source": [
    "with torch.no_grad():\n",
    "    x = torch.empty((1024, 8), device=DEVICE).normal_()\n",
    "    dequant = QUIP_SHARP_QUANTIZER_2.quantize(x, return_idx=False)\n",
    "    quip_sharp_2_mse = (x - dequant).pow(2).mean().item()\n",
    "    eden_2_mse = (x - quantize_hadamard(x, 2)).pow(2).mean().item()"
   ]
  },
  {
   "cell_type": "code",
   "execution_count": 56,
   "metadata": {},
   "outputs": [],
   "source": [
    "EDEN2_GRID_2 = torch.from_numpy(np.load(\"EDEN2-2.npy\")).to(torch.float32).cuda()\n",
    "EDEN2_GRID_2_NORM = torch.linalg.norm(EDEN2_GRID_2, dim=-1)**2"
   ]
  },
  {
   "cell_type": "code",
   "execution_count": 57,
   "metadata": {},
   "outputs": [],
   "source": [
    "with torch.no_grad():\n",
    "    x = torch.empty((1024, 2), device=DEVICE).normal_()\n",
    "    idx = torch.argmax(2 * x @ EDEN2_GRID_2.T - EDEN2_GRID_2_NORM, dim=-1)\n",
    "    dequant = EDEN2_GRID_2[idx]\n",
    "    eden2_2_mse = (x - dequant).pow(2).mean().item()\n",
    "    "
   ]
  },
  {
   "cell_type": "code",
   "execution_count": 58,
   "metadata": {},
   "outputs": [],
   "source": [
    "EDEN3_GRID_2 = torch.from_numpy(np.load(\"EDEN3-2.npy\")).to(torch.float32).cuda()\n",
    "EDEN3_GRID_2_NORM = torch.linalg.norm(EDEN3_GRID_2, dim=-1)**2"
   ]
  },
  {
   "cell_type": "code",
   "execution_count": 59,
   "metadata": {},
   "outputs": [],
   "source": [
    "with torch.no_grad():\n",
    "    x = torch.empty((1024, 3), device=DEVICE).normal_()\n",
    "    idx = torch.argmax(2 * x @ EDEN3_GRID_2.T - EDEN3_GRID_2_NORM, dim=-1)\n",
    "    dequant = EDEN3_GRID_2[idx]\n",
    "    eden3_2_mse = (x - dequant).pow(2).mean().item()\n",
    "    "
   ]
  },
  {
   "cell_type": "markdown",
   "metadata": {},
   "source": [
    "### 3 Bit"
   ]
  },
  {
   "cell_type": "code",
   "execution_count": 60,
   "metadata": {},
   "outputs": [],
   "source": [
    "from e8p3 import QUIP_SHARP_QUANTIZER_3"
   ]
  },
  {
   "cell_type": "code",
   "execution_count": 61,
   "metadata": {},
   "outputs": [],
   "source": [
    "with torch.no_grad():\n",
    "    x = torch.empty((1024, 8), device=DEVICE).normal_()\n",
    "    dequant = QUIP_SHARP_QUANTIZER_3.quantize(x, return_idx=False)\n",
    "    quip_sharp_3_mse = (x - dequant).pow(2).mean().item()\n",
    "    eden_3_mse = (x - quantize_hadamard(x, 3)).pow(2).mean().item()"
   ]
  },
  {
   "cell_type": "code",
   "execution_count": 62,
   "metadata": {},
   "outputs": [],
   "source": [
    "EDEN2_GRID_3 = torch.from_numpy(np.load(\"EDEN2-3.npy\")).to(torch.float32).cuda()\n",
    "EDEN2_GRID_3_NORM = torch.linalg.norm(EDEN2_GRID_3, dim=-1)**2"
   ]
  },
  {
   "cell_type": "code",
   "execution_count": 63,
   "metadata": {},
   "outputs": [],
   "source": [
    "with torch.no_grad():\n",
    "    x = torch.empty((1024, 2), device=DEVICE).normal_()\n",
    "    idx = torch.argmax(2 * x @ EDEN2_GRID_3.T - EDEN2_GRID_3_NORM, dim=-1)\n",
    "    dequant = EDEN2_GRID_3[idx]\n",
    "    eden2_3_mse = (x - dequant).pow(2).mean().item()\n",
    "    "
   ]
  },
  {
   "cell_type": "code",
   "execution_count": 64,
   "metadata": {},
   "outputs": [],
   "source": [
    "EDEN3_GRID_3 = torch.from_numpy(np.load(\"EDEN3-3.npy\")).to(torch.float32).cuda()\n",
    "EDEN3_GRID_3_NORM = torch.linalg.norm(EDEN3_GRID_3, dim=-1)**2"
   ]
  },
  {
   "cell_type": "code",
   "execution_count": 65,
   "metadata": {},
   "outputs": [],
   "source": [
    "with torch.no_grad():\n",
    "    x = torch.empty((1024, 3), device=DEVICE).normal_()\n",
    "    idx = torch.argmax(2 * x @ EDEN3_GRID_3.T - EDEN3_GRID_3_NORM, dim=-1)\n",
    "    dequant = EDEN3_GRID_3[idx]\n",
    "    eden3_3_mse = (x - dequant).pow(2).mean().item()\n",
    "    "
   ]
  },
  {
   "cell_type": "markdown",
   "metadata": {},
   "source": [
    "### 4 Bit"
   ]
  },
  {
   "cell_type": "code",
   "execution_count": 66,
   "metadata": {},
   "outputs": [],
   "source": [
    "from e8p4 import QUIP_SHARP_QUANTIZER_4"
   ]
  },
  {
   "cell_type": "code",
   "execution_count": 67,
   "metadata": {},
   "outputs": [],
   "source": [
    "with torch.no_grad():\n",
    "    x = torch.empty((1024, 8), device=DEVICE).normal_()\n",
    "    dequant = QUIP_SHARP_QUANTIZER_4.quantize(x, return_idx=False)\n",
    "    quip_sharp_4_mse = (x - dequant).pow(2).mean().item()\n",
    "    eden_4_mse = (x - quantize_hadamard(x, 4)).pow(2).mean().item()"
   ]
  },
  {
   "cell_type": "code",
   "execution_count": 68,
   "metadata": {},
   "outputs": [],
   "source": [
    "EDEN2_GRID_4 = torch.from_numpy(np.load(\"EDEN2-4.npy\")).to(torch.float32).cuda()\n",
    "EDEN2_GRID_4_NORM = torch.linalg.norm(EDEN2_GRID_4, dim=-1)**2"
   ]
  },
  {
   "cell_type": "code",
   "execution_count": 69,
   "metadata": {},
   "outputs": [],
   "source": [
    "with torch.no_grad():\n",
    "    x = torch.empty((1024, 2), device=DEVICE).normal_()\n",
    "    idx = torch.argmax(2 * x @ EDEN2_GRID_4.T - EDEN2_GRID_4_NORM, dim=-1)\n",
    "    dequant = EDEN2_GRID_4[idx]\n",
    "    eden2_4_mse = (x - dequant).pow(2).mean().item()\n",
    "    "
   ]
  },
  {
   "cell_type": "markdown",
   "metadata": {},
   "source": [
    "### Plots"
   ]
  },
  {
   "cell_type": "code",
   "execution_count": 70,
   "metadata": {},
   "outputs": [
    {
     "data": {
      "image/png": "[encoded data removed]",
      "text/plain": [
       "<Figure size 640x480 with 1 Axes>"
      ]
     },
     "metadata": {},
     "output_type": "display_data"
    }
   ],
   "source": [
    "import matplotlib.pyplot as plt\n",
    "import numpy as np\n",
    "\n",
    "species = (\"2 Bit\", \"3 Bit\", \"4 Bit\")\n",
    "penguin_means = {\n",
    "    'QuIP#': (quip_sharp_2_mse, quip_sharp_3_mse, quip_sharp_4_mse),\n",
    "    'EDEN': (eden_2_mse, eden_3_mse, eden_4_mse),\n",
    "    'EDEN2': (eden2_2_mse, eden2_3_mse, eden2_4_mse),\n",
    "    'EDEN3': (eden3_2_mse, eden3_3_mse, 0),\n",
    "}\n",
    "\n",
    "x = np.arange(len(species))  # the label locations\n",
    "width = 0.2  # the width of the bars\n",
    "multiplier = 0\n",
    "\n",
    "fig, ax = plt.subplots(layout='constrained')\n",
    "\n",
    "for attribute, measurement in penguin_means.items():\n",
    "    offset = width * multiplier\n",
    "    rects = ax.bar(x + offset, measurement, width, label=attribute)\n",
    "    # ax.bar_label(rects, padding=3)\n",
    "    multiplier += 1\n",
    "\n",
    "# Add some text for labels, title and custom x-axis tick labels, etc.\n",
    "ax.set_ylabel('Length (mm)')\n",
    "ax.set_title('Penguin attributes by species')\n",
    "ax.set_xticks(x + width, species)\n",
    "ax.legend(loc='upper left', ncols=3)\n",
    "# ax.set_ylim(0, 250)\n",
    "\n",
    "plt.show()"
   ]
  },
  {
   "cell_type": "code",
   "execution_count": null,
   "metadata": {},
   "outputs": [],
   "source": []
  }
 ],
 "metadata": {
  "kernelspec": {
   "display_name": "Python 3",
   "language": "python",
   "name": "python3"
  },
  "language_info": {
   "codemirror_mode": {
    "name": "ipython",
    "version": 3
   },
   "file_extension": ".py",
   "mimetype": "text/x-python",
   "name": "python",
   "nbconvert_exporter": "python",
   "pygments_lexer": "ipython3",
   "version": "3.10.14"
  }
 },
 "nbformat": 4,
 "nbformat_minor": 2
}
