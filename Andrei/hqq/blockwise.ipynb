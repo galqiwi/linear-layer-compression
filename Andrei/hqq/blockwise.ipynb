{
 "cells": [
  {
   "cell_type": "code",
   "execution_count": 1,
   "id": "4e3f6b82-f9c9-41ad-bfd3-7c3c96c643f4",
   "metadata": {},
   "outputs": [
    {
     "name": "stdout",
     "output_type": "stream",
     "text": [
      "env: CUDA_VISIBLE_DEVICES=1\n",
      "env: OMP_NUM_THREADS=16\n"
     ]
    }
   ],
   "source": [
    "%env CUDA_VISIBLE_DEVICES=1\n",
    "%env OMP_NUM_THREADS=16"
   ]
  },
  {
   "cell_type": "code",
   "execution_count": 2,
   "id": "4f205468-18d1-4a22-9d32-84ec0c805662",
   "metadata": {},
   "outputs": [
    {
     "data": {
      "text/plain": [
       "<torch.autograd.grad_mode.set_grad_enabled at 0x7f946c298af0>"
      ]
     },
     "execution_count": 2,
     "metadata": {},
     "output_type": "execute_result"
    }
   ],
   "source": [
    "import torch\n",
    "torch.set_grad_enabled(False)"
   ]
  },
  {
   "cell_type": "code",
   "execution_count": 3,
   "id": "14ee57a6-6ee0-4e20-b514-985c2dec0b77",
   "metadata": {},
   "outputs": [],
   "source": [
    "# MODEL = \"meta-llama/Llama-2-7b-hf\"\n",
    "MODEL = \"meta-llama/Meta-Llama-3.1-8B\"\n",
    "BASE_PPL = 5.606886386871338"
   ]
  },
  {
   "cell_type": "code",
   "execution_count": 4,
   "id": "69fdf84b-13f1-4249-9056-4ca874c9d292",
   "metadata": {},
   "outputs": [
    {
     "data": {
      "application/vnd.jupyter.widget-view+json": {
       "model_id": "b9f7f4613bc349c09b36f6b407de52cd",
       "version_major": 2,
       "version_minor": 0
      },
      "text/plain": [
       "Loading checkpoint shards:   0%|          | 0/4 [00:00<?, ?it/s]"
      ]
     },
     "metadata": {},
     "output_type": "display_data"
    }
   ],
   "source": [
    "from transformers import AutoModelForCausalLM\n",
    "\n",
    "MODEL_PATH = 'meta-llama/Meta-Llama-3.1-8B'\n",
    "MODEL_SEQLEN = 8192\n",
    "\n",
    "model_pt = AutoModelForCausalLM.from_pretrained(\n",
    "    MODEL_PATH,\n",
    "    trust_remote_code=True, torch_dtype=\"auto\", device_map='cpu',\n",
    ")\n",
    "\n",
    "def get_module_by_path(model, path):\n",
    "    if path == '':\n",
    "        return model\n",
    "    splitted = path.split('.', 1)\n",
    "    if len(splitted) == 1:\n",
    "        splitted.append('')\n",
    "    next_name, suffix = splitted\n",
    "\n",
    "    try:\n",
    "        next_module = model[int(next_name)]\n",
    "    except:\n",
    "        next_module = getattr(model, next_name)\n",
    "\n",
    "    return get_module_by_path(next_module, suffix)"
   ]
  },
  {
   "cell_type": "code",
   "execution_count": 5,
   "id": "26bc8131-9184-4455-bb40-1d216aaac254",
   "metadata": {},
   "outputs": [
    {
     "name": "stderr",
     "output_type": "stream",
     "text": [
      "Token indices sequence length is longer than the specified maximum sequence length for this model (289077 > 131072). Running this sequence through the model will result in indexing errors\n"
     ]
    }
   ],
   "source": [
    "from eval import *\n",
    "\n",
    "testloader = get_loaders(\n",
    "    'wikitext2',\n",
    "    seed=0,\n",
    "    model_path=MODEL_PATH,\n",
    "    seqlen=MODEL_SEQLEN,\n",
    "    eval_mode=True,\n",
    "    use_fast_tokenizer=False,\n",
    "    trust_remote_code=False,\n",
    ")\n",
    "\n",
    "def eval_ppl(\n",
    "    model,\n",
    "    model_path=MODEL_PATH,\n",
    "    model_seqlen=MODEL_SEQLEN,\n",
    "    device = 'cuda:0',\n",
    "    # ppl_datasets = ('wikitext2',),\n",
    "    trust_remote_code=False,\n",
    "    offload_activations=False,\n",
    "):\n",
    "    output = {}\n",
    "    \n",
    "    ppl = perplexity_eval(\n",
    "        model,\n",
    "        testloader,\n",
    "        dataset_name='wikitext2',\n",
    "        model_seqlen=model_seqlen,\n",
    "        device=device,\n",
    "        offload_activations=offload_activations,\n",
    "    )\n",
    "    output['wikitext2'] = ppl\n",
    "    # make sure that the cache is released\n",
    "    torch.cuda.empty_cache()\n",
    "    \n",
    "    return output"
   ]
  },
  {
   "cell_type": "code",
   "execution_count": 18,
   "id": "5add09d8-4b7e-4db7-89ee-0fe9fbb7ce17",
   "metadata": {},
   "outputs": [],
   "source": [
    "import torch\n",
    "from hqq.core.quantize import Quantizer as HqqQuantizer\n",
    "\n",
    "@torch.no_grad()\n",
    "def quantize_dequantize_hqq(weight, bits, group_size=64):    \n",
    "    return HqqQuantizer.dequantize(*HqqQuantizer.quantize(\n",
    "        weight,\n",
    "        nbits=bits, group_size=group_size,\n",
    "    ))\n"
   ]
  },
  {
   "cell_type": "code",
   "execution_count": 9,
   "id": "8f09fe4e-bf3e-4e28-b7fb-34d8af32aa09",
   "metadata": {},
   "outputs": [],
   "source": [
    "import functools\n",
    "\n",
    "\n",
    "@functools.cache\n",
    "def get_numel(path):\n",
    "    return get_module_by_path(model_pt, path).weight.numel()\n",
    "\n",
    "total_params = sum(p.numel() for p in model_pt.model.layers.parameters())"
   ]
  },
  {
   "cell_type": "code",
   "execution_count": 10,
   "id": "7091b75f",
   "metadata": {},
   "outputs": [
    {
     "name": "stdout",
     "output_type": "stream",
     "text": [
      "6979584000\n"
     ]
    }
   ],
   "source": [
    "print(total_params)"
   ]
  },
  {
   "cell_type": "code",
   "execution_count": 11,
   "id": "83e288e3-c028-409e-acc7-ef68f152fca1",
   "metadata": {},
   "outputs": [],
   "source": [
    "import tqdm\n",
    "import pandas as pd \n",
    "import wandb\n",
    "import functools\n",
    "\n",
    "\n",
    "@functools.cache\n",
    "def get_df_from_wandb(path):\n",
    "    api = wandb.Api()\n",
    "\n",
    "    # Project is specified by <entity/project-name>\n",
    "    runs = api.runs(path)\n",
    "    \n",
    "    data_df_lines = []\n",
    "    for run in tqdm.tqdm(runs): \n",
    "        data_df_lines.append({\n",
    "            'Name': run.name,\n",
    "            'Commit': run.commit,\n",
    "            **run.summary._json_dict,\n",
    "            **{k: v for k,v in run.config.items() if not k.startswith('_')},\n",
    "        })\n",
    "    data_df = pd.DataFrame(data_df_lines)\n",
    "    return data_df"
   ]
  },
  {
   "cell_type": "code",
   "execution_count": 12,
   "id": "9455cada-8fa3-4d48-9a36-a5f0bffb3532",
   "metadata": {},
   "outputs": [],
   "source": [
    "# data_df = get_df_from_wandb('rock-and-roll/NOISY_MSE_ONE_LAYER_GALQIWI_PPL')\n",
    "# data_df.to_csv('blockwise_slopes.csv')\n",
    "data_df = pd.read_csv('blockwise_slopes.csv')\n",
    "\n",
    "data_df['mse'] = data_df['relative_mse']\n",
    "\n",
    "data_df = data_df[data_df['base_model'] == MODEL]\n",
    "\n",
    "data_df = data_df[['layer_idx', 'mse', 'wikitext2']]\n",
    "data_df = data_df.dropna().copy()\n",
    "\n",
    "from sklearn.linear_model import LinearRegression\n",
    "\n",
    "\n",
    "slopes = []\n",
    "intercepts = []\n",
    "\n",
    "for layer_idx in range(32):\n",
    "    to_fit = data_df[data_df['layer_idx'] == layer_idx]\n",
    "    to_fit = to_fit[to_fit['mse'] < 4 ** -1.7]\n",
    "    # to_fit = to_fit[to_fit['wikitext2'] < 5.640]\n",
    "\n",
    "    slope = LinearRegression(fit_intercept=False).fit(to_fit['mse'].values.reshape(-1, 1), to_fit['wikitext2'] - BASE_PPL).coef_\n",
    "    \n",
    "    slopes.append(slope.item())\n",
    "    intercepts.append(BASE_PPL)"
   ]
  },
  {
   "cell_type": "code",
   "execution_count": 13,
   "id": "69e57674-2379-45c5-8df5-060d2f7b7449",
   "metadata": {},
   "outputs": [
    {
     "data": {
      "image/png": "[encoded data removed]",
      "text/plain": [
       "<Figure size 640x480 with 1 Axes>"
      ]
     },
     "metadata": {},
     "output_type": "display_data"
    }
   ],
   "source": [
    "import matplotlib\n",
    "import matplotlib.pyplot as plt\n",
    "import numpy as np\n",
    "\n",
    "\n",
    "cmap = matplotlib.colormaps[\"plasma\"]\n",
    "\n",
    "plt.scatter([0.0], [BASE_PPL])\n",
    "\n",
    "for layer_idx in range(32):\n",
    "# for layer_idx, layer in enumerate(layers):\n",
    "    to_plot = data_df[data_df['layer_idx'] == layer_idx]\n",
    "    to_plot = to_plot[to_plot['mse'] < 0.01]\n",
    "    # to_plot = to_plot[to_plot['wikitext2'] < 5.640]\n",
    "    \n",
    "    plt.scatter(to_plot['mse'], to_plot['wikitext2'], color=cmap(layer_idx / 32))\n",
    "\n",
    "    grid = np.linspace(0, to_plot['mse'].max(), 10)\n",
    "    \n",
    "    plt.plot(grid, intercepts[layer_idx] + grid * slopes[layer_idx], color=cmap(layer_idx / 32))\n",
    "\n",
    "\n",
    "plt.title(f'{MODEL}')\n",
    "plt.xlabel('mse')\n",
    "plt.ylabel('ppl')\n",
    "plt.savefig(f'ppl_mse.png')"
   ]
  },
  {
   "cell_type": "code",
   "execution_count": 14,
   "id": "ac306ac9-a113-42fa-a9a4-6eece638be31",
   "metadata": {},
   "outputs": [],
   "source": [
    "from ortools.linear_solver import pywraplp\n",
    "\n",
    "def find_grids_with_budget(\n",
    "    slopes,    # linear coefficients for [layerwise mse -> metric]\n",
    "    weights,   # linear coefficients for [layer bitwidth -> total bitwidth] (1 / num_blocks for blockwise)\n",
    "    budget,    # upper bound on total bitwidth\n",
    "    grid_bits, # available grid bitwidths\n",
    "    grid_mses  # available grid mses\n",
    ") -> tuple[float, list]:\n",
    "    num_layers = len(slopes)\n",
    "    num_grids = len(grid_bits)\n",
    "    assert len(grid_mses) == num_grids\n",
    "    \n",
    "    solver = pywraplp.Solver.CreateSolver(\"CP-SAT\")\n",
    "\n",
    "    x = {(j, i) : solver.BoolVar(\"name\") for i in range(num_grids) for j in range(num_layers)}\n",
    "    \n",
    "    for j in range(num_layers) : solver.Add(sum(x[(j, i)] for i in range(num_grids)) == 1)\n",
    "    solver.Add(sum(x[(j, i)] * weights[j] * grid_bits[i] for j in range(num_layers) for i in range(num_grids)) <= budget)\n",
    "    solver.Minimize(sum(x[(j, i)] * slopes[j] * grid_mses[i] for j in range(num_layers) for i in range(num_grids)))\n",
    "\n",
    "    status = solver.Solve()\n",
    "    if status == pywraplp.Solver.OPTIMAL:\n",
    "        avg_bits = sum(x[(j, i)].solution_value() * weights[j] * grid_bits[i] for j in range(num_layers) for i in range(num_grids))\n",
    "        solution = np.asarray([[x[(j, i)].solution_value() for i in range(num_grids)] for j in range(num_layers)])\n",
    "        indices = np.argwhere(solution == 1.0)\n",
    "        assert len(indices) == num_layers\n",
    "        return avg_bits, indices[:,1]\n",
    "    else:\n",
    "        raise Exception(\"Didn't solve\")"
   ]
  },
  {
   "cell_type": "code",
   "execution_count": 20,
   "id": "8cf57413-c37b-47c4-bf72-e9c127de17a4",
   "metadata": {},
   "outputs": [
    {
     "data": {
      "text/html": [
       "<div>\n",
       "<style scoped>\n",
       "    .dataframe tbody tr th:only-of-type {\n",
       "        vertical-align: middle;\n",
       "    }\n",
       "\n",
       "    .dataframe tbody tr th {\n",
       "        vertical-align: top;\n",
       "    }\n",
       "\n",
       "    .dataframe thead th {\n",
       "        text-align: right;\n",
       "    }\n",
       "</style>\n",
       "<table border=\"1\" class=\"dataframe\">\n",
       "  <thead>\n",
       "    <tr style=\"text-align: right;\">\n",
       "      <th></th>\n",
       "      <th>name</th>\n",
       "      <th>bits</th>\n",
       "      <th>mse</th>\n",
       "    </tr>\n",
       "  </thead>\n",
       "  <tbody>\n",
       "    <tr>\n",
       "      <th>0</th>\n",
       "      <td>fp16</td>\n",
       "      <td>16</td>\n",
       "      <td>0.000000</td>\n",
       "    </tr>\n",
       "    <tr>\n",
       "      <th>1</th>\n",
       "      <td>hqq-8</td>\n",
       "      <td>8</td>\n",
       "      <td>0.000028</td>\n",
       "    </tr>\n",
       "    <tr>\n",
       "      <th>2</th>\n",
       "      <td>hqq-4</td>\n",
       "      <td>4</td>\n",
       "      <td>0.008050</td>\n",
       "    </tr>\n",
       "    <tr>\n",
       "      <th>3</th>\n",
       "      <td>hqq-3</td>\n",
       "      <td>3</td>\n",
       "      <td>0.037035</td>\n",
       "    </tr>\n",
       "    <tr>\n",
       "      <th>4</th>\n",
       "      <td>hqq-2</td>\n",
       "      <td>2</td>\n",
       "      <td>0.202752</td>\n",
       "    </tr>\n",
       "    <tr>\n",
       "      <th>5</th>\n",
       "      <td>hqq-1</td>\n",
       "      <td>1</td>\n",
       "      <td>2.738639</td>\n",
       "    </tr>\n",
       "  </tbody>\n",
       "</table>\n",
       "</div>"
      ],
      "text/plain": [
       "    name  bits       mse\n",
       "0   fp16    16  0.000000\n",
       "1  hqq-8     8  0.000028\n",
       "2  hqq-4     4  0.008050\n",
       "3  hqq-3     3  0.037035\n",
       "4  hqq-2     2  0.202752\n",
       "5  hqq-1     1  2.738639"
      ]
     },
     "execution_count": 20,
     "metadata": {},
     "output_type": "execute_result"
    }
   ],
   "source": [
    "test_input = torch.randn((1024, 1024), device='cuda')\n",
    "\n",
    "ok_grids = pd.DataFrame([{\n",
    "    'name': 'fp16',\n",
    "    'bits': 16,\n",
    "    'mse': 0.0, # should be zero, but it breaks solver\n",
    "}] + [{\n",
    "    'name': f'hqq-{bits}',\n",
    "    'bits': bits,\n",
    "    'mse': (((quantize_dequantize_hqq(test_input, bits) - test_input).norm() ** 2) / (test_input.norm() ** 2)).item(),\n",
    "} for bits in [8, 4, 3, 2, 1]])\n",
    "\n",
    "ok_grids"
   ]
  },
  {
   "cell_type": "code",
   "execution_count": 21,
   "id": "ec5f58fa-fc4b-4ab5-94c4-9c4d0f9975a1",
   "metadata": {},
   "outputs": [
    {
     "name": "stdout",
     "output_type": "stream",
     "text": [
      "8.0 bits\n"
     ]
    }
   ],
   "source": [
    "grid_names=ok_grids['name'].values\n",
    "grid_bits=ok_grids['bits'].values\n",
    "grid_mses=ok_grids['mse'].values\n",
    "\n",
    "solution_size, solution_idxs = find_grids_with_budget(\n",
    "    slopes,\n",
    "    np.ones((32,)) / 32,\n",
    "    budget=8,\n",
    "    grid_bits=ok_grids['bits'].values,\n",
    "    grid_mses=ok_grids['mse'].values,\n",
    ")\n",
    "\n",
    "print(f'{solution_size} bits')"
   ]
  },
  {
   "cell_type": "code",
   "execution_count": 22,
   "id": "adc76a60-52f5-4732-8af1-748bca154aa6",
   "metadata": {},
   "outputs": [],
   "source": [
    "def get_solution(n_bits = 8):\n",
    "    solution_size, solution_idxs = find_grids_with_budget(\n",
    "        slopes,\n",
    "        np.ones((32,)) / 32,\n",
    "        budget=n_bits,\n",
    "        grid_bits=ok_grids['bits'].values,\n",
    "        grid_mses=ok_grids['mse'].values,\n",
    "    )\n",
    "\n",
    "    solution_pred_err = sum([scale * ok_grids['mse'].values[solution_idx] for solution_idx, scale in zip(solution_idxs, slopes)])\n",
    "\n",
    "    return solution_size, solution_pred_err, solution_idxs"
   ]
  },
  {
   "cell_type": "code",
   "execution_count": 23,
   "id": "2baa9a8e-3dd0-4555-a7eb-f1afeb5cd529",
   "metadata": {},
   "outputs": [
    {
     "name": "stderr",
     "output_type": "stream",
     "text": [
      "100%|██████████| 40/40 [00:05<00:00,  7.38it/s]\n"
     ]
    }
   ],
   "source": [
    "grid = np.linspace(2.0, 8.0, num=40)\n",
    "\n",
    "hqq_pred_lines = []\n",
    "\n",
    "for n_bits in tqdm.tqdm(grid):\n",
    "    solution_size, solution_pred_err, solution_idxs = get_solution(n_bits)\n",
    "    hqq_pred_lines.append({\n",
    "        'solution_size': solution_size,\n",
    "        'solution_pred_err': solution_pred_err,\n",
    "    })\n",
    "\n",
    "hqq_pred_df = pd.DataFrame(hqq_pred_lines)"
   ]
  },
  {
   "cell_type": "code",
   "execution_count": 25,
   "id": "c9da5253-3777-4371-8737-ecd2e25f2348",
   "metadata": {},
   "outputs": [
    {
     "data": {
      "image/png": "[encoded data removed]",
      "text/plain": [
       "<Figure size 640x480 with 1 Axes>"
      ]
     },
     "metadata": {},
     "output_type": "display_data"
    }
   ],
   "source": [
    "plt.title('hqq ppl error')\n",
    "plt.ylabel('PPL increase')\n",
    "plt.xlabel('wbits')\n",
    "plt.plot(hqq_pred_df['solution_size'] / total_params, hqq_pred_df['solution_pred_err'])\n",
    "plt.yscale('log')\n",
    "\n",
    "plt.show()"
   ]
  },
  {
   "cell_type": "code",
   "execution_count": 26,
   "id": "f7b17edf-38fc-482c-a381-0942e0a5ccef",
   "metadata": {},
   "outputs": [],
   "source": [
    "def get_module_by_path(model, path):\n",
    "    if path == '':\n",
    "        return model\n",
    "    splitted = path.split('.', 1)\n",
    "    if len(splitted) == 1:\n",
    "        splitted.append('')\n",
    "    next_name, suffix = splitted\n",
    "\n",
    "    try:\n",
    "        next_module = model[int(next_name)]\n",
    "    except:\n",
    "        next_module = getattr(model, next_name)\n",
    "\n",
    "    return get_module_by_path(next_module, suffix)"
   ]
  },
  {
   "cell_type": "code",
   "execution_count": 27,
   "id": "9726d764-d3d2-48ad-9132-60f5bb2cbf67",
   "metadata": {},
   "outputs": [],
   "source": [
    "model_pt = model_pt.cuda()"
   ]
  },
  {
   "cell_type": "code",
   "execution_count": 28,
   "id": "7007a491-5c66-471d-817f-e1f11ac46333",
   "metadata": {},
   "outputs": [
    {
     "name": "stderr",
     "output_type": "stream",
     "text": [
      "The attention layers in this model are transitioning from computing the RoPE embeddings internally through `position_ids` (2D tensor with the indexes of the tokens), to using externally computed `position_embeddings` (Tuple of tensors, containing cos and sin). In v4.45 `position_ids` will be removed and `position_embeddings` will be mandatory.\n"
     ]
    },
    {
     "data": {
      "text/plain": [
       "5.606260776519775"
      ]
     },
     "execution_count": 28,
     "metadata": {},
     "output_type": "execute_result"
    }
   ],
   "source": [
    "BASELINE_PPL = eval_ppl(model_pt)['wikitext2']\n",
    "BASELINE_PPL"
   ]
  },
  {
   "cell_type": "code",
   "execution_count": 29,
   "id": "207bf64c-c0d7-4d57-9606-bb2074705be0",
   "metadata": {},
   "outputs": [],
   "source": [
    "model_state_dict = model_pt.state_dict()"
   ]
  },
  {
   "cell_type": "code",
   "execution_count": 30,
   "id": "f91b7742",
   "metadata": {},
   "outputs": [],
   "source": [
    "layer_names = [f\"model.layers.{i}.self_attn.{name}_proj\" for i in range(32) for name in (\"q\",\"k\",\"v\",\"o\")] + \\\n",
    "    [f\"model.layers.{i}.mlp.{name}_proj\" for i in range(32) for name in (\"gate\",\"up\",\"down\")]"
   ]
  },
  {
   "cell_type": "code",
   "execution_count": 34,
   "id": "8b05d364-846a-4392-92da-80f9bc3e8dcd",
   "metadata": {},
   "outputs": [
    {
     "name": "stderr",
     "output_type": "stream",
     "text": [
      "100%|██████████| 224/224 [00:14<00:00, 15.53it/s]\n",
      "100%|██████████| 224/224 [00:18<00:00, 11.86it/s]\n",
      "100%|██████████| 224/224 [00:32<00:00,  6.97it/s]\n",
      "100%|██████████| 224/224 [00:37<00:00,  5.96it/s]\n",
      "100%|██████████| 224/224 [00:50<00:00,  4.41it/s]\n"
     ]
    }
   ],
   "source": [
    "state_dicts = {\n",
    "    \"fp16\": model_state_dict\n",
    "} | {\n",
    "    f\"hqq-{bits}\": {layer: quantize_dequantize_hqq(model_state_dict[f'{layer}.weight'], bits) for layer in tqdm.tqdm(layer_names)} for bits in [8, 4, 3, 2, 1]\n",
    "}"
   ]
  },
  {
   "cell_type": "code",
   "execution_count": 36,
   "id": "2910d256",
   "metadata": {},
   "outputs": [
    {
     "data": {
      "text/plain": [
       "array(['fp16', 'hqq-8', 'hqq-4', 'hqq-3', 'hqq-2', 'hqq-1'], dtype=object)"
      ]
     },
     "execution_count": 36,
     "metadata": {},
     "output_type": "execute_result"
    }
   ],
   "source": []
  },
  {
   "cell_type": "code",
   "execution_count": 37,
   "id": "32716fe0-b7d1-4909-a44e-9116fd24c234",
   "metadata": {
    "scrolled": true
   },
   "outputs": [],
   "source": [
    "import tqdm\n",
    "import copy\n",
    "\n",
    "@torch.no_grad()\n",
    "def eval_quantized_model(solution_idxs):\n",
    "    quantized_model = copy.deepcopy(model_pt)\n",
    "    \n",
    "    for i, quant_idx in enumerate(solution_idxs):\n",
    "        for layer_name in [f\"model.layers.{i}.self_attn.{name}_proj\" for name in (\"q\",\"k\",\"v\",\"o\")] + \\\n",
    "            [f\"model.layers.{i}.mlp.{name}_proj\" for name in (\"gate\",\"up\",\"down\")]:\n",
    "            layer = get_module_by_path(quantized_model, layer_name)\n",
    "            weight = state_dicts[grid_names[quant_idx]][layer_name].clone().detach()\n",
    "            layer.weight.data = weight.to(torch.bfloat16)\n",
    "\n",
    "    return eval_ppl(quantized_model)['wikitext2'] - BASELINE_PPL"
   ]
  },
  {
   "cell_type": "code",
   "execution_count": 38,
   "id": "1af0f2d7-9c00-4cfb-9340-2e5ad59730b9",
   "metadata": {},
   "outputs": [
    {
     "name": "stderr",
     "output_type": "stream",
     "text": [
      "100%|██████████| 40/40 [39:54<00:00, 59.87s/it]\n"
     ]
    }
   ],
   "source": [
    "grid = np.linspace(2.0, 8.0, num=40)\n",
    "\n",
    "hqq_real_lines = []\n",
    "\n",
    "for n_bits in tqdm.tqdm(grid):\n",
    "    solution_size, solution_pred_err, solution_idxs = get_solution(n_bits)\n",
    "    real_err = eval_quantized_model(solution_idxs)\n",
    "    hqq_real_lines.append({\n",
    "        'solution_size': solution_size,\n",
    "        'solution_pred_err': solution_pred_err,\n",
    "        'solution_real_err': real_err,\n",
    "    })"
   ]
  },
  {
   "cell_type": "code",
   "execution_count": 39,
   "id": "2f552d14",
   "metadata": {},
   "outputs": [],
   "source": [
    "hqq_real_df = pd.DataFrame(hqq_real_lines)"
   ]
  },
  {
   "cell_type": "code",
   "execution_count": 40,
   "id": "107ffe05-0347-4435-a881-3e61487f720d",
   "metadata": {},
   "outputs": [
    {
     "data": {
      "text/plain": [
       "0     2.00000\n",
       "1     2.12500\n",
       "2     2.28125\n",
       "3     2.43750\n",
       "4     2.59375\n",
       "5     2.75000\n",
       "6     2.90625\n",
       "7     3.06250\n",
       "8     3.21875\n",
       "9     3.37500\n",
       "10    3.53125\n",
       "11    3.68750\n",
       "12    3.84375\n",
       "13    4.00000\n",
       "14    4.12500\n",
       "15    4.25000\n",
       "16    4.37500\n",
       "17    4.50000\n",
       "18    4.75000\n",
       "19    4.87500\n",
       "20    5.00000\n",
       "21    5.12500\n",
       "22    5.37500\n",
       "23    5.50000\n",
       "24    5.62500\n",
       "25    5.75000\n",
       "26    6.00000\n",
       "27    6.12500\n",
       "28    6.25000\n",
       "29    6.37500\n",
       "30    6.50000\n",
       "31    6.75000\n",
       "32    6.87500\n",
       "33    7.00000\n",
       "34    7.12500\n",
       "35    7.37500\n",
       "36    7.50000\n",
       "37    7.62500\n",
       "38    7.75000\n",
       "39    8.00000\n",
       "Name: solution_size, dtype: float64"
      ]
     },
     "execution_count": 40,
     "metadata": {},
     "output_type": "execute_result"
    }
   ],
   "source": [
    "hqq_real_df['solution_size']"
   ]
  },
  {
   "cell_type": "code",
   "execution_count": 1,
   "id": "1c1ee980-fb1b-44ff-98c3-3e1e6614e5f4",
   "metadata": {},
   "outputs": [
    {
     "ename": "NameError",
     "evalue": "name 'plt' is not defined",
     "output_type": "error",
     "traceback": [
      "\u001b[0;31m---------------------------------------------------------------------------\u001b[0m",
      "\u001b[0;31mNameError\u001b[0m                                 Traceback (most recent call last)",
      "Cell \u001b[0;32mIn[1], line 1\u001b[0m\n\u001b[0;32m----> 1\u001b[0m \u001b[43mplt\u001b[49m\u001b[38;5;241m.\u001b[39mscatter(hqq_real_df[\u001b[38;5;124m'\u001b[39m\u001b[38;5;124msolution_pred_err\u001b[39m\u001b[38;5;124m'\u001b[39m], hqq_real_df[\u001b[38;5;124m'\u001b[39m\u001b[38;5;124msolution_real_err\u001b[39m\u001b[38;5;124m'\u001b[39m])\n\u001b[1;32m      2\u001b[0m plt\u001b[38;5;241m.\u001b[39mplot(hqq_real_df[\u001b[38;5;124m'\u001b[39m\u001b[38;5;124msolution_pred_err\u001b[39m\u001b[38;5;124m'\u001b[39m], hqq_real_df[\u001b[38;5;124m'\u001b[39m\u001b[38;5;124msolution_real_err\u001b[39m\u001b[38;5;124m'\u001b[39m])\n\u001b[1;32m      3\u001b[0m plt\u001b[38;5;241m.\u001b[39mxlabel(\u001b[38;5;124m'\u001b[39m\u001b[38;5;124mpred ppl err\u001b[39m\u001b[38;5;124m'\u001b[39m)\n",
      "\u001b[0;31mNameError\u001b[0m: name 'plt' is not defined"
     ]
    }
   ],
   "source": [
    "plt.scatter(hqq_real_df['solution_pred_err'], hqq_real_df['solution_real_err'])\n",
    "plt.plot(hqq_real_df['solution_pred_err'], hqq_real_df['solution_real_err'])\n",
    "plt.xlabel('pred ppl err')\n",
    "plt.ylabel('real ppl err')\n",
    "plt.xlim(0, 8)\n",
    "plt.ylim(0, 8)"
   ]
  },
  {
   "cell_type": "code",
   "execution_count": 49,
   "id": "b654564c-6f95-4438-beb2-9b2fa7485adb",
   "metadata": {},
   "outputs": [
    {
     "data": {
      "image/png": "[encoded data removed]",
      "text/plain": [
       "<Figure size 640x480 with 1 Axes>"
      ]
     },
     "metadata": {},
     "output_type": "display_data"
    }
   ],
   "source": [
    "import matplotlib as mpl\n",
    "\n",
    "plt.title('hqq ppl error')\n",
    "plt.ylabel('PPL increase')\n",
    "plt.xlabel('wbits')\n",
    "plt.plot(hqq_pred_df['solution_size'] / total_params, hqq_pred_df['solution_pred_err'], label='predicted optimal ppl delta')\n",
    "plt.scatter(hqq_real_df['solution_size'] / total_params, hqq_real_df['solution_real_err'], color=mpl.colormaps['tab10'](1), label='real optimal ppl delta')\n",
    "plt.ylim(1e-3, 10)\n",
    "plt.yscale(\"log\")\n",
    "\n",
    "plt.legend()\n",
    "\n",
    "plt.show()"
   ]
  },
  {
   "cell_type": "code",
   "execution_count": 50,
   "id": "72bf8b7e-b9b5-47ec-a88a-c04cdc74321a",
   "metadata": {},
   "outputs": [],
   "source": [
    "hqq_pred_df.to_csv('blockwise_hqq_pred_df.csv')\n",
    "hqq_real_df.to_csv('blockwise_hqq_real_df.csv')"
   ]
  },
  {
   "cell_type": "code",
   "execution_count": null,
   "id": "8dffbf58",
   "metadata": {},
   "outputs": [],
   "source": []
  }
 ],
 "metadata": {
  "kernelspec": {
   "display_name": "Python 3 (ipykernel)",
   "language": "python",
   "name": "python3"
  },
  "language_info": {
   "codemirror_mode": {
    "name": "ipython",
    "version": 3
   },
   "file_extension": ".py",
   "mimetype": "text/x-python",
   "name": "python",
   "nbconvert_exporter": "python",
   "pygments_lexer": "ipython3",
   "version": "3.10.14"
  }
 },
 "nbformat": 4,
 "nbformat_minor": 5
}
