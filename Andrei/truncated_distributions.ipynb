{
 "cells": [
  {
   "cell_type": "code",
   "execution_count": 1,
   "metadata": {},
   "outputs": [],
   "source": [
    "from functools import partial\n",
    "import time\n",
    "\n",
    "import numpy as np\n",
    "from scipy.integrate import quad\n",
    "from scipy.optimize import root_scalar\n",
    "from scipy import stats\n",
    "from scipy.stats import norm, halfnorm, truncnorm\n",
    "\n",
    "def integrand(block_size, x, m):\n",
    "    p_z_less_than_mx = truncnorm.cdf(m * x, -m, m)\n",
    "    pm = block_size * (halfnorm.cdf(m) ** (block_size - 1)) * 2 * norm.pdf(m)\n",
    "\n",
    "    return p_z_less_than_mx * pm\n",
    "\n",
    "def scaled_norm_cdf(block_size, x):\n",
    "    result = quad(\n",
    "        partial(integrand, block_size, x),\n",
    "        0,\n",
    "        np.inf,\n",
    "        epsabs=1e-9,\n",
    "    )\n",
    "    return result[0]\n",
    "\n",
    "def cdf(x, block_size):\n",
    "    discrete_mass = 1 / (2 * block_size)\n",
    "    cont_mass = scaled_norm_cdf(block_size, x) * (block_size - 1) / block_size\n",
    "    result = discrete_mass + cont_mass\n",
    "    result = np.where(x < -1, 0, result)\n",
    "    result = np.where(x >= 1, 1, result)\n",
    "    return result\n",
    "\n",
    "def inv_cdf(val, block_size):\n",
    "    edge_mass  = 1 / (2 * block_size)\n",
    "    if val <= edge_mass:\n",
    "        return -1\n",
    "    if val >= 1 - edge_mass:\n",
    "        return 1\n",
    "    def search_fn(x):\n",
    "        return cdf(x, block_size) - val\n",
    "\n",
    "    return root_scalar(search_fn, bracket=[-1, 1]).root"
   ]
  },
  {
   "cell_type": "code",
   "execution_count": 2,
   "metadata": {},
   "outputs": [],
   "source": [
    "def build_code(start, lower_bound, upper_bound, n_steps, bcdf, binv_cdf, lower_bound_is_code_point=True):\n",
    "    code = [start]\n",
    "    a = lower_bound if lower_bound_is_code_point else None\n",
    "    b = start\n",
    "    prev_midpoint_prob = None\n",
    "    for _ in range(n_steps):\n",
    "        if prev_midpoint_prob is None:\n",
    "            prev_midpoint_prob = bcdf((a + b) / 2) if lower_bound_is_code_point else 0\n",
    "        prev_mass = bcdf(b) - prev_midpoint_prob\n",
    "\n",
    "        next_midpoint_prob = bcdf(b) + prev_mass\n",
    "        if next_midpoint_prob > 1:\n",
    "            c = 1\n",
    "        else:\n",
    "            next_midpoint = binv_cdf(next_midpoint_prob)\n",
    "            prev_midpoint_prob = next_midpoint_prob\n",
    "\n",
    "            c = next_midpoint * 2 - b\n",
    "\n",
    "            a = b\n",
    "            b = c\n",
    "\n",
    "        if c >= upper_bound:\n",
    "            code.extend(upper_bound for _ in range(n_steps + 1 - len(code)))\n",
    "            break\n",
    "\n",
    "        code.append(c)\n",
    "\n",
    "    return np.stack(code, -1)\n",
    "\n",
    "def interval_code_search(\n",
    "    lower_bound,\n",
    "    upper_bound,\n",
    "    n_steps,\n",
    "    block_size,\n",
    "    bounds_are_code_points=True,\n",
    "):\n",
    "    bcdf = partial(cdf, block_size=block_size)\n",
    "    binv_cdf = partial(inv_cdf, block_size=block_size)\n",
    "\n",
    "    code_builder = partial(\n",
    "        build_code,\n",
    "        lower_bound=lower_bound,\n",
    "        upper_bound=upper_bound,\n",
    "        n_steps=n_steps,\n",
    "        bcdf=bcdf,\n",
    "        binv_cdf=binv_cdf,\n",
    "        lower_bound_is_code_point=bounds_are_code_points\n",
    "    )\n",
    "\n",
    "    lower_bracket = lower_bound + (1e-5 if bounds_are_code_points else 0)\n",
    "\n",
    "    lower_feasible = lower_bracket\n",
    "    upper_feasible = upper_bound - 1e-5\n",
    "\n",
    "    while upper_feasible - lower_feasible > 1e-4:\n",
    "        mid = (lower_feasible + upper_feasible) / 2\n",
    "        code = code_builder(mid)\n",
    "        infeasible = np.any(code[1:] - code[:-1] <= 0) or any(code[:-1] >= upper_bound) or code[-1] > upper_bound\n",
    "        if infeasible:\n",
    "            upper_feasible = mid\n",
    "        else:\n",
    "            lower_feasible = mid\n",
    "\n",
    "    upper_bracket = lower_feasible\n",
    "    def search_fn(val):\n",
    "        code = code_builder(val)\n",
    "        top = code[-1]\n",
    "        prev_split = (top + code[-2]) / 2\n",
    "\n",
    "        top_prob = bcdf(top)\n",
    "        target_prob = top_prob + (top_prob - bcdf(prev_split))\n",
    "        return target_prob - 1/2\n",
    "\n",
    "    opt_a2 = root_scalar(search_fn, bracket=[lower_bracket, upper_bracket]).root\n",
    "    code = code_builder(opt_a2)\n",
    "    return code\n",
    "\n",
    "def construct_af4(block_size):\n",
    "    lower =  interval_code_search(-1, 0, 5, block_size)\n",
    "    upper = -interval_code_search(-1, 0, 6, block_size)[::-1]\n",
    "    code = np.asarray([-1., *lower, 0., *upper, 1.], dtype=np.float64)\n",
    "    assert code.shape == (16,)\n",
    "    return code"
   ]
  },
  {
   "cell_type": "code",
   "execution_count": 3,
   "metadata": {},
   "outputs": [],
   "source": [
    "# construct_af4(64)"
   ]
  },
  {
   "cell_type": "code",
   "execution_count": 4,
   "metadata": {},
   "outputs": [],
   "source": [
    "from tqdm.auto import tqdm, trange\n",
    "\n",
    "# cdf_array = np.asarray([cdf(x, 64) for x in tqdm(np.linspace(-1.01, 1.01, num=1000, endpoint=True))])"
   ]
  },
  {
   "cell_type": "code",
   "execution_count": 5,
   "metadata": {},
   "outputs": [],
   "source": [
    "import matplotlib.pyplot as plt\n",
    "\n",
    "# plt.plot(np.linspace(-1.01, 1.01, num=1000, endpoint=True), cdf_array)"
   ]
  },
  {
   "cell_type": "code",
   "execution_count": 6,
   "metadata": {},
   "outputs": [],
   "source": [
    "def weight(a, b, block_size: int):\n",
    "    bs_cdf = lambda x: cdf(x, block_size)\n",
    "    \n",
    "    return bs_cdf(b) - bs_cdf(a)\n",
    "\n",
    "def expectation(a, b, block_size: int):\n",
    "    bs_cdf = lambda x: cdf(x, block_size)\n",
    "    \n",
    "    return (b * bs_cdf(b) - a * bs_cdf(a) - quad(bs_cdf, a, b, epsabs=1e-9)[0]) / (bs_cdf(b) - bs_cdf(a))\n",
    "\n",
    "def expectation2(a, b, block_size: int):\n",
    "    bs_cdf = lambda x: cdf(x, block_size)\n",
    "    \n",
    "    return (b**2 * bs_cdf(b) - a**2 * bs_cdf(a) - 2 * quad(lambda x: x * bs_cdf(x), a, b, epsabs=1e-9)[0]) / (bs_cdf(b) - bs_cdf(a))\n",
    "\n",
    "def variance(a, b, block_size: int):\n",
    "    return expectation2(a, b, block_size) - expectation(a, b, block_size) ** 2\n",
    "\n",
    "def grid_variance(borders, block_size: int):\n",
    "    var = 0\n",
    "    for i in range(len(borders) - 1):\n",
    "        a = borders[i]\n",
    "        b = borders[i + 1]\n",
    "        var += variance(a, b, block_size) * weight(a, b, block_size)\n",
    "    return var\n"
   ]
  },
  {
   "cell_type": "code",
   "execution_count": 7,
   "metadata": {},
   "outputs": [
    {
     "data": {
      "application/vnd.jupyter.widget-view+json": {
       "model_id": "bedf9da1709c48f3acbed1560bfb211c",
       "version_major": 2,
       "version_minor": 0
      },
      "text/plain": [
       "Optimizing the grid...:   0%|          | 0/10 [00:00<?, ?it/s]"
      ]
     },
     "metadata": {},
     "output_type": "display_data"
    },
    {
     "name": "stdout",
     "output_type": "stream",
     "text": [
      "gs=32 l2=0.0012927785480661255\n"
     ]
    },
    {
     "data": {
      "application/vnd.jupyter.widget-view+json": {
       "model_id": "2606f0df3e52433aaac8fbb2d3f15d12",
       "version_major": 2,
       "version_minor": 0
      },
      "text/plain": [
       "Optimizing the grid...:   0%|          | 0/10 [00:00<?, ?it/s]"
      ]
     },
     "metadata": {},
     "output_type": "display_data"
    },
    {
     "name": "stdout",
     "output_type": "stream",
     "text": [
      "gs=64 l2=0.001279107737482122\n"
     ]
    },
    {
     "data": {
      "application/vnd.jupyter.widget-view+json": {
       "model_id": "087bbf96395844fe8d96fc9217584f08",
       "version_major": 2,
       "version_minor": 0
      },
      "text/plain": [
       "Optimizing the grid...:   0%|          | 0/10 [00:00<?, ?it/s]"
      ]
     },
     "metadata": {},
     "output_type": "display_data"
    },
    {
     "name": "stdout",
     "output_type": "stream",
     "text": [
      "gs=128 l2=0.0012519816027263392\n"
     ]
    },
    {
     "data": {
      "application/vnd.jupyter.widget-view+json": {
       "model_id": "b9c77090952c40fe8aaf98744bb1952e",
       "version_major": 2,
       "version_minor": 0
      },
      "text/plain": [
       "Optimizing the grid...:   0%|          | 0/10 [00:00<?, ?it/s]"
      ]
     },
     "metadata": {},
     "output_type": "display_data"
    },
    {
     "name": "stdout",
     "output_type": "stream",
     "text": [
      "gs=256 l2=0.001218730742359411\n"
     ]
    },
    {
     "data": {
      "application/vnd.jupyter.widget-view+json": {
       "model_id": "9a173a1d12ff4708958340f1e3a03536",
       "version_major": 2,
       "version_minor": 0
      },
      "text/plain": [
       "Optimizing the grid...:   0%|          | 0/10 [00:00<?, ?it/s]"
      ]
     },
     "metadata": {},
     "output_type": "display_data"
    },
    {
     "name": "stdout",
     "output_type": "stream",
     "text": [
      "gs=512 l2=0.001183332056735692\n"
     ]
    },
    {
     "data": {
      "application/vnd.jupyter.widget-view+json": {
       "model_id": "22f2b90435ab4939ad84b965338ec326",
       "version_major": 2,
       "version_minor": 0
      },
      "text/plain": [
       "Optimizing the grid...:   0%|          | 0/10 [00:00<?, ?it/s]"
      ]
     },
     "metadata": {},
     "output_type": "display_data"
    },
    {
     "name": "stdout",
     "output_type": "stream",
     "text": [
      "gs=1024 l2=0.0011478979389850379\n"
     ]
    },
    {
     "data": {
      "application/vnd.jupyter.widget-view+json": {
       "model_id": "d92f6aa2c726482b8af5d30b3cfff67e",
       "version_major": 2,
       "version_minor": 0
      },
      "text/plain": [
       "Optimizing the grid...:   0%|          | 0/10 [00:00<?, ?it/s]"
      ]
     },
     "metadata": {},
     "output_type": "display_data"
    },
    {
     "name": "stdout",
     "output_type": "stream",
     "text": [
      "gs=2048 l2=0.0011135029005145383\n"
     ]
    },
    {
     "data": {
      "application/vnd.jupyter.widget-view+json": {
       "model_id": "8578d9aa084744d1ab1be345ff498c12",
       "version_major": 2,
       "version_minor": 0
      },
      "text/plain": [
       "Optimizing the grid...:   0%|          | 0/10 [00:00<?, ?it/s]"
      ]
     },
     "metadata": {},
     "output_type": "display_data"
    },
    {
     "name": "stdout",
     "output_type": "stream",
     "text": [
      "gs=4096 l2=0.0010806469490479672\n"
     ]
    }
   ],
   "source": [
    "def get_edenn_grid(block_size, quality=10):\n",
    "    centers = np.linspace(-1.0, +1.0, num=16, endpoint=True)\n",
    "    for i in trange(10, desc=\"Optimizing the grid...\", leave=False):\n",
    "        borders = [(centers[i] + centers[i + 1]) / 2 for i in range(len(centers) - 1)]\n",
    "        new_centers = np.asarray([-1.0] + [expectation(borders[i], borders[i + 1], gs) for i in range(len(borders) - 1)] + [+1.0])\n",
    "        centers = new_centers\n",
    "    l2 = grid_variance([-0.999999999] + borders + [+0.999999999], gs)\n",
    "    \n",
    "    return {\"centers\": centers, \"l2\": l2}\n",
    "\n",
    "grids = {}\n",
    "\n",
    "for gs in tqdm([32, 64, 128, 256, 512, 1024, 2048, 4096], desc=\"Iterating gs...\"):\n",
    "    result = get_edenn_grid(gs)\n",
    "    \n",
    "    print(f\"{gs=} {result['l2']=}\")\n",
    "    grids[gs] = result\n"
   ]
  },
  {
   "cell_type": "code",
   "execution_count": null,
   "metadata": {},
   "outputs": [],
   "source": []
  }
 ],
 "metadata": {
  "kernelspec": {
   "display_name": "Python 3",
   "language": "python",
   "name": "python3"
  },
  "language_info": {
   "codemirror_mode": {
    "name": "ipython",
    "version": 3
   },
   "file_extension": ".py",
   "mimetype": "text/x-python",
   "name": "python",
   "nbconvert_exporter": "python",
   "pygments_lexer": "ipython3",
   "version": "3.10.14"
  }
 },
 "nbformat": 4,
 "nbformat_minor": 2
}
